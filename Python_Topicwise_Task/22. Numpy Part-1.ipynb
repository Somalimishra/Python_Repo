{
 "cells": [
  {
   "cell_type": "code",
   "execution_count": null,
   "id": "10fa495c",
   "metadata": {},
   "outputs": [],
   "source": [
    "#when we do numerical calculation we used numpy\n",
    "#numpy:numerical python"
   ]
  },
  {
   "cell_type": "code",
   "execution_count": 1,
   "id": "a60eeb4f",
   "metadata": {},
   "outputs": [],
   "source": [
    "import numpy as np"
   ]
  },
  {
   "cell_type": "code",
   "execution_count": 2,
   "id": "160e8580",
   "metadata": {},
   "outputs": [
    {
     "data": {
      "text/plain": [
       "array([2, 3, 4, 5, 6])"
      ]
     },
     "execution_count": 2,
     "metadata": {},
     "output_type": "execute_result"
    }
   ],
   "source": [
    "np.array([2,3,4,5,6])"
   ]
  },
  {
   "cell_type": "code",
   "execution_count": 3,
   "id": "2c8f7fe4",
   "metadata": {},
   "outputs": [
    {
     "data": {
      "text/plain": [
       "numpy.ndarray"
      ]
     },
     "execution_count": 3,
     "metadata": {},
     "output_type": "execute_result"
    }
   ],
   "source": [
    "type(np.array([2,3,4,5,6]))"
   ]
  },
  {
   "cell_type": "code",
   "execution_count": 4,
   "id": "b1e3162e",
   "metadata": {},
   "outputs": [
    {
     "data": {
      "text/plain": [
       "array([[2, 3, 4],\n",
       "       [4, 5, 6]])"
      ]
     },
     "execution_count": 4,
     "metadata": {},
     "output_type": "execute_result"
    }
   ],
   "source": [
    "np.array([[2,3,4],[4,5,6]])"
   ]
  },
  {
   "cell_type": "code",
   "execution_count": 5,
   "id": "70468cd4",
   "metadata": {},
   "outputs": [
    {
     "data": {
      "text/plain": [
       "array([[1, 2, 3, 4],\n",
       "       [2, 3, 4, 5]])"
      ]
     },
     "execution_count": 5,
     "metadata": {},
     "output_type": "execute_result"
    }
   ],
   "source": [
    "np.array([[1,2,3,4],[2,3,4,5]])"
   ]
  },
  {
   "cell_type": "code",
   "execution_count": 6,
   "id": "11f25027",
   "metadata": {},
   "outputs": [],
   "source": [
    "l=[[1,2,3,4],[2,3,4,5]]"
   ]
  },
  {
   "cell_type": "code",
   "execution_count": 7,
   "id": "d2159aba",
   "metadata": {},
   "outputs": [
    {
     "data": {
      "text/plain": [
       "1"
      ]
     },
     "execution_count": 7,
     "metadata": {},
     "output_type": "execute_result"
    }
   ],
   "source": [
    "l[0][0]"
   ]
  },
  {
   "cell_type": "code",
   "execution_count": 8,
   "id": "da5a1223",
   "metadata": {},
   "outputs": [
    {
     "data": {
      "text/plain": [
       "2"
      ]
     },
     "execution_count": 8,
     "metadata": {},
     "output_type": "execute_result"
    }
   ],
   "source": [
    "l[0][1]"
   ]
  },
  {
   "cell_type": "code",
   "execution_count": 9,
   "id": "0843ff12",
   "metadata": {},
   "outputs": [
    {
     "data": {
      "text/plain": [
       "5"
      ]
     },
     "execution_count": 9,
     "metadata": {},
     "output_type": "execute_result"
    }
   ],
   "source": [
    "l[1][3]"
   ]
  },
  {
   "cell_type": "code",
   "execution_count": 10,
   "id": "90ee6fb2",
   "metadata": {},
   "outputs": [],
   "source": [
    "a=np.array([3,4,5,6],ndmin=5)"
   ]
  },
  {
   "cell_type": "code",
   "execution_count": 11,
   "id": "cd316924",
   "metadata": {},
   "outputs": [
    {
     "data": {
      "text/plain": [
       "array([[[[[3, 4, 5, 6]]]]])"
      ]
     },
     "execution_count": 11,
     "metadata": {},
     "output_type": "execute_result"
    }
   ],
   "source": [
    "a"
   ]
  },
  {
   "cell_type": "code",
   "execution_count": 12,
   "id": "8ef54ca5",
   "metadata": {},
   "outputs": [],
   "source": [
    "arr=np.array([[1,2,3],[4,5,6],[7,8,9]])"
   ]
  },
  {
   "cell_type": "code",
   "execution_count": 13,
   "id": "ed052af3",
   "metadata": {},
   "outputs": [
    {
     "data": {
      "text/plain": [
       "array([[1, 2, 3],\n",
       "       [4, 5, 6],\n",
       "       [7, 8, 9]])"
      ]
     },
     "execution_count": 13,
     "metadata": {},
     "output_type": "execute_result"
    }
   ],
   "source": [
    "arr"
   ]
  },
  {
   "cell_type": "code",
   "execution_count": 14,
   "id": "f5ba71cf",
   "metadata": {},
   "outputs": [
    {
     "data": {
      "text/plain": [
       "2"
      ]
     },
     "execution_count": 14,
     "metadata": {},
     "output_type": "execute_result"
    }
   ],
   "source": [
    "arr.ndim"
   ]
  },
  {
   "cell_type": "code",
   "execution_count": 15,
   "id": "5d655f55",
   "metadata": {},
   "outputs": [
    {
     "data": {
      "text/plain": [
       "array([[6, 7, 7, 6],\n",
       "       [9, 9, 7, 6],\n",
       "       [5, 2, 2, 1],\n",
       "       [4, 1, 4, 6]])"
      ]
     },
     "execution_count": 15,
     "metadata": {},
     "output_type": "execute_result"
    }
   ],
   "source": [
    "#4,4 is 4 rows and 4 columns and the random numbers will be between 1 and 10\n",
    "np.random.randint(1,10,(4,4))"
   ]
  },
  {
   "cell_type": "code",
   "execution_count": 16,
   "id": "a6a0520b",
   "metadata": {},
   "outputs": [
    {
     "data": {
      "text/plain": [
       "array([[[1, 2],\n",
       "        [7, 1],\n",
       "        [1, 4],\n",
       "        [6, 4]],\n",
       "\n",
       "       [[6, 1],\n",
       "        [2, 3],\n",
       "        [5, 7],\n",
       "        [1, 4]],\n",
       "\n",
       "       [[7, 1],\n",
       "        [5, 4],\n",
       "        [5, 7],\n",
       "        [8, 3]],\n",
       "\n",
       "       [[8, 7],\n",
       "        [5, 5],\n",
       "        [6, 1],\n",
       "        [3, 8]]])"
      ]
     },
     "execution_count": 16,
     "metadata": {},
     "output_type": "execute_result"
    }
   ],
   "source": [
    "#3D data as we will be able to represent this data using 3 axis\n",
    "#3 brackets beg and 3 at end: we will have 4*2 dimensions(4 rows and 2 columns) 4 times\n",
    "np.random.randint(1,10,(4,4,2))"
   ]
  },
  {
   "cell_type": "code",
   "execution_count": null,
   "id": "3da5d0fa",
   "metadata": {},
   "outputs": [],
   "source": [
    "#Task 1 - Fitbit Dataset\n",
    "\n",
    "1. Read this dataset in pandas , mysql and mongodb \n",
    "2. while creting a table in mysql dont use manual approach to create it  ,always use a automation to create a table in mysql\n",
    " ## hint - use csvkit library to automate this task and to load a data in bulk in you mysql \n",
    "3. convert all the dates avaible in dataset to timestamp format in pandas and in sql you to convert it in date format\n",
    "4 . Find out in this data that how many unique id's we have \n",
    "5 . which id is one of the active id that you have in whole dataset \n",
    "6 . how many of them have not logged there activity find out in terms of number of ids \n",
    "7 . Find out who is the laziest person id that we have in dataset \n",
    "8 . Explore over an internet that how much calories burn is required for a healthy person and find out how many healthy person we have in our dataset \n",
    "9. how many person are not a regular person with respect to activity try to find out those \n",
    "10 . who is the thired most active person in this dataset find out those in pandas and in sql both . \n",
    "11 . who is the 5th most laziest person avilable in dataset find it out \n",
    "12 . what is a totla acumulative calories burn for a person find out"
   ]
  },
  {
   "cell_type": "code",
   "execution_count": null,
   "id": "85309cff",
   "metadata": {},
   "outputs": [],
   "source": [
    "#task 2 - Superstore_USA\n",
    "1 . load this data in sql and in pandas with a relation in sql \n",
    "2 . while loading this data you dont have to create a table manually you can use any automated approach to create a table and load a data in bulk in table \n",
    "3 . Find out how return that we ahve recived and with a product id \n",
    "4 . try  to join order and return data both in sql and pandas \n",
    "5 . Try to find out how many unique customer that we have \n",
    "6 . try to find out in how many regions we are selling a product and who is a manager for a respective region \n",
    "7 . find out how many different differnet shipement mode that we have and what is a percentage usablity of all the shipment mode with respect to dataset \n",
    "8 . Create a new coulmn and try to find our a diffrence between order date and shipment date\n",
    "9 . base on question number 8 find out for which order id we have shipment duration more than 10 days \n",
    "10 . Try to find out a list of a returned order which sihpment duration was more then 15 days and find out that region manager as well \n",
    "11 . Gorup by region and find out which region is more profitable \n",
    "12 . Try to find out overalll in which country we are giving more didscount \n",
    "13 . Give me a list of unique postal code \n",
    "14 . which customer segement is more profitalble find it out . \n",
    "15 . try to find out the 10th most loss making product catagory . \n",
    "16 . Try to find out 10 top  product with highest margins \n",
    "\n",
    "submit your git link for the same \n",
    " \n",
    "you have to submit this task by next Friday 5th 11PM IST  to respective mail id \n",
    "sudhanshu@ineuron.ai , sunny.savita@ineuron.ai"
   ]
  },
  {
   "cell_type": "code",
   "execution_count": null,
   "id": "bc560c5c",
   "metadata": {},
   "outputs": [],
   "source": []
  },
  {
   "cell_type": "code",
   "execution_count": null,
   "id": "406b6098",
   "metadata": {},
   "outputs": [],
   "source": []
  }
 ],
 "metadata": {
  "kernelspec": {
   "display_name": "Python 3 (ipykernel)",
   "language": "python",
   "name": "python3"
  },
  "language_info": {
   "codemirror_mode": {
    "name": "ipython",
    "version": 3
   },
   "file_extension": ".py",
   "mimetype": "text/x-python",
   "name": "python",
   "nbconvert_exporter": "python",
   "pygments_lexer": "ipython3",
   "version": "3.9.7"
  }
 },
 "nbformat": 4,
 "nbformat_minor": 5
}
