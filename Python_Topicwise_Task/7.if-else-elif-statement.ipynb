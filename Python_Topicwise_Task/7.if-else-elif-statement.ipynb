{
 "cells": [
  {
   "cell_type": "code",
   "execution_count": 1,
   "id": "3eff93ec",
   "metadata": {},
   "outputs": [],
   "source": [
    "#as condition is not satisfying and else has not been mentioned so no output\n",
    "a=10\n",
    "if a == 11 :\n",
    "    print('this is my 1st condition')"
   ]
  },
  {
   "cell_type": "code",
   "execution_count": 2,
   "id": "4fdb737f",
   "metadata": {},
   "outputs": [
    {
     "name": "stdout",
     "output_type": "stream",
     "text": [
      "False\n"
     ]
    }
   ],
   "source": [
    "#as condition is not satisfying giving else part as output \n",
    "a=10\n",
    "if a == 11 :\n",
    "    print('this is my 1st condition')\n",
    "else:\n",
    "    print('False')"
   ]
  },
  {
   "cell_type": "code",
   "execution_count": 3,
   "id": "34e9e8fe",
   "metadata": {},
   "outputs": [],
   "source": [
    "#here pass keyward is used to go to 2nd line of code otherwise only (if a>5 :)this statement will through yo error\n",
    "a=10\n",
    "if a>5 :\n",
    "    pass"
   ]
  },
  {
   "cell_type": "code",
   "execution_count": 4,
   "id": "ff0b1ca9",
   "metadata": {},
   "outputs": [
    {
     "name": "stdout",
     "output_type": "stream",
     "text": [
      "print if this condition is true\n"
     ]
    }
   ],
   "source": [
    "#lets take an example\n",
    "a=10\n",
    "if a>8:\n",
    "    print('print if this condition is true')"
   ]
  },
  {
   "cell_type": "code",
   "execution_count": 5,
   "id": "7a6a0e0c",
   "metadata": {},
   "outputs": [],
   "source": [
    "#lets take an example\n",
    "a=10\n",
    "if a<8:\n",
    "    print('print if this condition is true')"
   ]
  },
  {
   "cell_type": "code",
   "execution_count": 6,
   "id": "50deee2c",
   "metadata": {},
   "outputs": [
    {
     "name": "stdout",
     "output_type": "stream",
     "text": [
      "my condition is false\n"
     ]
    }
   ],
   "source": [
    "#lets take an example\n",
    "a=10\n",
    "if a != 11:\n",
    "    print('my condition is false')\n",
    "else:\n",
    "    print('print this')"
   ]
  },
  {
   "cell_type": "code",
   "execution_count": 7,
   "id": "139262fa",
   "metadata": {},
   "outputs": [
    {
     "name": "stdout",
     "output_type": "stream",
     "text": [
      "print this\n"
     ]
    }
   ],
   "source": [
    "#lets take an example\n",
    "a=10\n",
    "if a == 11:\n",
    "    print('my condition is false')\n",
    "else:\n",
    "    print('print this')"
   ]
  },
  {
   "cell_type": "code",
   "execution_count": 8,
   "id": "5f19f4c0",
   "metadata": {},
   "outputs": [
    {
     "name": "stdout",
     "output_type": "stream",
     "text": [
      "we are trying to compare 10 with 11\n"
     ]
    }
   ],
   "source": [
    "#lets take an example using elif and else \n",
    "#elif statement is true so printing(we are trying to compare 10 with 11)\n",
    "a=10\n",
    "if a == 12:\n",
    "    print('here we are trying to compare 10 with 12')\n",
    "elif a == 10:\n",
    "    print('we are trying to compare 10 with 11')\n",
    "else:\n",
    "    print('if all the blocks will fail then do this')"
   ]
  },
  {
   "cell_type": "code",
   "execution_count": 9,
   "id": "0a1ce4b7",
   "metadata": {},
   "outputs": [
    {
     "ename": "SyntaxError",
     "evalue": "invalid syntax (Temp/ipykernel_5304/2558028832.py, line 8)",
     "output_type": "error",
     "traceback": [
      "\u001b[1;36m  File \u001b[1;32m\"C:\\Users\\ABHANJ~1\\AppData\\Local\\Temp/ipykernel_5304/2558028832.py\"\u001b[1;36m, line \u001b[1;32m8\u001b[0m\n\u001b[1;33m    else price==500:\u001b[0m\n\u001b[1;37m         ^\u001b[0m\n\u001b[1;31mSyntaxError\u001b[0m\u001b[1;31m:\u001b[0m invalid syntax\n"
     ]
    }
   ],
   "source": [
    "# SyntaxError: invalid syntax\n",
    "#bcz we have given condition in else part\n",
    "price=500\n",
    "if price>500 :\n",
    "    print('may be i wont be able to buy a jacket')\n",
    "elif price<500 :\n",
    "    print('i will be able to buy a jacket')\n",
    "else price==500:\n",
    "    print('i dont know')"
   ]
  },
  {
   "cell_type": "code",
   "execution_count": 10,
   "id": "277e6b64",
   "metadata": {},
   "outputs": [
    {
     "name": "stdout",
     "output_type": "stream",
     "text": [
      "for sure i will be able to buy\n"
     ]
    }
   ],
   "source": [
    "#as 2nd elif condition is true. it is giving error\n",
    "price=500\n",
    "if price>500 :\n",
    "    print('may be i wont be able to buy a jacket')\n",
    "elif price<500 :\n",
    "    print('i will be able to buy a jacket')\n",
    "elif price==500 :\n",
    "    print('for sure i will be able to buy')\n",
    "else :\n",
    "    print('i dont know')"
   ]
  },
  {
   "cell_type": "code",
   "execution_count": 11,
   "id": "b3cbba2d",
   "metadata": {},
   "outputs": [
    {
     "data": {
      "text/plain": [
       "False"
      ]
     },
     "execution_count": 11,
     "metadata": {},
     "output_type": "execute_result"
    }
   ],
   "source": [
    "#even if we can check which statement is giving true as output and which one is giving false as output\n",
    "price>500"
   ]
  },
  {
   "cell_type": "code",
   "execution_count": 12,
   "id": "f88db599",
   "metadata": {},
   "outputs": [
    {
     "data": {
      "text/plain": [
       "False"
      ]
     },
     "execution_count": 12,
     "metadata": {},
     "output_type": "execute_result"
    }
   ],
   "source": [
    "price<500"
   ]
  },
  {
   "cell_type": "code",
   "execution_count": 13,
   "id": "8e89019a",
   "metadata": {},
   "outputs": [
    {
     "data": {
      "text/plain": [
       "True"
      ]
     },
     "execution_count": 13,
     "metadata": {},
     "output_type": "execute_result"
    }
   ],
   "source": [
    "price==500"
   ]
  },
  {
   "cell_type": "code",
   "execution_count": 14,
   "id": "2b1deaf8",
   "metadata": {},
   "outputs": [
    {
     "data": {
      "text/plain": [
       "True"
      ]
     },
     "execution_count": 14,
     "metadata": {},
     "output_type": "execute_result"
    }
   ],
   "source": [
    "#create a list and check 2 is available in list or not\n",
    "l =[1,2,3,4,5,6]\n",
    "2 in l"
   ]
  },
  {
   "cell_type": "code",
   "execution_count": 15,
   "id": "8e7d4db3",
   "metadata": {},
   "outputs": [
    {
     "name": "stdout",
     "output_type": "stream",
     "text": [
      "try to perform a task\n"
     ]
    }
   ],
   "source": [
    "#using if condition try accessing list \n",
    "if 2 in l:\n",
    "    print('try to perform a task')\n",
    "else:\n",
    "    print('do not perform this task')"
   ]
  },
  {
   "cell_type": "code",
   "execution_count": 16,
   "id": "555ba978",
   "metadata": {},
   "outputs": [
    {
     "name": "stdout",
     "output_type": "stream",
     "text": [
      "do not perform this task\n"
     ]
    }
   ],
   "source": [
    "#using if condition try accessing list\n",
    "if 60 in l:\n",
    "    print('try to perform a task')\n",
    "else:\n",
    "    print('do not perform this task')"
   ]
  },
  {
   "cell_type": "code",
   "execution_count": 17,
   "id": "e7ca15e6",
   "metadata": {},
   "outputs": [
    {
     "data": {
      "text/plain": [
       "[1, 2, 3, 4, 5, 6]"
      ]
     },
     "execution_count": 17,
     "metadata": {},
     "output_type": "execute_result"
    }
   ],
   "source": [
    "l"
   ]
  },
  {
   "cell_type": "code",
   "execution_count": 18,
   "id": "de786dc9",
   "metadata": {},
   "outputs": [
    {
     "name": "stdout",
     "output_type": "stream",
     "text": [
      "try to do a addition\n"
     ]
    }
   ],
   "source": [
    "#using if condition try accessing list\n",
    "#if the 1st condition true it wont check the next set of condition\n",
    "if 1 in l:\n",
    "    print('try to do a addition')\n",
    "elif 2 in l:\n",
    "    print('try to do subtraction')\n",
    "elif 3 in l:\n",
    "    print('try to do mul')"
   ]
  },
  {
   "cell_type": "code",
   "execution_count": 18,
   "id": "dacdedbd",
   "metadata": {},
   "outputs": [
    {
     "name": "stdout",
     "output_type": "stream",
     "text": [
      "try to do subtraction\n"
     ]
    }
   ],
   "source": [
    "#using if condition try accessing list\n",
    "#here 2nd condition is true\n",
    "if 10 in l:\n",
    "    print('try to do a addition')\n",
    "elif 2 in l:\n",
    "    print('try to do subtraction')\n",
    "elif 3 in l:\n",
    "    print('try to do mul')"
   ]
  },
  {
   "cell_type": "code",
   "execution_count": 20,
   "id": "8f42b077",
   "metadata": {},
   "outputs": [
    {
     "name": "stdout",
     "output_type": "stream",
     "text": [
      "try to do subtraction\n",
      "this is new statement\n"
     ]
    }
   ],
   "source": [
    "#Using if condition try accessing list\n",
    "#here 2nd condition is true but after that another set of code started with new \n",
    "#4556if statemnet and that is true so printing two statements\n",
    "if 10 in l:\n",
    "    print('try to do a addition')\n",
    "elif 2 in l:\n",
    "    print('try to do subtraction')\n",
    "elif 3 in l:\n",
    "    print('try to do mul')\n",
    "if 4 in l:\n",
    "    print('this is new statement')"
   ]
  },
  {
   "cell_type": "code",
   "execution_count": 21,
   "id": "7085662f",
   "metadata": {},
   "outputs": [
    {
     "name": "stdout",
     "output_type": "stream",
     "text": [
      "try to do subtraction\n"
     ]
    }
   ],
   "source": [
    "if 10 in l:\n",
    "    print('try to do a addition')\n",
    "elif 2 in l:\n",
    "    print('try to do subtraction')\n",
    "elif 3 in l:\n",
    "    print('try to do mul')\n",
    "    if 4 in l:\n",
    "        print('this is new statement')"
   ]
  },
  {
   "cell_type": "code",
   "execution_count": 22,
   "id": "3df0afe6",
   "metadata": {},
   "outputs": [],
   "source": [
    "a=400"
   ]
  },
  {
   "cell_type": "code",
   "execution_count": 19,
   "id": "df9f7bc0",
   "metadata": {},
   "outputs": [
    {
     "name": "stdout",
     "output_type": "stream",
     "text": [
      "yueruer7uier\n"
     ]
    }
   ],
   "source": [
    "#use of input function\n",
    "b=input()"
   ]
  },
  {
   "cell_type": "code",
   "execution_count": 20,
   "id": "0a17de48",
   "metadata": {},
   "outputs": [
    {
     "data": {
      "text/plain": [
       "'yueruer7uier'"
      ]
     },
     "execution_count": 20,
     "metadata": {},
     "output_type": "execute_result"
    }
   ],
   "source": [
    "b"
   ]
  },
  {
   "cell_type": "code",
   "execution_count": 21,
   "id": "e262d3e9",
   "metadata": {},
   "outputs": [
    {
     "name": "stdout",
     "output_type": "stream",
     "text": [
      "6776\n"
     ]
    }
   ],
   "source": [
    "#use of input function\n",
    "b=input()"
   ]
  },
  {
   "cell_type": "code",
   "execution_count": 22,
   "id": "a726ea24",
   "metadata": {},
   "outputs": [
    {
     "data": {
      "text/plain": [
       "'6776'"
      ]
     },
     "execution_count": 22,
     "metadata": {},
     "output_type": "execute_result"
    }
   ],
   "source": [
    "b"
   ]
  },
  {
   "cell_type": "code",
   "execution_count": 27,
   "id": "f623a060",
   "metadata": {},
   "outputs": [
    {
     "data": {
      "text/plain": [
       "int"
      ]
     },
     "execution_count": 27,
     "metadata": {},
     "output_type": "execute_result"
    }
   ],
   "source": [
    "#default the input function stores value as a string\n",
    "# showing string\n",
    "type(b)"
   ]
  },
  {
   "cell_type": "code",
   "execution_count": 24,
   "id": "41168005",
   "metadata": {},
   "outputs": [
    {
     "name": "stdout",
     "output_type": "stream",
     "text": [
      "6776\n"
     ]
    }
   ],
   "source": [
    "# type conversion\n",
    "b=int(input())"
   ]
  },
  {
   "cell_type": "code",
   "execution_count": 25,
   "id": "1b4af8eb",
   "metadata": {},
   "outputs": [
    {
     "data": {
      "text/plain": [
       "6776"
      ]
     },
     "execution_count": 25,
     "metadata": {},
     "output_type": "execute_result"
    }
   ],
   "source": [
    "b"
   ]
  },
  {
   "cell_type": "code",
   "execution_count": 26,
   "id": "a90865ec",
   "metadata": {},
   "outputs": [
    {
     "data": {
      "text/plain": [
       "int"
      ]
     },
     "execution_count": 26,
     "metadata": {},
     "output_type": "execute_result"
    }
   ],
   "source": [
    "type(b)"
   ]
  },
  {
   "cell_type": "code",
   "execution_count": null,
   "id": "557be318",
   "metadata": {},
   "outputs": [],
   "source": [
    "# take a input from user\n",
    "price=int(input())\n",
    "if price<500:\n",
    "    print('i will be able to buy something')\n",
    "    if price <400:\n",
    "        print('i will be able to buy a jacket')\n",
    "    elif price<300:\n",
    "        print('i will be able to buy a shirt')\n",
    "    else:\n",
    "        print('i wont be able to buy anything')\n",
    "else:\n",
    "    print('i wont be able to buy anything with this price tag')"
   ]
  },
  {
   "cell_type": "code",
   "execution_count": null,
   "id": "6820e379",
   "metadata": {},
   "outputs": [],
   "source": [
    "# take a input from user\n",
    "price=int(input())\n",
    "if price<500:\n",
    "    print('i will be able to buy something')\n",
    "    if price <400:\n",
    "        print('i will be able to buy a jacket')\n",
    "    elif price<300:\n",
    "        print('i will be able to buy a shirt')\n",
    "        if price <200:\n",
    "            print('i would like to do something')\n",
    "    else:\n",
    "        print('i wont be able to buy anything')\n",
    "else:\n",
    "    print('i wont be able to buy anything with this price tag')\n",
    "    if price >500:\n",
    "        print('lets try something else')"
   ]
  },
  {
   "cell_type": "code",
   "execution_count": 92,
   "id": "7b68eb50",
   "metadata": {},
   "outputs": [
    {
     "name": "stdout",
     "output_type": "stream",
     "text": [
      "600\n",
      "congratulations!!\n"
     ]
    }
   ],
   "source": [
    "# write a code if marks >600 then GRE and if marks <600 \n",
    "# then(NO GRE and marks <500 then toffel and marks <400 'try something else')\n",
    "m=int(input())\n",
    "if m>600:\n",
    "    print('Able to get admission in GRE')\n",
    "elif m<600:\n",
    "    print('no gre')\n",
    "    if m<500:\n",
    "        print('TOFFEL')\n",
    "    elif m<400:\n",
    "        print('try something else')\n",
    "else:\n",
    "    print('congratulations!!')"
   ]
  },
  {
   "cell_type": "code",
   "execution_count": 93,
   "id": "1b85c1cf",
   "metadata": {},
   "outputs": [
    {
     "name": "stdout",
     "output_type": "stream",
     "text": [
      "600\n",
      "you got GRE congratulations\n"
     ]
    }
   ],
   "source": [
    "#another way\n",
    "m=int(input())\n",
    "if m<600:\n",
    "    print('No GRE')\n",
    "    if m<500:\n",
    "        print('TOFEL')\n",
    "        if m<400:\n",
    "            print('Try something else')\n",
    "    else:\n",
    "        print('You GOT TOFEL')\n",
    "else:\n",
    "    print('you got GRE congratulations')"
   ]
  },
  {
   "cell_type": "code",
   "execution_count": 58,
   "id": "f5ece1c8",
   "metadata": {},
   "outputs": [
    {
     "name": "stdout",
     "output_type": "stream",
     "text": [
      "enter a floating point number324\n",
      "enter value is a positive no.\n"
     ]
    }
   ],
   "source": [
    "\n",
    "val=float(input('enter a floating point number'))\n",
    "if val>=0:\n",
    "    if val == 0:\n",
    "        print('entered value is zero')\n",
    "    else:\n",
    "        print('enter value is a positive no.')\n",
    "else:\n",
    "    print('entered no. is a negative no.')"
   ]
  },
  {
   "cell_type": "code",
   "execution_count": 71,
   "id": "f7632841",
   "metadata": {},
   "outputs": [
    {
     "name": "stdout",
     "output_type": "stream",
     "text": [
      "try to do something\n"
     ]
    }
   ],
   "source": [
    "# if any of condition is true gives us true value incase of or\n",
    "#if both the value is true gives us true value incase of and\n",
    "a=10\n",
    "if a <=10 or a == 10:\n",
    "    print('try to do something')"
   ]
  },
  {
   "cell_type": "code",
   "execution_count": 73,
   "id": "e592bdb6",
   "metadata": {},
   "outputs": [],
   "source": [
    "#lets take an example\n",
    "a=10\n",
    "if a <10 or a > 10:\n",
    "    print('try to do something')"
   ]
  },
  {
   "cell_type": "code",
   "execution_count": 75,
   "id": "b5817e80",
   "metadata": {},
   "outputs": [],
   "source": [
    "#lets take an example\n",
    "a=10\n",
    "if a <10 and a>10:\n",
    "    print('try to do something')"
   ]
  },
  {
   "cell_type": "code",
   "execution_count": 76,
   "id": "9a3ed62e",
   "metadata": {},
   "outputs": [
    {
     "name": "stdout",
     "output_type": "stream",
     "text": [
      "try to do something\n"
     ]
    }
   ],
   "source": [
    "#lets take an example\n",
    "a=10\n",
    "if a <=10 and a == 10:\n",
    "    print('try to do something')"
   ]
  },
  {
   "cell_type": "code",
   "execution_count": 78,
   "id": "590c0776",
   "metadata": {},
   "outputs": [],
   "source": [
    "#lets take an example\n",
    "a='sudh'\n",
    "if a == 'sudh' and a=='Sudh':\n",
    "    print('this is sudh')"
   ]
  },
  {
   "cell_type": "code",
   "execution_count": 79,
   "id": "f7c0e95b",
   "metadata": {},
   "outputs": [
    {
     "name": "stdout",
     "output_type": "stream",
     "text": [
      "this is sudh\n"
     ]
    }
   ],
   "source": [
    "#lets take an example\n",
    "a='sudh'\n",
    "if a == 'sudh' or a=='Sudh':\n",
    "    print('this is sudh')"
   ]
  },
  {
   "cell_type": "code",
   "execution_count": 80,
   "id": "98e133a8",
   "metadata": {},
   "outputs": [],
   "source": [
    "#lets take an example with and only\n",
    "a=10\n",
    "b=11\n",
    "c=12\n",
    "d=13\n",
    "if a ==9 and b==11 and c==12 and d==13:\n",
    "    print('lets do something')"
   ]
  },
  {
   "cell_type": "code",
   "execution_count": 81,
   "id": "6e720b21",
   "metadata": {},
   "outputs": [
    {
     "name": "stdout",
     "output_type": "stream",
     "text": [
      "lets do something\n"
     ]
    }
   ],
   "source": [
    "#lets take an example with 'or' and 'and' \n",
    "a=10\n",
    "b=11\n",
    "c=12\n",
    "d=13\n",
    "if a ==9 or b==11 and c==12 and d==13:\n",
    "    print('lets do something')"
   ]
  },
  {
   "cell_type": "code",
   "execution_count": 82,
   "id": "29dfc0e5",
   "metadata": {},
   "outputs": [],
   "source": [
    "#create a dict\n",
    "d={'key1':'value','key2':'value2','key3':'value3'}"
   ]
  },
  {
   "cell_type": "code",
   "execution_count": 85,
   "id": "6ee361d3",
   "metadata": {},
   "outputs": [
    {
     "name": "stdout",
     "output_type": "stream",
     "text": [
      "all the values are verfied\n",
      "dict_values(['value', 'value2', 'value3'])\n"
     ]
    }
   ],
   "source": [
    "#verfy and print the dict values\n",
    "if d['key1'] == 'value' and d['key2'] == 'value2' and d['key3'] == 'value3':\n",
    "    print('all the values are verfied')\n",
    "    print(d.values())\n",
    "else:\n",
    "    print('all the values are not verified')"
   ]
  },
  {
   "cell_type": "code",
   "execution_count": 86,
   "id": "19a33e9d",
   "metadata": {},
   "outputs": [
    {
     "name": "stdout",
     "output_type": "stream",
     "text": [
      "all the values are not verified\n"
     ]
    }
   ],
   "source": [
    "#verfy and print the dict values\n",
    "if d['key1'] == 'value' and d['key2'] == 'Value2' and d['key3'] == 'value3':\n",
    "    print('all the values are verfied')\n",
    "    print(d.values())\n",
    "else:\n",
    "    print('all the values are not verified')"
   ]
  },
  {
   "cell_type": "code",
   "execution_count": null,
   "id": "17f8ed99",
   "metadata": {},
   "outputs": [],
   "source": []
  }
 ],
 "metadata": {
  "kernelspec": {
   "display_name": "Python 3 (ipykernel)",
   "language": "python",
   "name": "python3"
  },
  "language_info": {
   "codemirror_mode": {
    "name": "ipython",
    "version": 3
   },
   "file_extension": ".py",
   "mimetype": "text/x-python",
   "name": "python",
   "nbconvert_exporter": "python",
   "pygments_lexer": "ipython3",
   "version": "3.9.7"
  }
 },
 "nbformat": 4,
 "nbformat_minor": 5
}
