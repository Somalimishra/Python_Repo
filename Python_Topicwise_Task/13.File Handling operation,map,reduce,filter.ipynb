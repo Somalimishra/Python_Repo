{
 "cells": [
  {
   "cell_type": "markdown",
   "id": "172546e0",
   "metadata": {},
   "source": [
    "# file Handling operation"
   ]
  },
  {
   "cell_type": "code",
   "execution_count": null,
   "id": "8654efe9",
   "metadata": {},
   "outputs": [],
   "source": [
    "#listdir returns the list of file names and directories in the path specified (by default, the current working directory)"
   ]
  },
  {
   "cell_type": "code",
   "execution_count": 22,
   "id": "74b549a3",
   "metadata": {},
   "outputs": [
    {
     "name": "stdout",
     "output_type": "stream",
     "text": [
      " Volume in drive C has no label.\n",
      " Volume Serial Number is 30E1-BDA1\n",
      "\n",
      " Directory of C:\\Users\\A Bhanja deo\\iNeuron\\Python class notes\n",
      "\n",
      "18-06-2022  09.25 PM    <DIR>          .\n",
      "18-06-2022  09.25 PM    <DIR>          ..\n",
      "18-06-2022  05.17 PM    <DIR>          .ipynb_checkpoints\n",
      "24-05-2022  10.06 PM            16,561 1. basic python programming.ipynb\n",
      "30-05-2022  09.41 PM            24,806 10. for loop.ipynb\n",
      "17-06-2022  08.04 PM           370,439 12.while loop.ipynb\n",
      "18-06-2022  10.03 AM            24,790 13.basic Function.ipynb\n",
      "18-06-2022  11.09 AM            29,365 14.detail function,lambda,comprehension.ipynb\n",
      "18-06-2022  03.08 PM             4,837 15. function challenges-5.ipynb\n",
      "18-06-2022  06.29 PM            25,685 16.function iterator,generator, iterable.ipynb\n",
      "18-06-2022  09.25 PM            16,398 17.File Handling operation,map,reduce,filter.ipynb\n",
      "16-05-2022  09.10 PM            49,709 2.string manipulation.ipynb\n",
      "22-05-2022  10.30 AM            36,766 4. list.ipynb\n",
      "24-05-2022  09.25 PM             9,008 5.tuple.ipynb\n",
      "21-05-2022  10.45 PM            14,930 6.dictionary.ipynb\n",
      "24-05-2022  09.28 PM            12,356 7.set.ipynb\n",
      "22-05-2022  09.51 PM            20,572 9.if-else-elif-statement.ipynb\n",
      "18-06-2022  09.26 PM                34 notes.txt\n",
      "18-06-2022  11.12 AM             6,201 practice.ipynb\n",
      "18-06-2022  09.42 AM             6,508 Untitled.ipynb\n",
      "              17 File(s)        668,965 bytes\n",
      "               3 Dir(s)  107,764,842,496 bytes free\n"
     ]
    }
   ],
   "source": [
    "ls"
   ]
  },
  {
   "cell_type": "code",
   "execution_count": null,
   "id": "484cfa9b",
   "metadata": {},
   "outputs": [],
   "source": [
    "#mode of a file operation\n",
    "#\"r\" - Read - Default value. Opens a file for reading, error if the file does not exist\n",
    "\n",
    "#\"a\" - Append - Opens a file for appending, creates the file if it does not exist\n",
    "\n",
    "#\"w\" - Write - Opens a file for writing, creates the file if it does not exist\n",
    "\n",
    "#\"x\" - Create - Creates the specified file, returns an error if the file exists\n",
    "#w=write\n",
    "#r=read\n",
    "#r+=read and write\n",
    "#w+=write and read\n",
    "#wb+\n",
    "#a=append\n",
    "#a+=\n"
   ]
  },
  {
   "cell_type": "code",
   "execution_count": 15,
   "id": "e1291ca1",
   "metadata": {},
   "outputs": [],
   "source": [
    "#To open a file for reading it is enough to specify the name of the file: w means write here\n",
    "#opens the file for wiriting if not exist create it\n",
    "f=open('notes.txt','w')"
   ]
  },
  {
   "cell_type": "code",
   "execution_count": 13,
   "id": "3fa74d1b",
   "metadata": {},
   "outputs": [
    {
     "name": "stdout",
     "output_type": "stream",
     "text": [
      " Volume in drive C has no label.\n",
      " Volume Serial Number is 30E1-BDA1\n",
      "\n",
      " Directory of C:\\Users\\A Bhanja deo\\iNeuron\\Python class notes\n",
      "\n",
      "18-06-2022  09.25 PM    <DIR>          .\n",
      "18-06-2022  09.25 PM    <DIR>          ..\n",
      "18-06-2022  05.17 PM    <DIR>          .ipynb_checkpoints\n",
      "24-05-2022  10.06 PM            16,561 1. basic python programming.ipynb\n",
      "30-05-2022  09.41 PM            24,806 10. for loop.ipynb\n",
      "17-06-2022  08.04 PM           370,439 12.while loop.ipynb\n",
      "18-06-2022  10.03 AM            24,790 13.basic Function.ipynb\n",
      "18-06-2022  11.09 AM            29,365 14.detail function,lambda,comprehension.ipynb\n",
      "18-06-2022  03.08 PM             4,837 15. function challenges-5.ipynb\n",
      "18-06-2022  06.29 PM            25,685 16.function iterator,generator, iterable.ipynb\n",
      "18-06-2022  09.25 PM            16,398 17.File Handling operation,map,reduce,filter.ipynb\n",
      "16-05-2022  09.10 PM            49,709 2.string manipulation.ipynb\n",
      "22-05-2022  10.30 AM            36,766 4. list.ipynb\n",
      "24-05-2022  09.25 PM             9,008 5.tuple.ipynb\n",
      "21-05-2022  10.45 PM            14,930 6.dictionary.ipynb\n",
      "24-05-2022  09.28 PM            12,356 7.set.ipynb\n",
      "22-05-2022  09.51 PM            20,572 9.if-else-elif-statement.ipynb\n",
      "18-06-2022  09.25 PM                 0 notes.txt\n",
      "18-06-2022  11.12 AM             6,201 practice.ipynb\n",
      "18-06-2022  09.42 AM             6,508 Untitled.ipynb\n",
      "              17 File(s)        668,931 bytes\n",
      "               3 Dir(s)  107,765,252,096 bytes free\n"
     ]
    }
   ],
   "source": [
    "ls"
   ]
  },
  {
   "cell_type": "code",
   "execution_count": 18,
   "id": "feb170aa",
   "metadata": {},
   "outputs": [
    {
     "data": {
      "text/plain": [
       "34"
      ]
     },
     "execution_count": 18,
     "metadata": {},
     "output_type": "execute_result"
    }
   ],
   "source": [
    "#to write something inside the file\n",
    "f.write('this is my very 1st file operation')"
   ]
  },
  {
   "cell_type": "code",
   "execution_count": 19,
   "id": "83f493d6",
   "metadata": {},
   "outputs": [],
   "source": [
    "#to close the file\n",
    "f.close()"
   ]
  },
  {
   "cell_type": "code",
   "execution_count": 21,
   "id": "0e2757a9",
   "metadata": {},
   "outputs": [
    {
     "name": "stdout",
     "output_type": "stream",
     "text": [
      " Volume in drive C has no label.\n",
      " Volume Serial Number is 30E1-BDA1\n",
      "\n",
      " Directory of C:\\Users\\A Bhanja deo\\iNeuron\\Python class notes\n",
      "\n"
     ]
    },
    {
     "name": "stderr",
     "output_type": "stream",
     "text": [
      "File Not Found\n"
     ]
    }
   ],
   "source": [
    "#path:  C:\\Users\\A Bhanja deo\\iNeuron\\Python class notes\n",
    "ls()"
   ]
  },
  {
   "cell_type": "code",
   "execution_count": 23,
   "id": "48d6079f",
   "metadata": {},
   "outputs": [],
   "source": [
    "#create a file in a particular directory\n",
    "f=open('D:\\\\notes1.txt','w')"
   ]
  },
  {
   "cell_type": "code",
   "execution_count": 24,
   "id": "4d78ca73",
   "metadata": {},
   "outputs": [],
   "source": [
    "#opens the file for wiriting if not exist create it\n",
    "f1=open(\"test1.txt\",'w')"
   ]
  },
  {
   "cell_type": "code",
   "execution_count": 25,
   "id": "3c366ab1",
   "metadata": {},
   "outputs": [
    {
     "data": {
      "text/plain": [
       "76"
      ]
     },
     "execution_count": 25,
     "metadata": {},
     "output_type": "execute_result"
    }
   ],
   "source": [
    "#to write inside test1 file\n",
    "f1.write('this is a file where i am going to do all the operation for learning purpose')"
   ]
  },
  {
   "cell_type": "code",
   "execution_count": 26,
   "id": "fc0ad0f7",
   "metadata": {},
   "outputs": [],
   "source": [
    "f1.close()"
   ]
  },
  {
   "cell_type": "code",
   "execution_count": 29,
   "id": "6e90830e",
   "metadata": {},
   "outputs": [],
   "source": [
    "#create a list\n",
    "l=[1,2,3,4,5,6,7,67,8,9,0]"
   ]
  },
  {
   "cell_type": "code",
   "execution_count": 30,
   "id": "a19aae8d",
   "metadata": {},
   "outputs": [],
   "source": [
    "#opens the file for wiriting if not exist create it\n",
    "f2=open(\"test2.txt\",'w')"
   ]
  },
  {
   "cell_type": "code",
   "execution_count": 31,
   "id": "b4154b30",
   "metadata": {},
   "outputs": [
    {
     "data": {
      "text/plain": [
       "34"
      ]
     },
     "execution_count": 31,
     "metadata": {},
     "output_type": "execute_result"
    }
   ],
   "source": [
    "#store the list in file\n",
    "f2.write(str(l))"
   ]
  },
  {
   "cell_type": "code",
   "execution_count": 32,
   "id": "17249eb8",
   "metadata": {},
   "outputs": [],
   "source": [
    "f2.close()"
   ]
  },
  {
   "cell_type": "code",
   "execution_count": 35,
   "id": "a2d6ee2f",
   "metadata": {},
   "outputs": [],
   "source": [
    "#can create the file with any extension name\n",
    "#like here we have used .sudh\n",
    "f3=open('test.sudh','w')\n",
    "f3.write('djjkedjkhkjdjk hjjdwk jhdkj')\n",
    "f3.close()"
   ]
  },
  {
   "cell_type": "code",
   "execution_count": null,
   "id": "198483a8",
   "metadata": {},
   "outputs": [],
   "source": [
    "#another way to create the file"
   ]
  },
  {
   "cell_type": "code",
   "execution_count": 11,
   "id": "48924155",
   "metadata": {},
   "outputs": [
    {
     "name": "stdout",
     "output_type": "stream",
     "text": [
      "Overwriting test5.txt\n"
     ]
    }
   ],
   "source": [
    "%%writefile test5.txt\n",
    "this is my python program to write \n",
    "this is my python program to write \n",
    "this is my python program to write \n",
    "this is my python program to write\n",
    "this is my python program to write\n",
    "this is my python program to write"
   ]
  },
  {
   "cell_type": "code",
   "execution_count": 12,
   "id": "3d30a872",
   "metadata": {},
   "outputs": [
    {
     "name": "stdout",
     "output_type": "stream",
     "text": [
      "Overwriting test4.txt\n"
     ]
    }
   ],
   "source": [
    "%%writefile test4.txt\n",
    "this is how i am learning file handling\n",
    "this is how i am learning file handling\n",
    "this is how i am learning file handling\n",
    "this is how i am learning file handling\n",
    "this is how i am learning file handling\n"
   ]
  },
  {
   "cell_type": "code",
   "execution_count": 13,
   "id": "44f45a41",
   "metadata": {},
   "outputs": [],
   "source": [
    "#To open a file for reading it is enough to specify the name of the file \n",
    "f=open('test5.txt')"
   ]
  },
  {
   "cell_type": "code",
   "execution_count": 14,
   "id": "1daf71ae",
   "metadata": {},
   "outputs": [
    {
     "data": {
      "text/plain": [
       "'this is my python program to write \\nthis is my python program to write \\nthis is my python program to write \\nthis is my python program to write\\nthis is my python program to write\\nthis is my python program to write\\n'"
      ]
     },
     "execution_count": 14,
     "metadata": {},
     "output_type": "execute_result"
    }
   ],
   "source": [
    "# to read the file test5\n",
    "f.read()"
   ]
  },
  {
   "cell_type": "code",
   "execution_count": 15,
   "id": "2f492f2b",
   "metadata": {},
   "outputs": [
    {
     "data": {
      "text/plain": [
       "''"
      ]
     },
     "execution_count": 15,
     "metadata": {},
     "output_type": "execute_result"
    }
   ],
   "source": [
    "#here it blank , bcz pointer has been executed all the value, to read someting we have to set the pointer\n",
    "#once again\n",
    "f.read()"
   ]
  },
  {
   "cell_type": "code",
   "execution_count": 17,
   "id": "7c9ce239",
   "metadata": {},
   "outputs": [
    {
     "data": {
      "text/plain": [
       "0"
      ]
     },
     "execution_count": 17,
     "metadata": {},
     "output_type": "execute_result"
    }
   ],
   "source": [
    "#to set the pointer to 0th position\n",
    "f.seek(0)"
   ]
  },
  {
   "cell_type": "code",
   "execution_count": 18,
   "id": "22979a7b",
   "metadata": {},
   "outputs": [
    {
     "data": {
      "text/plain": [
       "'this is my python program to write \\nthis is my python program to write \\nthis is my python program to write \\nthis is my python program to write\\nthis is my python program to write\\nthis is my python program to write\\n'"
      ]
     },
     "execution_count": 18,
     "metadata": {},
     "output_type": "execute_result"
    }
   ],
   "source": [
    "#now again read the file\n",
    "f.read()"
   ]
  },
  {
   "cell_type": "code",
   "execution_count": 19,
   "id": "0a57c71c",
   "metadata": {},
   "outputs": [
    {
     "data": {
      "text/plain": [
       "4"
      ]
     },
     "execution_count": 19,
     "metadata": {},
     "output_type": "execute_result"
    }
   ],
   "source": [
    "#to set the pointer to 4th position\n",
    "f.seek(4)"
   ]
  },
  {
   "cell_type": "code",
   "execution_count": 20,
   "id": "38c4aca4",
   "metadata": {},
   "outputs": [
    {
     "data": {
      "text/plain": [
       "' is my python program to write \\nthis is my python program to write \\nthis is my python program to write \\nthis is my python program to write\\nthis is my python program to write\\nthis is my python program to write\\n'"
      ]
     },
     "execution_count": 20,
     "metadata": {},
     "output_type": "execute_result"
    }
   ],
   "source": [
    "#now again read the file test5\n",
    "f.read()"
   ]
  },
  {
   "cell_type": "code",
   "execution_count": 21,
   "id": "8adecd86",
   "metadata": {},
   "outputs": [
    {
     "data": {
      "text/plain": [
       "50"
      ]
     },
     "execution_count": 21,
     "metadata": {},
     "output_type": "execute_result"
    }
   ],
   "source": [
    "#to set the pointer to 50th position\n",
    "f.seek(50)"
   ]
  },
  {
   "cell_type": "code",
   "execution_count": 22,
   "id": "82c0c022",
   "metadata": {},
   "outputs": [
    {
     "data": {
      "text/plain": [
       "'thon program to write \\nthis is my python program to write \\nthis is my python program to write\\nthis is my python program to write\\nthis is my python program to write\\n'"
      ]
     },
     "execution_count": 22,
     "metadata": {},
     "output_type": "execute_result"
    }
   ],
   "source": [
    "#now again read the file test5\n",
    "f.read()"
   ]
  },
  {
   "cell_type": "code",
   "execution_count": 23,
   "id": "80985357",
   "metadata": {},
   "outputs": [],
   "source": [
    "#open the file test5 in to f1 variable\n",
    "f1=open('test5.txt')"
   ]
  },
  {
   "cell_type": "code",
   "execution_count": 25,
   "id": "026ad4c8",
   "metadata": {},
   "outputs": [
    {
     "data": {
      "text/plain": [
       "0"
      ]
     },
     "execution_count": 25,
     "metadata": {},
     "output_type": "execute_result"
    }
   ],
   "source": [
    "#to tell where the pointer is\n",
    "f1.tell()"
   ]
  },
  {
   "cell_type": "code",
   "execution_count": 26,
   "id": "41d0b95d",
   "metadata": {},
   "outputs": [
    {
     "data": {
      "text/plain": [
       "'this is my python program to write \\nthis is my python program to write \\nthis is my python program to write \\nthis is my python program to write\\nthis is my python program to write\\nthis is my python program to write\\n'"
      ]
     },
     "execution_count": 26,
     "metadata": {},
     "output_type": "execute_result"
    }
   ],
   "source": [
    "#now read the file\n",
    "f1.read()"
   ]
  },
  {
   "cell_type": "code",
   "execution_count": 28,
   "id": "3bdf4d01",
   "metadata": {},
   "outputs": [
    {
     "data": {
      "text/plain": [
       "219"
      ]
     },
     "execution_count": 28,
     "metadata": {},
     "output_type": "execute_result"
    }
   ],
   "source": [
    "#now the ponter is at last position\n",
    "f1.tell()"
   ]
  },
  {
   "cell_type": "code",
   "execution_count": 30,
   "id": "2a03a1dc",
   "metadata": {},
   "outputs": [
    {
     "data": {
      "text/plain": [
       "5"
      ]
     },
     "execution_count": 30,
     "metadata": {},
     "output_type": "execute_result"
    }
   ],
   "source": [
    "#set the pointer to 5th position\n",
    "f1.seek(5)"
   ]
  },
  {
   "cell_type": "code",
   "execution_count": 32,
   "id": "2be4b78c",
   "metadata": {},
   "outputs": [
    {
     "data": {
      "text/plain": [
       "5"
      ]
     },
     "execution_count": 32,
     "metadata": {},
     "output_type": "execute_result"
    }
   ],
   "source": [
    "#to tell where the ponter is, here is at 5th position\n",
    "#as we have set the ponter is at 5th position just in previous step\n",
    "f1.tell()"
   ]
  },
  {
   "cell_type": "code",
   "execution_count": 33,
   "id": "fe71882a",
   "metadata": {},
   "outputs": [
    {
     "data": {
      "text/plain": [
       "'is my python pr'"
      ]
     },
     "execution_count": 33,
     "metadata": {},
     "output_type": "execute_result"
    }
   ],
   "source": [
    "#to read 15th character from the position where the pointer was lastly\n",
    "#here from 5th to 15th position\n",
    "f1.read(15)"
   ]
  },
  {
   "cell_type": "code",
   "execution_count": 34,
   "id": "c3d452da",
   "metadata": {},
   "outputs": [],
   "source": [
    "#open the file test5 in to f2 variable\n",
    "f2=open('test5.txt')"
   ]
  },
  {
   "cell_type": "code",
   "execution_count": 35,
   "id": "614b2ac8",
   "metadata": {},
   "outputs": [
    {
     "data": {
      "text/plain": [
       "'this is my python program to write \\nthis is my python program to write \\nthis is my python program to write \\nthis is my python program to write\\nthis is my python program to write\\nthis is my python program to write\\n'"
      ]
     },
     "execution_count": 35,
     "metadata": {},
     "output_type": "execute_result"
    }
   ],
   "source": [
    "#read the file\n",
    "f2.read()"
   ]
  },
  {
   "cell_type": "code",
   "execution_count": 36,
   "id": "85e444ef",
   "metadata": {},
   "outputs": [
    {
     "data": {
      "text/plain": [
       "0"
      ]
     },
     "execution_count": 36,
     "metadata": {},
     "output_type": "execute_result"
    }
   ],
   "source": [
    "#seek for position 0\n",
    "f2.seek(0)"
   ]
  },
  {
   "cell_type": "code",
   "execution_count": 37,
   "id": "518d1c5b",
   "metadata": {},
   "outputs": [
    {
     "data": {
      "text/plain": [
       "'this is my python program to write \\n'"
      ]
     },
     "execution_count": 37,
     "metadata": {},
     "output_type": "execute_result"
    }
   ],
   "source": [
    "#to print single line\n",
    "f2.readline()"
   ]
  },
  {
   "cell_type": "code",
   "execution_count": 38,
   "id": "3da4efc5",
   "metadata": {},
   "outputs": [
    {
     "data": {
      "text/plain": [
       "['this is my python program to write \\n',\n",
       " 'this is my python program to write \\n',\n",
       " 'this is my python program to write\\n',\n",
       " 'this is my python program to write\\n',\n",
       " 'this is my python program to write\\n']"
      ]
     },
     "execution_count": 38,
     "metadata": {},
     "output_type": "execute_result"
    }
   ],
   "source": [
    "#to print multiline\n",
    "f2.readlines()"
   ]
  },
  {
   "cell_type": "code",
   "execution_count": 39,
   "id": "c0205661",
   "metadata": {},
   "outputs": [
    {
     "data": {
      "text/plain": [
       "<_io.TextIOWrapper name='test5.txt' mode='r' encoding='cp1252'>"
      ]
     },
     "execution_count": 39,
     "metadata": {},
     "output_type": "execute_result"
    }
   ],
   "source": [
    "#file object\n",
    "f2"
   ]
  },
  {
   "cell_type": "code",
   "execution_count": 40,
   "id": "9709eb1b",
   "metadata": {},
   "outputs": [
    {
     "data": {
      "text/plain": [
       "6"
      ]
     },
     "execution_count": 40,
     "metadata": {},
     "output_type": "execute_result"
    }
   ],
   "source": [
    "#The fileno() method returns the file descriptor of the stream, as a number. \n",
    "#An error will occur if the operator system does not use a file descriptor.\n",
    "f2.fileno()"
   ]
  },
  {
   "cell_type": "code",
   "execution_count": 41,
   "id": "7a01ad6a",
   "metadata": {},
   "outputs": [],
   "source": [
    "#opens the file for wiriting if not exist create it\n",
    "f=open('test3.txt','w')"
   ]
  },
  {
   "cell_type": "code",
   "execution_count": 42,
   "id": "0226eeda",
   "metadata": {},
   "outputs": [
    {
     "data": {
      "text/plain": [
       "60"
      ]
     },
     "execution_count": 42,
     "metadata": {},
     "output_type": "execute_result"
    }
   ],
   "source": [
    "#to write something inside the file\n",
    "f.write('''this is my python program to write into in different way \\n\n",
    "\n",
    "''')"
   ]
  },
  {
   "cell_type": "code",
   "execution_count": 43,
   "id": "611da05c",
   "metadata": {},
   "outputs": [],
   "source": [
    "#to close the file\n",
    "f.close()"
   ]
  },
  {
   "cell_type": "code",
   "execution_count": 44,
   "id": "245473db",
   "metadata": {},
   "outputs": [
    {
     "ename": "ValueError",
     "evalue": "I/O operation on closed file.",
     "output_type": "error",
     "traceback": [
      "\u001b[1;31m---------------------------------------------------------------------------\u001b[0m",
      "\u001b[1;31mValueError\u001b[0m                                Traceback (most recent call last)",
      "\u001b[1;32mC:\\Users\\ABHANJ~1\\AppData\\Local\\Temp/ipykernel_6432/3733698695.py\u001b[0m in \u001b[0;36m<module>\u001b[1;34m\u001b[0m\n\u001b[1;32m----> 1\u001b[1;33m \u001b[0mf\u001b[0m\u001b[1;33m.\u001b[0m\u001b[0mwrite\u001b[0m\u001b[1;33m(\u001b[0m\u001b[1;34m'yweuhew hsdihej jsdjk'\u001b[0m\u001b[1;33m)\u001b[0m\u001b[1;33m\u001b[0m\u001b[1;33m\u001b[0m\u001b[0m\n\u001b[0m",
      "\u001b[1;31mValueError\u001b[0m: I/O operation on closed file."
     ]
    }
   ],
   "source": [
    "#once the file is closed we cant write anything\n",
    "f.write('yweuhew hsdihej jsdjk')"
   ]
  },
  {
   "cell_type": "code",
   "execution_count": 45,
   "id": "336365ec",
   "metadata": {},
   "outputs": [],
   "source": [
    "#Opens a file for appending, creates the file if it does not exist\n",
    "f=open('test3.txt','a')"
   ]
  },
  {
   "cell_type": "code",
   "execution_count": 46,
   "id": "0a29cd6b",
   "metadata": {},
   "outputs": [
    {
     "data": {
      "text/plain": [
       "22"
      ]
     },
     "execution_count": 46,
     "metadata": {},
     "output_type": "execute_result"
    }
   ],
   "source": [
    "#now append  \n",
    "f.write('this is my new dataset')"
   ]
  },
  {
   "cell_type": "code",
   "execution_count": 48,
   "id": "bc6aed35",
   "metadata": {},
   "outputs": [],
   "source": [
    "#close\n",
    "f.close()"
   ]
  },
  {
   "cell_type": "code",
   "execution_count": 49,
   "id": "e139ddd1",
   "metadata": {},
   "outputs": [
    {
     "data": {
      "text/plain": [
       "'test3.txt'"
      ]
     },
     "execution_count": 49,
     "metadata": {},
     "output_type": "execute_result"
    }
   ],
   "source": [
    "#to check the file name\n",
    "f.name"
   ]
  },
  {
   "cell_type": "code",
   "execution_count": 50,
   "id": "0e5f62f4",
   "metadata": {},
   "outputs": [
    {
     "data": {
      "text/plain": [
       "True"
      ]
     },
     "execution_count": 50,
     "metadata": {},
     "output_type": "execute_result"
    }
   ],
   "source": [
    "#whether file has been closed or not\n",
    "f.closed"
   ]
  },
  {
   "cell_type": "code",
   "execution_count": 52,
   "id": "6a6edfa0",
   "metadata": {},
   "outputs": [
    {
     "data": {
      "text/plain": [
       "'a'"
      ]
     },
     "execution_count": 52,
     "metadata": {},
     "output_type": "execute_result"
    }
   ],
   "source": [
    "#to check the mode of operation\n",
    "#a:append\n",
    "f.mode"
   ]
  },
  {
   "cell_type": "markdown",
   "id": "fca41e99",
   "metadata": {},
   "source": [
    "# map,reduce,filter"
   ]
  },
  {
   "cell_type": "markdown",
   "id": "ee2ef36a",
   "metadata": {},
   "source": [
    "# map"
   ]
  },
  {
   "cell_type": "code",
   "execution_count": 53,
   "id": "8307c012",
   "metadata": {},
   "outputs": [
    {
     "name": "stdout",
     "output_type": "stream",
     "text": [
      "[4, 9, 16, 25, 36]\n"
     ]
    }
   ],
   "source": [
    "#write a program to find the square of the no. present inside the list\n",
    "#list comprehension\n",
    "l=[2,3,4,5,6]\n",
    "x=[i*i for i in l ]\n",
    "print(x)"
   ]
  },
  {
   "cell_type": "code",
   "execution_count": 54,
   "id": "2ea0b7cf",
   "metadata": {},
   "outputs": [],
   "source": [
    "#write a program to find the square of the no. present inside the list\n",
    "#using for loop\n",
    "l=[2,3,4,5,6]\n",
    "l1=[]\n",
    "for i in l:\n",
    "    l1.append(i**2)"
   ]
  },
  {
   "cell_type": "code",
   "execution_count": 55,
   "id": "ad1396ae",
   "metadata": {},
   "outputs": [
    {
     "data": {
      "text/plain": [
       "[4, 9, 16, 25, 36]"
      ]
     },
     "execution_count": 55,
     "metadata": {},
     "output_type": "execute_result"
    }
   ],
   "source": [
    "#print l1\n",
    "l1"
   ]
  },
  {
   "cell_type": "code",
   "execution_count": 56,
   "id": "372b3fce",
   "metadata": {},
   "outputs": [],
   "source": [
    "#write a program to find the square of the no. present inside the list\n",
    "#creating own function\n",
    "def sq(n):\n",
    "    return n**2"
   ]
  },
  {
   "cell_type": "code",
   "execution_count": 58,
   "id": "a1547d35",
   "metadata": {},
   "outputs": [
    {
     "data": {
      "text/plain": [
       "[4, 9, 16, 25, 36]"
      ]
     },
     "execution_count": 58,
     "metadata": {},
     "output_type": "execute_result"
    }
   ],
   "source": [
    "#write a program to find the square of the no. present inside the list\n",
    "#using map\n",
    "#map(func, *iterables) --> map object\n",
    "#iterabls means=it can be list ,tuple,set etc.\n",
    "list(map(sq,l))"
   ]
  },
  {
   "cell_type": "code",
   "execution_count": 59,
   "id": "0b08f3c6",
   "metadata": {},
   "outputs": [
    {
     "data": {
      "text/plain": [
       "[4, 9, 16, 25, 36]"
      ]
     },
     "execution_count": 59,
     "metadata": {},
     "output_type": "execute_result"
    }
   ],
   "source": [
    "#using lambda and map\n",
    "#bcz the syntax of map is one function and one sequences as a arguments\n",
    "list(map(lambda x:x**2,l))"
   ]
  },
  {
   "cell_type": "code",
   "execution_count": 60,
   "id": "36b77fed",
   "metadata": {},
   "outputs": [
    {
     "data": {
      "text/plain": [
       "[2, 3, 4, 5, 6]"
      ]
     },
     "execution_count": 60,
     "metadata": {},
     "output_type": "execute_result"
    }
   ],
   "source": [
    "#print l\n",
    "l"
   ]
  },
  {
   "cell_type": "code",
   "execution_count": 62,
   "id": "7dadac3f",
   "metadata": {},
   "outputs": [
    {
     "data": {
      "text/plain": [
       "['2', '3', '4', '5', '6']"
      ]
     },
     "execution_count": 62,
     "metadata": {},
     "output_type": "execute_result"
    }
   ],
   "source": [
    "#using map converts the value inside list in to string\n",
    "list(map(lambda x:str(x),l))"
   ]
  },
  {
   "cell_type": "code",
   "execution_count": 65,
   "id": "66319794",
   "metadata": {},
   "outputs": [],
   "source": [
    "#create ur own funct and using map coverts the value in the list into str\n",
    "def str_c(n):\n",
    "    return str(n)"
   ]
  },
  {
   "cell_type": "code",
   "execution_count": 66,
   "id": "b14fa6f9",
   "metadata": {},
   "outputs": [
    {
     "data": {
      "text/plain": [
       "['2', '3', '4', '5', '6']"
      ]
     },
     "execution_count": 66,
     "metadata": {},
     "output_type": "execute_result"
    }
   ],
   "source": [
    "#here if we will call only str also we can able to call same function str_c\n",
    "list(map(str,l))"
   ]
  },
  {
   "cell_type": "markdown",
   "id": "0ec69a26",
   "metadata": {},
   "source": [
    "# reduce"
   ]
  },
  {
   "cell_type": "code",
   "execution_count": 68,
   "id": "b9247c42",
   "metadata": {},
   "outputs": [],
   "source": [
    "#to import reduce function to ide\n",
    "from functools import reduce"
   ]
  },
  {
   "cell_type": "code",
   "execution_count": 69,
   "id": "259481d9",
   "metadata": {},
   "outputs": [],
   "source": [
    "l=[3,4,5,6,7,8,9]"
   ]
  },
  {
   "cell_type": "code",
   "execution_count": 70,
   "id": "9d2529cd",
   "metadata": {},
   "outputs": [
    {
     "data": {
      "text/plain": [
       "42"
      ]
     },
     "execution_count": 70,
     "metadata": {},
     "output_type": "execute_result"
    }
   ],
   "source": [
    "sum(l)"
   ]
  },
  {
   "cell_type": "code",
   "execution_count": 71,
   "id": "a115b36a",
   "metadata": {},
   "outputs": [
    {
     "data": {
      "text/plain": [
       "42"
      ]
     },
     "execution_count": 71,
     "metadata": {},
     "output_type": "execute_result"
    }
   ],
   "source": [
    "#reduce(function, sequence[, initial]) -> value\n",
    "#to use reduce function we need 2 variable here it is a and b\n",
    "#find sum of list using reduce\n",
    "reduce(lambda a,b:a+b,l)"
   ]
  },
  {
   "cell_type": "code",
   "execution_count": 72,
   "id": "49375f94",
   "metadata": {},
   "outputs": [
    {
     "data": {
      "text/plain": [
       "181440"
      ]
     },
     "execution_count": 72,
     "metadata": {},
     "output_type": "execute_result"
    }
   ],
   "source": [
    "#find mul of list using reduce\n",
    "#to use reduce function we need 2 variable here it is a and b\n",
    "reduce(lambda a,b:a*b,l)"
   ]
  },
  {
   "cell_type": "code",
   "execution_count": 73,
   "id": "075d8413",
   "metadata": {},
   "outputs": [
    {
     "ename": "TypeError",
     "evalue": "<lambda>() missing 1 required positional argument: 'c'",
     "output_type": "error",
     "traceback": [
      "\u001b[1;31m---------------------------------------------------------------------------\u001b[0m",
      "\u001b[1;31mTypeError\u001b[0m                                 Traceback (most recent call last)",
      "\u001b[1;32mC:\\Users\\ABHANJ~1\\AppData\\Local\\Temp/ipykernel_6432/3241545778.py\u001b[0m in \u001b[0;36m<module>\u001b[1;34m\u001b[0m\n\u001b[1;32m----> 1\u001b[1;33m \u001b[0mreduce\u001b[0m\u001b[1;33m(\u001b[0m\u001b[1;32mlambda\u001b[0m \u001b[0ma\u001b[0m\u001b[1;33m,\u001b[0m\u001b[0mb\u001b[0m\u001b[1;33m,\u001b[0m\u001b[0mc\u001b[0m\u001b[1;33m:\u001b[0m\u001b[0ma\u001b[0m\u001b[1;33m*\u001b[0m\u001b[0mb\u001b[0m\u001b[1;33m*\u001b[0m\u001b[0mc\u001b[0m\u001b[1;33m,\u001b[0m\u001b[0ml\u001b[0m\u001b[1;33m)\u001b[0m\u001b[1;33m\u001b[0m\u001b[1;33m\u001b[0m\u001b[0m\n\u001b[0m",
      "\u001b[1;31mTypeError\u001b[0m: <lambda>() missing 1 required positional argument: 'c'"
     ]
    }
   ],
   "source": [
    "#to use reduce function we need 2 variable here it is a,b and c \n",
    "#we cant give 3 variable\n",
    "reduce(lambda a,b,c:a*b*c,l)"
   ]
  },
  {
   "cell_type": "code",
   "execution_count": 76,
   "id": "8442f80d",
   "metadata": {},
   "outputs": [],
   "source": [
    "l=[3]"
   ]
  },
  {
   "cell_type": "code",
   "execution_count": 78,
   "id": "36f65e7f",
   "metadata": {},
   "outputs": [
    {
     "data": {
      "text/plain": [
       "3"
      ]
     },
     "execution_count": 78,
     "metadata": {},
     "output_type": "execute_result"
    }
   ],
   "source": [
    "#exception\n",
    "#we can give single variable\n",
    "reduce(lambda a,b : a*b,l)"
   ]
  },
  {
   "cell_type": "markdown",
   "id": "968c2e85",
   "metadata": {},
   "source": [
    "# filter"
   ]
  },
  {
   "cell_type": "code",
   "execution_count": 81,
   "id": "abfbf23d",
   "metadata": {},
   "outputs": [],
   "source": [
    "#Python generators are a simple way of creating iterators. \n",
    "#All the work we mentioned above are automatically handled by generators in Python. \n",
    "#Simply speaking, a generator is a function that returns an object (iterator) which we can iterate over (one value at a time).\n",
    "l=[1,2,6,26,34,3,4,5]"
   ]
  },
  {
   "cell_type": "code",
   "execution_count": 82,
   "id": "b322a6a2",
   "metadata": {},
   "outputs": [
    {
     "name": "stdout",
     "output_type": "stream",
     "text": [
      "2\n",
      "6\n",
      "26\n",
      "34\n",
      "4\n"
     ]
    }
   ],
   "source": [
    "#find the even no. from list\n",
    "for i in l:\n",
    "    if i%2==0:\n",
    "        print(i)"
   ]
  },
  {
   "cell_type": "code",
   "execution_count": 83,
   "id": "6fe61f9e",
   "metadata": {},
   "outputs": [
    {
     "data": {
      "text/plain": [
       "[2, 6, 26, 34, 4]"
      ]
     },
     "execution_count": 83,
     "metadata": {},
     "output_type": "execute_result"
    }
   ],
   "source": [
    "#find the even no. from list using filter and lambda\n",
    "\n",
    "list(filter(lambda x:x%2==0,l))"
   ]
  },
  {
   "cell_type": "code",
   "execution_count": 84,
   "id": "15d29ea5",
   "metadata": {},
   "outputs": [],
   "source": [
    "#find the even no. from list using filter and lambda\n",
    "def check_even(n):\n",
    "    if n%2==0:\n",
    "        return True"
   ]
  },
  {
   "cell_type": "code",
   "execution_count": 85,
   "id": "89becc57",
   "metadata": {},
   "outputs": [
    {
     "data": {
      "text/plain": [
       "[2, 6, 26, 34, 4]"
      ]
     },
     "execution_count": 85,
     "metadata": {},
     "output_type": "execute_result"
    }
   ],
   "source": [
    "#find the even no. from list using filter and lambda\n",
    "list(filter(check_even,l))"
   ]
  },
  {
   "cell_type": "code",
   "execution_count": null,
   "id": "a0861348",
   "metadata": {},
   "outputs": [],
   "source": []
  }
 ],
 "metadata": {
  "kernelspec": {
   "display_name": "Python 3 (ipykernel)",
   "language": "python",
   "name": "python3"
  },
  "language_info": {
   "codemirror_mode": {
    "name": "ipython",
    "version": 3
   },
   "file_extension": ".py",
   "mimetype": "text/x-python",
   "name": "python",
   "nbconvert_exporter": "python",
   "pygments_lexer": "ipython3",
   "version": "3.9.7"
  }
 },
 "nbformat": 4,
 "nbformat_minor": 5
}
