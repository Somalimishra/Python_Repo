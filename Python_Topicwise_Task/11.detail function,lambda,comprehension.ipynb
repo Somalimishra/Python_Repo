{
 "cells": [
  {
   "cell_type": "code",
   "execution_count": 83,
   "id": "d5075a7d",
   "metadata": {},
   "outputs": [],
   "source": [
    "#creating docstring\n",
    "#docstring:Python documentation strings (or docstrings) provide a convenient way of associating documentation with \n",
    "#Python modules, functions, classes, and methods.\n",
    "def test(a,b):\n",
    "    '''this is my function for concatenation or addition'''\n",
    "    return a+b\n",
    "    "
   ]
  },
  {
   "cell_type": "code",
   "execution_count": 84,
   "id": "85cb27ad",
   "metadata": {},
   "outputs": [
    {
     "data": {
      "text/plain": [
       "7"
      ]
     },
     "execution_count": 84,
     "metadata": {},
     "output_type": "execute_result"
    }
   ],
   "source": [
    "#function call\n",
    "test(3,4)"
   ]
  },
  {
   "cell_type": "code",
   "execution_count": 85,
   "id": "e1bdd112",
   "metadata": {},
   "outputs": [
    {
     "data": {
      "text/plain": [
       "'sudhkumar'"
      ]
     },
     "execution_count": 85,
     "metadata": {},
     "output_type": "execute_result"
    }
   ],
   "source": [
    "#function call\n",
    "test('sudh','kumar')"
   ]
  },
  {
   "cell_type": "code",
   "execution_count": 86,
   "id": "8e733f7d",
   "metadata": {},
   "outputs": [
    {
     "data": {
      "text/plain": [
       "15"
      ]
     },
     "execution_count": 86,
     "metadata": {},
     "output_type": "execute_result"
    }
   ],
   "source": [
    "#function call\n",
    "test(a=9,b=6)"
   ]
  },
  {
   "cell_type": "code",
   "execution_count": 87,
   "id": "d25b013b",
   "metadata": {},
   "outputs": [
    {
     "data": {
      "text/plain": [
       "48"
      ]
     },
     "execution_count": 87,
     "metadata": {},
     "output_type": "execute_result"
    }
   ],
   "source": [
    "#function call\n",
    "test(b=45,a=3)"
   ]
  },
  {
   "cell_type": "code",
   "execution_count": 88,
   "id": "00c0789a",
   "metadata": {},
   "outputs": [
    {
     "name": "stdout",
     "output_type": "stream",
     "text": [
      "\n"
     ]
    }
   ],
   "source": [
    "#shift+tab(to see docstring)\n",
    "print()"
   ]
  },
  {
   "cell_type": "code",
   "execution_count": 8,
   "id": "24c7bc03",
   "metadata": {},
   "outputs": [],
   "source": [
    "#To pass 5 values in a function\n",
    "def test1(a,b,c,d,e):\n",
    "    return a,b,c,d,e"
   ]
  },
  {
   "cell_type": "code",
   "execution_count": 9,
   "id": "5a021129",
   "metadata": {},
   "outputs": [
    {
     "ename": "TypeError",
     "evalue": "test1() takes 5 positional arguments but 6 were given",
     "output_type": "error",
     "traceback": [
      "\u001b[1;31m---------------------------------------------------------------------------\u001b[0m",
      "\u001b[1;31mTypeError\u001b[0m                                 Traceback (most recent call last)",
      "\u001b[1;32mC:\\Users\\ABHANJ~1\\AppData\\Local\\Temp/ipykernel_9632/628959203.py\u001b[0m in \u001b[0;36m<module>\u001b[1;34m\u001b[0m\n\u001b[1;32m----> 1\u001b[1;33m \u001b[0mtest1\u001b[0m\u001b[1;33m(\u001b[0m\u001b[1;36m3\u001b[0m\u001b[1;33m,\u001b[0m\u001b[1;36m4\u001b[0m\u001b[1;33m,\u001b[0m\u001b[1;36m5\u001b[0m\u001b[1;33m,\u001b[0m\u001b[1;36m6\u001b[0m\u001b[1;33m,\u001b[0m\u001b[1;36m7\u001b[0m\u001b[1;33m,\u001b[0m\u001b[1;36m7\u001b[0m\u001b[1;33m)\u001b[0m\u001b[1;33m\u001b[0m\u001b[1;33m\u001b[0m\u001b[0m\n\u001b[0m",
      "\u001b[1;31mTypeError\u001b[0m: test1() takes 5 positional arguments but 6 were given"
     ]
    }
   ],
   "source": [
    "#function call\n",
    "#throwing error bcz we have declared 5 variable inside test1 function but \n",
    "#while function call we are passing 6 values \n",
    "test1(3,4,5,6,7,7)"
   ]
  },
  {
   "cell_type": "code",
   "execution_count": 10,
   "id": "b2077c50",
   "metadata": {},
   "outputs": [
    {
     "data": {
      "text/plain": [
       "(3, 4, 5, 6, 7)"
      ]
     },
     "execution_count": 10,
     "metadata": {},
     "output_type": "execute_result"
    }
   ],
   "source": [
    "#5 value passed so giving output\n",
    "test1(3,4,5,6,7)"
   ]
  },
  {
   "cell_type": "code",
   "execution_count": 11,
   "id": "3e31b981",
   "metadata": {},
   "outputs": [
    {
     "ename": "TypeError",
     "evalue": "test1() missing 1 required positional argument: 'e'",
     "output_type": "error",
     "traceback": [
      "\u001b[1;31m---------------------------------------------------------------------------\u001b[0m",
      "\u001b[1;31mTypeError\u001b[0m                                 Traceback (most recent call last)",
      "\u001b[1;32mC:\\Users\\ABHANJ~1\\AppData\\Local\\Temp/ipykernel_9632/2630490214.py\u001b[0m in \u001b[0;36m<module>\u001b[1;34m\u001b[0m\n\u001b[1;32m----> 1\u001b[1;33m \u001b[0mtest1\u001b[0m\u001b[1;33m(\u001b[0m\u001b[1;36m3\u001b[0m\u001b[1;33m,\u001b[0m\u001b[1;36m4\u001b[0m\u001b[1;33m,\u001b[0m\u001b[1;36m5\u001b[0m\u001b[1;33m,\u001b[0m\u001b[1;36m6\u001b[0m\u001b[1;33m)\u001b[0m\u001b[1;33m\u001b[0m\u001b[1;33m\u001b[0m\u001b[0m\n\u001b[0m",
      "\u001b[1;31mTypeError\u001b[0m: test1() missing 1 required positional argument: 'e'"
     ]
    }
   ],
   "source": [
    "#4 value passed so giving error\n",
    "test1(3,4,5,6)"
   ]
  },
  {
   "cell_type": "code",
   "execution_count": 14,
   "id": "7f7479b6",
   "metadata": {},
   "outputs": [],
   "source": [
    "#*a means i can pass any no. of arguments\n",
    "def test(*a):\n",
    "    return a"
   ]
  },
  {
   "cell_type": "code",
   "execution_count": 15,
   "id": "cda7164a",
   "metadata": {},
   "outputs": [
    {
     "data": {
      "text/plain": [
       "(34, 56)"
      ]
     },
     "execution_count": 15,
     "metadata": {},
     "output_type": "execute_result"
    }
   ],
   "source": [
    "#2 arguments passed\n",
    "test(34,56)"
   ]
  },
  {
   "cell_type": "code",
   "execution_count": 16,
   "id": "0af8b54c",
   "metadata": {},
   "outputs": [
    {
     "data": {
      "text/plain": [
       "(2, 3, 4, 5)"
      ]
     },
     "execution_count": 16,
     "metadata": {},
     "output_type": "execute_result"
    }
   ],
   "source": [
    "#4 arguments passed\n",
    "test(2,3,4,5)"
   ]
  },
  {
   "cell_type": "code",
   "execution_count": 17,
   "id": "bb1111be",
   "metadata": {},
   "outputs": [
    {
     "data": {
      "text/plain": [
       "(4, 5, 6, 7, 8, 9, [1, 2, 3, 4])"
      ]
     },
     "execution_count": 17,
     "metadata": {},
     "output_type": "execute_result"
    }
   ],
   "source": [
    "#7 arguments passed\n",
    "test(4,5,6,7,8,9,[1,2,3,4])"
   ]
  },
  {
   "cell_type": "code",
   "execution_count": 20,
   "id": "859fd017",
   "metadata": {},
   "outputs": [],
   "source": [
    "#args not a key word its a name,any name i can give\n",
    "#*args means i can pass any no. of arguments\n",
    "def test4(*args):\n",
    "    return args"
   ]
  },
  {
   "cell_type": "code",
   "execution_count": 21,
   "id": "231993ba",
   "metadata": {},
   "outputs": [
    {
     "data": {
      "text/plain": [
       "(34, 56, 6, 7, 8)"
      ]
     },
     "execution_count": 21,
     "metadata": {},
     "output_type": "execute_result"
    }
   ],
   "source": [
    "#5 arguments passed\n",
    "test4(34,56,6,7,8)"
   ]
  },
  {
   "cell_type": "code",
   "execution_count": 1,
   "id": "f5b79b31",
   "metadata": {},
   "outputs": [],
   "source": [
    "#write a program to pass any no. of arguments and store it in a list\n",
    "def test5(*a):\n",
    "    '''use of function here is any no. of value it can take and output as a list'''\n",
    "    l=[]\n",
    "    for i in a:\n",
    "        l.append(i)\n",
    "    return l"
   ]
  },
  {
   "cell_type": "code",
   "execution_count": 2,
   "id": "7c2d2a25",
   "metadata": {},
   "outputs": [
    {
     "data": {
      "text/plain": [
       "[2, 3, 4, 5, [345, 56, 7, 8]]"
      ]
     },
     "execution_count": 2,
     "metadata": {},
     "output_type": "execute_result"
    }
   ],
   "source": [
    "#function call\n",
    "test5(2,3,4,5,[345,56,7,8])"
   ]
  },
  {
   "cell_type": "code",
   "execution_count": 25,
   "id": "558ad97e",
   "metadata": {},
   "outputs": [
    {
     "data": {
      "text/plain": [
       "list"
      ]
     },
     "execution_count": 25,
     "metadata": {},
     "output_type": "execute_result"
    }
   ],
   "source": [
    "#check the type\n",
    "type(test5())"
   ]
  },
  {
   "cell_type": "code",
   "execution_count": 26,
   "id": "1c7ed5ae",
   "metadata": {},
   "outputs": [
    {
     "data": {
      "text/plain": [
       "[3, 4, 5, 6]"
      ]
     },
     "execution_count": 26,
     "metadata": {},
     "output_type": "execute_result"
    }
   ],
   "source": [
    "#function call\n",
    "test5(3,4,5,6)"
   ]
  },
  {
   "cell_type": "code",
   "execution_count": 27,
   "id": "851a246a",
   "metadata": {},
   "outputs": [],
   "source": [
    "#passing arguments in function in different permutation and acombination\n",
    "def test6(a,b,c,d, *m):\n",
    "    return a,b,c,d, m"
   ]
  },
  {
   "cell_type": "code",
   "execution_count": 28,
   "id": "5024005e",
   "metadata": {},
   "outputs": [
    {
     "data": {
      "text/plain": [
       "(1, 2, 3, 4, (5, 6, 67, 8, 8))"
      ]
     },
     "execution_count": 28,
     "metadata": {},
     "output_type": "execute_result"
    }
   ],
   "source": [
    "#function call\n",
    "test6(1,2,3,4,5,6,67,8,8)"
   ]
  },
  {
   "cell_type": "code",
   "execution_count": 32,
   "id": "f001305c",
   "metadata": {},
   "outputs": [],
   "source": [
    "#passing arguments in function in different permutation and combination\n",
    "def test7(*m,a,b,c,d,e):\n",
    "    return m,a,b,c,d,e"
   ]
  },
  {
   "cell_type": "code",
   "execution_count": 33,
   "id": "9752529f",
   "metadata": {},
   "outputs": [
    {
     "ename": "TypeError",
     "evalue": "test7() missing 5 required keyword-only arguments: 'a', 'b', 'c', 'd', and 'e'",
     "output_type": "error",
     "traceback": [
      "\u001b[1;31m---------------------------------------------------------------------------\u001b[0m",
      "\u001b[1;31mTypeError\u001b[0m                                 Traceback (most recent call last)",
      "\u001b[1;32mC:\\Users\\ABHANJ~1\\AppData\\Local\\Temp/ipykernel_9632/3547552289.py\u001b[0m in \u001b[0;36m<module>\u001b[1;34m\u001b[0m\n\u001b[1;32m----> 1\u001b[1;33m \u001b[0mtest7\u001b[0m\u001b[1;33m(\u001b[0m\u001b[1;36m4\u001b[0m\u001b[1;33m,\u001b[0m\u001b[1;36m5\u001b[0m\u001b[1;33m,\u001b[0m\u001b[1;36m6\u001b[0m\u001b[1;33m,\u001b[0m\u001b[1;36m6\u001b[0m\u001b[1;33m,\u001b[0m\u001b[1;36m7\u001b[0m\u001b[1;33m,\u001b[0m\u001b[1;36m7\u001b[0m\u001b[1;33m,\u001b[0m\u001b[1;36m56\u001b[0m\u001b[1;33m,\u001b[0m\u001b[1;36m67\u001b[0m\u001b[1;33m,\u001b[0m\u001b[1;36m34\u001b[0m\u001b[1;33m,\u001b[0m\u001b[1;36m54\u001b[0m\u001b[1;33m,\u001b[0m\u001b[1;36m67\u001b[0m\u001b[1;33m,\u001b[0m\u001b[1;36m78\u001b[0m\u001b[1;33m)\u001b[0m\u001b[1;33m\u001b[0m\u001b[1;33m\u001b[0m\u001b[0m\n\u001b[0m",
      "\u001b[1;31mTypeError\u001b[0m: test7() missing 5 required keyword-only arguments: 'a', 'b', 'c', 'd', and 'e'"
     ]
    }
   ],
   "source": [
    "#here *m means any no. of arguments, so that is why it wont able to recognise a,b,c,d,e value\n",
    "test7(4,5,6,6,7,7,56,67,34,54,67,78)"
   ]
  },
  {
   "cell_type": "code",
   "execution_count": 35,
   "id": "1c2e29db",
   "metadata": {},
   "outputs": [
    {
     "data": {
      "text/plain": [
       "((4, 5, 6, 6, 7, 7, 56, 67), 34, 54, 67, 78, 56)"
      ]
     },
     "execution_count": 35,
     "metadata": {},
     "output_type": "execute_result"
    }
   ],
   "source": [
    "#recognise a,b,c,d,e value\n",
    "test7(4,5,6,6,7,7,56,67,a=34,b=54,c=67,d=78,e=56)"
   ]
  },
  {
   "cell_type": "code",
   "execution_count": 37,
   "id": "3226d914",
   "metadata": {},
   "outputs": [],
   "source": [
    "#** means key value representaion or pass dictionary\n",
    "def test8(**sudh):\n",
    "    return sudh"
   ]
  },
  {
   "cell_type": "code",
   "execution_count": 38,
   "id": "614f1103",
   "metadata": {},
   "outputs": [
    {
     "ename": "TypeError",
     "evalue": "test8() takes 0 positional arguments but 5 were given",
     "output_type": "error",
     "traceback": [
      "\u001b[1;31m---------------------------------------------------------------------------\u001b[0m",
      "\u001b[1;31mTypeError\u001b[0m                                 Traceback (most recent call last)",
      "\u001b[1;32mC:\\Users\\ABHANJ~1\\AppData\\Local\\Temp/ipykernel_9632/1417714968.py\u001b[0m in \u001b[0;36m<module>\u001b[1;34m\u001b[0m\n\u001b[1;32m----> 1\u001b[1;33m \u001b[0mtest8\u001b[0m\u001b[1;33m(\u001b[0m\u001b[1;36m4\u001b[0m\u001b[1;33m,\u001b[0m\u001b[1;36m5\u001b[0m\u001b[1;33m,\u001b[0m\u001b[1;36m6\u001b[0m\u001b[1;33m,\u001b[0m\u001b[1;36m7\u001b[0m\u001b[1;33m,\u001b[0m\u001b[1;36m8\u001b[0m\u001b[1;33m)\u001b[0m\u001b[1;33m\u001b[0m\u001b[1;33m\u001b[0m\u001b[0m\n\u001b[0m",
      "\u001b[1;31mTypeError\u001b[0m: test8() takes 0 positional arguments but 5 were given"
     ]
    }
   ],
   "source": [
    "#value should be pass in dictionary (key value)\n",
    "test8(4,5,6,7,8)"
   ]
  },
  {
   "cell_type": "code",
   "execution_count": 39,
   "id": "bb021210",
   "metadata": {},
   "outputs": [
    {
     "data": {
      "text/plain": [
       "{'b': 4, 'c': 5, 'd': 6, 'e': 7, 'f': 8}"
      ]
     },
     "execution_count": 39,
     "metadata": {},
     "output_type": "execute_result"
    }
   ],
   "source": [
    "#key value argument pass\n",
    "test8(b=4,c=5,d=6,e=7,f=8)"
   ]
  },
  {
   "cell_type": "code",
   "execution_count": 42,
   "id": "32a62adb",
   "metadata": {},
   "outputs": [
    {
     "data": {
      "text/plain": [
       "{'b': 4, 'c': 5, 'd': 6, 'e': 7, 'f': [8, 4, 4, 5, 7, 7]}"
      ]
     },
     "execution_count": 42,
     "metadata": {},
     "output_type": "execute_result"
    }
   ],
   "source": [
    "#key value argument pass\n",
    "test8(b=4,c=5,d=6,e=7,f=[8,4,4,5,7,7])"
   ]
  },
  {
   "cell_type": "code",
   "execution_count": 40,
   "id": "3d13a4ba",
   "metadata": {},
   "outputs": [],
   "source": [
    "#create dictionary\n",
    "d={'b': 4, 'c': 5, 'd': 6, 'e': 7, 'f': 8}"
   ]
  },
  {
   "cell_type": "code",
   "execution_count": 41,
   "id": "631bbe3b",
   "metadata": {},
   "outputs": [
    {
     "ename": "TypeError",
     "evalue": "test8() takes 0 positional arguments but 1 was given",
     "output_type": "error",
     "traceback": [
      "\u001b[1;31m---------------------------------------------------------------------------\u001b[0m",
      "\u001b[1;31mTypeError\u001b[0m                                 Traceback (most recent call last)",
      "\u001b[1;32mC:\\Users\\ABHANJ~1\\AppData\\Local\\Temp/ipykernel_9632/2123698705.py\u001b[0m in \u001b[0;36m<module>\u001b[1;34m\u001b[0m\n\u001b[1;32m----> 1\u001b[1;33m \u001b[0mtest8\u001b[0m\u001b[1;33m(\u001b[0m\u001b[0md\u001b[0m\u001b[1;33m)\u001b[0m\u001b[1;33m\u001b[0m\u001b[1;33m\u001b[0m\u001b[0m\n\u001b[0m",
      "\u001b[1;31mTypeError\u001b[0m: test8() takes 0 positional arguments but 1 was given"
     ]
    }
   ],
   "source": [
    "#pass dictionary as argument, it will take only key value pair not direct dictionary\n",
    "test8(d)"
   ]
  },
  {
   "cell_type": "code",
   "execution_count": 43,
   "id": "972420df",
   "metadata": {},
   "outputs": [],
   "source": [
    "#pass key value and any no. of value as argument\n",
    "def test9(*m, **s):\n",
    "    return m,s"
   ]
  },
  {
   "cell_type": "code",
   "execution_count": 45,
   "id": "661a1e6b",
   "metadata": {},
   "outputs": [
    {
     "data": {
      "text/plain": [
       "((345, 45, 56, 5, 6), {'b': 4, 'c': 6, 'd': 7, 'g': 9})"
      ]
     },
     "execution_count": 45,
     "metadata": {},
     "output_type": "execute_result"
    }
   ],
   "source": [
    "#dictionary\n",
    "test9(345,45,56,5,6,b=4,c=6,d=7,g=9)"
   ]
  },
  {
   "cell_type": "code",
   "execution_count": 46,
   "id": "80232a02",
   "metadata": {},
   "outputs": [],
   "source": [
    "#write a function to take any no. as input and print the sum of input no.s\n",
    "def test10(*m):\n",
    "    n=0\n",
    "    for i in m:\n",
    "        if type(i)==int:\n",
    "            n=n+i\n",
    "    return n"
   ]
  },
  {
   "cell_type": "code",
   "execution_count": 47,
   "id": "7876ac01",
   "metadata": {},
   "outputs": [
    {
     "data": {
      "text/plain": [
       "31"
      ]
     },
     "execution_count": 47,
     "metadata": {},
     "output_type": "execute_result"
    }
   ],
   "source": [
    "#function call\n",
    "test10(2,3,4,5,5,6,6)"
   ]
  },
  {
   "cell_type": "code",
   "execution_count": 48,
   "id": "811be469",
   "metadata": {},
   "outputs": [
    {
     "data": {
      "text/plain": [
       "9"
      ]
     },
     "execution_count": 48,
     "metadata": {},
     "output_type": "execute_result"
    }
   ],
   "source": [
    "#function call\n",
    "test10(2,3,4)"
   ]
  },
  {
   "cell_type": "code",
   "execution_count": 49,
   "id": "1ed6ebfb",
   "metadata": {},
   "outputs": [],
   "source": [
    "##write a function to take any no. as input and print the multiplication of input no.s\n",
    "def test1(*m):\n",
    "    n=1\n",
    "    for i in m:\n",
    "        if type(i)==int:\n",
    "            n=n*i\n",
    "    return n"
   ]
  },
  {
   "cell_type": "code",
   "execution_count": 50,
   "id": "002fda2f",
   "metadata": {},
   "outputs": [
    {
     "data": {
      "text/plain": [
       "3507840"
      ]
     },
     "execution_count": 50,
     "metadata": {},
     "output_type": "execute_result"
    }
   ],
   "source": [
    "#function call\n",
    "test1(4,5,6,6,7,87,8)"
   ]
  },
  {
   "cell_type": "code",
   "execution_count": 52,
   "id": "aafef0a3",
   "metadata": {},
   "outputs": [],
   "source": [
    "#create anonymus function\n",
    "#function without name is called anonymus\n",
    "n=lambda a,b:a+b"
   ]
  },
  {
   "cell_type": "code",
   "execution_count": 53,
   "id": "61bf7364",
   "metadata": {},
   "outputs": [
    {
     "data": {
      "text/plain": [
       "<function __main__.<lambda>(a, b)>"
      ]
     },
     "execution_count": 53,
     "metadata": {},
     "output_type": "execute_result"
    }
   ],
   "source": [
    "n"
   ]
  },
  {
   "cell_type": "code",
   "execution_count": 54,
   "id": "af268c33",
   "metadata": {},
   "outputs": [
    {
     "data": {
      "text/plain": [
       "9"
      ]
     },
     "execution_count": 54,
     "metadata": {},
     "output_type": "execute_result"
    }
   ],
   "source": [
    "#function call\n",
    "n(4,5)"
   ]
  },
  {
   "cell_type": "code",
   "execution_count": 55,
   "id": "d3148a95",
   "metadata": {},
   "outputs": [],
   "source": [
    "#without using lambda we can write like dis\n",
    "def test5(a,b):\n",
    "    return a+b"
   ]
  },
  {
   "cell_type": "code",
   "execution_count": 56,
   "id": "97416a7b",
   "metadata": {},
   "outputs": [
    {
     "data": {
      "text/plain": [
       "9"
      ]
     },
     "execution_count": 56,
     "metadata": {},
     "output_type": "execute_result"
    }
   ],
   "source": [
    "#function call\n",
    "test5(4,5)"
   ]
  },
  {
   "cell_type": "code",
   "execution_count": 57,
   "id": "dab1144d",
   "metadata": {},
   "outputs": [
    {
     "data": {
      "text/plain": [
       "11"
      ]
     },
     "execution_count": 57,
     "metadata": {},
     "output_type": "execute_result"
    }
   ],
   "source": [
    "#function call\n",
    "n(5,6)"
   ]
  },
  {
   "cell_type": "code",
   "execution_count": 58,
   "id": "d092e13f",
   "metadata": {},
   "outputs": [],
   "source": [
    "#take any no. of input using lambda\n",
    "b=lambda *sudh:sudh"
   ]
  },
  {
   "cell_type": "code",
   "execution_count": 59,
   "id": "34f6895c",
   "metadata": {},
   "outputs": [
    {
     "data": {
      "text/plain": [
       "(45, 4, 5, 5, 6, 677)"
      ]
     },
     "execution_count": 59,
     "metadata": {},
     "output_type": "execute_result"
    }
   ],
   "source": [
    "#function call\n",
    "b(45,4,5,5,6,677)"
   ]
  },
  {
   "cell_type": "code",
   "execution_count": 4,
   "id": "424b3f4f",
   "metadata": {},
   "outputs": [],
   "source": [
    "#store the value of tuple as list\n",
    "t=(3,4,5,56,67,7,7,8)\n",
    "l=[]\n",
    "for i in t:\n",
    "    l.append(i)"
   ]
  },
  {
   "cell_type": "code",
   "execution_count": 5,
   "id": "b9ac7f7f",
   "metadata": {},
   "outputs": [
    {
     "data": {
      "text/plain": [
       "[3, 4, 5, 56, 67, 7, 7, 8]"
      ]
     },
     "execution_count": 5,
     "metadata": {},
     "output_type": "execute_result"
    }
   ],
   "source": [
    "#print l\n",
    "l"
   ]
  },
  {
   "cell_type": "code",
   "execution_count": 6,
   "id": "03628b23",
   "metadata": {},
   "outputs": [
    {
     "data": {
      "text/plain": [
       "[3, 4, 5, 56, 67, 7, 7, 8]"
      ]
     },
     "execution_count": 6,
     "metadata": {},
     "output_type": "execute_result"
    }
   ],
   "source": [
    "#list comprehension operation\n",
    "#store the value of tuple as list\n",
    "#t=(3,4,5,56,67,7,7,8)\n",
    "#1st i is my return statement and for i in t means to iterate through the tuple\n",
    "[i for i in t]"
   ]
  },
  {
   "cell_type": "code",
   "execution_count": 65,
   "id": "0fb9cea0",
   "metadata": {},
   "outputs": [],
   "source": [
    "#create a string and store each element as a list\n",
    "s='sudh'"
   ]
  },
  {
   "cell_type": "code",
   "execution_count": 66,
   "id": "b1d41a7e",
   "metadata": {},
   "outputs": [
    {
     "data": {
      "text/plain": [
       "['s', 'u', 'd', 'h']"
      ]
     },
     "execution_count": 66,
     "metadata": {},
     "output_type": "execute_result"
    }
   ],
   "source": [
    "#1st i is my return statement and for i in s means to iterate through the string\n",
    "[i for i in s]"
   ]
  },
  {
   "cell_type": "code",
   "execution_count": 67,
   "id": "abcf4531",
   "metadata": {},
   "outputs": [
    {
     "data": {
      "text/plain": [
       "[0, 1, 4, 9, 16, 25, 36, 49, 64, 81]"
      ]
     },
     "execution_count": 67,
     "metadata": {},
     "output_type": "execute_result"
    }
   ],
   "source": [
    "#square of a no. up to 10 with comprehension\n",
    "#i*i is the return part of comprehension and then for loop \n",
    "[i*i for i in range(10)]"
   ]
  },
  {
   "cell_type": "code",
   "execution_count": 68,
   "id": "207b4dfd",
   "metadata": {},
   "outputs": [],
   "source": [
    "#square of a no. up to 10 using normal for loop\n",
    "l=[]\n",
    "for i in range(10):\n",
    "    l.append(i*i)"
   ]
  },
  {
   "cell_type": "code",
   "execution_count": 69,
   "id": "abc940a4",
   "metadata": {},
   "outputs": [
    {
     "data": {
      "text/plain": [
       "[0, 1, 4, 9, 16, 25, 36, 49, 64, 81]"
      ]
     },
     "execution_count": 69,
     "metadata": {},
     "output_type": "execute_result"
    }
   ],
   "source": [
    "#print l\n",
    "l"
   ]
  },
  {
   "cell_type": "code",
   "execution_count": 9,
   "id": "48758d48",
   "metadata": {},
   "outputs": [],
   "source": [
    "#store the no. as a list using lambda function\n",
    "l = lambda *x:[i for i in x]"
   ]
  },
  {
   "cell_type": "code",
   "execution_count": 10,
   "id": "fb8304f4",
   "metadata": {},
   "outputs": [
    {
     "data": {
      "text/plain": [
       "[4, 5, 6, 7, 8, 9, 0, 56]"
      ]
     },
     "execution_count": 10,
     "metadata": {},
     "output_type": "execute_result"
    }
   ],
   "source": [
    "l(4,5,6,7,8,9,0,56)"
   ]
  },
  {
   "cell_type": "code",
   "execution_count": 17,
   "id": "843fa2c8",
   "metadata": {},
   "outputs": [],
   "source": [
    "#store the no. as a set using lambda function\n",
    "l = lambda *y:set(y)"
   ]
  },
  {
   "cell_type": "code",
   "execution_count": 18,
   "id": "57d815fd",
   "metadata": {},
   "outputs": [
    {
     "data": {
      "text/plain": [
       "{0, 4, 5, 56, 6, 7, 8, 9, 'som'}"
      ]
     },
     "execution_count": 18,
     "metadata": {},
     "output_type": "execute_result"
    }
   ],
   "source": [
    "l(4,5,6,7,8,9,0,56,'som')"
   ]
  },
  {
   "cell_type": "code",
   "execution_count": 30,
   "id": "79cbb733",
   "metadata": {},
   "outputs": [],
   "source": [
    "#store the square of no. as a list\n",
    "l = lambda *x:[i**2 for i in x]"
   ]
  },
  {
   "cell_type": "code",
   "execution_count": 31,
   "id": "1203cfe4",
   "metadata": {},
   "outputs": [
    {
     "data": {
      "text/plain": [
       "[16, 25, 36, 49, 64, 81, 0, 3136]"
      ]
     },
     "execution_count": 31,
     "metadata": {},
     "output_type": "execute_result"
    }
   ],
   "source": [
    "#function call\n",
    "l(4,5,6,7,8,9,0,56)"
   ]
  },
  {
   "cell_type": "code",
   "execution_count": null,
   "id": "d9c11c76",
   "metadata": {},
   "outputs": [],
   "source": [
    "#pass this as argument and output would be count of string that is 3\n",
    "test14(a=7,b='sudh',c=345,d='sudh',l=[2,3,4,45,'sudh'])"
   ]
  },
  {
   "cell_type": "code",
   "execution_count": 79,
   "id": "c452d678",
   "metadata": {},
   "outputs": [],
   "source": [
    "#write a program\n",
    "#pass this as argument and output would be count of string that is 3\n",
    "#test14(a=7,b='sudh',c=345,d='sudh',l=[2,3,4,45,'sudh'])\n",
    "def test14(**k):\n",
    "    count=0\n",
    "    for v in k.values():\n",
    "        if type(v)==str:\n",
    "            count+=1\n",
    "        if type(v)==list:\n",
    "            for i in v:\n",
    "                if type(i)==str:\n",
    "                    count+=1\n",
    "            \n",
    "    return count"
   ]
  },
  {
   "cell_type": "code",
   "execution_count": 80,
   "id": "16a765de",
   "metadata": {},
   "outputs": [
    {
     "data": {
      "text/plain": [
       "3"
      ]
     },
     "execution_count": 80,
     "metadata": {},
     "output_type": "execute_result"
    }
   ],
   "source": [
    "#function call\n",
    "test14(a=7,b='sudh',c=345,d='sudh',l=[2,3,4,45,'sudh'])"
   ]
  },
  {
   "cell_type": "code",
   "execution_count": 81,
   "id": "11e09264",
   "metadata": {},
   "outputs": [],
   "source": [
    "#kwargs is the key word argument instead of this 'kwargs' we can use any name\n",
    "def test15(**kwargs):\n",
    "    return list(kwargs.values())"
   ]
  },
  {
   "cell_type": "code",
   "execution_count": 82,
   "id": "6a65e485",
   "metadata": {},
   "outputs": [
    {
     "data": {
      "text/plain": [
       "[7, 'sudh', 345, 'sudh', [2, 3, 4, 45, 'sudh']]"
      ]
     },
     "execution_count": 82,
     "metadata": {},
     "output_type": "execute_result"
    }
   ],
   "source": [
    "test15(a=7,b='sudh',c=345,d='sudh',l=[2,3,4,45,'sudh'])"
   ]
  },
  {
   "cell_type": "code",
   "execution_count": null,
   "id": "d258c8b5",
   "metadata": {},
   "outputs": [],
   "source": [
    "Todays task :\n",
    "    q1 : Try to print a prime number in between 1 to 1000\n",
    "    q2 : Try to write a function which  is equivalent  to print function in python\n",
    "    q3 : Try to write a function which is a replica of list append , extend and pop function \n",
    "    q4 : Try to write a lambda function which can return a concatination of all the string that we will pass\n",
    "    q5 : Try to write a lambda function which can return list of square of all the data between 1-100 \n",
    "    q6 : Try to write a 10 Different different example of lambda function with a choice of your taks \n",
    "    q7 : Try to wwrite a funtion whihc can perform a read operation from .txt file \n",
    "        \n",
    "        shivan@ineuron.ai\n",
    "        sudhashu@ineuron.ai"
   ]
  },
  {
   "cell_type": "code",
   "execution_count": null,
   "id": "510ba9a7",
   "metadata": {},
   "outputs": [],
   "source": [
    "Todays task :\n",
    "    q1 : Try to print a prime number in between 1 to 1000\n",
    "    q2 : Try to write a function which  is equivalent  to print function in python\n",
    "    q3 : Try to write a function which is a replica of list append , extend and pop function \n",
    "    q4 : Try to write a lambda function which can return a concatination of all the string that we will pass\n",
    "    q5 : Try to write a lambda function which can return list of square of all the data between 1-100 \n",
    "    q6 : Try to write a 10 Different different example of lambda function with a choice of your taks \n",
    "    q7 : Try to wwrite a funtion whihc can perform a read operation from .txt file \n",
    "        \n",
    "        shivan@ineuron.ai\n",
    "        sudhashu@ineuron.ai"
   ]
  }
 ],
 "metadata": {
  "kernelspec": {
   "display_name": "Python 3 (ipykernel)",
   "language": "python",
   "name": "python3"
  },
  "language_info": {
   "codemirror_mode": {
    "name": "ipython",
    "version": 3
   },
   "file_extension": ".py",
   "mimetype": "text/x-python",
   "name": "python",
   "nbconvert_exporter": "python",
   "pygments_lexer": "ipython3",
   "version": "3.9.7"
  }
 },
 "nbformat": 4,
 "nbformat_minor": 5
}
