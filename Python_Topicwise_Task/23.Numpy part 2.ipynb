{
 "cells": [
  {
   "cell_type": "code",
   "execution_count": 1,
   "id": "2911feca",
   "metadata": {},
   "outputs": [],
   "source": [
    "#import numpy library\n",
    "import numpy as np"
   ]
  },
  {
   "cell_type": "code",
   "execution_count": 2,
   "id": "1d727a89",
   "metadata": {},
   "outputs": [],
   "source": [
    "#create a list\n",
    "l=[1,2,3,4,5,6]"
   ]
  },
  {
   "cell_type": "code",
   "execution_count": 3,
   "id": "c1fb4792",
   "metadata": {},
   "outputs": [
    {
     "data": {
      "text/plain": [
       "array([1, 2, 3, 4, 5, 6])"
      ]
     },
     "execution_count": 3,
     "metadata": {},
     "output_type": "execute_result"
    }
   ],
   "source": [
    "#pass the list in numpy\n",
    "#here it does not convert the element as a string bcz all the elements are numerical values\n",
    "np.array(l)"
   ]
  },
  {
   "cell_type": "code",
   "execution_count": 4,
   "id": "d4b4da5c",
   "metadata": {},
   "outputs": [],
   "source": [
    "#1 dimensional array\n",
    "#all types of data types are there\n",
    "l1=[4,5,6,7,'sudh',34.356,True]"
   ]
  },
  {
   "cell_type": "code",
   "execution_count": 5,
   "id": "283d08c6",
   "metadata": {},
   "outputs": [
    {
     "data": {
      "text/plain": [
       "array(['4', '5', '6', '7', 'sudh', '34.356', 'True'], dtype='<U32')"
      ]
     },
     "execution_count": 5,
     "metadata": {},
     "output_type": "execute_result"
    }
   ],
   "source": [
    "#in this case its converted every element inside l1 as string \n",
    "a1=np.array(l1)\n",
    "a1"
   ]
  },
  {
   "cell_type": "code",
   "execution_count": 6,
   "id": "620e1196",
   "metadata": {},
   "outputs": [
    {
     "data": {
      "text/plain": [
       "array([[1, 2, 3],\n",
       "       [4, 5, 6]])"
      ]
     },
     "execution_count": 6,
     "metadata": {},
     "output_type": "execute_result"
    }
   ],
   "source": [
    "#2 dimensional array\n",
    "a2=np.array([[1,2,3],[4,5,6]])\n",
    "a2"
   ]
  },
  {
   "cell_type": "code",
   "execution_count": 7,
   "id": "400aeb18",
   "metadata": {},
   "outputs": [
    {
     "data": {
      "text/plain": [
       "array([[[1, 2, 3],\n",
       "        [4, 5, 6],\n",
       "        [7, 8, 9]]])"
      ]
     },
     "execution_count": 7,
     "metadata": {},
     "output_type": "execute_result"
    }
   ],
   "source": [
    "#3 dimensional array\n",
    "a3=np.array([[[1,2,3],[4,5,6],[7,8,9]]])\n",
    "a3"
   ]
  },
  {
   "cell_type": "code",
   "execution_count": 8,
   "id": "8b8201db",
   "metadata": {},
   "outputs": [
    {
     "data": {
      "text/plain": [
       "1"
      ]
     },
     "execution_count": 8,
     "metadata": {},
     "output_type": "execute_result"
    }
   ],
   "source": [
    "#check the dimension using ndim function\n",
    "a1.ndim"
   ]
  },
  {
   "cell_type": "code",
   "execution_count": 9,
   "id": "a792a95a",
   "metadata": {},
   "outputs": [
    {
     "data": {
      "text/plain": [
       "2"
      ]
     },
     "execution_count": 9,
     "metadata": {},
     "output_type": "execute_result"
    }
   ],
   "source": [
    "#check the dimension\n",
    "a2.ndim"
   ]
  },
  {
   "cell_type": "code",
   "execution_count": 10,
   "id": "5e3b39a5",
   "metadata": {},
   "outputs": [
    {
     "data": {
      "text/plain": [
       "3"
      ]
     },
     "execution_count": 10,
     "metadata": {},
     "output_type": "execute_result"
    }
   ],
   "source": [
    "#check the dimension\n",
    "a3.ndim"
   ]
  },
  {
   "cell_type": "code",
   "execution_count": 11,
   "id": "26b5dbc3",
   "metadata": {},
   "outputs": [
    {
     "data": {
      "text/plain": [
       "7"
      ]
     },
     "execution_count": 11,
     "metadata": {},
     "output_type": "execute_result"
    }
   ],
   "source": [
    "#Try to tell us about total no. of elelments in a1\n",
    "a1.size"
   ]
  },
  {
   "cell_type": "code",
   "execution_count": 12,
   "id": "b738758a",
   "metadata": {},
   "outputs": [
    {
     "data": {
      "text/plain": [
       "6"
      ]
     },
     "execution_count": 12,
     "metadata": {},
     "output_type": "execute_result"
    }
   ],
   "source": [
    "#Try to tell us total no. of elelments in a2\n",
    "a2.size"
   ]
  },
  {
   "cell_type": "code",
   "execution_count": 13,
   "id": "6e6579c5",
   "metadata": {},
   "outputs": [
    {
     "data": {
      "text/plain": [
       "9"
      ]
     },
     "execution_count": 13,
     "metadata": {},
     "output_type": "execute_result"
    }
   ],
   "source": [
    "#Try to tell us total no. of elelments in a3\n",
    "a3.size"
   ]
  },
  {
   "cell_type": "code",
   "execution_count": 14,
   "id": "888f001d",
   "metadata": {},
   "outputs": [
    {
     "data": {
      "text/plain": [
       "(7,)"
      ]
     },
     "execution_count": 14,
     "metadata": {},
     "output_type": "execute_result"
    }
   ],
   "source": [
    "#There is only 1 dim available\n",
    "a1.shape"
   ]
  },
  {
   "cell_type": "code",
   "execution_count": 15,
   "id": "0bdb9495",
   "metadata": {},
   "outputs": [
    {
     "data": {
      "text/plain": [
       "(2, 3)"
      ]
     },
     "execution_count": 15,
     "metadata": {},
     "output_type": "execute_result"
    }
   ],
   "source": [
    "# 2 rows 3 columns\n",
    "a2.shape"
   ]
  },
  {
   "cell_type": "code",
   "execution_count": 16,
   "id": "5c3b979d",
   "metadata": {},
   "outputs": [
    {
     "data": {
      "text/plain": [
       "(1, 3, 3)"
      ]
     },
     "execution_count": 16,
     "metadata": {},
     "output_type": "execute_result"
    }
   ],
   "source": [
    "# 3 rows 3 columns\n",
    "#we have 3x3 ,one such kind of matrices\n",
    "a3.shape"
   ]
  },
  {
   "cell_type": "code",
   "execution_count": 17,
   "id": "ffa8ab9f",
   "metadata": {},
   "outputs": [
    {
     "data": {
      "text/plain": [
       "array(['4', '5', '6', '7', 'sudh', '34.356', 'True'], dtype='<U32')"
      ]
     },
     "execution_count": 17,
     "metadata": {},
     "output_type": "execute_result"
    }
   ],
   "source": [
    "a1"
   ]
  },
  {
   "cell_type": "code",
   "execution_count": 18,
   "id": "d2306300",
   "metadata": {},
   "outputs": [
    {
     "data": {
      "text/plain": [
       "array([[1, 2, 3],\n",
       "       [4, 5, 6]])"
      ]
     },
     "execution_count": 18,
     "metadata": {},
     "output_type": "execute_result"
    }
   ],
   "source": [
    "a2"
   ]
  },
  {
   "cell_type": "code",
   "execution_count": 19,
   "id": "1449d193",
   "metadata": {},
   "outputs": [
    {
     "data": {
      "text/plain": [
       "array([[[1, 2, 3],\n",
       "        [4, 5, 6],\n",
       "        [7, 8, 9]]])"
      ]
     },
     "execution_count": 19,
     "metadata": {},
     "output_type": "execute_result"
    }
   ],
   "source": [
    "a3"
   ]
  },
  {
   "cell_type": "code",
   "execution_count": 20,
   "id": "8aae284d",
   "metadata": {},
   "outputs": [
    {
     "data": {
      "text/plain": [
       "3"
      ]
     },
     "execution_count": 20,
     "metadata": {},
     "output_type": "execute_result"
    }
   ],
   "source": [
    "#it will generate random no. between 2 to 5\n",
    "np.random.randint(2,5)"
   ]
  },
  {
   "cell_type": "code",
   "execution_count": 21,
   "id": "d654afd4",
   "metadata": {},
   "outputs": [
    {
     "data": {
      "text/plain": [
       "array([[15, 17, 15, 11],\n",
       "       [45, 40, 39,  9],\n",
       "       [44, 46, 36,  5]])"
      ]
     },
     "execution_count": 21,
     "metadata": {},
     "output_type": "execute_result"
    }
   ],
   "source": [
    "#it will generate random no. between 2 to 50,and it will generate 3 rows and 4 column\n",
    "np.random.randint(2,50,(3,4))"
   ]
  },
  {
   "cell_type": "code",
   "execution_count": 22,
   "id": "b575933e",
   "metadata": {},
   "outputs": [
    {
     "data": {
      "text/plain": [
       "array([[[11,  3,  3, 25],\n",
       "        [38, 30, 34, 32],\n",
       "        [ 7, 11, 46, 12]],\n",
       "\n",
       "       [[26, 12,  9, 31],\n",
       "        [29, 10, 24, 35],\n",
       "        [38, 29, 20,  6]]])"
      ]
     },
     "execution_count": 22,
     "metadata": {},
     "output_type": "execute_result"
    }
   ],
   "source": [
    "#it will generate random no. between 2 to 50,and it will generate 3 rows and 4 column have 2 such matrixes\n",
    "np.random.randint(2,50,(2,3,4))"
   ]
  },
  {
   "cell_type": "code",
   "execution_count": 23,
   "id": "cafa257b",
   "metadata": {
    "scrolled": true
   },
   "outputs": [
    {
     "data": {
      "text/plain": [
       "array([[0.26492503, 0.03859155, 0.68584901, 0.08958051],\n",
       "       [0.75230287, 0.06385058, 0.41540706, 0.10649157],\n",
       "       [0.17793522, 0.36100963, 0.59375041, 0.86448681],\n",
       "       [0.95493718, 0.41499963, 0.33250327, 0.96085056],\n",
       "       [0.36355261, 0.43888195, 0.48940568, 0.50176683]])"
      ]
     },
     "execution_count": 23,
     "metadata": {},
     "output_type": "execute_result"
    }
   ],
   "source": [
    "#if we have to generate any random mean and random standard deviation then we use 'rand'\n",
    "np.random.rand(5,4)"
   ]
  },
  {
   "cell_type": "code",
   "execution_count": 24,
   "id": "a17d8acc",
   "metadata": {},
   "outputs": [
    {
     "data": {
      "text/plain": [
       "array([[ 1.13485187, -0.64616623, -0.29181539,  0.6589892 ],\n",
       "       [-0.06387042, -0.45405154,  0.25546283,  0.6710187 ],\n",
       "       [ 1.62852436,  0.01773605, -0.55623959,  1.10656133],\n",
       "       [ 0.34282075, -0.18820682,  0.43883691,  0.84813753]])"
      ]
     },
     "execution_count": 24,
     "metadata": {},
     "output_type": "execute_result"
    }
   ],
   "source": [
    "#if we have to generate normal distribution then we use 'randn'\n",
    "#normal distribution: mean=0, standard deviation=1\n",
    "a4=np.random.randn(4,4)\n",
    "a4"
   ]
  },
  {
   "cell_type": "code",
   "execution_count": 25,
   "id": "5567d23f",
   "metadata": {},
   "outputs": [
    {
     "data": {
      "text/plain": [
       "array([[ 1.13485187, -0.64616623, -0.29181539,  0.6589892 , -0.06387042,\n",
       "        -0.45405154,  0.25546283,  0.6710187 ],\n",
       "       [ 1.62852436,  0.01773605, -0.55623959,  1.10656133,  0.34282075,\n",
       "        -0.18820682,  0.43883691,  0.84813753]])"
      ]
     },
     "execution_count": 25,
     "metadata": {},
     "output_type": "execute_result"
    }
   ],
   "source": [
    "#Changing Shape of Data (In Images, we crop the image)\n",
    "#a4.reshape(3,4) #Error because this will accomodate 12 dataset points but we have 16 dataset points\n",
    "a4.reshape(2,8)"
   ]
  },
  {
   "cell_type": "code",
   "execution_count": 26,
   "id": "c04d5e93",
   "metadata": {},
   "outputs": [
    {
     "data": {
      "text/plain": [
       "array([[ 1.13485187, -0.64616623],\n",
       "       [-0.29181539,  0.6589892 ],\n",
       "       [-0.06387042, -0.45405154],\n",
       "       [ 0.25546283,  0.6710187 ],\n",
       "       [ 1.62852436,  0.01773605],\n",
       "       [-0.55623959,  1.10656133],\n",
       "       [ 0.34282075, -0.18820682],\n",
       "       [ 0.43883691,  0.84813753]])"
      ]
     },
     "execution_count": 26,
     "metadata": {},
     "output_type": "execute_result"
    }
   ],
   "source": [
    "a4.reshape(8,2)"
   ]
  },
  {
   "cell_type": "code",
   "execution_count": 48,
   "id": "25b3b4ea",
   "metadata": {},
   "outputs": [
    {
     "data": {
      "text/plain": [
       "array([[ 1.13485187],\n",
       "       [-0.64616623],\n",
       "       [-0.29181539],\n",
       "       [ 0.6589892 ],\n",
       "       [-0.06387042],\n",
       "       [-0.45405154],\n",
       "       [ 0.25546283],\n",
       "       [ 0.6710187 ],\n",
       "       [ 1.62852436],\n",
       "       [ 0.01773605],\n",
       "       [-0.55623959],\n",
       "       [ 1.10656133],\n",
       "       [ 0.34282075],\n",
       "       [-0.18820682],\n",
       "       [ 0.43883691],\n",
       "       [ 0.84813753]])"
      ]
     },
     "execution_count": 48,
     "metadata": {},
     "output_type": "execute_result"
    }
   ],
   "source": [
    "a4.reshape(16,1)"
   ]
  },
  {
   "cell_type": "code",
   "execution_count": 28,
   "id": "a787bb0c",
   "metadata": {},
   "outputs": [
    {
     "data": {
      "text/plain": [
       "array([[ 1.13485187, -0.64616623, -0.29181539,  0.6589892 , -0.06387042,\n",
       "        -0.45405154,  0.25546283,  0.6710187 ],\n",
       "       [ 1.62852436,  0.01773605, -0.55623959,  1.10656133,  0.34282075,\n",
       "        -0.18820682,  0.43883691,  0.84813753]])"
      ]
     },
     "execution_count": 28,
     "metadata": {},
     "output_type": "execute_result"
    }
   ],
   "source": [
    "##Since 2 is a factor of 16, -1 or any negative number means that \n",
    "#it will automatically detect the other factor which is 8 in this case\n",
    "a4.reshape(2,-1)"
   ]
  },
  {
   "cell_type": "code",
   "execution_count": 29,
   "id": "99320364",
   "metadata": {},
   "outputs": [
    {
     "data": {
      "text/plain": [
       "array([[ 1.13485187, -0.64616623, -0.29181539,  0.6589892 , -0.06387042,\n",
       "        -0.45405154,  0.25546283,  0.6710187 ],\n",
       "       [ 1.62852436,  0.01773605, -0.55623959,  1.10656133,  0.34282075,\n",
       "        -0.18820682,  0.43883691,  0.84813753]])"
      ]
     },
     "execution_count": 29,
     "metadata": {},
     "output_type": "execute_result"
    }
   ],
   "source": [
    "a4.reshape(2,-1345667)"
   ]
  },
  {
   "cell_type": "code",
   "execution_count": 30,
   "id": "a590d85a",
   "metadata": {},
   "outputs": [
    {
     "data": {
      "text/plain": [
       "array([[[ 1.13485187, -0.64616623, -0.29181539,  0.6589892 ],\n",
       "        [-0.06387042, -0.45405154,  0.25546283,  0.6710187 ]],\n",
       "\n",
       "       [[ 1.62852436,  0.01773605, -0.55623959,  1.10656133],\n",
       "        [ 0.34282075, -0.18820682,  0.43883691,  0.84813753]]])"
      ]
     },
     "execution_count": 30,
     "metadata": {},
     "output_type": "execute_result"
    }
   ],
   "source": [
    "# 2 rows and 4 column , 2 such kind of array\n",
    "a4.reshape(2,2,4)"
   ]
  },
  {
   "cell_type": "code",
   "execution_count": 31,
   "id": "4cbc476e",
   "metadata": {},
   "outputs": [
    {
     "data": {
      "text/plain": [
       "array([[[[[[[[[[[ 1.13485187, -0.64616623, -0.29181539,\n",
       "                  0.6589892 ],\n",
       "                [-0.06387042, -0.45405154,  0.25546283,\n",
       "                  0.6710187 ]],\n",
       "\n",
       "               [[ 1.62852436,  0.01773605, -0.55623959,\n",
       "                  1.10656133],\n",
       "                [ 0.34282075, -0.18820682,  0.43883691,\n",
       "                  0.84813753]]]]]]]]]]])"
      ]
     },
     "execution_count": 31,
     "metadata": {},
     "output_type": "execute_result"
    }
   ],
   "source": [
    "#make sure multiplication of all of the no. must be equal to total no. we have , here in this case our total no. is 16\n",
    "a4.reshape(1,1,1,1,1,1,1,1,2,2,4)"
   ]
  },
  {
   "cell_type": "code",
   "execution_count": 32,
   "id": "15de4205",
   "metadata": {},
   "outputs": [
    {
     "data": {
      "text/plain": [
       "array(['4', '5', '6', '7', 'sudh', '34.356', 'True'], dtype='<U32')"
      ]
     },
     "execution_count": 32,
     "metadata": {},
     "output_type": "execute_result"
    }
   ],
   "source": [
    "\n",
    "a1"
   ]
  },
  {
   "cell_type": "code",
   "execution_count": 33,
   "id": "a22d2f87",
   "metadata": {},
   "outputs": [
    {
     "data": {
      "text/plain": [
       "'4'"
      ]
     },
     "execution_count": 33,
     "metadata": {},
     "output_type": "execute_result"
    }
   ],
   "source": [
    "#Slicing is Exactly similar to list\n",
    "a1[0]"
   ]
  },
  {
   "cell_type": "code",
   "execution_count": 34,
   "id": "64a9a2a8",
   "metadata": {},
   "outputs": [
    {
     "data": {
      "text/plain": [
       "array(['6', '7', 'sudh', '34.356'], dtype='<U32')"
      ]
     },
     "execution_count": 34,
     "metadata": {},
     "output_type": "execute_result"
    }
   ],
   "source": [
    "a1[2:6]"
   ]
  },
  {
   "cell_type": "code",
   "execution_count": 35,
   "id": "5badbb06",
   "metadata": {},
   "outputs": [
    {
     "data": {
      "text/plain": [
       "array(['6', 'sudh'], dtype='<U32')"
      ]
     },
     "execution_count": 35,
     "metadata": {},
     "output_type": "execute_result"
    }
   ],
   "source": [
    "#giving step size here\n",
    "a1[2:6:2]"
   ]
  },
  {
   "cell_type": "code",
   "execution_count": 36,
   "id": "5de6bbbf",
   "metadata": {},
   "outputs": [
    {
     "data": {
      "text/plain": [
       "array(['True', '34.356', 'sudh', '7', '6', '5', '4'], dtype='<U32')"
      ]
     },
     "execution_count": 36,
     "metadata": {},
     "output_type": "execute_result"
    }
   ],
   "source": [
    "#can reverse also\n",
    "a1[::-1]"
   ]
  },
  {
   "cell_type": "code",
   "execution_count": 37,
   "id": "fcb91118",
   "metadata": {},
   "outputs": [
    {
     "data": {
      "text/plain": [
       "array([[[1, 2, 3],\n",
       "        [4, 5, 6],\n",
       "        [7, 8, 9]]])"
      ]
     },
     "execution_count": 37,
     "metadata": {},
     "output_type": "execute_result"
    }
   ],
   "source": [
    "a3"
   ]
  },
  {
   "cell_type": "code",
   "execution_count": 38,
   "id": "773bc714",
   "metadata": {},
   "outputs": [
    {
     "data": {
      "text/plain": [
       "array([[1, 2, 3],\n",
       "       [4, 5, 6]])"
      ]
     },
     "execution_count": 38,
     "metadata": {},
     "output_type": "execute_result"
    }
   ],
   "source": [
    "a2"
   ]
  },
  {
   "cell_type": "code",
   "execution_count": 39,
   "id": "4b16acd1",
   "metadata": {},
   "outputs": [
    {
     "data": {
      "text/plain": [
       "array([1, 2, 3])"
      ]
     },
     "execution_count": 39,
     "metadata": {},
     "output_type": "execute_result"
    }
   ],
   "source": [
    "#it will return 1st row\n",
    "a2[0]"
   ]
  },
  {
   "cell_type": "code",
   "execution_count": 40,
   "id": "80b423eb",
   "metadata": {},
   "outputs": [
    {
     "data": {
      "text/plain": [
       "array([[2, 3],\n",
       "       [5, 6]])"
      ]
     },
     "execution_count": 40,
     "metadata": {},
     "output_type": "execute_result"
    }
   ],
   "source": [
    "#:means give all row and 1: means starting from column 1 till end\n",
    "a2[:,1:]"
   ]
  },
  {
   "cell_type": "code",
   "execution_count": 41,
   "id": "48864503",
   "metadata": {},
   "outputs": [
    {
     "data": {
      "text/plain": [
       "array([[2, 3],\n",
       "       [5, 6]])"
      ]
     },
     "execution_count": 41,
     "metadata": {},
     "output_type": "execute_result"
    }
   ],
   "source": [
    "#other way to extract the data\n",
    "a2[:,[1,2]]"
   ]
  },
  {
   "cell_type": "code",
   "execution_count": 42,
   "id": "cd282f56",
   "metadata": {},
   "outputs": [
    {
     "data": {
      "text/plain": [
       "array([[2, 3],\n",
       "       [5, 6]])"
      ]
     },
     "execution_count": 42,
     "metadata": {},
     "output_type": "execute_result"
    }
   ],
   "source": [
    "#other way to extract the data\n",
    "a2[[0,1],1:]"
   ]
  },
  {
   "cell_type": "code",
   "execution_count": 43,
   "id": "afa08ff7",
   "metadata": {},
   "outputs": [
    {
     "data": {
      "text/plain": [
       "array([[79, 55, 89, 23, 28],\n",
       "       [83, 75, 87, 66, 33],\n",
       "       [10, 19, 30,  5, 56],\n",
       "       [57, 73, 35, 80,  3],\n",
       "       [37, 23, 62, 65, 73],\n",
       "       [22, 64, 81, 69, 24]])"
      ]
     },
     "execution_count": 43,
     "metadata": {},
     "output_type": "execute_result"
    }
   ],
   "source": [
    "#it will generate random no. between 2 to 90,and it will generate 6 rows and 5 column\n",
    "a5=np.random.randint(2,90,(6,5))\n",
    "a5"
   ]
  },
  {
   "cell_type": "code",
   "execution_count": 44,
   "id": "786bc7cd",
   "metadata": {},
   "outputs": [
    {
     "data": {
      "text/plain": [
       "array([79, 55, 89, 83, 75, 87, 66, 56, 57, 73, 80, 62, 65, 73, 64, 81, 69])"
      ]
     },
     "execution_count": 44,
     "metadata": {},
     "output_type": "execute_result"
    }
   ],
   "source": [
    "#filter out all the record which is having value >40\n",
    "a5[a5>40]"
   ]
  },
  {
   "cell_type": "code",
   "execution_count": 45,
   "id": "6eb1e453",
   "metadata": {},
   "outputs": [
    {
     "data": {
      "text/plain": [
       "array([[79, 55, 89, 23, 28],\n",
       "       [83, 75, 87, 66, 33],\n",
       "       [10, 19, 30,  5, 56],\n",
       "       [57, 73, 35, 80,  3],\n",
       "       [37, 23, 62, 65, 73],\n",
       "       [22, 64, 81, 69, 24]])"
      ]
     },
     "execution_count": 45,
     "metadata": {},
     "output_type": "execute_result"
    }
   ],
   "source": [
    "a5"
   ]
  },
  {
   "cell_type": "code",
   "execution_count": 46,
   "id": "95d480c0",
   "metadata": {},
   "outputs": [],
   "source": [
    "#change the value to 100 at position row 0 column 1\n",
    "a5[0,1]=100"
   ]
  },
  {
   "cell_type": "code",
   "execution_count": 47,
   "id": "a4e85231",
   "metadata": {},
   "outputs": [
    {
     "data": {
      "text/plain": [
       "array([[ 79, 100,  89,  23,  28],\n",
       "       [ 83,  75,  87,  66,  33],\n",
       "       [ 10,  19,  30,   5,  56],\n",
       "       [ 57,  73,  35,  80,   3],\n",
       "       [ 37,  23,  62,  65,  73],\n",
       "       [ 22,  64,  81,  69,  24]])"
      ]
     },
     "execution_count": 47,
     "metadata": {},
     "output_type": "execute_result"
    }
   ],
   "source": [
    "a5"
   ]
  },
  {
   "cell_type": "code",
   "execution_count": 49,
   "id": "7cf299f2",
   "metadata": {},
   "outputs": [],
   "source": [
    "#it will generate random no. between 0 to 3,and it will generate 3 rows and 3 column\n",
    "a6 = np.random.randint(0,3 , (3,3))"
   ]
  },
  {
   "cell_type": "code",
   "execution_count": 50,
   "id": "48ca2525",
   "metadata": {},
   "outputs": [],
   "source": [
    "#it will generate random no. between 0 to 3,and it will generate 3 rows and 3 column\n",
    "a7 = np.random.randint(0,3 , (3,3))"
   ]
  },
  {
   "cell_type": "code",
   "execution_count": 51,
   "id": "c2e84e58",
   "metadata": {},
   "outputs": [
    {
     "data": {
      "text/plain": [
       "array([[1, 2, 2],\n",
       "       [0, 2, 1],\n",
       "       [0, 1, 1]])"
      ]
     },
     "execution_count": 51,
     "metadata": {},
     "output_type": "execute_result"
    }
   ],
   "source": [
    "a6"
   ]
  },
  {
   "cell_type": "code",
   "execution_count": 52,
   "id": "a75f0dbd",
   "metadata": {},
   "outputs": [
    {
     "data": {
      "text/plain": [
       "array([[0, 0, 1],\n",
       "       [2, 0, 0],\n",
       "       [2, 1, 2]])"
      ]
     },
     "execution_count": 52,
     "metadata": {},
     "output_type": "execute_result"
    }
   ],
   "source": [
    "a7"
   ]
  },
  {
   "cell_type": "code",
   "execution_count": 53,
   "id": "03ce01a2",
   "metadata": {},
   "outputs": [
    {
     "data": {
      "text/plain": [
       "array([[0, 0, 2],\n",
       "       [0, 0, 0],\n",
       "       [0, 1, 2]])"
      ]
     },
     "execution_count": 53,
     "metadata": {},
     "output_type": "execute_result"
    }
   ],
   "source": [
    "#Element Wise Multiplication and not Matrix Multiplication\n",
    "a6*a7"
   ]
  },
  {
   "cell_type": "code",
   "execution_count": 54,
   "id": "be2a98de",
   "metadata": {},
   "outputs": [
    {
     "data": {
      "text/plain": [
       "array([[8, 2, 5],\n",
       "       [6, 1, 2],\n",
       "       [4, 1, 2]])"
      ]
     },
     "execution_count": 54,
     "metadata": {},
     "output_type": "execute_result"
    }
   ],
   "source": [
    "#matrix multiplication\n",
    "a6@a7"
   ]
  },
  {
   "cell_type": "markdown",
   "id": "bad22bd5",
   "metadata": {},
   "source": [
    "# if there is 2x2 and a 2x3 matrix is there and we have to do matrix multiplication:\n",
    "    Note:\n",
    "        -our final matrix woulbe 2x3 \n",
    "        -matrix multiplication is possible if 1st matrix col. value and 2nd matrix row value is same.here in this case it is 2"
   ]
  },
  {
   "cell_type": "code",
   "execution_count": 55,
   "id": "be69cd6c",
   "metadata": {},
   "outputs": [
    {
     "data": {
      "text/plain": [
       "array([[1, 2, 2],\n",
       "       [0, 2, 1],\n",
       "       [0, 1, 1]])"
      ]
     },
     "execution_count": 55,
     "metadata": {},
     "output_type": "execute_result"
    }
   ],
   "source": [
    "a6"
   ]
  },
  {
   "cell_type": "code",
   "execution_count": 56,
   "id": "3f8e6ef6",
   "metadata": {},
   "outputs": [
    {
     "data": {
      "text/plain": [
       "array([[101, 102, 102],\n",
       "       [100, 102, 101],\n",
       "       [100, 101, 101]])"
      ]
     },
     "execution_count": 56,
     "metadata": {},
     "output_type": "execute_result"
    }
   ],
   "source": [
    "#Array Operations\n",
    "a6+100"
   ]
  },
  {
   "cell_type": "code",
   "execution_count": 57,
   "id": "3be6c5d2",
   "metadata": {},
   "outputs": [
    {
     "data": {
      "text/plain": [
       "array([[2, 4, 4],\n",
       "       [0, 4, 2],\n",
       "       [0, 2, 2]])"
      ]
     },
     "execution_count": 57,
     "metadata": {},
     "output_type": "execute_result"
    }
   ],
   "source": [
    "a6*2"
   ]
  },
  {
   "cell_type": "code",
   "execution_count": 58,
   "id": "1442b6ea",
   "metadata": {},
   "outputs": [
    {
     "name": "stderr",
     "output_type": "stream",
     "text": [
      "C:\\Users\\ABHANJ~1\\AppData\\Local\\Temp/ipykernel_7920/1058679823.py:1: RuntimeWarning: divide by zero encountered in true_divide\n",
      "  a6/0\n",
      "C:\\Users\\ABHANJ~1\\AppData\\Local\\Temp/ipykernel_7920/1058679823.py:1: RuntimeWarning: invalid value encountered in true_divide\n",
      "  a6/0\n"
     ]
    },
    {
     "data": {
      "text/plain": [
       "array([[inf, inf, inf],\n",
       "       [nan, inf, inf],\n",
       "       [nan, inf, inf]])"
      ]
     },
     "execution_count": 58,
     "metadata": {},
     "output_type": "execute_result"
    }
   ],
   "source": [
    "#No Errors in case numpy\n",
    "a6/0"
   ]
  },
  {
   "cell_type": "code",
   "execution_count": 59,
   "id": "15a614cf",
   "metadata": {},
   "outputs": [
    {
     "data": {
      "text/plain": [
       "array([[1, 8, 8],\n",
       "       [0, 8, 1],\n",
       "       [0, 1, 1]], dtype=int32)"
      ]
     },
     "execution_count": 59,
     "metadata": {},
     "output_type": "execute_result"
    }
   ],
   "source": [
    "a6**3"
   ]
  },
  {
   "cell_type": "code",
   "execution_count": 62,
   "id": "f57e059b",
   "metadata": {},
   "outputs": [
    {
     "data": {
      "text/plain": [
       "array([[0., 0., 0., 0.],\n",
       "       [0., 0., 0., 0.],\n",
       "       [0., 0., 0., 0.],\n",
       "       [0., 0., 0., 0.]])"
      ]
     },
     "execution_count": 62,
     "metadata": {},
     "output_type": "execute_result"
    }
   ],
   "source": [
    "#zero function is used to create o matrix\n",
    "a8 = np.zeros((4,4))\n",
    "a8"
   ]
  },
  {
   "cell_type": "code",
   "execution_count": 63,
   "id": "2cdb22c8",
   "metadata": {},
   "outputs": [
    {
     "data": {
      "text/plain": [
       "array([[1., 1., 1., 1., 1.],\n",
       "       [1., 1., 1., 1., 1.],\n",
       "       [1., 1., 1., 1., 1.],\n",
       "       [1., 1., 1., 1., 1.]])"
      ]
     },
     "execution_count": 63,
     "metadata": {},
     "output_type": "execute_result"
    }
   ],
   "source": [
    "#zero function is used to create o matrix\n",
    "a9 = np.ones((4,5))\n",
    "a9"
   ]
  },
  {
   "cell_type": "code",
   "execution_count": 64,
   "id": "d9dd51b5",
   "metadata": {},
   "outputs": [
    {
     "data": {
      "text/plain": [
       "array([[11., 11., 11., 11., 11.],\n",
       "       [11., 11., 11., 11., 11.],\n",
       "       [11., 11., 11., 11., 11.],\n",
       "       [11., 11., 11., 11., 11.]])"
      ]
     },
     "execution_count": 64,
     "metadata": {},
     "output_type": "execute_result"
    }
   ],
   "source": [
    "a9+10"
   ]
  },
  {
   "cell_type": "code",
   "execution_count": 65,
   "id": "b7892c8d",
   "metadata": {},
   "outputs": [
    {
     "data": {
      "text/plain": [
       "array([[2., 3., 4., 5., 6.],\n",
       "       [2., 3., 4., 5., 6.],\n",
       "       [2., 3., 4., 5., 6.],\n",
       "       [2., 3., 4., 5., 6.]])"
      ]
     },
     "execution_count": 65,
     "metadata": {},
     "output_type": "execute_result"
    }
   ],
   "source": [
    "#Doing row by row operation. Also called as Broadcasting operation\n",
    "a9+np.array([1,2,3,4,5])"
   ]
  },
  {
   "cell_type": "code",
   "execution_count": 66,
   "id": "d87625a6",
   "metadata": {},
   "outputs": [
    {
     "data": {
      "text/plain": [
       "array([[1., 1., 1., 1., 1.],\n",
       "       [1., 1., 1., 1., 1.],\n",
       "       [1., 1., 1., 1., 1.],\n",
       "       [1., 1., 1., 1., 1.]])"
      ]
     },
     "execution_count": 66,
     "metadata": {},
     "output_type": "execute_result"
    }
   ],
   "source": [
    "a9"
   ]
  },
  {
   "cell_type": "code",
   "execution_count": 67,
   "id": "42ec4215",
   "metadata": {},
   "outputs": [
    {
     "ename": "ValueError",
     "evalue": "operands could not be broadcast together with shapes (4,5) (4,) ",
     "output_type": "error",
     "traceback": [
      "\u001b[1;31m---------------------------------------------------------------------------\u001b[0m",
      "\u001b[1;31mValueError\u001b[0m                                Traceback (most recent call last)",
      "\u001b[1;32mC:\\Users\\ABHANJ~1\\AppData\\Local\\Temp/ipykernel_7920/2701081959.py\u001b[0m in \u001b[0;36m<module>\u001b[1;34m\u001b[0m\n\u001b[1;32m----> 1\u001b[1;33m \u001b[0ma9\u001b[0m\u001b[1;33m+\u001b[0m\u001b[0mnp\u001b[0m\u001b[1;33m.\u001b[0m\u001b[0marray\u001b[0m\u001b[1;33m(\u001b[0m\u001b[1;33m[\u001b[0m\u001b[1;36m1\u001b[0m\u001b[1;33m,\u001b[0m\u001b[1;36m2\u001b[0m\u001b[1;33m,\u001b[0m\u001b[1;36m3\u001b[0m\u001b[1;33m,\u001b[0m\u001b[1;36m4\u001b[0m\u001b[1;33m]\u001b[0m\u001b[1;33m)\u001b[0m\u001b[1;33m\u001b[0m\u001b[1;33m\u001b[0m\u001b[0m\n\u001b[0m",
      "\u001b[1;31mValueError\u001b[0m: operands could not be broadcast together with shapes (4,5) (4,) "
     ]
    }
   ],
   "source": [
    "#as no. of row element is 5 and we are trying to add with 4 no.s only so throwing error\n",
    "a9+np.array([1,2,3,4])"
   ]
  },
  {
   "cell_type": "code",
   "execution_count": 71,
   "id": "4a5f83a1",
   "metadata": {},
   "outputs": [
    {
     "data": {
      "text/plain": [
       "array([[2., 2., 2., 2., 2.],\n",
       "       [3., 3., 3., 3., 3.],\n",
       "       [4., 4., 4., 4., 4.],\n",
       "       [5., 5., 5., 5., 5.]])"
      ]
     },
     "execution_count": 71,
     "metadata": {},
     "output_type": "execute_result"
    }
   ],
   "source": [
    "#How to do column wise Boradcasting operation: We will have to transpose first and then add\n",
    "#np.array([1,2,3,4]).T + a9   \n",
    "#Error because for transpose we need 2 dimesnsions. Hence we will give 2 brackets to convert into 2d\n",
    "np.array([[1,2,3,4]]).T+a9"
   ]
  },
  {
   "cell_type": "code",
   "execution_count": 72,
   "id": "1a87fef0",
   "metadata": {},
   "outputs": [
    {
     "data": {
      "text/plain": [
       "array([[1],\n",
       "       [2],\n",
       "       [3],\n",
       "       [4]])"
      ]
     },
     "execution_count": 72,
     "metadata": {},
     "output_type": "execute_result"
    }
   ],
   "source": [
    "np.array([[1,2,3,4]]).T"
   ]
  },
  {
   "cell_type": "code",
   "execution_count": 73,
   "id": "3e94939e",
   "metadata": {},
   "outputs": [
    {
     "name": "stdout",
     "output_type": "stream",
     "text": [
      "[[1 2 2]\n",
      " [0 2 1]\n",
      " [0 1 1]]\n",
      "[[1 0 0]\n",
      " [2 2 1]\n",
      " [2 1 1]]\n"
     ]
    }
   ],
   "source": [
    "#Understanding Transpose\n",
    "print(a6)\n",
    "print(a6.T)"
   ]
  },
  {
   "cell_type": "code",
   "execution_count": 75,
   "id": "f9eb69f5",
   "metadata": {},
   "outputs": [
    {
     "data": {
      "text/plain": [
       "array([[ 79, 100,  89,  23,  28],\n",
       "       [ 83,  75,  87,  66,  33],\n",
       "       [ 10,  19,  30,   5,  56],\n",
       "       [ 57,  73,  35,  80,   3],\n",
       "       [ 37,  23,  62,  65,  73],\n",
       "       [ 22,  64,  81,  69,  24]])"
      ]
     },
     "execution_count": 75,
     "metadata": {},
     "output_type": "execute_result"
    }
   ],
   "source": [
    "a5"
   ]
  },
  {
   "cell_type": "code",
   "execution_count": 76,
   "id": "56cfc552",
   "metadata": {},
   "outputs": [
    {
     "data": {
      "text/plain": [
       "array([[ 8.88819442, 10.        ,  9.43398113,  4.79583152,  5.29150262],\n",
       "       [ 9.11043358,  8.66025404,  9.32737905,  8.1240384 ,  5.74456265],\n",
       "       [ 3.16227766,  4.35889894,  5.47722558,  2.23606798,  7.48331477],\n",
       "       [ 7.54983444,  8.54400375,  5.91607978,  8.94427191,  1.73205081],\n",
       "       [ 6.08276253,  4.79583152,  7.87400787,  8.06225775,  8.54400375],\n",
       "       [ 4.69041576,  8.        ,  9.        ,  8.30662386,  4.89897949]])"
      ]
     },
     "execution_count": 76,
     "metadata": {},
     "output_type": "execute_result"
    }
   ],
   "source": [
    "#square root of element\n",
    "np.sqrt(a5)"
   ]
  },
  {
   "cell_type": "code",
   "execution_count": 77,
   "id": "997a178d",
   "metadata": {},
   "outputs": [
    {
     "name": "stdout",
     "output_type": "stream",
     "text": [
      "[[2.03828107e+34 2.68811714e+43 4.48961282e+38 9.74480345e+09\n",
      "  1.44625706e+12]\n",
      " [1.11286375e+36 3.73324200e+32 6.07603023e+37 4.60718663e+28\n",
      "  2.14643580e+14]\n",
      " [2.20264658e+04 1.78482301e+08 1.06864746e+13 1.48413159e+02\n",
      "  2.09165950e+24]\n",
      " [5.68572000e+24 5.05239363e+31 1.58601345e+15 5.54062238e+34\n",
      "  2.00855369e+01]\n",
      " [1.17191424e+16 9.74480345e+09 8.43835667e+26 1.69488924e+28\n",
      "  5.05239363e+31]\n",
      " [3.58491285e+09 6.23514908e+27 1.50609731e+35 9.25378173e+29\n",
      "  2.64891221e+10]]\n"
     ]
    }
   ],
   "source": [
    "#exponential of the element\n",
    "print(np.exp(a5))"
   ]
  },
  {
   "cell_type": "code",
   "execution_count": 78,
   "id": "c9949b9f",
   "metadata": {},
   "outputs": [
    {
     "name": "stdout",
     "output_type": "stream",
     "text": [
      "[[1.89762709 2.         1.94939001 1.36172784 1.44715803]\n",
      " [1.91907809 1.87506126 1.93951925 1.81954394 1.51851394]\n",
      " [1.         1.2787536  1.47712125 0.69897    1.74818803]\n",
      " [1.75587486 1.86332286 1.54406804 1.90308999 0.47712125]\n",
      " [1.56820172 1.36172784 1.79239169 1.81291336 1.86332286]\n",
      " [1.34242268 1.80617997 1.90848502 1.83884909 1.38021124]]\n"
     ]
    }
   ],
   "source": [
    "#logarithimic of the element\n",
    "print(np.log10(a5))"
   ]
  },
  {
   "cell_type": "code",
   "execution_count": 84,
   "id": "a09d390c",
   "metadata": {},
   "outputs": [
    {
     "data": {
      "text/plain": [
       "[0, 2, 4, 6, 8]"
      ]
     },
     "execution_count": 84,
     "metadata": {},
     "output_type": "execute_result"
    }
   ],
   "source": [
    "list(range(0,10 , 2))"
   ]
  },
  {
   "cell_type": "code",
   "execution_count": 85,
   "id": "0f1e78c2",
   "metadata": {},
   "outputs": [
    {
     "data": {
      "text/plain": [
       "array([1.8, 4.3, 6.8, 9.3])"
      ]
     },
     "execution_count": 85,
     "metadata": {},
     "output_type": "execute_result"
    }
   ],
   "source": [
    "#print(list(range(0,10,2.5))) #Error because jump size cannot be float\n",
    "np.arange(1.8,10.7,2.5)"
   ]
  },
  {
   "cell_type": "code",
   "execution_count": 86,
   "id": "2024240e",
   "metadata": {},
   "outputs": [
    {
     "name": "stdout",
     "output_type": "stream",
     "text": [
      "[0 1 2 3 4 5 6 7 8 9]\n",
      "[1.8 4.3 6.8 9.3]\n"
     ]
    }
   ],
   "source": [
    "#Arange same as range but it also takes jump size as float\n",
    "print(np.arange(10))\n",
    "print(np.arange(1.8,10.7,2.5))"
   ]
  },
  {
   "cell_type": "code",
   "execution_count": 88,
   "id": "b7e50cf6",
   "metadata": {},
   "outputs": [
    {
     "name": "stdout",
     "output_type": "stream",
     "text": [
      "[2.         2.02040816 2.04081633 2.06122449 2.08163265 2.10204082\n",
      " 2.12244898 2.14285714 2.16326531 2.18367347 2.20408163 2.2244898\n",
      " 2.24489796 2.26530612 2.28571429 2.30612245 2.32653061 2.34693878\n",
      " 2.36734694 2.3877551  2.40816327 2.42857143 2.44897959 2.46938776\n",
      " 2.48979592 2.51020408 2.53061224 2.55102041 2.57142857 2.59183673\n",
      " 2.6122449  2.63265306 2.65306122 2.67346939 2.69387755 2.71428571\n",
      " 2.73469388 2.75510204 2.7755102  2.79591837 2.81632653 2.83673469\n",
      " 2.85714286 2.87755102 2.89795918 2.91836735 2.93877551 2.95918367\n",
      " 2.97959184 3.        ]\n"
     ]
    }
   ],
   "source": [
    "#it is used if In between certain range, we want to generate numbers\n",
    "print(np.linspace(2,3,num=50)) #Considers Linear Spac"
   ]
  },
  {
   "cell_type": "code",
   "execution_count": 89,
   "id": "109b2104",
   "metadata": {},
   "outputs": [
    {
     "name": "stdout",
     "output_type": "stream",
     "text": [
      "(array([2.        , 2.02040816, 2.04081633, 2.06122449, 2.08163265,\n",
      "       2.10204082, 2.12244898, 2.14285714, 2.16326531, 2.18367347,\n",
      "       2.20408163, 2.2244898 , 2.24489796, 2.26530612, 2.28571429,\n",
      "       2.30612245, 2.32653061, 2.34693878, 2.36734694, 2.3877551 ,\n",
      "       2.40816327, 2.42857143, 2.44897959, 2.46938776, 2.48979592,\n",
      "       2.51020408, 2.53061224, 2.55102041, 2.57142857, 2.59183673,\n",
      "       2.6122449 , 2.63265306, 2.65306122, 2.67346939, 2.69387755,\n",
      "       2.71428571, 2.73469388, 2.75510204, 2.7755102 , 2.79591837,\n",
      "       2.81632653, 2.83673469, 2.85714286, 2.87755102, 2.89795918,\n",
      "       2.91836735, 2.93877551, 2.95918367, 2.97959184, 3.        ]), 0.02040816326530612)\n"
     ]
    }
   ],
   "source": [
    "print(np.linspace(2,3,num=50,retstep=True)) \n",
    "#retstep:return Jumpsize"
   ]
  },
  {
   "cell_type": "code",
   "execution_count": 90,
   "id": "4b4097fd",
   "metadata": {},
   "outputs": [
    {
     "data": {
      "text/plain": [
       "array([  100.        ,   464.15888336,  2154.43469003, 10000.        ])"
      ]
     },
     "execution_count": 90,
     "metadata": {},
     "output_type": "execute_result"
    }
   ],
   "source": [
    "np.logspace(2,4,num=4,base=10) \n",
    "#Considers Logarithmic Base"
   ]
  },
  {
   "cell_type": "code",
   "execution_count": 91,
   "id": "9a47bb99",
   "metadata": {},
   "outputs": [
    {
     "data": {
      "text/plain": [
       "array([[1., 0., 0., 0., 0.],\n",
       "       [0., 1., 0., 0., 0.],\n",
       "       [0., 0., 1., 0., 0.],\n",
       "       [0., 0., 0., 1., 0.],\n",
       "       [0., 0., 0., 0., 1.]])"
      ]
     },
     "execution_count": 91,
     "metadata": {},
     "output_type": "execute_result"
    }
   ],
   "source": [
    "#Identity Matrix\n",
    "np.eye(5)"
   ]
  }
 ],
 "metadata": {
  "kernelspec": {
   "display_name": "Python 3 (ipykernel)",
   "language": "python",
   "name": "python3"
  },
  "language_info": {
   "codemirror_mode": {
    "name": "ipython",
    "version": 3
   },
   "file_extension": ".py",
   "mimetype": "text/x-python",
   "name": "python",
   "nbconvert_exporter": "python",
   "pygments_lexer": "ipython3",
   "version": "3.9.7"
  }
 },
 "nbformat": 4,
 "nbformat_minor": 5
}
