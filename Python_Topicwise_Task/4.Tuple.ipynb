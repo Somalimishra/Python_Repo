{
 "cells": [
  {
   "cell_type": "code",
   "execution_count": 4,
   "id": "db262d8c",
   "metadata": {},
   "outputs": [],
   "source": [
    "#create a tuple\n",
    "t=(4,5,6,7,'sudh',45.67,True)"
   ]
  },
  {
   "cell_type": "code",
   "execution_count": 5,
   "id": "1716d905",
   "metadata": {},
   "outputs": [
    {
     "data": {
      "text/plain": [
       "tuple"
      ]
     },
     "execution_count": 5,
     "metadata": {},
     "output_type": "execute_result"
    }
   ],
   "source": [
    "#check the data types\n",
    "type(t)"
   ]
  },
  {
   "cell_type": "code",
   "execution_count": 3,
   "id": "463d3e5d",
   "metadata": {},
   "outputs": [
    {
     "data": {
      "text/plain": [
       "4"
      ]
     },
     "execution_count": 3,
     "metadata": {},
     "output_type": "execute_result"
    }
   ],
   "source": [
    "#extract the elements at position 0\n",
    "t[0]"
   ]
  },
  {
   "cell_type": "code",
   "execution_count": 4,
   "id": "cf8b5ec4",
   "metadata": {},
   "outputs": [
    {
     "data": {
      "text/plain": [
       "(4, 5, 6, 7)"
      ]
     },
     "execution_count": 4,
     "metadata": {},
     "output_type": "execute_result"
    }
   ],
   "source": [
    "#gives the value excluding upperbound 4 means gives up to position 3\n",
    "t[0:4]"
   ]
  },
  {
   "cell_type": "code",
   "execution_count": 5,
   "id": "506df94e",
   "metadata": {},
   "outputs": [
    {
     "data": {
      "text/plain": [
       "True"
      ]
     },
     "execution_count": 5,
     "metadata": {},
     "output_type": "execute_result"
    }
   ],
   "source": [
    "#print the last value in the tuple\n",
    "t[-1]"
   ]
  },
  {
   "cell_type": "code",
   "execution_count": 6,
   "id": "a6c6a7ed",
   "metadata": {},
   "outputs": [
    {
     "data": {
      "text/plain": [
       "(4, 5, 6, 7, 'sudh', 45.67, True)"
      ]
     },
     "execution_count": 6,
     "metadata": {},
     "output_type": "execute_result"
    }
   ],
   "source": [
    "#print the tuple\n",
    "t"
   ]
  },
  {
   "cell_type": "code",
   "execution_count": 7,
   "id": "208daba0",
   "metadata": {},
   "outputs": [
    {
     "data": {
      "text/plain": [
       "(4, 6, 'sudh')"
      ]
     },
     "execution_count": 7,
     "metadata": {},
     "output_type": "execute_result"
    }
   ],
   "source": [
    "#print from position 0 to 5th witha step size of 2\n",
    "t[0:6:2]"
   ]
  },
  {
   "cell_type": "code",
   "execution_count": 8,
   "id": "fce2d014",
   "metadata": {},
   "outputs": [
    {
     "data": {
      "text/plain": [
       "()"
      ]
     },
     "execution_count": 8,
     "metadata": {},
     "output_type": "execute_result"
    }
   ],
   "source": [
    "#print from position 0 to 4th witha step size of -1\n",
    "#contradiction\n",
    "t[0:4:-1]"
   ]
  },
  {
   "cell_type": "code",
   "execution_count": 9,
   "id": "27cd7073",
   "metadata": {},
   "outputs": [],
   "source": [
    "#create a list\n",
    "l=[1,2,3,456,78]"
   ]
  },
  {
   "cell_type": "code",
   "execution_count": 10,
   "id": "fd42142f",
   "metadata": {},
   "outputs": [],
   "source": [
    "#replace the value 2 with'kumar' \n",
    "#list is mutable\n",
    "l[2]='kumar'"
   ]
  },
  {
   "cell_type": "code",
   "execution_count": 11,
   "id": "00b6efca",
   "metadata": {},
   "outputs": [
    {
     "data": {
      "text/plain": [
       "[1, 2, 'kumar', 456, 78]"
      ]
     },
     "execution_count": 11,
     "metadata": {},
     "output_type": "execute_result"
    }
   ],
   "source": [
    "l"
   ]
  },
  {
   "cell_type": "code",
   "execution_count": 12,
   "id": "e5e8c73c",
   "metadata": {},
   "outputs": [
    {
     "data": {
      "text/plain": [
       "(4, 5, 6, 7, 'sudh', 45.67, True)"
      ]
     },
     "execution_count": 12,
     "metadata": {},
     "output_type": "execute_result"
    }
   ],
   "source": [
    "t"
   ]
  },
  {
   "cell_type": "code",
   "execution_count": 13,
   "id": "c8f3368f",
   "metadata": {},
   "outputs": [
    {
     "ename": "TypeError",
     "evalue": "'tuple' object does not support item assignment",
     "output_type": "error",
     "traceback": [
      "\u001b[1;31m---------------------------------------------------------------------------\u001b[0m",
      "\u001b[1;31mTypeError\u001b[0m                                 Traceback (most recent call last)",
      "\u001b[1;32mC:\\Users\\ABHANJ~1\\AppData\\Local\\Temp/ipykernel_10580/826563222.py\u001b[0m in \u001b[0;36m<module>\u001b[1;34m\u001b[0m\n\u001b[1;32m----> 1\u001b[1;33m \u001b[0mt\u001b[0m\u001b[1;33m[\u001b[0m\u001b[1;36m2\u001b[0m\u001b[1;33m]\u001b[0m\u001b[1;33m=\u001b[0m\u001b[1;34m'sudh'\u001b[0m\u001b[1;33m\u001b[0m\u001b[1;33m\u001b[0m\u001b[0m\n\u001b[0m",
      "\u001b[1;31mTypeError\u001b[0m: 'tuple' object does not support item assignment"
     ]
    }
   ],
   "source": [
    "#replace the value 2 with'kumar'\n",
    "# tuple is immutable\n",
    "t[2]='sudh'"
   ]
  },
  {
   "cell_type": "code",
   "execution_count": 14,
   "id": "5f4a87c1",
   "metadata": {},
   "outputs": [],
   "source": [
    "#create a tuple\n",
    "t1=(3,4,5,6)"
   ]
  },
  {
   "cell_type": "code",
   "execution_count": 15,
   "id": "11f61514",
   "metadata": {},
   "outputs": [
    {
     "data": {
      "text/plain": [
       "(4, 5, 6, 7, 'sudh', 45.67, True, 3, 4, 5, 6)"
      ]
     },
     "execution_count": 15,
     "metadata": {},
     "output_type": "execute_result"
    }
   ],
   "source": [
    "#concatinate two tuple\n",
    "#now may the question arise tuple is immutable how it is going to add \n",
    "# here concatination is possible bcz we are not assigning any value with the existing tuple t we are just adding a new tuple \n",
    "#into existing one\n",
    "t+t1"
   ]
  },
  {
   "cell_type": "code",
   "execution_count": 16,
   "id": "162e3edc",
   "metadata": {},
   "outputs": [
    {
     "data": {
      "text/plain": [
       "(4, 5, 6, 7, 'sudh', 45.67, True)"
      ]
     },
     "execution_count": 16,
     "metadata": {},
     "output_type": "execute_result"
    }
   ],
   "source": [
    "t"
   ]
  },
  {
   "cell_type": "code",
   "execution_count": 17,
   "id": "fc144e7f",
   "metadata": {},
   "outputs": [
    {
     "data": {
      "text/plain": [
       "1"
      ]
     },
     "execution_count": 17,
     "metadata": {},
     "output_type": "execute_result"
    }
   ],
   "source": [
    "#count no. of times 5 is avilable in tuple t\n",
    "t.count(5)"
   ]
  },
  {
   "cell_type": "code",
   "execution_count": 18,
   "id": "ef2e8f25",
   "metadata": {},
   "outputs": [
    {
     "data": {
      "text/plain": [
       "5"
      ]
     },
     "execution_count": 18,
     "metadata": {},
     "output_type": "execute_result"
    }
   ],
   "source": [
    "#find the index of 45.67\n",
    "t.index(45.67)"
   ]
  },
  {
   "cell_type": "code",
   "execution_count": 20,
   "id": "d3438575",
   "metadata": {},
   "outputs": [],
   "source": [
    "#create atuple\n",
    "t=(3,4,56,7,'sudh')"
   ]
  },
  {
   "cell_type": "code",
   "execution_count": 22,
   "id": "1813aa03",
   "metadata": {},
   "outputs": [],
   "source": [
    "#convert the tuple into list\n",
    "t2=list(t)"
   ]
  },
  {
   "cell_type": "code",
   "execution_count": 23,
   "id": "c1c2aaec",
   "metadata": {},
   "outputs": [
    {
     "data": {
      "text/plain": [
       "[3, 4, 56, 7, 'sudh']"
      ]
     },
     "execution_count": 23,
     "metadata": {},
     "output_type": "execute_result"
    }
   ],
   "source": [
    "#print the list t2\n",
    "t2"
   ]
  },
  {
   "cell_type": "code",
   "execution_count": 26,
   "id": "8f51b0e4",
   "metadata": {},
   "outputs": [
    {
     "data": {
      "text/plain": [
       "(3, 4, 56, 7, 'sudh')"
      ]
     },
     "execution_count": 26,
     "metadata": {},
     "output_type": "execute_result"
    }
   ],
   "source": [
    "#convert the list t2 again in to tuple\n",
    "tuple(t2)"
   ]
  },
  {
   "cell_type": "code",
   "execution_count": 25,
   "id": "e6444aa7",
   "metadata": {},
   "outputs": [
    {
     "data": {
      "text/plain": [
       "\"[3, 4, 56, 7, 'sudh']\""
      ]
     },
     "execution_count": 25,
     "metadata": {},
     "output_type": "execute_result"
    }
   ],
   "source": [
    "#convert the tuple into string\n",
    "#it is possible but no meaning here\n",
    "str(t2)"
   ]
  },
  {
   "cell_type": "code",
   "execution_count": null,
   "id": "e38656db",
   "metadata": {},
   "outputs": [],
   "source": []
  }
 ],
 "metadata": {
  "kernelspec": {
   "display_name": "Python 3 (ipykernel)",
   "language": "python",
   "name": "python3"
  },
  "language_info": {
   "codemirror_mode": {
    "name": "ipython",
    "version": 3
   },
   "file_extension": ".py",
   "mimetype": "text/x-python",
   "name": "python",
   "nbconvert_exporter": "python",
   "pygments_lexer": "ipython3",
   "version": "3.9.7"
  }
 },
 "nbformat": 4,
 "nbformat_minor": 5
}
