{
 "cells": [
  {
   "cell_type": "code",
   "execution_count": 1,
   "id": "cb080951",
   "metadata": {},
   "outputs": [],
   "source": [
    "#create a empty dictionary\n",
    "#empty with curly braces create a dictionary not set\n",
    "d={}"
   ]
  },
  {
   "cell_type": "code",
   "execution_count": 2,
   "id": "beb9c5c4",
   "metadata": {},
   "outputs": [
    {
     "data": {
      "text/plain": [
       "dict"
      ]
     },
     "execution_count": 2,
     "metadata": {},
     "output_type": "execute_result"
    }
   ],
   "source": [
    "#check the data type\n",
    "type(d)"
   ]
  },
  {
   "cell_type": "code",
   "execution_count": 3,
   "id": "0a42f62d",
   "metadata": {},
   "outputs": [],
   "source": [
    "#create dictionary with a single element\n",
    "#it is set actually\n",
    "d1={1}"
   ]
  },
  {
   "cell_type": "code",
   "execution_count": 4,
   "id": "6c9ed7f6",
   "metadata": {},
   "outputs": [
    {
     "data": {
      "text/plain": [
       "set"
      ]
     },
     "execution_count": 4,
     "metadata": {},
     "output_type": "execute_result"
    }
   ],
   "source": [
    "#check the data types\n",
    "type(d1)"
   ]
  },
  {
   "cell_type": "code",
   "execution_count": 5,
   "id": "2a0a0fc6",
   "metadata": {},
   "outputs": [],
   "source": [
    "#create a dictionary\n",
    "d2={'key1':'value',234:'xyz','name':'sudh','no':34324345}"
   ]
  },
  {
   "cell_type": "code",
   "execution_count": 6,
   "id": "43d82d72",
   "metadata": {},
   "outputs": [
    {
     "data": {
      "text/plain": [
       "dict"
      ]
     },
     "execution_count": 6,
     "metadata": {},
     "output_type": "execute_result"
    }
   ],
   "source": [
    "#check the data types\n",
    "type(d2)"
   ]
  },
  {
   "cell_type": "code",
   "execution_count": 7,
   "id": "557d6c99",
   "metadata": {},
   "outputs": [
    {
     "data": {
      "text/plain": [
       "'xyz'"
      ]
     },
     "execution_count": 7,
     "metadata": {},
     "output_type": "execute_result"
    }
   ],
   "source": [
    "#check the value stored in key 234\n",
    "d2[234]"
   ]
  },
  {
   "cell_type": "code",
   "execution_count": 8,
   "id": "db0c8c96",
   "metadata": {},
   "outputs": [
    {
     "data": {
      "text/plain": [
       "34324345"
      ]
     },
     "execution_count": 8,
     "metadata": {},
     "output_type": "execute_result"
    }
   ],
   "source": [
    "#check the value stored in key 'no'\n",
    "d2['no']"
   ]
  },
  {
   "cell_type": "code",
   "execution_count": 9,
   "id": "07573ba3",
   "metadata": {},
   "outputs": [],
   "source": [
    "#create a list inside a dictionary\n",
    "d3={'name':'sudh','tech':['python','ML','Dl','NLP','CV','big data']}"
   ]
  },
  {
   "cell_type": "code",
   "execution_count": 10,
   "id": "5dc7e8a8",
   "metadata": {},
   "outputs": [
    {
     "data": {
      "text/plain": [
       "{'name': 'sudh', 'tech': ['python', 'ML', 'Dl', 'NLP', 'CV', 'big data']}"
      ]
     },
     "execution_count": 10,
     "metadata": {},
     "output_type": "execute_result"
    }
   ],
   "source": [
    "#print\n",
    "d3"
   ]
  },
  {
   "cell_type": "code",
   "execution_count": 11,
   "id": "254721c6",
   "metadata": {},
   "outputs": [
    {
     "data": {
      "text/plain": [
       "['python', 'ML', 'Dl', 'NLP', 'CV', 'big data']"
      ]
     },
     "execution_count": 11,
     "metadata": {},
     "output_type": "execute_result"
    }
   ],
   "source": [
    "#check the value stored in key 'tech'\n",
    "d3['tech']"
   ]
  },
  {
   "cell_type": "code",
   "execution_count": 12,
   "id": "8daaea12",
   "metadata": {},
   "outputs": [
    {
     "data": {
      "text/plain": [
       "True"
      ]
     },
     "execution_count": 12,
     "metadata": {},
     "output_type": "execute_result"
    }
   ],
   "source": [
    "#check 'python' is available or not inside he list\n",
    "\"python\" in d3['tech']"
   ]
  },
  {
   "cell_type": "code",
   "execution_count": 16,
   "id": "6e1cedbb",
   "metadata": {},
   "outputs": [],
   "source": [
    "#create a dictionary\n",
    "#keys supposed to be unique\n",
    "#value can be repeated\n",
    "d4={'name':'iNeuron','contact_info':34567,'name':'sudh'}"
   ]
  },
  {
   "cell_type": "code",
   "execution_count": 17,
   "id": "ff5aa2f7",
   "metadata": {},
   "outputs": [
    {
     "data": {
      "text/plain": [
       "{'name': 'sudh', 'contact_info': 34567}"
      ]
     },
     "execution_count": 17,
     "metadata": {},
     "output_type": "execute_result"
    }
   ],
   "source": [
    "#print\n",
    "#as two value has been stored in 'name' key it is taking the last one\n",
    "d4"
   ]
  },
  {
   "cell_type": "code",
   "execution_count": 18,
   "id": "209bf70e",
   "metadata": {},
   "outputs": [],
   "source": [
    "#adding a new element into dictionary\n",
    "#dictionary is mutable\n",
    "d4['k1']='xyz'"
   ]
  },
  {
   "cell_type": "code",
   "execution_count": 19,
   "id": "5c406e9c",
   "metadata": {},
   "outputs": [
    {
     "data": {
      "text/plain": [
       "{'name': 'sudh', 'contact_info': 34567, 'k1': 'xyz'}"
      ]
     },
     "execution_count": 19,
     "metadata": {},
     "output_type": "execute_result"
    }
   ],
   "source": [
    "d4"
   ]
  },
  {
   "cell_type": "code",
   "execution_count": 20,
   "id": "92911627",
   "metadata": {},
   "outputs": [],
   "source": [
    "#assignng a value 'som' to key 'name'\n",
    "d4['name']='som'"
   ]
  },
  {
   "cell_type": "code",
   "execution_count": 21,
   "id": "1f4ca913",
   "metadata": {},
   "outputs": [
    {
     "data": {
      "text/plain": [
       "{'name': 'som', 'contact_info': 34567, 'k1': 'xyz'}"
      ]
     },
     "execution_count": 21,
     "metadata": {},
     "output_type": "execute_result"
    }
   ],
   "source": [
    "d4"
   ]
  },
  {
   "cell_type": "code",
   "execution_count": 23,
   "id": "145ccf3b",
   "metadata": {},
   "outputs": [],
   "source": [
    "#assigning a new dictionary d2 into existing dictionary with a key 'k2'\n",
    "d4['k2']=d2"
   ]
  },
  {
   "cell_type": "code",
   "execution_count": 22,
   "id": "bb3ae075",
   "metadata": {},
   "outputs": [
    {
     "data": {
      "text/plain": [
       "{'key1': 'value', 234: 'xyz', 'name': 'sudh', 'no': 34324345}"
      ]
     },
     "execution_count": 22,
     "metadata": {},
     "output_type": "execute_result"
    }
   ],
   "source": [
    "d2"
   ]
  },
  {
   "cell_type": "code",
   "execution_count": 24,
   "id": "59131764",
   "metadata": {},
   "outputs": [
    {
     "data": {
      "text/plain": [
       "{'name': 'som',\n",
       " 'contact_info': 34567,\n",
       " 'k1': 'xyz',\n",
       " 'k2': {'key1': 'value', 234: 'xyz', 'name': 'sudh', 'no': 34324345}}"
      ]
     },
     "execution_count": 24,
     "metadata": {},
     "output_type": "execute_result"
    }
   ],
   "source": [
    "#print d4\n",
    "d4"
   ]
  },
  {
   "cell_type": "code",
   "execution_count": 26,
   "id": "346a7315",
   "metadata": {},
   "outputs": [
    {
     "data": {
      "text/plain": [
       "34324345"
      ]
     },
     "execution_count": 26,
     "metadata": {},
     "output_type": "execute_result"
    }
   ],
   "source": [
    "#find the value stored inside the dictionary with key'no'\n",
    "d4['k2']['no']"
   ]
  },
  {
   "cell_type": "code",
   "execution_count": 27,
   "id": "cfb900fd",
   "metadata": {},
   "outputs": [
    {
     "ename": "SyntaxError",
     "evalue": "invalid syntax (Temp/ipykernel_1660/1800208791.py, line 1)",
     "output_type": "error",
     "traceback": [
      "\u001b[1;36m  File \u001b[1;32m\"C:\\Users\\ABHANJ~1\\AppData\\Local\\Temp/ipykernel_1660/1800208791.py\"\u001b[1;36m, line \u001b[1;32m1\u001b[0m\n\u001b[1;33m    d5={@:'sdfd'}\u001b[0m\n\u001b[1;37m        ^\u001b[0m\n\u001b[1;31mSyntaxError\u001b[0m\u001b[1;31m:\u001b[0m invalid syntax\n"
     ]
    }
   ],
   "source": [
    "# special character cant be assign as a key\n",
    "d5={@:'sdfd'}"
   ]
  },
  {
   "cell_type": "code",
   "execution_count": 28,
   "id": "ca5acf8d",
   "metadata": {},
   "outputs": [],
   "source": [
    "# special character underscore can be assign as a key\n",
    "d5={_:'sdfd'}"
   ]
  },
  {
   "cell_type": "code",
   "execution_count": 30,
   "id": "8997df4a",
   "metadata": {},
   "outputs": [
    {
     "data": {
      "text/plain": [
       "'sdfd'"
      ]
     },
     "execution_count": 30,
     "metadata": {},
     "output_type": "execute_result"
    }
   ],
   "source": [
    "d5[_]"
   ]
  },
  {
   "cell_type": "code",
   "execution_count": 31,
   "id": "65d83102",
   "metadata": {},
   "outputs": [],
   "source": [
    "# tuple can be assign as a key\n",
    "d6={(1,2,34):'fsdss'}"
   ]
  },
  {
   "cell_type": "code",
   "execution_count": 33,
   "id": "dce613bc",
   "metadata": {},
   "outputs": [
    {
     "data": {
      "text/plain": [
       "'fsdss'"
      ]
     },
     "execution_count": 33,
     "metadata": {},
     "output_type": "execute_result"
    }
   ],
   "source": [
    "d6[(1,2,34)]"
   ]
  },
  {
   "cell_type": "code",
   "execution_count": 34,
   "id": "bea7b4c4",
   "metadata": {},
   "outputs": [
    {
     "ename": "TypeError",
     "evalue": "unhashable type: 'list'",
     "output_type": "error",
     "traceback": [
      "\u001b[1;31m---------------------------------------------------------------------------\u001b[0m",
      "\u001b[1;31mTypeError\u001b[0m                                 Traceback (most recent call last)",
      "\u001b[1;32mC:\\Users\\ABHANJ~1\\AppData\\Local\\Temp/ipykernel_1660/1049405460.py\u001b[0m in \u001b[0;36m<module>\u001b[1;34m\u001b[0m\n\u001b[1;32m----> 1\u001b[1;33m \u001b[0md7\u001b[0m\u001b[1;33m=\u001b[0m\u001b[1;33m{\u001b[0m\u001b[1;33m[\u001b[0m\u001b[1;36m1\u001b[0m\u001b[1;33m,\u001b[0m\u001b[1;36m2\u001b[0m\u001b[1;33m,\u001b[0m\u001b[1;36m34\u001b[0m\u001b[1;33m]\u001b[0m\u001b[1;33m:\u001b[0m\u001b[1;34m'fsdss'\u001b[0m\u001b[1;33m}\u001b[0m\u001b[1;33m\u001b[0m\u001b[1;33m\u001b[0m\u001b[0m\n\u001b[0m",
      "\u001b[1;31mTypeError\u001b[0m: unhashable type: 'list'"
     ]
    }
   ],
   "source": [
    "# list cant be assign as a key\n",
    "d7={[1,2,34]:'fsdss'}"
   ]
  },
  {
   "cell_type": "code",
   "execution_count": 35,
   "id": "ef1be747",
   "metadata": {},
   "outputs": [
    {
     "ename": "TypeError",
     "evalue": "unhashable type: 'set'",
     "output_type": "error",
     "traceback": [
      "\u001b[1;31m---------------------------------------------------------------------------\u001b[0m",
      "\u001b[1;31mTypeError\u001b[0m                                 Traceback (most recent call last)",
      "\u001b[1;32mC:\\Users\\ABHANJ~1\\AppData\\Local\\Temp/ipykernel_1660/3740490424.py\u001b[0m in \u001b[0;36m<module>\u001b[1;34m\u001b[0m\n\u001b[1;32m----> 1\u001b[1;33m \u001b[0md8\u001b[0m\u001b[1;33m=\u001b[0m\u001b[1;33m{\u001b[0m\u001b[1;33m{\u001b[0m\u001b[1;36m3\u001b[0m\u001b[1;33m,\u001b[0m\u001b[1;36m4\u001b[0m\u001b[1;33m}\u001b[0m\u001b[1;33m:\u001b[0m\u001b[1;34m'fsdss'\u001b[0m\u001b[1;33m}\u001b[0m\u001b[1;33m\u001b[0m\u001b[1;33m\u001b[0m\u001b[0m\n\u001b[0m",
      "\u001b[1;31mTypeError\u001b[0m: unhashable type: 'set'"
     ]
    }
   ],
   "source": [
    "# set cant be assign as a key\n",
    "d8={{3,4}:'fsdss'}"
   ]
  },
  {
   "cell_type": "code",
   "execution_count": 36,
   "id": "fedc3fdb",
   "metadata": {},
   "outputs": [
    {
     "data": {
      "text/plain": [
       "{'key1': 'value', 234: 'xyz', 'name': 'sudh', 'no': 34324345}"
      ]
     },
     "execution_count": 36,
     "metadata": {},
     "output_type": "execute_result"
    }
   ],
   "source": [
    "d2"
   ]
  },
  {
   "cell_type": "code",
   "execution_count": 37,
   "id": "48acf7bf",
   "metadata": {},
   "outputs": [
    {
     "data": {
      "text/plain": [
       "{'name': 'sudh', 'tech': ['python', 'ML', 'Dl', 'NLP', 'CV', 'big data']}"
      ]
     },
     "execution_count": 37,
     "metadata": {},
     "output_type": "execute_result"
    }
   ],
   "source": [
    "d3"
   ]
  },
  {
   "cell_type": "code",
   "execution_count": 38,
   "id": "a22ad724",
   "metadata": {},
   "outputs": [
    {
     "ename": "TypeError",
     "evalue": "unsupported operand type(s) for +: 'dict' and 'dict'",
     "output_type": "error",
     "traceback": [
      "\u001b[1;31m---------------------------------------------------------------------------\u001b[0m",
      "\u001b[1;31mTypeError\u001b[0m                                 Traceback (most recent call last)",
      "\u001b[1;32mC:\\Users\\ABHANJ~1\\AppData\\Local\\Temp/ipykernel_1660/2884743602.py\u001b[0m in \u001b[0;36m<module>\u001b[1;34m\u001b[0m\n\u001b[1;32m----> 1\u001b[1;33m \u001b[0md2\u001b[0m\u001b[1;33m+\u001b[0m\u001b[0md3\u001b[0m\u001b[1;33m\u001b[0m\u001b[1;33m\u001b[0m\u001b[0m\n\u001b[0m",
      "\u001b[1;31mTypeError\u001b[0m: unsupported operand type(s) for +: 'dict' and 'dict'"
     ]
    }
   ],
   "source": [
    "#concatenate two dictionary\n",
    "#cant possible\n",
    "d2+d3"
   ]
  },
  {
   "cell_type": "code",
   "execution_count": 39,
   "id": "27f5924f",
   "metadata": {},
   "outputs": [
    {
     "data": {
      "text/plain": [
       "dict_keys(['key1', 234, 'name', 'no'])"
      ]
     },
     "execution_count": 39,
     "metadata": {},
     "output_type": "execute_result"
    }
   ],
   "source": [
    "#print all the keys\n",
    "d2.keys()"
   ]
  },
  {
   "cell_type": "code",
   "execution_count": 40,
   "id": "b6feeba7",
   "metadata": {},
   "outputs": [
    {
     "data": {
      "text/plain": [
       "dict_values(['value', 'xyz', 'sudh', 34324345])"
      ]
     },
     "execution_count": 40,
     "metadata": {},
     "output_type": "execute_result"
    }
   ],
   "source": [
    "#print all the values\n",
    "d2.values()"
   ]
  },
  {
   "cell_type": "code",
   "execution_count": 41,
   "id": "680347fb",
   "metadata": {},
   "outputs": [
    {
     "data": {
      "text/plain": [
       "dict_items([('key1', 'value'), (234, 'xyz'), ('name', 'sudh'), ('no', 34324345)])"
      ]
     },
     "execution_count": 41,
     "metadata": {},
     "output_type": "execute_result"
    }
   ],
   "source": [
    "#print the items in dictionary\n",
    "d2.items()"
   ]
  },
  {
   "cell_type": "code",
   "execution_count": null,
   "id": "4fd38434",
   "metadata": {},
   "outputs": [],
   "source": []
  }
 ],
 "metadata": {
  "kernelspec": {
   "display_name": "Python 3 (ipykernel)",
   "language": "python",
   "name": "python3"
  },
  "language_info": {
   "codemirror_mode": {
    "name": "ipython",
    "version": 3
   },
   "file_extension": ".py",
   "mimetype": "text/x-python",
   "name": "python",
   "nbconvert_exporter": "python",
   "pygments_lexer": "ipython3",
   "version": "3.9.7"
  }
 },
 "nbformat": 4,
 "nbformat_minor": 5
}
