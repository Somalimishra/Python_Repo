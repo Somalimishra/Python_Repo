{
 "cells": [
  {
   "cell_type": "code",
   "execution_count": 6,
   "id": "f254d63c",
   "metadata": {},
   "outputs": [
    {
     "ename": "ZeroDivisionError",
     "evalue": "division by zero",
     "output_type": "error",
     "traceback": [
      "\u001b[1;31m---------------------------------------------------------------------------\u001b[0m",
      "\u001b[1;31mZeroDivisionError\u001b[0m                         Traceback (most recent call last)",
      "\u001b[1;32mC:\\Users\\ABHANJ~1\\AppData\\Local\\Temp/ipykernel_1228/1377293268.py\u001b[0m in \u001b[0;36m<module>\u001b[1;34m\u001b[0m\n\u001b[0;32m      1\u001b[0m \u001b[1;31m#ZeroDivisionError: division by zero\u001b[0m\u001b[1;33m\u001b[0m\u001b[1;33m\u001b[0m\u001b[0m\n\u001b[0;32m      2\u001b[0m \u001b[0ma\u001b[0m\u001b[1;33m=\u001b[0m\u001b[1;36m10\u001b[0m\u001b[1;33m\u001b[0m\u001b[1;33m\u001b[0m\u001b[0m\n\u001b[1;32m----> 3\u001b[1;33m \u001b[0ma\u001b[0m\u001b[1;33m/\u001b[0m\u001b[1;36m0\u001b[0m\u001b[1;33m\u001b[0m\u001b[1;33m\u001b[0m\u001b[0m\n\u001b[0m",
      "\u001b[1;31mZeroDivisionError\u001b[0m: division by zero"
     ]
    }
   ],
   "source": [
    "#ZeroDivisionError: division by zero\n",
    "a=10\n",
    "a/0"
   ]
  },
  {
   "cell_type": "code",
   "execution_count": 7,
   "id": "8c056e70",
   "metadata": {},
   "outputs": [
    {
     "ename": "FileNotFoundError",
     "evalue": "[Errno 2] No such file or directory: 'sudh.txt'",
     "output_type": "error",
     "traceback": [
      "\u001b[1;31m---------------------------------------------------------------------------\u001b[0m",
      "\u001b[1;31mFileNotFoundError\u001b[0m                         Traceback (most recent call last)",
      "\u001b[1;32mC:\\Users\\ABHANJ~1\\AppData\\Local\\Temp/ipykernel_1228/362153423.py\u001b[0m in \u001b[0;36m<module>\u001b[1;34m\u001b[0m\n\u001b[0;32m      1\u001b[0m \u001b[1;31m#No such file or directory: 'sudh.txt'\u001b[0m\u001b[1;33m\u001b[0m\u001b[1;33m\u001b[0m\u001b[0m\n\u001b[1;32m----> 2\u001b[1;33m \u001b[0mf\u001b[0m\u001b[1;33m=\u001b[0m\u001b[0mopen\u001b[0m\u001b[1;33m(\u001b[0m\u001b[1;34m'sudh.txt'\u001b[0m\u001b[1;33m,\u001b[0m\u001b[1;34m'r'\u001b[0m\u001b[1;33m)\u001b[0m\u001b[1;33m\u001b[0m\u001b[1;33m\u001b[0m\u001b[0m\n\u001b[0m\u001b[0;32m      3\u001b[0m \u001b[0mprint\u001b[0m\u001b[1;33m(\u001b[0m\u001b[1;34m'this is my code to handle an exception'\u001b[0m\u001b[1;33m)\u001b[0m\u001b[1;33m\u001b[0m\u001b[1;33m\u001b[0m\u001b[0m\n",
      "\u001b[1;31mFileNotFoundError\u001b[0m: [Errno 2] No such file or directory: 'sudh.txt'"
     ]
    }
   ],
   "source": [
    "#No such file or directory: 'sudh.txt'\n",
    "f=open('sudh.txt','r')\n",
    "print('this is my code to handle an exception')"
   ]
  },
  {
   "cell_type": "code",
   "execution_count": 10,
   "id": "4762c770",
   "metadata": {},
   "outputs": [
    {
     "name": "stdout",
     "output_type": "stream",
     "text": [
      "division by zero\n",
      "this will be final code after handling an exception\n"
     ]
    }
   ],
   "source": [
    "#exception handling\n",
    "try:\n",
    "    a=10\n",
    "    a/0\n",
    "except Exception as e:\n",
    "    print(e)\n",
    "    print('this will be final code after handling an exception')"
   ]
  },
  {
   "cell_type": "code",
   "execution_count": 11,
   "id": "eba4612e",
   "metadata": {},
   "outputs": [
    {
     "name": "stdout",
     "output_type": "stream",
     "text": [
      "[Errno 2] No such file or directory: 'sudhanshu.txt'\n"
     ]
    }
   ],
   "source": [
    "try:\n",
    "    f=open('sudhanshu.txt','r')\n",
    "except Exception as e:\n",
    "    print(e)"
   ]
  },
  {
   "cell_type": "code",
   "execution_count": 12,
   "id": "a27dee57",
   "metadata": {},
   "outputs": [
    {
     "ename": "FileNotFoundError",
     "evalue": "[Errno 2] No such file or directory: 'sudh1.txt'",
     "output_type": "error",
     "traceback": [
      "\u001b[1;31m---------------------------------------------------------------------------\u001b[0m",
      "\u001b[1;31mFileNotFoundError\u001b[0m                         Traceback (most recent call last)",
      "\u001b[1;32mC:\\Users\\ABHANJ~1\\AppData\\Local\\Temp/ipykernel_1228/2450850479.py\u001b[0m in \u001b[0;36m<module>\u001b[1;34m\u001b[0m\n\u001b[1;32m----> 1\u001b[1;33m \u001b[0mf\u001b[0m\u001b[1;33m=\u001b[0m\u001b[0mopen\u001b[0m\u001b[1;33m(\u001b[0m\u001b[1;34m'sudh1.txt'\u001b[0m\u001b[1;33m)\u001b[0m\u001b[1;33m\u001b[0m\u001b[1;33m\u001b[0m\u001b[0m\n\u001b[0m\u001b[0;32m      2\u001b[0m \u001b[0mf\u001b[0m\u001b[1;33m.\u001b[0m\u001b[0mwrite\u001b[0m\u001b[1;33m(\u001b[0m\u001b[1;34m'this is my suspicuous code'\u001b[0m\u001b[1;33m)\u001b[0m\u001b[1;33m\u001b[0m\u001b[1;33m\u001b[0m\u001b[0m\n",
      "\u001b[1;31mFileNotFoundError\u001b[0m: [Errno 2] No such file or directory: 'sudh1.txt'"
     ]
    }
   ],
   "source": [
    "f=open('sudh1.txt')\n",
    "f.write('this is my suspicuous code')"
   ]
  },
  {
   "cell_type": "code",
   "execution_count": 14,
   "id": "408583bd",
   "metadata": {},
   "outputs": [
    {
     "name": "stdout",
     "output_type": "stream",
     "text": [
      "[Errno 2] No such file or directory: 'sudh1.txt'\n",
      "this is not my suspicious set of the code\n"
     ]
    }
   ],
   "source": [
    "try:\n",
    "    f=open('sudh1.txt')\n",
    "    f.write('this is my suspicuous code')\n",
    "except Exception as e:\n",
    "    print(e)\n",
    "    print('this is not my suspicious set of the code')"
   ]
  },
  {
   "cell_type": "code",
   "execution_count": 15,
   "id": "96205ddd",
   "metadata": {},
   "outputs": [
    {
     "name": "stdout",
     "output_type": "stream",
     "text": [
      "[Errno 2] No such file or directory: 'sudh1.txt'\n",
      "this is not my suspicious set of the code\n",
      "this block will be executed anytime\n"
     ]
    }
   ],
   "source": [
    "#finally block\n",
    "try:\n",
    "    f=open('sudh1.txt')\n",
    "    f.write('this is my suspicuous code')\n",
    "except Exception as e:\n",
    "    print(e)\n",
    "    print('this is not my suspicious set of the code')\n",
    "finally:\n",
    "    print('this block will be executed anytime')"
   ]
  },
  {
   "cell_type": "code",
   "execution_count": 22,
   "id": "281ff901",
   "metadata": {},
   "outputs": [],
   "source": [
    "#create a function which will ask for an integer,if user has entered a string it will give an another chnace to user to entered\n",
    "#integer value,if still user entering string then error will be handle by except block and finally block\n",
    "def askint():\n",
    "    try:\n",
    "        val=int(input('please enter an integer'))\n",
    "    except:\n",
    "        print('no you have not entered an integer')\n",
    "        try:\n",
    "            val=int(input('please enter an integer'))\n",
    "        except:\n",
    "            print('we are able to handle your mistake 2nd time')\n",
    "    finally:\n",
    "        print('finally will be executed anyhow')"
   ]
  },
  {
   "cell_type": "code",
   "execution_count": 24,
   "id": "97c5c3d8",
   "metadata": {},
   "outputs": [
    {
     "name": "stdout",
     "output_type": "stream",
     "text": [
      "please enter an integerjljkj\n",
      "no you have not entered an integer\n",
      "please enter an integerkk\n",
      "we are able to handle your mistake 2nd time\n",
      "finally will be executed anyhow\n"
     ]
    }
   ],
   "source": [
    "askint()"
   ]
  },
  {
   "cell_type": "code",
   "execution_count": 27,
   "id": "e56858d1",
   "metadata": {},
   "outputs": [],
   "source": [
    "#create a function which will ask the user to enter no. until user has not entered the integer value \n",
    "def askint1():\n",
    "    while True:\n",
    "        try:\n",
    "            val=int(input('please try to input an integer'))\n",
    "            break\n",
    "        except:\n",
    "            print('looks like you have not enterd an integer')\n",
    "            continue\n",
    "            "
   ]
  },
  {
   "cell_type": "code",
   "execution_count": 28,
   "id": "49ea7b29",
   "metadata": {},
   "outputs": [
    {
     "name": "stdout",
     "output_type": "stream",
     "text": [
      "please try to input an integerieuidejhhjgfeufh\n",
      "looks like you have not enterd an integer\n",
      "please try to input an integeruhikj\n",
      "looks like you have not enterd an integer\n",
      "please try to input an integer3454\n"
     ]
    }
   ],
   "source": [
    "askint1()"
   ]
  },
  {
   "cell_type": "code",
   "execution_count": 29,
   "id": "bb108328",
   "metadata": {},
   "outputs": [
    {
     "name": "stdout",
     "output_type": "stream",
     "text": [
      "please try to input an integerjgjk\n",
      "looks like you have not enterd an integer\n",
      "please try to input an integerggmfkm\n",
      "looks like you have not enterd an integer\n",
      "please try to input an integerfgkof\n",
      "looks like you have not enterd an integer\n",
      "please try to input an integer98908\n"
     ]
    }
   ],
   "source": [
    "#without using function\n",
    "while True:\n",
    "        try:\n",
    "            val=int(input('please try to input an integer'))\n",
    "            break\n",
    "        except:\n",
    "            print('looks like you have not enterd an integer')\n",
    "            continue"
   ]
  },
  {
   "cell_type": "code",
   "execution_count": null,
   "id": "bb2ac2aa",
   "metadata": {},
   "outputs": [],
   "source": [
    "#without using continue also i can achieve the same thing,bcz here in this case while True: we have used\n",
    "while True:\n",
    "        try:\n",
    "            val=int(input('please try to input an integer'))\n",
    "            break\n",
    "        except:\n",
    "            print('looks like you have not enterd an integer')"
   ]
  },
  {
   "cell_type": "code",
   "execution_count": null,
   "id": "00946231",
   "metadata": {},
   "outputs": [],
   "source": []
  }
 ],
 "metadata": {
  "kernelspec": {
   "display_name": "Python 3 (ipykernel)",
   "language": "python",
   "name": "python3"
  },
  "language_info": {
   "codemirror_mode": {
    "name": "ipython",
    "version": 3
   },
   "file_extension": ".py",
   "mimetype": "text/x-python",
   "name": "python",
   "nbconvert_exporter": "python",
   "pygments_lexer": "ipython3",
   "version": "3.9.7"
  }
 },
 "nbformat": 4,
 "nbformat_minor": 5
}
