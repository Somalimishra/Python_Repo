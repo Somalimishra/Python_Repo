{
 "cells": [
  {
   "cell_type": "markdown",
   "id": "d0e76dae",
   "metadata": {},
   "source": [
    "# Challenges"
   ]
  },
  {
   "cell_type": "code",
   "execution_count": null,
   "id": "733157da",
   "metadata": {},
   "outputs": [],
   "source": [
    "s = \"this is My First Python programming class and i am learNING python string and its function\"\n",
    "1 . Try to extract data from index one to index 300 with a jump of 3 \n",
    "2. Try to reverse a string without using reverse function \n",
    "3. Try to split a string after conversion of entire string in uppercase \n",
    "4. try to convert the whole string into lower case \n",
    "5 . Try to capitalize the whole string \n",
    "6 . Write a diference between isalnum() and isalpha()\n",
    "7. Try to give an example of expand tab\n",
    "8 . Give an example of strip , lstrip and rstrip \n",
    "9.  Replace a string charecter by another charector by taking your own example \n",
    "\"sudhanshu\"\n",
    "10 . Try  to give a defination of string center function with and exmple \n",
    "11 . Write your own definition of compiler and interpretor without copy paste form internet in your own language\n",
    "12 . Python is a interpreted of compiled language give a clear ans with your understanding \n",
    "13 . Try to write a usecase of python with your understanding .\n",
    "\n",
    "\n",
    "you have to send a jupyter notebook to shivan@ineuron.ai before next saturday class 21st of may . "
   ]
  },
  {
   "cell_type": "code",
   "execution_count": 4,
   "id": "a4b13dcb",
   "metadata": {},
   "outputs": [],
   "source": [
    "s = \"this is My First Python programming class and i am learNING python string and its function\""
   ]
  },
  {
   "cell_type": "code",
   "execution_count": 5,
   "id": "3d24abd3",
   "metadata": {},
   "outputs": [
    {
     "data": {
      "text/plain": [
       "'h   r tnrrmglsnimeNGyosi dtfco'"
      ]
     },
     "execution_count": 5,
     "metadata": {},
     "output_type": "execute_result"
    }
   ],
   "source": [
    "#1 . Try to extract data from index one to index 300 with a jump of 3 \n",
    "s[1:301:3]"
   ]
  },
  {
   "cell_type": "code",
   "execution_count": 6,
   "id": "743e979e",
   "metadata": {},
   "outputs": [
    {
     "data": {
      "text/plain": [
       "'noitcnuf sti dna gnirts nohtyp GNINrael ma i dna ssalc gnimmargorp nohtyP tsriF yM si siht'"
      ]
     },
     "execution_count": 6,
     "metadata": {},
     "output_type": "execute_result"
    }
   ],
   "source": [
    "#2. Try to reverse a string without using reverse function \n",
    "s[::-1]"
   ]
  },
  {
   "cell_type": "code",
   "execution_count": 7,
   "id": "192ea3b1",
   "metadata": {},
   "outputs": [
    {
     "data": {
      "text/plain": [
       "['THIS',\n",
       " 'IS',\n",
       " 'MY',\n",
       " 'FIRST',\n",
       " 'PYTHON',\n",
       " 'PROGRAMMING',\n",
       " 'CLASS',\n",
       " 'AND',\n",
       " 'I',\n",
       " 'AM',\n",
       " 'LEARNING',\n",
       " 'PYTHON',\n",
       " 'STRING',\n",
       " 'AND',\n",
       " 'ITS',\n",
       " 'FUNCTION']"
      ]
     },
     "execution_count": 7,
     "metadata": {},
     "output_type": "execute_result"
    }
   ],
   "source": [
    "#3. Try to split a string after conversion of entire string in uppercase \n",
    "s=s.upper()\n",
    "s.split()"
   ]
  },
  {
   "cell_type": "code",
   "execution_count": 8,
   "id": "f7281a1a",
   "metadata": {},
   "outputs": [
    {
     "data": {
      "text/plain": [
       "'this is my first python programming class and i am learning python string and its function'"
      ]
     },
     "execution_count": 8,
     "metadata": {},
     "output_type": "execute_result"
    }
   ],
   "source": [
    "#4. try to convert the whole string into lower case \n",
    "s.lower()"
   ]
  },
  {
   "cell_type": "code",
   "execution_count": 10,
   "id": "27c4787d",
   "metadata": {},
   "outputs": [
    {
     "data": {
      "text/plain": [
       "'This Is My First Python Programming Class And I Am Learning Python String And Its Function'"
      ]
     },
     "execution_count": 10,
     "metadata": {},
     "output_type": "execute_result"
    }
   ],
   "source": [
    "#5 . Try to capitalize the whole string\n",
    "s.title()"
   ]
  },
  {
   "cell_type": "code",
   "execution_count": null,
   "id": "9060f83c",
   "metadata": {},
   "outputs": [],
   "source": [
    "#6 . Write a diference between isalnum() and isalpha()\n",
    "isalnum()= if the string contains combination of both alphabets and numeric\n",
    "character then it returns True else False\n",
    "isalpha()= if the string contains only alphabets then it returns True else False"
   ]
  },
  {
   "cell_type": "code",
   "execution_count": 273,
   "id": "f5f8090e",
   "metadata": {},
   "outputs": [
    {
     "data": {
      "text/plain": [
       "'i       am using        jupyter notebook'"
      ]
     },
     "execution_count": 273,
     "metadata": {},
     "output_type": "execute_result"
    }
   ],
   "source": [
    "#7. Try to give an example of expand tab\n",
    "s='i\\tam using\\tjupyter notebook'\n",
    "s.expandtabs()"
   ]
  },
  {
   "cell_type": "code",
   "execution_count": 263,
   "id": "e842bb05",
   "metadata": {},
   "outputs": [],
   "source": [
    "#8 . Give an example of strip , lstrip and rstrip \n",
    "a='  somali mishra  '"
   ]
  },
  {
   "cell_type": "code",
   "execution_count": 260,
   "id": "9d0d2e8f",
   "metadata": {},
   "outputs": [
    {
     "data": {
      "text/plain": [
       "'somali mishra'"
      ]
     },
     "execution_count": 260,
     "metadata": {},
     "output_type": "execute_result"
    }
   ],
   "source": [
    "a.strip()"
   ]
  },
  {
   "cell_type": "code",
   "execution_count": 262,
   "id": "f29e777e",
   "metadata": {},
   "outputs": [
    {
     "data": {
      "text/plain": [
       "'somali mishra  '"
      ]
     },
     "execution_count": 262,
     "metadata": {},
     "output_type": "execute_result"
    }
   ],
   "source": [
    "a.lstrip()"
   ]
  },
  {
   "cell_type": "code",
   "execution_count": 264,
   "id": "6beb7226",
   "metadata": {},
   "outputs": [
    {
     "data": {
      "text/plain": [
       "'  somali mishra'"
      ]
     },
     "execution_count": 264,
     "metadata": {},
     "output_type": "execute_result"
    }
   ],
   "source": [
    "a.rstrip()"
   ]
  },
  {
   "cell_type": "code",
   "execution_count": 266,
   "id": "821a2448",
   "metadata": {},
   "outputs": [],
   "source": [
    "#9.  Replace a string charecter by another charecter by taking your own example \n",
    "a=\"sudhanshu\""
   ]
  },
  {
   "cell_type": "code",
   "execution_count": 267,
   "id": "dcc6ae2f",
   "metadata": {},
   "outputs": [
    {
     "data": {
      "text/plain": [
       "'subhrhanshu'"
      ]
     },
     "execution_count": 267,
     "metadata": {},
     "output_type": "execute_result"
    }
   ],
   "source": [
    "a.replace('d','bhr')"
   ]
  },
  {
   "cell_type": "code",
   "execution_count": 12,
   "id": "ec5571df",
   "metadata": {},
   "outputs": [
    {
     "data": {
      "text/plain": [
       "'###somali mishra####'"
      ]
     },
     "execution_count": 12,
     "metadata": {},
     "output_type": "execute_result"
    }
   ],
   "source": [
    "#10 . Try  to give a defination of string center function with an exmple \n",
    "c='somali mishra'\n",
    "c.center(20,\"#\")"
   ]
  },
  {
   "cell_type": "code",
   "execution_count": null,
   "id": "22c93f10",
   "metadata": {},
   "outputs": [],
   "source": [
    "#11 . Write your own definition of compiler and interpretor without copy paste form internet in your own language\n",
    "-computer can not understand the high level language like C,C++ and java. Compiler and Interpreter is the language \n",
    "translators converts the highlevel language in to machine code(i.e 0 and 1).\n",
    "-compiler scans the whole program first then converts it in to machine code and show all error and warnings at the same time \n",
    "while interpreter scans the program line by line and converts it in to machine code and show one error at a time after scanning \n",
    "one line of code.\n",
    "-so in compiler debugging is slow while faster in interpreter."
   ]
  },
  {
   "cell_type": "code",
   "execution_count": null,
   "id": "d3d80acb",
   "metadata": {},
   "outputs": [],
   "source": [
    "#12 . Python is a interpreted or compiled language give a clear ans with your understanding \n",
    "-python is compiled as well as interpreted language. in python to converts the high level language in to \n",
    "low level laguage the terms compiler cames in to the picture.\n",
    "-In python when we execute the program 1st the compiler converts the source code in to byte code and then interpreter converts \n",
    "the byte code in to machine level language.\n",
    "\n",
    "source code--->compiler--->byte code--->interpreter--->machine code\n",
    "                                        (Virtual \n",
    "                                        machine(PVM))\n",
    "-in python the process of execution is bit different because to make the program platform independence(we can write code once\n",
    "and can run in differenr platform).As the machine changes the cpu architecture also changes so if we are writting some code \n",
    "in one machine it may not be executed in other so to resolve this problem virtual machines converts the byte code in to machine\n",
    "code and make it platform indepndent."
   ]
  },
  {
   "cell_type": "code",
   "execution_count": null,
   "id": "5ab68e91",
   "metadata": {},
   "outputs": [],
   "source": [
    "#13 . Try to write a usecase of python with your understanding .\n",
    "1.Web applications.\n",
    "2.Software development.\n",
    "3.Data science.\n",
    "4.Machine Learning and AI applications.\n",
    "5.Game development.\n",
    "6.Desktop GUI\n",
    "7.Internet of Things(IOT)\n",
    "8.Web Scraping\n",
    "9.Enterprise applications"
   ]
  }
 ],
 "metadata": {
  "kernelspec": {
   "display_name": "Python 3 (ipykernel)",
   "language": "python",
   "name": "python3"
  },
  "language_info": {
   "codemirror_mode": {
    "name": "ipython",
    "version": 3
   },
   "file_extension": ".py",
   "mimetype": "text/x-python",
   "name": "python",
   "nbconvert_exporter": "python",
   "pygments_lexer": "ipython3",
   "version": "3.9.7"
  }
 },
 "nbformat": 4,
 "nbformat_minor": 5
}
