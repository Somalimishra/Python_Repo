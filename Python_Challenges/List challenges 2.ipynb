{
 "cells": [
  {
   "cell_type": "code",
   "execution_count": null,
   "id": "1de068b5",
   "metadata": {},
   "outputs": [],
   "source": [
    "#Questions \n",
    "l = [3,4,5,6,7 , [23,456,67,8,78,78] , [345,56,87,8,98,9] , (234,6657,6) , {\"key1\" :\"sudh\" , 234:[23,45,656]}]\n",
    "1 . Try to reverse a list \n",
    "2. try to access 234 out of this list \n",
    "3 . try to access 456 \n",
    "4 . Try to extract only a list collection form list l \n",
    "5 . Try to extract \"sudh\"\n",
    "6 . Try to list all the key in dict element avaible in list \n",
    "7 . Try to extract all the value element form dict available in list "
   ]
  },
  {
   "cell_type": "code",
   "execution_count": 16,
   "id": "bdf6d694",
   "metadata": {},
   "outputs": [],
   "source": [
    "l = [3,4,5,6,7 , [23,456,67,8,78,78] , [345,56,87,8,98,9] , (234,6657,6) , {\"key1\" :\"sudh\" , 234:[23,45,656]}]"
   ]
  },
  {
   "cell_type": "code",
   "execution_count": 17,
   "id": "0126c16e",
   "metadata": {},
   "outputs": [
    {
     "data": {
      "text/plain": [
       "[{'key1': 'sudh', 234: [23, 45, 656]},\n",
       " (234, 6657, 6),\n",
       " [345, 56, 87, 8, 98, 9],\n",
       " [23, 456, 67, 8, 78, 78],\n",
       " 7,\n",
       " 6,\n",
       " 5,\n",
       " 4,\n",
       " 3]"
      ]
     },
     "execution_count": 17,
     "metadata": {},
     "output_type": "execute_result"
    }
   ],
   "source": [
    "#1.Try to reverse a list\n",
    "#l.reverse()\n",
    "l[::-1]"
   ]
  },
  {
   "cell_type": "code",
   "execution_count": 18,
   "id": "7473b7f1",
   "metadata": {},
   "outputs": [
    {
     "name": "stdout",
     "output_type": "stream",
     "text": [
      "[3, 4, 5, 6, 7, [23, 456, 67, 8, 78, 78], [345, 56, 87, 8, 98, 9], (234, 6657, 6), {'key1': 'sudh', 234: [23, 45, 656]}]\n"
     ]
    }
   ],
   "source": [
    "print(l)"
   ]
  },
  {
   "cell_type": "code",
   "execution_count": 19,
   "id": "b330dc0d",
   "metadata": {},
   "outputs": [
    {
     "data": {
      "text/plain": [
       "234"
      ]
     },
     "execution_count": 19,
     "metadata": {},
     "output_type": "execute_result"
    }
   ],
   "source": [
    "#2. try to access 234 out of this list\n",
    "l[7][0]"
   ]
  },
  {
   "cell_type": "code",
   "execution_count": 20,
   "id": "f0c3b640",
   "metadata": {},
   "outputs": [
    {
     "data": {
      "text/plain": [
       "456"
      ]
     },
     "execution_count": 20,
     "metadata": {},
     "output_type": "execute_result"
    }
   ],
   "source": [
    "#3 . try to access 456 \n",
    "l[5][1]"
   ]
  },
  {
   "cell_type": "code",
   "execution_count": 27,
   "id": "03450639",
   "metadata": {},
   "outputs": [
    {
     "name": "stdout",
     "output_type": "stream",
     "text": [
      "[23, 456, 67, 8, 78, 78]\n",
      "[345, 56, 87, 8, 98, 9]\n"
     ]
    }
   ],
   "source": [
    "#4 . Try to extract only a list collection form list l \n",
    "for i in l:\n",
    "    if type(i)==list:\n",
    "        print(i)"
   ]
  },
  {
   "cell_type": "code",
   "execution_count": 21,
   "id": "3121a577",
   "metadata": {},
   "outputs": [
    {
     "data": {
      "text/plain": [
       "'sudh'"
      ]
     },
     "execution_count": 21,
     "metadata": {},
     "output_type": "execute_result"
    }
   ],
   "source": [
    "#5 . Try to extract \"sudh\"\n",
    "l[-1]['key1']"
   ]
  },
  {
   "cell_type": "code",
   "execution_count": 23,
   "id": "0e988fc7",
   "metadata": {},
   "outputs": [
    {
     "data": {
      "text/plain": [
       "dict_keys(['key1', 234])"
      ]
     },
     "execution_count": 23,
     "metadata": {},
     "output_type": "execute_result"
    }
   ],
   "source": [
    "#6 . Try to list all the key in dict element avaible in list\n",
    "l[-1].keys()\n"
   ]
  },
  {
   "cell_type": "code",
   "execution_count": 24,
   "id": "0debc743",
   "metadata": {},
   "outputs": [
    {
     "data": {
      "text/plain": [
       "dict_values(['sudh', [23, 45, 656]])"
      ]
     },
     "execution_count": 24,
     "metadata": {},
     "output_type": "execute_result"
    }
   ],
   "source": [
    "#7 . Try to extract all the value element form dict available in list\n",
    "l[-1].values()"
   ]
  },
  {
   "cell_type": "code",
   "execution_count": null,
   "id": "d4e44f46",
   "metadata": {},
   "outputs": [],
   "source": []
  }
 ],
 "metadata": {
  "kernelspec": {
   "display_name": "Python 3 (ipykernel)",
   "language": "python",
   "name": "python3"
  },
  "language_info": {
   "codemirror_mode": {
    "name": "ipython",
    "version": 3
   },
   "file_extension": ".py",
   "mimetype": "text/x-python",
   "name": "python",
   "nbconvert_exporter": "python",
   "pygments_lexer": "ipython3",
   "version": "3.9.7"
  }
 },
 "nbformat": 4,
 "nbformat_minor": 5
}
