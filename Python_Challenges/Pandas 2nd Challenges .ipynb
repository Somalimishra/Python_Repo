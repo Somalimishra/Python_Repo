{
 "cells": [
  {
   "cell_type": "code",
   "execution_count": null,
   "id": "c6e8d7b7",
   "metadata": {},
   "outputs": [],
   "source": [
    "1 .Find out there avarage rating on weekly basis keep this in a mind that they take two days of leave\n",
    "2 .Total working days for each agents \n",
    "3. Total query that you hvae taken \n",
    "4. total Feedback that you have received \n",
    "5. a agent name who have average rating between 3.5 to 4 \n",
    "6 . Agent name who have rating lesss then 3.5 \n",
    "7 . agent name who have rating more then 4.5 \n",
    "8 . how many feedaback agents have received more then 4.5 average\n",
    "9 . average weekly response time for each agent \n",
    "10 . average weekely resolution time for each agents \n",
    "11 . list of all agents name \n",
    "12 . percentage of chat on which they have received a feedback \n",
    "13 . Total contributation hour for each and every agents weekly basis \n",
    "14. total percentage of active hour for a month\n",
    "\n",
    "sunny.savita@ineuron.ai ,sudhanshu@ineuron.ai"
   ]
  },
  {
   "cell_type": "code",
   "execution_count": 2,
   "id": "01107eda",
   "metadata": {},
   "outputs": [],
   "source": [
    "import pandas as pd\n",
    "import datetime as dt"
   ]
  },
  {
   "cell_type": "code",
   "execution_count": 3,
   "id": "08c2889e",
   "metadata": {},
   "outputs": [
    {
     "data": {
      "text/html": [
       "<div>\n",
       "<style scoped>\n",
       "    .dataframe tbody tr th:only-of-type {\n",
       "        vertical-align: middle;\n",
       "    }\n",
       "\n",
       "    .dataframe tbody tr th {\n",
       "        vertical-align: top;\n",
       "    }\n",
       "\n",
       "    .dataframe thead th {\n",
       "        text-align: right;\n",
       "    }\n",
       "</style>\n",
       "<table border=\"1\" class=\"dataframe\">\n",
       "  <thead>\n",
       "    <tr style=\"text-align: right;\">\n",
       "      <th></th>\n",
       "      <th>SL No</th>\n",
       "      <th>Date</th>\n",
       "      <th>Agent Name</th>\n",
       "      <th>Total Chats</th>\n",
       "      <th>Average Response Time</th>\n",
       "      <th>Average Resolution Time</th>\n",
       "      <th>Average Rating</th>\n",
       "      <th>Total Feedback</th>\n",
       "    </tr>\n",
       "  </thead>\n",
       "  <tbody>\n",
       "    <tr>\n",
       "      <th>0</th>\n",
       "      <td>1</td>\n",
       "      <td>2022-07-30</td>\n",
       "      <td>Prerna Singh</td>\n",
       "      <td>11</td>\n",
       "      <td>00:00:38</td>\n",
       "      <td>00:04:20</td>\n",
       "      <td>4.11</td>\n",
       "      <td>9</td>\n",
       "    </tr>\n",
       "    <tr>\n",
       "      <th>1</th>\n",
       "      <td>2</td>\n",
       "      <td>2022-07-30</td>\n",
       "      <td>Nandani Gupta</td>\n",
       "      <td>11</td>\n",
       "      <td>00:01:15</td>\n",
       "      <td>00:28:25</td>\n",
       "      <td>3.14</td>\n",
       "      <td>7</td>\n",
       "    </tr>\n",
       "    <tr>\n",
       "      <th>2</th>\n",
       "      <td>3</td>\n",
       "      <td>2022-07-30</td>\n",
       "      <td>Ameya Jain</td>\n",
       "      <td>14</td>\n",
       "      <td>00:00:30</td>\n",
       "      <td>00:11:36</td>\n",
       "      <td>4.55</td>\n",
       "      <td>11</td>\n",
       "    </tr>\n",
       "    <tr>\n",
       "      <th>3</th>\n",
       "      <td>4</td>\n",
       "      <td>2022-07-30</td>\n",
       "      <td>Mahesh Sarade</td>\n",
       "      <td>14</td>\n",
       "      <td>00:01:04</td>\n",
       "      <td>00:15:46</td>\n",
       "      <td>4.71</td>\n",
       "      <td>7</td>\n",
       "    </tr>\n",
       "    <tr>\n",
       "      <th>4</th>\n",
       "      <td>5</td>\n",
       "      <td>2022-07-30</td>\n",
       "      <td>Swati</td>\n",
       "      <td>14</td>\n",
       "      <td>00:01:11</td>\n",
       "      <td>00:16:33</td>\n",
       "      <td>3.67</td>\n",
       "      <td>6</td>\n",
       "    </tr>\n",
       "    <tr>\n",
       "      <th>...</th>\n",
       "      <td>...</td>\n",
       "      <td>...</td>\n",
       "      <td>...</td>\n",
       "      <td>...</td>\n",
       "      <td>...</td>\n",
       "      <td>...</td>\n",
       "      <td>...</td>\n",
       "      <td>...</td>\n",
       "    </tr>\n",
       "    <tr>\n",
       "      <th>2155</th>\n",
       "      <td>2156</td>\n",
       "      <td>2022-07-01</td>\n",
       "      <td>Sowmiya Sivakumar</td>\n",
       "      <td>0</td>\n",
       "      <td>00:00:00</td>\n",
       "      <td>00:00:00</td>\n",
       "      <td>0.00</td>\n",
       "      <td>0</td>\n",
       "    </tr>\n",
       "    <tr>\n",
       "      <th>2156</th>\n",
       "      <td>2157</td>\n",
       "      <td>2022-07-01</td>\n",
       "      <td>Nitin M</td>\n",
       "      <td>0</td>\n",
       "      <td>00:00:00</td>\n",
       "      <td>00:00:00</td>\n",
       "      <td>0.00</td>\n",
       "      <td>0</td>\n",
       "    </tr>\n",
       "    <tr>\n",
       "      <th>2157</th>\n",
       "      <td>2158</td>\n",
       "      <td>2022-07-01</td>\n",
       "      <td>Vivek</td>\n",
       "      <td>0</td>\n",
       "      <td>00:00:00</td>\n",
       "      <td>00:00:00</td>\n",
       "      <td>0.00</td>\n",
       "      <td>0</td>\n",
       "    </tr>\n",
       "    <tr>\n",
       "      <th>2158</th>\n",
       "      <td>2159</td>\n",
       "      <td>2022-07-01</td>\n",
       "      <td>Ayushi Mishra</td>\n",
       "      <td>0</td>\n",
       "      <td>00:00:00</td>\n",
       "      <td>00:00:00</td>\n",
       "      <td>0.00</td>\n",
       "      <td>0</td>\n",
       "    </tr>\n",
       "    <tr>\n",
       "      <th>2159</th>\n",
       "      <td>2160</td>\n",
       "      <td>2022-07-01</td>\n",
       "      <td>Chaitra K Hiremath</td>\n",
       "      <td>0</td>\n",
       "      <td>00:00:00</td>\n",
       "      <td>00:00:00</td>\n",
       "      <td>0.00</td>\n",
       "      <td>0</td>\n",
       "    </tr>\n",
       "  </tbody>\n",
       "</table>\n",
       "<p>2160 rows × 8 columns</p>\n",
       "</div>"
      ],
      "text/plain": [
       "      SL No       Date          Agent Name  Total Chats Average Response Time  \\\n",
       "0         1 2022-07-30        Prerna Singh           11              00:00:38   \n",
       "1         2 2022-07-30       Nandani Gupta           11              00:01:15   \n",
       "2         3 2022-07-30          Ameya Jain           14              00:00:30   \n",
       "3         4 2022-07-30       Mahesh Sarade           14              00:01:04   \n",
       "4         5 2022-07-30               Swati           14              00:01:11   \n",
       "...     ...        ...                 ...          ...                   ...   \n",
       "2155   2156 2022-07-01   Sowmiya Sivakumar            0              00:00:00   \n",
       "2156   2157 2022-07-01             Nitin M            0              00:00:00   \n",
       "2157   2158 2022-07-01               Vivek            0              00:00:00   \n",
       "2158   2159 2022-07-01       Ayushi Mishra            0              00:00:00   \n",
       "2159   2160 2022-07-01  Chaitra K Hiremath            0              00:00:00   \n",
       "\n",
       "     Average Resolution Time  Average Rating  Total Feedback  \n",
       "0                   00:04:20            4.11               9  \n",
       "1                   00:28:25            3.14               7  \n",
       "2                   00:11:36            4.55              11  \n",
       "3                   00:15:46            4.71               7  \n",
       "4                   00:16:33            3.67               6  \n",
       "...                      ...             ...             ...  \n",
       "2155                00:00:00            0.00               0  \n",
       "2156                00:00:00            0.00               0  \n",
       "2157                00:00:00            0.00               0  \n",
       "2158                00:00:00            0.00               0  \n",
       "2159                00:00:00            0.00               0  \n",
       "\n",
       "[2160 rows x 8 columns]"
      ]
     },
     "execution_count": 3,
     "metadata": {},
     "output_type": "execute_result"
    }
   ],
   "source": [
    "df2=pd.read_excel(r'D:\\1.SOMALI MISHRA\\1.iNeuron\\Python\\Data set\\pandas challenges data\\Agent Performance Report.xlsx')\n",
    "df2"
   ]
  },
  {
   "cell_type": "code",
   "execution_count": 4,
   "id": "0b798f02",
   "metadata": {},
   "outputs": [
    {
     "data": {
      "text/plain": [
       "pandas.core.frame.DataFrame"
      ]
     },
     "execution_count": 4,
     "metadata": {},
     "output_type": "execute_result"
    }
   ],
   "source": [
    "type(df2)"
   ]
  },
  {
   "cell_type": "code",
   "execution_count": 5,
   "id": "9559e6cf",
   "metadata": {},
   "outputs": [
    {
     "data": {
      "text/plain": [
       "SL No                               int64\n",
       "Date                       datetime64[ns]\n",
       "Agent Name                         object\n",
       "Total Chats                         int64\n",
       "Average Response Time              object\n",
       "Average Resolution Time            object\n",
       "Average Rating                    float64\n",
       "Total Feedback                      int64\n",
       "dtype: object"
      ]
     },
     "execution_count": 5,
     "metadata": {},
     "output_type": "execute_result"
    }
   ],
   "source": [
    "df2.dtypes"
   ]
  },
  {
   "cell_type": "markdown",
   "id": "b0adb67b",
   "metadata": {},
   "source": [
    "# 1 .Find out there avarage rating on weekly basis keep this in a mind that they take two days of leave"
   ]
  },
  {
   "cell_type": "code",
   "execution_count": 6,
   "id": "22562689",
   "metadata": {},
   "outputs": [],
   "source": [
    "df2['date_week']=df2['Date'].dt.isocalendar().week"
   ]
  },
  {
   "cell_type": "code",
   "execution_count": 7,
   "id": "a9212c5d",
   "metadata": {},
   "outputs": [
    {
     "data": {
      "text/html": [
       "<div>\n",
       "<style scoped>\n",
       "    .dataframe tbody tr th:only-of-type {\n",
       "        vertical-align: middle;\n",
       "    }\n",
       "\n",
       "    .dataframe tbody tr th {\n",
       "        vertical-align: top;\n",
       "    }\n",
       "\n",
       "    .dataframe thead th {\n",
       "        text-align: right;\n",
       "    }\n",
       "</style>\n",
       "<table border=\"1\" class=\"dataframe\">\n",
       "  <thead>\n",
       "    <tr style=\"text-align: right;\">\n",
       "      <th></th>\n",
       "      <th>SL No</th>\n",
       "      <th>Date</th>\n",
       "      <th>Agent Name</th>\n",
       "      <th>Total Chats</th>\n",
       "      <th>Average Response Time</th>\n",
       "      <th>Average Resolution Time</th>\n",
       "      <th>Average Rating</th>\n",
       "      <th>Total Feedback</th>\n",
       "      <th>date_week</th>\n",
       "    </tr>\n",
       "  </thead>\n",
       "  <tbody>\n",
       "    <tr>\n",
       "      <th>0</th>\n",
       "      <td>1</td>\n",
       "      <td>2022-07-30</td>\n",
       "      <td>Prerna Singh</td>\n",
       "      <td>11</td>\n",
       "      <td>00:00:38</td>\n",
       "      <td>00:04:20</td>\n",
       "      <td>4.11</td>\n",
       "      <td>9</td>\n",
       "      <td>30</td>\n",
       "    </tr>\n",
       "    <tr>\n",
       "      <th>1</th>\n",
       "      <td>2</td>\n",
       "      <td>2022-07-30</td>\n",
       "      <td>Nandani Gupta</td>\n",
       "      <td>11</td>\n",
       "      <td>00:01:15</td>\n",
       "      <td>00:28:25</td>\n",
       "      <td>3.14</td>\n",
       "      <td>7</td>\n",
       "      <td>30</td>\n",
       "    </tr>\n",
       "    <tr>\n",
       "      <th>2</th>\n",
       "      <td>3</td>\n",
       "      <td>2022-07-30</td>\n",
       "      <td>Ameya Jain</td>\n",
       "      <td>14</td>\n",
       "      <td>00:00:30</td>\n",
       "      <td>00:11:36</td>\n",
       "      <td>4.55</td>\n",
       "      <td>11</td>\n",
       "      <td>30</td>\n",
       "    </tr>\n",
       "    <tr>\n",
       "      <th>3</th>\n",
       "      <td>4</td>\n",
       "      <td>2022-07-30</td>\n",
       "      <td>Mahesh Sarade</td>\n",
       "      <td>14</td>\n",
       "      <td>00:01:04</td>\n",
       "      <td>00:15:46</td>\n",
       "      <td>4.71</td>\n",
       "      <td>7</td>\n",
       "      <td>30</td>\n",
       "    </tr>\n",
       "    <tr>\n",
       "      <th>4</th>\n",
       "      <td>5</td>\n",
       "      <td>2022-07-30</td>\n",
       "      <td>Swati</td>\n",
       "      <td>14</td>\n",
       "      <td>00:01:11</td>\n",
       "      <td>00:16:33</td>\n",
       "      <td>3.67</td>\n",
       "      <td>6</td>\n",
       "      <td>30</td>\n",
       "    </tr>\n",
       "  </tbody>\n",
       "</table>\n",
       "</div>"
      ],
      "text/plain": [
       "   SL No       Date     Agent Name  Total Chats Average Response Time  \\\n",
       "0      1 2022-07-30   Prerna Singh           11              00:00:38   \n",
       "1      2 2022-07-30  Nandani Gupta           11              00:01:15   \n",
       "2      3 2022-07-30     Ameya Jain           14              00:00:30   \n",
       "3      4 2022-07-30  Mahesh Sarade           14              00:01:04   \n",
       "4      5 2022-07-30          Swati           14              00:01:11   \n",
       "\n",
       "  Average Resolution Time  Average Rating  Total Feedback  date_week  \n",
       "0                00:04:20            4.11               9         30  \n",
       "1                00:28:25            3.14               7         30  \n",
       "2                00:11:36            4.55              11         30  \n",
       "3                00:15:46            4.71               7         30  \n",
       "4                00:16:33            3.67               6         30  "
      ]
     },
     "execution_count": 7,
     "metadata": {},
     "output_type": "execute_result"
    }
   ],
   "source": [
    "df2.head()"
   ]
  },
  {
   "cell_type": "code",
   "execution_count": 8,
   "id": "b7944054",
   "metadata": {},
   "outputs": [],
   "source": [
    "df2['date_days']=df2['Date'].dt.day"
   ]
  },
  {
   "cell_type": "code",
   "execution_count": 9,
   "id": "59bf4ae6",
   "metadata": {},
   "outputs": [],
   "source": [
    "df2_mean=df2.groupby(['Agent Name','date_week'])['Average Rating'].mean().to_frame()"
   ]
  },
  {
   "cell_type": "code",
   "execution_count": 10,
   "id": "6ce51605",
   "metadata": {},
   "outputs": [
    {
     "data": {
      "text/html": [
       "<div>\n",
       "<style scoped>\n",
       "    .dataframe tbody tr th:only-of-type {\n",
       "        vertical-align: middle;\n",
       "    }\n",
       "\n",
       "    .dataframe tbody tr th {\n",
       "        vertical-align: top;\n",
       "    }\n",
       "\n",
       "    .dataframe thead th {\n",
       "        text-align: right;\n",
       "    }\n",
       "</style>\n",
       "<table border=\"1\" class=\"dataframe\">\n",
       "  <thead>\n",
       "    <tr style=\"text-align: right;\">\n",
       "      <th></th>\n",
       "      <th></th>\n",
       "      <th>Average Rating</th>\n",
       "    </tr>\n",
       "    <tr>\n",
       "      <th>Agent Name</th>\n",
       "      <th>date_week</th>\n",
       "      <th></th>\n",
       "    </tr>\n",
       "  </thead>\n",
       "  <tbody>\n",
       "    <tr>\n",
       "      <th rowspan=\"5\" valign=\"top\">Abhishek</th>\n",
       "      <th>26</th>\n",
       "      <td>0.000000</td>\n",
       "    </tr>\n",
       "    <tr>\n",
       "      <th>27</th>\n",
       "      <td>0.000000</td>\n",
       "    </tr>\n",
       "    <tr>\n",
       "      <th>28</th>\n",
       "      <td>0.000000</td>\n",
       "    </tr>\n",
       "    <tr>\n",
       "      <th>29</th>\n",
       "      <td>0.000000</td>\n",
       "    </tr>\n",
       "    <tr>\n",
       "      <th>30</th>\n",
       "      <td>0.000000</td>\n",
       "    </tr>\n",
       "    <tr>\n",
       "      <th>...</th>\n",
       "      <th>...</th>\n",
       "      <td>...</td>\n",
       "    </tr>\n",
       "    <tr>\n",
       "      <th rowspan=\"5\" valign=\"top\">Zeeshan</th>\n",
       "      <th>26</th>\n",
       "      <td>0.000000</td>\n",
       "    </tr>\n",
       "    <tr>\n",
       "      <th>27</th>\n",
       "      <td>1.307143</td>\n",
       "    </tr>\n",
       "    <tr>\n",
       "      <th>28</th>\n",
       "      <td>2.948571</td>\n",
       "    </tr>\n",
       "    <tr>\n",
       "      <th>29</th>\n",
       "      <td>3.180000</td>\n",
       "    </tr>\n",
       "    <tr>\n",
       "      <th>30</th>\n",
       "      <td>2.760000</td>\n",
       "    </tr>\n",
       "  </tbody>\n",
       "</table>\n",
       "<p>350 rows × 1 columns</p>\n",
       "</div>"
      ],
      "text/plain": [
       "                      Average Rating\n",
       "Agent Name date_week                \n",
       "Abhishek   26               0.000000\n",
       "           27               0.000000\n",
       "           28               0.000000\n",
       "           29               0.000000\n",
       "           30               0.000000\n",
       "...                              ...\n",
       "Zeeshan    26               0.000000\n",
       "           27               1.307143\n",
       "           28               2.948571\n",
       "           29               3.180000\n",
       "           30               2.760000\n",
       "\n",
       "[350 rows x 1 columns]"
      ]
     },
     "execution_count": 10,
     "metadata": {},
     "output_type": "execute_result"
    }
   ],
   "source": [
    "df2_mean"
   ]
  },
  {
   "cell_type": "markdown",
   "id": "afb20a6f",
   "metadata": {},
   "source": [
    "# 2 .Total working days for each agents"
   ]
  },
  {
   "cell_type": "code",
   "execution_count": 11,
   "id": "b9b0ffe7",
   "metadata": {},
   "outputs": [
    {
     "data": {
      "text/plain": [
       "Agent Name\n",
       "Abhishek         30\n",
       "Aditya           30\n",
       "Aditya Shinde    30\n",
       "Aditya_iot       30\n",
       "Amersh           30\n",
       "                 ..\n",
       "Uday Mishra      30\n",
       "Vasanth P        30\n",
       "Vivek            30\n",
       "Wasim            30\n",
       "Zeeshan          30\n",
       "Name: date_days, Length: 70, dtype: int64"
      ]
     },
     "execution_count": 11,
     "metadata": {},
     "output_type": "execute_result"
    }
   ],
   "source": [
    "df2.groupby('Agent Name')['date_days'].count()"
   ]
  },
  {
   "cell_type": "code",
   "execution_count": 12,
   "id": "f0f29a29",
   "metadata": {},
   "outputs": [
    {
     "data": {
      "text/html": [
       "<div>\n",
       "<style scoped>\n",
       "    .dataframe tbody tr th:only-of-type {\n",
       "        vertical-align: middle;\n",
       "    }\n",
       "\n",
       "    .dataframe tbody tr th {\n",
       "        vertical-align: top;\n",
       "    }\n",
       "\n",
       "    .dataframe thead th {\n",
       "        text-align: right;\n",
       "    }\n",
       "</style>\n",
       "<table border=\"1\" class=\"dataframe\">\n",
       "  <thead>\n",
       "    <tr style=\"text-align: right;\">\n",
       "      <th></th>\n",
       "      <th>SL No</th>\n",
       "      <th>Date</th>\n",
       "      <th>Agent Name</th>\n",
       "      <th>Total Chats</th>\n",
       "      <th>Average Response Time</th>\n",
       "      <th>Average Resolution Time</th>\n",
       "      <th>Average Rating</th>\n",
       "      <th>Total Feedback</th>\n",
       "      <th>date_week</th>\n",
       "      <th>date_days</th>\n",
       "    </tr>\n",
       "  </thead>\n",
       "  <tbody>\n",
       "    <tr>\n",
       "      <th>0</th>\n",
       "      <td>1</td>\n",
       "      <td>2022-07-30</td>\n",
       "      <td>Prerna Singh</td>\n",
       "      <td>11</td>\n",
       "      <td>00:00:38</td>\n",
       "      <td>00:04:20</td>\n",
       "      <td>4.11</td>\n",
       "      <td>9</td>\n",
       "      <td>30</td>\n",
       "      <td>30</td>\n",
       "    </tr>\n",
       "    <tr>\n",
       "      <th>1</th>\n",
       "      <td>2</td>\n",
       "      <td>2022-07-30</td>\n",
       "      <td>Nandani Gupta</td>\n",
       "      <td>11</td>\n",
       "      <td>00:01:15</td>\n",
       "      <td>00:28:25</td>\n",
       "      <td>3.14</td>\n",
       "      <td>7</td>\n",
       "      <td>30</td>\n",
       "      <td>30</td>\n",
       "    </tr>\n",
       "    <tr>\n",
       "      <th>2</th>\n",
       "      <td>3</td>\n",
       "      <td>2022-07-30</td>\n",
       "      <td>Ameya Jain</td>\n",
       "      <td>14</td>\n",
       "      <td>00:00:30</td>\n",
       "      <td>00:11:36</td>\n",
       "      <td>4.55</td>\n",
       "      <td>11</td>\n",
       "      <td>30</td>\n",
       "      <td>30</td>\n",
       "    </tr>\n",
       "    <tr>\n",
       "      <th>3</th>\n",
       "      <td>4</td>\n",
       "      <td>2022-07-30</td>\n",
       "      <td>Mahesh Sarade</td>\n",
       "      <td>14</td>\n",
       "      <td>00:01:04</td>\n",
       "      <td>00:15:46</td>\n",
       "      <td>4.71</td>\n",
       "      <td>7</td>\n",
       "      <td>30</td>\n",
       "      <td>30</td>\n",
       "    </tr>\n",
       "    <tr>\n",
       "      <th>4</th>\n",
       "      <td>5</td>\n",
       "      <td>2022-07-30</td>\n",
       "      <td>Swati</td>\n",
       "      <td>14</td>\n",
       "      <td>00:01:11</td>\n",
       "      <td>00:16:33</td>\n",
       "      <td>3.67</td>\n",
       "      <td>6</td>\n",
       "      <td>30</td>\n",
       "      <td>30</td>\n",
       "    </tr>\n",
       "  </tbody>\n",
       "</table>\n",
       "</div>"
      ],
      "text/plain": [
       "   SL No       Date     Agent Name  Total Chats Average Response Time  \\\n",
       "0      1 2022-07-30   Prerna Singh           11              00:00:38   \n",
       "1      2 2022-07-30  Nandani Gupta           11              00:01:15   \n",
       "2      3 2022-07-30     Ameya Jain           14              00:00:30   \n",
       "3      4 2022-07-30  Mahesh Sarade           14              00:01:04   \n",
       "4      5 2022-07-30          Swati           14              00:01:11   \n",
       "\n",
       "  Average Resolution Time  Average Rating  Total Feedback  date_week  \\\n",
       "0                00:04:20            4.11               9         30   \n",
       "1                00:28:25            3.14               7         30   \n",
       "2                00:11:36            4.55              11         30   \n",
       "3                00:15:46            4.71               7         30   \n",
       "4                00:16:33            3.67               6         30   \n",
       "\n",
       "   date_days  \n",
       "0         30  \n",
       "1         30  \n",
       "2         30  \n",
       "3         30  \n",
       "4         30  "
      ]
     },
     "execution_count": 12,
     "metadata": {},
     "output_type": "execute_result"
    }
   ],
   "source": [
    "df2.head()"
   ]
  },
  {
   "cell_type": "markdown",
   "id": "99ef6004",
   "metadata": {},
   "source": [
    "# 3. Total query that you have taken"
   ]
  },
  {
   "cell_type": "code",
   "execution_count": 13,
   "id": "3d56aacb",
   "metadata": {},
   "outputs": [
    {
     "data": {
      "text/plain": [
       "Agent Name\n",
       "Abhishek           0\n",
       "Aditya             0\n",
       "Aditya Shinde    277\n",
       "Aditya_iot       231\n",
       "Amersh             0\n",
       "                ... \n",
       "Uday Mishra        0\n",
       "Vasanth P          0\n",
       "Vivek             44\n",
       "Wasim            433\n",
       "Zeeshan          542\n",
       "Name: Total Chats, Length: 70, dtype: int64"
      ]
     },
     "execution_count": 13,
     "metadata": {},
     "output_type": "execute_result"
    }
   ],
   "source": [
    "df2.groupby('Agent Name')['Total Chats'].sum()"
   ]
  },
  {
   "cell_type": "markdown",
   "id": "87422672",
   "metadata": {},
   "source": [
    "# 4. total Feedback that you have received "
   ]
  },
  {
   "cell_type": "code",
   "execution_count": 14,
   "id": "f86d03d8",
   "metadata": {},
   "outputs": [
    {
     "data": {
      "text/plain": [
       "Agent Name\n",
       "Abhishek           0\n",
       "Aditya             0\n",
       "Aditya Shinde    153\n",
       "Aditya_iot       131\n",
       "Amersh             0\n",
       "                ... \n",
       "Uday Mishra        0\n",
       "Vasanth P          0\n",
       "Vivek             20\n",
       "Wasim            284\n",
       "Zeeshan          335\n",
       "Name: Total Feedback, Length: 70, dtype: int64"
      ]
     },
     "execution_count": 14,
     "metadata": {},
     "output_type": "execute_result"
    }
   ],
   "source": [
    "df2.groupby('Agent Name')['Total Feedback'].sum()"
   ]
  },
  {
   "cell_type": "markdown",
   "id": "dcc15f1f",
   "metadata": {},
   "source": [
    "# 5. a agent name who have average rating between 3.5 to 4 "
   ]
  },
  {
   "cell_type": "code",
   "execution_count": 15,
   "id": "a9a09b37",
   "metadata": {},
   "outputs": [
    {
     "data": {
      "text/plain": [
       "4                     Swati\n",
       "10             Manjunatha A\n",
       "73      Boktiar Ahmed Bappy\n",
       "76             Prateek _iot\n",
       "78            Nandani Gupta\n",
       "               ...         \n",
       "1941         Jawala Prakash\n",
       "2018          Sanjeev Kumar\n",
       "2021          Aditya Shinde\n",
       "2023       Deepranjan Gupta\n",
       "2097          Sanjeev Kumar\n",
       "Name: Agent Name, Length: 114, dtype: object"
      ]
     },
     "execution_count": 15,
     "metadata": {},
     "output_type": "execute_result"
    }
   ],
   "source": [
    "df2[(df2['Average Rating']>=3.5) & (df2['Average Rating']<=4)]['Agent Name']"
   ]
  },
  {
   "cell_type": "markdown",
   "id": "6267b9e4",
   "metadata": {},
   "source": [
    "# 6 . Agent name who have rating lesss then 3.5 "
   ]
  },
  {
   "cell_type": "code",
   "execution_count": 16,
   "id": "69891290",
   "metadata": {},
   "outputs": [
    {
     "data": {
      "text/plain": [
       "1            Nandani Gupta\n",
       "19        Hitesh Choudhary\n",
       "20               Sanjeevan\n",
       "21                 Anirudh\n",
       "22        Shiva Srivastava\n",
       "               ...        \n",
       "2155     Sowmiya Sivakumar\n",
       "2156               Nitin M\n",
       "2157                 Vivek\n",
       "2158         Ayushi Mishra\n",
       "2159    Chaitra K Hiremath\n",
       "Name: Agent Name, Length: 1474, dtype: object"
      ]
     },
     "execution_count": 16,
     "metadata": {},
     "output_type": "execute_result"
    }
   ],
   "source": [
    "df2[df2['Average Rating']<3.5]['Agent Name']"
   ]
  },
  {
   "cell_type": "markdown",
   "id": "0991bba4",
   "metadata": {},
   "source": [
    "# 7 . agent name who have rating more then 4.5 "
   ]
  },
  {
   "cell_type": "code",
   "execution_count": 17,
   "id": "73db0424",
   "metadata": {},
   "outputs": [
    {
     "data": {
      "text/plain": [
       "2               Ameya Jain\n",
       "3            Mahesh Sarade\n",
       "5                   Mukesh\n",
       "6          Saikumarreddy N\n",
       "7            Sanjeev Kumar\n",
       "               ...        \n",
       "2100        Shubham Sharma\n",
       "2101         Jaydeep Dixit\n",
       "2102    Shivananda Sonwane\n",
       "2103        Khushboo Priya\n",
       "2104       Hrisikesh Neogi\n",
       "Name: Agent Name, Length: 325, dtype: object"
      ]
     },
     "execution_count": 17,
     "metadata": {},
     "output_type": "execute_result"
    }
   ],
   "source": [
    "df2[df2['Average Rating']>=4.5]['Agent Name']"
   ]
  },
  {
   "cell_type": "markdown",
   "id": "c24af233",
   "metadata": {},
   "source": [
    "# 8 . how many feedaback agents have received more than 4.5 average"
   ]
  },
  {
   "cell_type": "code",
   "execution_count": 18,
   "id": "2bbedbc9",
   "metadata": {},
   "outputs": [
    {
     "data": {
      "text/plain": [
       "70"
      ]
     },
     "execution_count": 18,
     "metadata": {},
     "output_type": "execute_result"
    }
   ],
   "source": [
    "(df2.groupby('Agent Name')['Total Feedback'].mean()>4.5).count()"
   ]
  },
  {
   "cell_type": "code",
   "execution_count": 19,
   "id": "6ea5b61e",
   "metadata": {},
   "outputs": [
    {
     "data": {
      "text/html": [
       "<div>\n",
       "<style scoped>\n",
       "    .dataframe tbody tr th:only-of-type {\n",
       "        vertical-align: middle;\n",
       "    }\n",
       "\n",
       "    .dataframe tbody tr th {\n",
       "        vertical-align: top;\n",
       "    }\n",
       "\n",
       "    .dataframe thead th {\n",
       "        text-align: right;\n",
       "    }\n",
       "</style>\n",
       "<table border=\"1\" class=\"dataframe\">\n",
       "  <thead>\n",
       "    <tr style=\"text-align: right;\">\n",
       "      <th></th>\n",
       "      <th>SL No</th>\n",
       "      <th>Date</th>\n",
       "      <th>Agent Name</th>\n",
       "      <th>Total Chats</th>\n",
       "      <th>Average Response Time</th>\n",
       "      <th>Average Resolution Time</th>\n",
       "      <th>Average Rating</th>\n",
       "      <th>Total Feedback</th>\n",
       "      <th>date_week</th>\n",
       "      <th>date_days</th>\n",
       "    </tr>\n",
       "  </thead>\n",
       "  <tbody>\n",
       "    <tr>\n",
       "      <th>0</th>\n",
       "      <td>1</td>\n",
       "      <td>2022-07-30</td>\n",
       "      <td>Prerna Singh</td>\n",
       "      <td>11</td>\n",
       "      <td>00:00:38</td>\n",
       "      <td>00:04:20</td>\n",
       "      <td>4.11</td>\n",
       "      <td>9</td>\n",
       "      <td>30</td>\n",
       "      <td>30</td>\n",
       "    </tr>\n",
       "    <tr>\n",
       "      <th>1</th>\n",
       "      <td>2</td>\n",
       "      <td>2022-07-30</td>\n",
       "      <td>Nandani Gupta</td>\n",
       "      <td>11</td>\n",
       "      <td>00:01:15</td>\n",
       "      <td>00:28:25</td>\n",
       "      <td>3.14</td>\n",
       "      <td>7</td>\n",
       "      <td>30</td>\n",
       "      <td>30</td>\n",
       "    </tr>\n",
       "  </tbody>\n",
       "</table>\n",
       "</div>"
      ],
      "text/plain": [
       "   SL No       Date     Agent Name  Total Chats Average Response Time  \\\n",
       "0      1 2022-07-30   Prerna Singh           11              00:00:38   \n",
       "1      2 2022-07-30  Nandani Gupta           11              00:01:15   \n",
       "\n",
       "  Average Resolution Time  Average Rating  Total Feedback  date_week  \\\n",
       "0                00:04:20            4.11               9         30   \n",
       "1                00:28:25            3.14               7         30   \n",
       "\n",
       "   date_days  \n",
       "0         30  \n",
       "1         30  "
      ]
     },
     "execution_count": 19,
     "metadata": {},
     "output_type": "execute_result"
    }
   ],
   "source": [
    "df2.head(2)"
   ]
  },
  {
   "cell_type": "markdown",
   "id": "261fea90",
   "metadata": {},
   "source": [
    "# 9 . average weekly response time for each agent"
   ]
  },
  {
   "cell_type": "code",
   "execution_count": 26,
   "id": "911c61b6",
   "metadata": {},
   "outputs": [
    {
     "data": {
      "text/html": [
       "<div>\n",
       "<style scoped>\n",
       "    .dataframe tbody tr th:only-of-type {\n",
       "        vertical-align: middle;\n",
       "    }\n",
       "\n",
       "    .dataframe tbody tr th {\n",
       "        vertical-align: top;\n",
       "    }\n",
       "\n",
       "    .dataframe thead th {\n",
       "        text-align: right;\n",
       "    }\n",
       "</style>\n",
       "<table border=\"1\" class=\"dataframe\">\n",
       "  <thead>\n",
       "    <tr style=\"text-align: right;\">\n",
       "      <th></th>\n",
       "      <th>SL No</th>\n",
       "      <th>Date</th>\n",
       "      <th>Agent Name</th>\n",
       "      <th>Total Chats</th>\n",
       "      <th>Average Response Time</th>\n",
       "      <th>Average Resolution Time</th>\n",
       "      <th>Average Rating</th>\n",
       "      <th>Total Feedback</th>\n",
       "      <th>date_week</th>\n",
       "      <th>date_days</th>\n",
       "    </tr>\n",
       "  </thead>\n",
       "  <tbody>\n",
       "    <tr>\n",
       "      <th>0</th>\n",
       "      <td>1</td>\n",
       "      <td>2022-07-30</td>\n",
       "      <td>Prerna Singh</td>\n",
       "      <td>11</td>\n",
       "      <td>00:00:38</td>\n",
       "      <td>00:04:20</td>\n",
       "      <td>4.11</td>\n",
       "      <td>9</td>\n",
       "      <td>30</td>\n",
       "      <td>30</td>\n",
       "    </tr>\n",
       "    <tr>\n",
       "      <th>1</th>\n",
       "      <td>2</td>\n",
       "      <td>2022-07-30</td>\n",
       "      <td>Nandani Gupta</td>\n",
       "      <td>11</td>\n",
       "      <td>00:01:15</td>\n",
       "      <td>00:28:25</td>\n",
       "      <td>3.14</td>\n",
       "      <td>7</td>\n",
       "      <td>30</td>\n",
       "      <td>30</td>\n",
       "    </tr>\n",
       "  </tbody>\n",
       "</table>\n",
       "</div>"
      ],
      "text/plain": [
       "   SL No       Date     Agent Name  Total Chats Average Response Time  \\\n",
       "0      1 2022-07-30   Prerna Singh           11              00:00:38   \n",
       "1      2 2022-07-30  Nandani Gupta           11              00:01:15   \n",
       "\n",
       "  Average Resolution Time  Average Rating  Total Feedback  date_week  \\\n",
       "0                00:04:20            4.11               9         30   \n",
       "1                00:28:25            3.14               7         30   \n",
       "\n",
       "   date_days  \n",
       "0         30  \n",
       "1         30  "
      ]
     },
     "execution_count": 26,
     "metadata": {},
     "output_type": "execute_result"
    }
   ],
   "source": [
    "df2.head(2)"
   ]
  },
  {
   "cell_type": "code",
   "execution_count": 23,
   "id": "ef6d400a",
   "metadata": {},
   "outputs": [],
   "source": [
    "import pandas as pd\n",
    "import datetime as dt\n",
    "import numpy as np\n",
    "from datetime import datetime, timedelta"
   ]
  },
  {
   "cell_type": "code",
   "execution_count": 24,
   "id": "a9b7a1ef",
   "metadata": {},
   "outputs": [],
   "source": [
    "def get_seconds(time_str):\n",
    "    #print('Time in hh:mm:ss:', time_str)\n",
    "    # split in hh, mm, ss\n",
    "    hh, mm, ss = time_str.split(':')\n",
    "    return int(hh) * 3600 + int(mm) * 60 + int(ss)"
   ]
  },
  {
   "cell_type": "code",
   "execution_count": null,
   "id": "5cd04e02",
   "metadata": {},
   "outputs": [],
   "source": [
    "avg_response_sec=[]\n",
    "for t in df2['Average Response Time']:\n",
    "    avg_response_sec.append(get_seconds(t))\n",
    "avg_response_sec\n",
    "df2['avg_response_sec'] = avg_response_sec"
   ]
  },
  {
   "cell_type": "code",
   "execution_count": null,
   "id": "a31415d4",
   "metadata": {},
   "outputs": [],
   "source": [
    "df2.groupby(['Agent Name','date_week'])['avg_response_sec'].mean()"
   ]
  },
  {
   "cell_type": "code",
   "execution_count": null,
   "id": "6d501e0e",
   "metadata": {},
   "outputs": [],
   "source": [
    "******************************************************************"
   ]
  },
  {
   "cell_type": "code",
   "execution_count": null,
   "id": "9fcef4a2",
   "metadata": {},
   "outputs": [],
   "source": [
    "df2['Average Response Time']=pd.to_datetime(df2['Average Response Time'])\n",
    "df2['AResponseT_hour'] = df2['Average Response Time'].dt.hour\n",
    "df2['AResponseT_minute'] = df2['Average Response Time'].dt.minute\n",
    "df2['AResponseT_second'] = df2['Average Response Time'].dt.second"
   ]
  },
  {
   "cell_type": "code",
   "execution_count": null,
   "id": "8df62b87",
   "metadata": {},
   "outputs": [],
   "source": [
    "#here weekly response time for each agent is in minutes\n",
    "((df2.groupby('Agent Name')['AResponseT_hour'].sum()*3600) +\n",
    "(df2.groupby('Agent Name')['AResponseT_minute'].sum()*60) +\n",
    "(df2.groupby('Agent Name')['AResponseT_second'].sum())/60)/4.4"
   ]
  },
  {
   "cell_type": "code",
   "execution_count": null,
   "id": "3ab7ee7f",
   "metadata": {},
   "outputs": [],
   "source": []
  },
  {
   "cell_type": "markdown",
   "id": "4a49254e",
   "metadata": {},
   "source": [
    "# 10 . average weekely resolution time for each agents"
   ]
  },
  {
   "cell_type": "code",
   "execution_count": null,
   "id": "08a65602",
   "metadata": {},
   "outputs": [],
   "source": [
    "avg_resolution_time_sec=[]\n",
    "for t in df2['Average Resolution Time']:\n",
    "    avg_resolution_time_sec.append(get_seconds(t))\n",
    "avg_resolution_time_sec\n",
    "df2['avg_resolution_time_sec'] = avg_resolution_time_sec\n",
    "df2.head()"
   ]
  },
  {
   "cell_type": "code",
   "execution_count": null,
   "id": "5e629096",
   "metadata": {},
   "outputs": [],
   "source": [
    "df2.groupby(['Agent Name','date_week'])['avg_resolution_time_sec'].mean()"
   ]
  },
  {
   "cell_type": "code",
   "execution_count": null,
   "id": "063d9491",
   "metadata": {},
   "outputs": [],
   "source": [
    "********************************************"
   ]
  },
  {
   "cell_type": "code",
   "execution_count": null,
   "id": "f7a9531f",
   "metadata": {},
   "outputs": [],
   "source": [
    "df2['Average Resolution Time']=pd.to_datetime(df2['Average Resolution Time'])\n",
    "df2['AReslnT_hour'] = df2['Average Resolution Time'].dt.hour\n",
    "df2['AReslnT_minute'] = df2['Average Resolution Time'].dt.minute\n",
    "df2['AReslnT_second'] = df2['Average Resolution Time'].dt.second"
   ]
  },
  {
   "cell_type": "code",
   "execution_count": null,
   "id": "14b8194d",
   "metadata": {},
   "outputs": [],
   "source": [
    "#here weekely resolution time for each agents is in minutes\n",
    "((df_per.groupby('Agent Name')['AReslnT_hour'].sum()*3600) +\n",
    "(df_per.groupby('Agent Name')['AReslnT_minute'].sum()*60) +\n",
    "(df_per.groupby('Agent Name')['AReslnT_second'].sum())/60)/4.4"
   ]
  },
  {
   "cell_type": "markdown",
   "id": "15001867",
   "metadata": {},
   "source": [
    "# 11 . list of all agents name"
   ]
  },
  {
   "cell_type": "code",
   "execution_count": 72,
   "id": "37c0b32d",
   "metadata": {},
   "outputs": [
    {
     "data": {
      "text/plain": [
       "['Abhishek',\n",
       " 'Aditya',\n",
       " 'Aditya Shinde',\n",
       " 'Aditya_iot',\n",
       " 'Amersh',\n",
       " 'Ameya Jain',\n",
       " 'Anirudh',\n",
       " 'Ankit Sharma',\n",
       " 'Ankitjha',\n",
       " 'Anurag Tiwari',\n",
       " 'Aravind',\n",
       " 'Ashad Nasim',\n",
       " 'Ashish',\n",
       " 'Ayushi Mishra',\n",
       " 'Bharath',\n",
       " 'Boktiar Ahmed Bappy',\n",
       " 'Chaitra K Hiremath',\n",
       " 'Deepranjan Gupta',\n",
       " 'Dibyanshu',\n",
       " 'Harikrishnan Shaji',\n",
       " 'Hitesh Choudhary',\n",
       " 'Hrisikesh Neogi',\n",
       " 'Hyder Abbas',\n",
       " 'Ineuron Intelligence',\n",
       " 'Ishawant Kumar',\n",
       " 'Jawala Prakash',\n",
       " 'Jayant Kumar',\n",
       " 'Jaydeep Dixit',\n",
       " 'Khushboo Priya',\n",
       " 'Madhulika G',\n",
       " 'Mahak',\n",
       " 'Mahesh Sarade',\n",
       " 'Maitry',\n",
       " 'Maneesh',\n",
       " 'Manjunatha A',\n",
       " 'Mithun S',\n",
       " 'Mukesh',\n",
       " 'Mukesh Rao',\n",
       " 'Muskan Garg',\n",
       " 'Nandani Gupta',\n",
       " 'Nishtha Jain',\n",
       " 'Nitin M',\n",
       " 'Prabir Kumar Satapathy',\n",
       " 'Prateek _iot',\n",
       " 'Prerna Singh',\n",
       " 'Rishav Dash',\n",
       " 'Rohan',\n",
       " 'Saif Khan',\n",
       " 'Saikumarreddy N',\n",
       " 'Samprit',\n",
       " 'Sandipan Saha',\n",
       " 'Sanjeev Kumar',\n",
       " 'Sanjeevan',\n",
       " 'Saurabh Shukla',\n",
       " 'Shiva Srivastava',\n",
       " 'Shivan K',\n",
       " 'Shivan_S',\n",
       " 'Shivananda Sonwane',\n",
       " 'Shubham Sharma',\n",
       " 'Sowmiya Sivakumar',\n",
       " 'Spuri',\n",
       " 'Sudhanshu Kumar',\n",
       " 'Suraj S Bilgi',\n",
       " 'Swati',\n",
       " 'Tarun',\n",
       " 'Uday Mishra',\n",
       " 'Vasanth P',\n",
       " 'Vivek',\n",
       " 'Wasim',\n",
       " 'Zeeshan']"
      ]
     },
     "execution_count": 72,
     "metadata": {},
     "output_type": "execute_result"
    }
   ],
   "source": [
    "sorted(list(df2['Agent Name'].unique()))"
   ]
  },
  {
   "cell_type": "code",
   "execution_count": null,
   "id": "7cda2c8c",
   "metadata": {},
   "outputs": [],
   "source": [
    "# 12 . percentage of chat on which they have received a feedback\n",
    "percentage of chat on which they have received a feedback = ((total chats - total feedbacks)/total chats)*100"
   ]
  },
  {
   "cell_type": "code",
   "execution_count": 74,
   "id": "60038a65",
   "metadata": {},
   "outputs": [
    {
     "data": {
      "text/plain": [
       "Agent Name\n",
       "Abhishek               NaN\n",
       "Aditya                 NaN\n",
       "Aditya Shinde    44.765343\n",
       "Aditya_iot       43.290043\n",
       "Amersh                 NaN\n",
       "                   ...    \n",
       "Uday Mishra            NaN\n",
       "Vasanth P              NaN\n",
       "Vivek            54.545455\n",
       "Wasim            34.411085\n",
       "Zeeshan          38.191882\n",
       "Length: 70, dtype: float64"
      ]
     },
     "execution_count": 74,
     "metadata": {},
     "output_type": "execute_result"
    }
   ],
   "source": [
    "((\n",
    "        ((df2.groupby('Agent Name')['Total Chats'].sum())-(df2.groupby('Agent Name')['Total Feedback'].sum()))/\n",
    "        (df2.groupby('Agent Name')['Total Chats'].sum())\n",
    "))*100"
   ]
  },
  {
   "cell_type": "code",
   "execution_count": 75,
   "id": "f7bd5d8c",
   "metadata": {},
   "outputs": [
    {
     "data": {
      "text/html": [
       "<div>\n",
       "<style scoped>\n",
       "    .dataframe tbody tr th:only-of-type {\n",
       "        vertical-align: middle;\n",
       "    }\n",
       "\n",
       "    .dataframe tbody tr th {\n",
       "        vertical-align: top;\n",
       "    }\n",
       "\n",
       "    .dataframe thead th {\n",
       "        text-align: right;\n",
       "    }\n",
       "</style>\n",
       "<table border=\"1\" class=\"dataframe\">\n",
       "  <thead>\n",
       "    <tr style=\"text-align: right;\">\n",
       "      <th></th>\n",
       "      <th>SL No</th>\n",
       "      <th>Date</th>\n",
       "      <th>Agent Name</th>\n",
       "      <th>Total Chats</th>\n",
       "      <th>Average Response Time</th>\n",
       "      <th>Average Resolution Time</th>\n",
       "      <th>Average Rating</th>\n",
       "      <th>Total Feedback</th>\n",
       "      <th>date_week</th>\n",
       "      <th>date_days</th>\n",
       "    </tr>\n",
       "  </thead>\n",
       "  <tbody>\n",
       "    <tr>\n",
       "      <th>0</th>\n",
       "      <td>1</td>\n",
       "      <td>2022-07-30</td>\n",
       "      <td>Prerna Singh</td>\n",
       "      <td>11</td>\n",
       "      <td>00:00:38</td>\n",
       "      <td>00:04:20</td>\n",
       "      <td>4.11</td>\n",
       "      <td>9</td>\n",
       "      <td>30</td>\n",
       "      <td>30</td>\n",
       "    </tr>\n",
       "    <tr>\n",
       "      <th>1</th>\n",
       "      <td>2</td>\n",
       "      <td>2022-07-30</td>\n",
       "      <td>Nandani Gupta</td>\n",
       "      <td>11</td>\n",
       "      <td>00:01:15</td>\n",
       "      <td>00:28:25</td>\n",
       "      <td>3.14</td>\n",
       "      <td>7</td>\n",
       "      <td>30</td>\n",
       "      <td>30</td>\n",
       "    </tr>\n",
       "    <tr>\n",
       "      <th>2</th>\n",
       "      <td>3</td>\n",
       "      <td>2022-07-30</td>\n",
       "      <td>Ameya Jain</td>\n",
       "      <td>14</td>\n",
       "      <td>00:00:30</td>\n",
       "      <td>00:11:36</td>\n",
       "      <td>4.55</td>\n",
       "      <td>11</td>\n",
       "      <td>30</td>\n",
       "      <td>30</td>\n",
       "    </tr>\n",
       "    <tr>\n",
       "      <th>3</th>\n",
       "      <td>4</td>\n",
       "      <td>2022-07-30</td>\n",
       "      <td>Mahesh Sarade</td>\n",
       "      <td>14</td>\n",
       "      <td>00:01:04</td>\n",
       "      <td>00:15:46</td>\n",
       "      <td>4.71</td>\n",
       "      <td>7</td>\n",
       "      <td>30</td>\n",
       "      <td>30</td>\n",
       "    </tr>\n",
       "    <tr>\n",
       "      <th>4</th>\n",
       "      <td>5</td>\n",
       "      <td>2022-07-30</td>\n",
       "      <td>Swati</td>\n",
       "      <td>14</td>\n",
       "      <td>00:01:11</td>\n",
       "      <td>00:16:33</td>\n",
       "      <td>3.67</td>\n",
       "      <td>6</td>\n",
       "      <td>30</td>\n",
       "      <td>30</td>\n",
       "    </tr>\n",
       "  </tbody>\n",
       "</table>\n",
       "</div>"
      ],
      "text/plain": [
       "   SL No       Date     Agent Name  Total Chats Average Response Time  \\\n",
       "0      1 2022-07-30   Prerna Singh           11              00:00:38   \n",
       "1      2 2022-07-30  Nandani Gupta           11              00:01:15   \n",
       "2      3 2022-07-30     Ameya Jain           14              00:00:30   \n",
       "3      4 2022-07-30  Mahesh Sarade           14              00:01:04   \n",
       "4      5 2022-07-30          Swati           14              00:01:11   \n",
       "\n",
       "  Average Resolution Time  Average Rating  Total Feedback  date_week  \\\n",
       "0                00:04:20            4.11               9         30   \n",
       "1                00:28:25            3.14               7         30   \n",
       "2                00:11:36            4.55              11         30   \n",
       "3                00:15:46            4.71               7         30   \n",
       "4                00:16:33            3.67               6         30   \n",
       "\n",
       "   date_days  \n",
       "0         30  \n",
       "1         30  \n",
       "2         30  \n",
       "3         30  \n",
       "4         30  "
      ]
     },
     "execution_count": 75,
     "metadata": {},
     "output_type": "execute_result"
    }
   ],
   "source": [
    "df2.head()"
   ]
  },
  {
   "cell_type": "markdown",
   "id": "5b5f748a",
   "metadata": {},
   "source": [
    "# reading Agent Login Report data"
   ]
  },
  {
   "cell_type": "code",
   "execution_count": 76,
   "id": "4337f8a0",
   "metadata": {},
   "outputs": [
    {
     "data": {
      "text/html": [
       "<div>\n",
       "<style scoped>\n",
       "    .dataframe tbody tr th:only-of-type {\n",
       "        vertical-align: middle;\n",
       "    }\n",
       "\n",
       "    .dataframe tbody tr th {\n",
       "        vertical-align: top;\n",
       "    }\n",
       "\n",
       "    .dataframe thead th {\n",
       "        text-align: right;\n",
       "    }\n",
       "</style>\n",
       "<table border=\"1\" class=\"dataframe\">\n",
       "  <thead>\n",
       "    <tr style=\"text-align: right;\">\n",
       "      <th></th>\n",
       "      <th>SL No</th>\n",
       "      <th>Agent</th>\n",
       "      <th>Date</th>\n",
       "      <th>Login Time</th>\n",
       "      <th>Logout Time</th>\n",
       "      <th>Duration</th>\n",
       "    </tr>\n",
       "  </thead>\n",
       "  <tbody>\n",
       "    <tr>\n",
       "      <th>0</th>\n",
       "      <td>1</td>\n",
       "      <td>Shivananda Sonwane</td>\n",
       "      <td>2022-07-30</td>\n",
       "      <td>15:35:29</td>\n",
       "      <td>17:39:39</td>\n",
       "      <td>02:04:10</td>\n",
       "    </tr>\n",
       "    <tr>\n",
       "      <th>1</th>\n",
       "      <td>2</td>\n",
       "      <td>Khushboo Priya</td>\n",
       "      <td>2022-07-30</td>\n",
       "      <td>15:06:59</td>\n",
       "      <td>15:07:16</td>\n",
       "      <td>00:00:17</td>\n",
       "    </tr>\n",
       "    <tr>\n",
       "      <th>2</th>\n",
       "      <td>3</td>\n",
       "      <td>Nandani Gupta</td>\n",
       "      <td>2022-07-30</td>\n",
       "      <td>15:04:24</td>\n",
       "      <td>17:31:07</td>\n",
       "      <td>02:26:42</td>\n",
       "    </tr>\n",
       "    <tr>\n",
       "      <th>3</th>\n",
       "      <td>4</td>\n",
       "      <td>Hrisikesh Neogi</td>\n",
       "      <td>2022-07-30</td>\n",
       "      <td>14:34:29</td>\n",
       "      <td>15:19:35</td>\n",
       "      <td>00:45:06</td>\n",
       "    </tr>\n",
       "    <tr>\n",
       "      <th>4</th>\n",
       "      <td>5</td>\n",
       "      <td>Mukesh</td>\n",
       "      <td>2022-07-30</td>\n",
       "      <td>14:03:15</td>\n",
       "      <td>15:11:52</td>\n",
       "      <td>01:08:36</td>\n",
       "    </tr>\n",
       "    <tr>\n",
       "      <th>...</th>\n",
       "      <td>...</td>\n",
       "      <td>...</td>\n",
       "      <td>...</td>\n",
       "      <td>...</td>\n",
       "      <td>...</td>\n",
       "      <td>...</td>\n",
       "    </tr>\n",
       "    <tr>\n",
       "      <th>995</th>\n",
       "      <td>996</td>\n",
       "      <td>Manjunatha A</td>\n",
       "      <td>2022-07-20</td>\n",
       "      <td>09:03:51</td>\n",
       "      <td>15:02:28</td>\n",
       "      <td>05:58:37</td>\n",
       "    </tr>\n",
       "    <tr>\n",
       "      <th>996</th>\n",
       "      <td>997</td>\n",
       "      <td>Bharath</td>\n",
       "      <td>2022-07-20</td>\n",
       "      <td>09:00:49</td>\n",
       "      <td>15:01:32</td>\n",
       "      <td>06:00:43</td>\n",
       "    </tr>\n",
       "    <tr>\n",
       "      <th>997</th>\n",
       "      <td>998</td>\n",
       "      <td>Khushboo Priya</td>\n",
       "      <td>2022-07-20</td>\n",
       "      <td>08:59:20</td>\n",
       "      <td>14:26:55</td>\n",
       "      <td>05:27:34</td>\n",
       "    </tr>\n",
       "    <tr>\n",
       "      <th>998</th>\n",
       "      <td>999</td>\n",
       "      <td>Nishtha Jain</td>\n",
       "      <td>2022-07-20</td>\n",
       "      <td>08:43:55</td>\n",
       "      <td>14:00:33</td>\n",
       "      <td>05:16:38</td>\n",
       "    </tr>\n",
       "    <tr>\n",
       "      <th>999</th>\n",
       "      <td>1000</td>\n",
       "      <td>Tarun</td>\n",
       "      <td>2022-07-01</td>\n",
       "      <td>01:52:47</td>\n",
       "      <td>12:01:07</td>\n",
       "      <td>1900-01-21 10:08:20</td>\n",
       "    </tr>\n",
       "  </tbody>\n",
       "</table>\n",
       "<p>1000 rows × 6 columns</p>\n",
       "</div>"
      ],
      "text/plain": [
       "     SL No               Agent       Date Login Time Logout Time  \\\n",
       "0        1  Shivananda Sonwane 2022-07-30   15:35:29    17:39:39   \n",
       "1        2      Khushboo Priya 2022-07-30   15:06:59    15:07:16   \n",
       "2        3       Nandani Gupta 2022-07-30   15:04:24    17:31:07   \n",
       "3        4     Hrisikesh Neogi 2022-07-30   14:34:29    15:19:35   \n",
       "4        5              Mukesh 2022-07-30   14:03:15    15:11:52   \n",
       "..     ...                 ...        ...        ...         ...   \n",
       "995    996        Manjunatha A 2022-07-20   09:03:51    15:02:28   \n",
       "996    997             Bharath 2022-07-20   09:00:49    15:01:32   \n",
       "997    998      Khushboo Priya 2022-07-20   08:59:20    14:26:55   \n",
       "998    999        Nishtha Jain 2022-07-20   08:43:55    14:00:33   \n",
       "999   1000               Tarun 2022-07-01   01:52:47    12:01:07   \n",
       "\n",
       "                Duration  \n",
       "0               02:04:10  \n",
       "1               00:00:17  \n",
       "2               02:26:42  \n",
       "3               00:45:06  \n",
       "4               01:08:36  \n",
       "..                   ...  \n",
       "995             05:58:37  \n",
       "996             06:00:43  \n",
       "997             05:27:34  \n",
       "998             05:16:38  \n",
       "999  1900-01-21 10:08:20  \n",
       "\n",
       "[1000 rows x 6 columns]"
      ]
     },
     "execution_count": 76,
     "metadata": {},
     "output_type": "execute_result"
    }
   ],
   "source": [
    "df1=pd.read_excel(r'D:\\1.SOMALI MISHRA\\1.iNeuron\\Python\\Data set\\pandas challenges data\\Agent Login Report.xlsx')\n",
    "df1"
   ]
  },
  {
   "cell_type": "code",
   "execution_count": 77,
   "id": "43c88925",
   "metadata": {},
   "outputs": [
    {
     "data": {
      "text/plain": [
       "pandas.core.frame.DataFrame"
      ]
     },
     "execution_count": 77,
     "metadata": {},
     "output_type": "execute_result"
    }
   ],
   "source": [
    "type(df1)"
   ]
  },
  {
   "cell_type": "code",
   "execution_count": 78,
   "id": "8a79f856",
   "metadata": {},
   "outputs": [
    {
     "data": {
      "text/plain": [
       "SL No                   int64\n",
       "Agent                  object\n",
       "Date           datetime64[ns]\n",
       "Login Time             object\n",
       "Logout Time            object\n",
       "Duration               object\n",
       "dtype: object"
      ]
     },
     "execution_count": 78,
     "metadata": {},
     "output_type": "execute_result"
    }
   ],
   "source": [
    "df1.dtypes"
   ]
  },
  {
   "cell_type": "markdown",
   "id": "a8e6f906",
   "metadata": {},
   "source": [
    "# 13.Total contributation hour for each and every agents weekly basis"
   ]
  },
  {
   "cell_type": "code",
   "execution_count": 62,
   "id": "a413af41",
   "metadata": {},
   "outputs": [],
   "source": [
    "df1['week'] = df1['Date'].dt.isocalendar().week"
   ]
  },
  {
   "cell_type": "code",
   "execution_count": 63,
   "id": "43c386e2",
   "metadata": {},
   "outputs": [
    {
     "data": {
      "text/html": [
       "<div>\n",
       "<style scoped>\n",
       "    .dataframe tbody tr th:only-of-type {\n",
       "        vertical-align: middle;\n",
       "    }\n",
       "\n",
       "    .dataframe tbody tr th {\n",
       "        vertical-align: top;\n",
       "    }\n",
       "\n",
       "    .dataframe thead th {\n",
       "        text-align: right;\n",
       "    }\n",
       "</style>\n",
       "<table border=\"1\" class=\"dataframe\">\n",
       "  <thead>\n",
       "    <tr style=\"text-align: right;\">\n",
       "      <th></th>\n",
       "      <th>SL No</th>\n",
       "      <th>Agent</th>\n",
       "      <th>Date</th>\n",
       "      <th>Login Time</th>\n",
       "      <th>Logout Time</th>\n",
       "      <th>Duration</th>\n",
       "      <th>week</th>\n",
       "    </tr>\n",
       "  </thead>\n",
       "  <tbody>\n",
       "    <tr>\n",
       "      <th>0</th>\n",
       "      <td>1</td>\n",
       "      <td>Shivananda Sonwane</td>\n",
       "      <td>2022-07-30</td>\n",
       "      <td>15:35:29</td>\n",
       "      <td>17:39:39</td>\n",
       "      <td>02:04:10</td>\n",
       "      <td>30</td>\n",
       "    </tr>\n",
       "    <tr>\n",
       "      <th>1</th>\n",
       "      <td>2</td>\n",
       "      <td>Khushboo Priya</td>\n",
       "      <td>2022-07-30</td>\n",
       "      <td>15:06:59</td>\n",
       "      <td>15:07:16</td>\n",
       "      <td>00:00:17</td>\n",
       "      <td>30</td>\n",
       "    </tr>\n",
       "  </tbody>\n",
       "</table>\n",
       "</div>"
      ],
      "text/plain": [
       "   SL No               Agent       Date Login Time Logout Time  Duration  week\n",
       "0      1  Shivananda Sonwane 2022-07-30   15:35:29    17:39:39  02:04:10    30\n",
       "1      2      Khushboo Priya 2022-07-30   15:06:59    15:07:16  00:00:17    30"
      ]
     },
     "execution_count": 63,
     "metadata": {},
     "output_type": "execute_result"
    }
   ],
   "source": [
    "df1.head(2)"
   ]
  },
  {
   "cell_type": "code",
   "execution_count": null,
   "id": "64ff72d0",
   "metadata": {},
   "outputs": [],
   "source": [
    "Total_duration_secs=[]\n",
    "for t in df1['Duration']:\n",
    "    Total_duration_secs.append(get_seconds(t))\n",
    "Total_duration_secs\n",
    "df1['Total_duration_secs'] = Total_duration_secs"
   ]
  },
  {
   "cell_type": "code",
   "execution_count": null,
   "id": "08f4ee6e",
   "metadata": {},
   "outputs": [],
   "source": [
    "df1['hours']=df1['Total_duration_secs']//3600"
   ]
  },
  {
   "cell_type": "code",
   "execution_count": null,
   "id": "187a58a0",
   "metadata": {},
   "outputs": [],
   "source": [
    "df1.groupby(['Agent','week'])['hours'].mean()"
   ]
  },
  {
   "cell_type": "code",
   "execution_count": null,
   "id": "2bdda7e6",
   "metadata": {},
   "outputs": [],
   "source": [
    "**********************************************************"
   ]
  },
  {
   "cell_type": "code",
   "execution_count": null,
   "id": "04386332",
   "metadata": {},
   "outputs": [],
   "source": [
    "df1['modified_Duration']=(pd.to_datetime(df1.Date) + pd.to_timedelta(df1.Duration))\n",
    "df1['Duration_hour'] = df1['modified_Duration'].dt.hour\n",
    "df1['Duration_minute'] =df1['modified_Duration'].dt.minute\n",
    "df1['Duration_second'] = df1['modified_Duration'].dt.second"
   ]
  },
  {
   "cell_type": "code",
   "execution_count": null,
   "id": "c269be7a",
   "metadata": {},
   "outputs": [],
   "source": [
    "((df_log.groupby('Agent')['Duration_hour'].sum()) +\n",
    "(df_log.groupby('Agent')['Duration_minute'].sum()/60) +\n",
    "(df_log.groupby('Agent')['Duration_second'].sum())/3600)/4.4"
   ]
  },
  {
   "cell_type": "markdown",
   "id": "c65acb15",
   "metadata": {},
   "source": [
    "# 14. total percentage of active hour for a month"
   ]
  },
  {
   "cell_type": "code",
   "execution_count": 54,
   "id": "582e4b2c",
   "metadata": {},
   "outputs": [
    {
     "data": {
      "text/html": [
       "<div>\n",
       "<style scoped>\n",
       "    .dataframe tbody tr th:only-of-type {\n",
       "        vertical-align: middle;\n",
       "    }\n",
       "\n",
       "    .dataframe tbody tr th {\n",
       "        vertical-align: top;\n",
       "    }\n",
       "\n",
       "    .dataframe thead th {\n",
       "        text-align: right;\n",
       "    }\n",
       "</style>\n",
       "<table border=\"1\" class=\"dataframe\">\n",
       "  <thead>\n",
       "    <tr style=\"text-align: right;\">\n",
       "      <th></th>\n",
       "      <th>SL No</th>\n",
       "      <th>Agent</th>\n",
       "      <th>Date</th>\n",
       "      <th>Login Time</th>\n",
       "      <th>Logout Time</th>\n",
       "      <th>Duration</th>\n",
       "      <th>week</th>\n",
       "      <th>month</th>\n",
       "    </tr>\n",
       "  </thead>\n",
       "  <tbody>\n",
       "    <tr>\n",
       "      <th>0</th>\n",
       "      <td>1</td>\n",
       "      <td>Shivananda Sonwane</td>\n",
       "      <td>2022-07-30</td>\n",
       "      <td>15:35:29</td>\n",
       "      <td>17:39:39</td>\n",
       "      <td>02:04:10</td>\n",
       "      <td>30</td>\n",
       "      <td>7</td>\n",
       "    </tr>\n",
       "    <tr>\n",
       "      <th>1</th>\n",
       "      <td>2</td>\n",
       "      <td>Khushboo Priya</td>\n",
       "      <td>2022-07-30</td>\n",
       "      <td>15:06:59</td>\n",
       "      <td>15:07:16</td>\n",
       "      <td>00:00:17</td>\n",
       "      <td>30</td>\n",
       "      <td>7</td>\n",
       "    </tr>\n",
       "    <tr>\n",
       "      <th>2</th>\n",
       "      <td>3</td>\n",
       "      <td>Nandani Gupta</td>\n",
       "      <td>2022-07-30</td>\n",
       "      <td>15:04:24</td>\n",
       "      <td>17:31:07</td>\n",
       "      <td>02:26:42</td>\n",
       "      <td>30</td>\n",
       "      <td>7</td>\n",
       "    </tr>\n",
       "    <tr>\n",
       "      <th>3</th>\n",
       "      <td>4</td>\n",
       "      <td>Hrisikesh Neogi</td>\n",
       "      <td>2022-07-30</td>\n",
       "      <td>14:34:29</td>\n",
       "      <td>15:19:35</td>\n",
       "      <td>00:45:06</td>\n",
       "      <td>30</td>\n",
       "      <td>7</td>\n",
       "    </tr>\n",
       "    <tr>\n",
       "      <th>4</th>\n",
       "      <td>5</td>\n",
       "      <td>Mukesh</td>\n",
       "      <td>2022-07-30</td>\n",
       "      <td>14:03:15</td>\n",
       "      <td>15:11:52</td>\n",
       "      <td>01:08:36</td>\n",
       "      <td>30</td>\n",
       "      <td>7</td>\n",
       "    </tr>\n",
       "    <tr>\n",
       "      <th>...</th>\n",
       "      <td>...</td>\n",
       "      <td>...</td>\n",
       "      <td>...</td>\n",
       "      <td>...</td>\n",
       "      <td>...</td>\n",
       "      <td>...</td>\n",
       "      <td>...</td>\n",
       "      <td>...</td>\n",
       "    </tr>\n",
       "    <tr>\n",
       "      <th>995</th>\n",
       "      <td>996</td>\n",
       "      <td>Manjunatha A</td>\n",
       "      <td>2022-07-20</td>\n",
       "      <td>09:03:51</td>\n",
       "      <td>15:02:28</td>\n",
       "      <td>05:58:37</td>\n",
       "      <td>29</td>\n",
       "      <td>7</td>\n",
       "    </tr>\n",
       "    <tr>\n",
       "      <th>996</th>\n",
       "      <td>997</td>\n",
       "      <td>Bharath</td>\n",
       "      <td>2022-07-20</td>\n",
       "      <td>09:00:49</td>\n",
       "      <td>15:01:32</td>\n",
       "      <td>06:00:43</td>\n",
       "      <td>29</td>\n",
       "      <td>7</td>\n",
       "    </tr>\n",
       "    <tr>\n",
       "      <th>997</th>\n",
       "      <td>998</td>\n",
       "      <td>Khushboo Priya</td>\n",
       "      <td>2022-07-20</td>\n",
       "      <td>08:59:20</td>\n",
       "      <td>14:26:55</td>\n",
       "      <td>05:27:34</td>\n",
       "      <td>29</td>\n",
       "      <td>7</td>\n",
       "    </tr>\n",
       "    <tr>\n",
       "      <th>998</th>\n",
       "      <td>999</td>\n",
       "      <td>Nishtha Jain</td>\n",
       "      <td>2022-07-20</td>\n",
       "      <td>08:43:55</td>\n",
       "      <td>14:00:33</td>\n",
       "      <td>05:16:38</td>\n",
       "      <td>29</td>\n",
       "      <td>7</td>\n",
       "    </tr>\n",
       "    <tr>\n",
       "      <th>999</th>\n",
       "      <td>1000</td>\n",
       "      <td>Tarun</td>\n",
       "      <td>2022-07-01</td>\n",
       "      <td>01:52:47</td>\n",
       "      <td>12:01:07</td>\n",
       "      <td>1900-01-21 10:08:20</td>\n",
       "      <td>26</td>\n",
       "      <td>7</td>\n",
       "    </tr>\n",
       "  </tbody>\n",
       "</table>\n",
       "<p>1000 rows × 8 columns</p>\n",
       "</div>"
      ],
      "text/plain": [
       "     SL No               Agent       Date Login Time Logout Time  \\\n",
       "0        1  Shivananda Sonwane 2022-07-30   15:35:29    17:39:39   \n",
       "1        2      Khushboo Priya 2022-07-30   15:06:59    15:07:16   \n",
       "2        3       Nandani Gupta 2022-07-30   15:04:24    17:31:07   \n",
       "3        4     Hrisikesh Neogi 2022-07-30   14:34:29    15:19:35   \n",
       "4        5              Mukesh 2022-07-30   14:03:15    15:11:52   \n",
       "..     ...                 ...        ...        ...         ...   \n",
       "995    996        Manjunatha A 2022-07-20   09:03:51    15:02:28   \n",
       "996    997             Bharath 2022-07-20   09:00:49    15:01:32   \n",
       "997    998      Khushboo Priya 2022-07-20   08:59:20    14:26:55   \n",
       "998    999        Nishtha Jain 2022-07-20   08:43:55    14:00:33   \n",
       "999   1000               Tarun 2022-07-01   01:52:47    12:01:07   \n",
       "\n",
       "                Duration  week  month  \n",
       "0               02:04:10    30      7  \n",
       "1               00:00:17    30      7  \n",
       "2               02:26:42    30      7  \n",
       "3               00:45:06    30      7  \n",
       "4               01:08:36    30      7  \n",
       "..                   ...   ...    ...  \n",
       "995             05:58:37    29      7  \n",
       "996             06:00:43    29      7  \n",
       "997             05:27:34    29      7  \n",
       "998             05:16:38    29      7  \n",
       "999  1900-01-21 10:08:20    26      7  \n",
       "\n",
       "[1000 rows x 8 columns]"
      ]
     },
     "execution_count": 54,
     "metadata": {},
     "output_type": "execute_result"
    }
   ],
   "source": [
    "df1['month'] = df1['Date'].dt.month\n",
    "df1"
   ]
  },
  {
   "cell_type": "code",
   "execution_count": null,
   "id": "3d02c24b",
   "metadata": {},
   "outputs": [],
   "source": [
    "100*df1['hours']/df1.groupby('month')['hours'].transform('sum')"
   ]
  },
  {
   "cell_type": "code",
   "execution_count": null,
   "id": "3b1bd378",
   "metadata": {},
   "outputs": [],
   "source": [
    "****************************************************************************"
   ]
  },
  {
   "cell_type": "code",
   "execution_count": null,
   "id": "9ede291d",
   "metadata": {},
   "outputs": [],
   "source": [
    "#considering 7 active hours in a day so in 22 days total active hours = 154\n",
    "(((df1.groupby('Agent')['Duration_hour'].sum()) +\n",
    "(df1.groupby('Agent')['Duration_minute'].sum()/60) +\n",
    "(df1.groupby('Agent')['Duration_second'].sum())/3600)/154)*100"
   ]
  }
 ],
 "metadata": {
  "kernelspec": {
   "display_name": "Python 3 (ipykernel)",
   "language": "python",
   "name": "python3"
  },
  "language_info": {
   "codemirror_mode": {
    "name": "ipython",
    "version": 3
   },
   "file_extension": ".py",
   "mimetype": "text/x-python",
   "name": "python",
   "nbconvert_exporter": "python",
   "pygments_lexer": "ipython3",
   "version": "3.9.7"
  }
 },
 "nbformat": 4,
 "nbformat_minor": 5
}
