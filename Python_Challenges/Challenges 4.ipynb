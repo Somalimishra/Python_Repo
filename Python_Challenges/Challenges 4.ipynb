{
 "cells": [
  {
   "cell_type": "code",
   "execution_count": null,
   "id": "7327a6c4",
   "metadata": {},
   "outputs": [],
   "source": [
    "q1 : Try to print this by using while loop \n",
    "* \n",
    "* * \n",
    "* * * \n",
    "* * * * \n",
    "* * * * * \n",
    "* * * * * * \n",
    "* * * * * * * \n",
    "* * * * * * * * \n",
    "* * * * * * * * * \n",
    "\n",
    "q2 : try to print below by using while loop : \n",
    "        \n",
    "A\n",
    "B H \n",
    "C I N\n",
    "D J o S\n",
    "E K p T W\n",
    "F L Q U X z\n",
    "G M R V Y \n",
    "\n",
    "q3 : Try to print all the number divisible by 3 in between a range of 40 - 400\n",
    "    \n",
    "q4 : Try to filter out all the vowels form below text by using while loop : \n",
    " \"\"\"Python is a high-level, interpreted, general-purpose programming language. Its design philosophy emphasizes code readability with the use of significant indentation.[32]\n",
    "\n",
    "Python is dynamically-typed and garbage-collected. It supports multiple programming paradigms, including structured (particularly procedural), object-oriented and functional programming. It is often described as a \"batteries included\" language due to its comprehensive standard library.[33][34]\n",
    "\n",
    "Guido van Rossum began working on Python in the late 1980s as a successor to the ABC programming language and first released it in 1991 as Python 0.9.0.[35] Python 2.0 was released in 2000 and introduced new features such as list comprehensions, cycle-detecting garbage collection, reference counting, and Unicode support. Python 3.0, released in 2008, was a major revision that is not completely backward-compatible with earlier versions. Python 2 was discontinued with version 2.7.18 in 2020.[36]\n",
    "\n",
    "Python consistently ranks as one of the most popular programming languagesc\"\"\" \n",
    "\n",
    "\n",
    "q5 : Try to generate all the even number between 1- 1000\n",
    "\n",
    "q6 : Define a function for all the above problem statememnt  . \n",
    "    \n",
    "q7 : write a code to get a time of your system \n",
    "\n",
    "q8 : Write a code to fetch date form your system \n",
    "\n",
    "q9 : Write a code to send a mail to your friend \n",
    "\n",
    "q10 : write a code to trigger alarm for you at scheduled time \n",
    "\n",
    "q11 : write a code to check ip address of your system \n",
    "\n",
    "q12 : Write a code to check a perticular installation in your system\n",
    "\n",
    "q13 : Write a code to convert any text in to voice \n",
    "\n",
    "q14 : you have to write a fun which will take string and return a len of \n",
    "it without using a inbuilt fun len\n",
    "\n",
    "q15 :write a fun which will be able to print an index of all premitive element which you will pass \n",
    "\n",
    "q16 : Write a fun which will take input as a dict and give me out as a list of all the values \n",
    "even in case of 2 level nesting it should work . \n",
    "\n",
    "q17 : write a function whihc will take multiple list as a input and give me concatnation of all the element as \n",
    "and output\n",
    "\n",
    "q18 : Write a function which will whould return list of all the file name from a directory . \n",
    "\n",
    "q19 : write a function whihc will be able to read a image file and show it to you .\n",
    "    \n",
    "q20 : write a function by which you will be able to append two PDF files . \n",
    "    \n",
    "q21 : write a function which can help you to filter only word file from a directory . \n",
    "    \n",
    "q22 : write a function which can read video file and play for you . \n",
    "    \n",
    "q23 : write a function which will be able to shutdonw your system . \n",
    "\n",
    "q24 : Write a function which will whould return list of all the file name from a directory . \n",
    "\n",
    "q25 : write a function whihc will be able to access your mail . "
   ]
  },
  {
   "cell_type": "code",
   "execution_count": null,
   "id": "aec53079",
   "metadata": {},
   "outputs": [],
   "source": [
    "q1 : Try to print this by using while loop \n",
    "* \n",
    "* * \n",
    "* * * \n",
    "* * * * \n",
    "* * * * * \n",
    "* * * * * * \n",
    "* * * * * * * \n",
    "* * * * * * * * \n",
    "* * * * * * * * * "
   ]
  },
  {
   "cell_type": "code",
   "execution_count": 4,
   "id": "f01ac42b",
   "metadata": {},
   "outputs": [
    {
     "name": "stdout",
     "output_type": "stream",
     "text": [
      "*\n",
      "**\n",
      "***\n",
      "****\n",
      "*****\n",
      "******\n",
      "*******\n",
      "********\n",
      "*********\n"
     ]
    }
   ],
   "source": [
    "n=9\n",
    "i=1\n",
    "while i<=n:\n",
    "    print('*'*i)\n",
    "    i=i+1"
   ]
  },
  {
   "cell_type": "code",
   "execution_count": null,
   "id": "32a52c1d",
   "metadata": {},
   "outputs": [],
   "source": [
    "q2 : try to print below by using while loop : \n",
    "        \n",
    "A\n",
    "B H \n",
    "C I N\n",
    "D J o S\n",
    "E K p T W\n",
    "F L Q U X z\n",
    "G M R V Y "
   ]
  },
  {
   "cell_type": "code",
   "execution_count": 5,
   "id": "0195ded7",
   "metadata": {},
   "outputs": [
    {
     "name": "stdout",
     "output_type": "stream",
     "text": [
      "\n",
      " A\n",
      " B H\n",
      " C I N\n",
      " D J O S\n",
      " E K P T W\n",
      " F L Q U X Z\n",
      " G M R V Y\n"
     ]
    }
   ],
   "source": [
    "x=0\n",
    "while x<8:\n",
    "    content = \"\"\n",
    "    y=0\n",
    "    while y<x:\n",
    "        z=0\n",
    "        sum=0\n",
    "        while z<y:\n",
    "            sum+=6-z \n",
    "            z+=1\n",
    "        if (x + 64 + sum) <= (64 + 26):\n",
    "            content += \" \" + chr(x + 64 + sum)\n",
    "        y+=1\n",
    "    print(content)\n",
    "    x+=1"
   ]
  },
  {
   "cell_type": "code",
   "execution_count": 13,
   "id": "2ad079a1",
   "metadata": {},
   "outputs": [
    {
     "name": "stdout",
     "output_type": "stream",
     "text": [
      "A \n",
      "B H \n",
      "C I N \n",
      "D J O S \n",
      "E K P T W \n",
      "F L Q U X Z \n",
      "G M R V Y \n"
     ]
    }
   ],
   "source": [
    "#another way\n",
    "i=0\n",
    "while i<7:\n",
    "    l=7\n",
    "    k=i+65  \n",
    "    for j in range(i+1):\n",
    "        if chr(k).isalpha():\n",
    "         print(chr(k),end=\" \") \n",
    "         l-=1\n",
    "         k+=l     \n",
    "    i += 1\n",
    "    print()"
   ]
  },
  {
   "cell_type": "code",
   "execution_count": null,
   "id": "59c8f576",
   "metadata": {},
   "outputs": [],
   "source": [
    "#q3 : Try to print all the number divisible by 3 in between a range of 40 - 400"
   ]
  },
  {
   "cell_type": "code",
   "execution_count": 18,
   "id": "d20ad29c",
   "metadata": {},
   "outputs": [
    {
     "name": "stdout",
     "output_type": "stream",
     "text": [
      "[42, 45, 48, 51, 54, 57, 60, 63, 66, 69, 72, 75, 78, 81, 84, 87, 90, 93, 96, 99, 102, 105, 108, 111, 114, 117, 120, 123, 126, 129, 132, 135, 138, 141, 144, 147, 150, 153, 156, 159, 162, 165, 168, 171, 174, 177, 180, 183, 186, 189, 192, 195, 198, 201, 204, 207, 210, 213, 216, 219, 222, 225, 228, 231, 234, 237, 240, 243, 246, 249, 252, 255, 258, 261, 264, 267, 270, 273, 276, 279, 282, 285, 288, 291, 294, 297, 300, 303, 306, 309, 312, 315, 318, 321, 324, 327, 330, 333, 336, 339, 342, 345, 348, 351, 354, 357, 360, 363, 366, 369, 372, 375, 378, 381, 384, 387, 390, 393, 396, 399]\n"
     ]
    }
   ],
   "source": [
    "#using for loop\n",
    "l1=[]\n",
    "for i in range(40,401):\n",
    "    if i%3==0:\n",
    "        l1.append(i)\n",
    "print(l1)"
   ]
  },
  {
   "cell_type": "code",
   "execution_count": 2,
   "id": "6891649b",
   "metadata": {},
   "outputs": [
    {
     "name": "stdout",
     "output_type": "stream",
     "text": [
      "[42, 45, 48, 51, 54, 57, 60, 63, 66, 69, 72, 75, 78, 81, 84, 87, 90, 93, 96, 99, 102, 105, 108, 111, 114, 117, 120, 123, 126, 129, 132, 135, 138, 141, 144, 147, 150, 153, 156, 159, 162, 165, 168, 171, 174, 177, 180, 183, 186, 189, 192, 195, 198, 201, 204, 207, 210, 213, 216, 219, 222, 225, 228, 231, 234, 237, 240, 243, 246, 249, 252, 255, 258, 261, 264, 267, 270, 273, 276, 279, 282, 285, 288, 291, 294, 297, 300, 303, 306, 309, 312, 315, 318, 321, 324, 327, 330, 333, 336, 339, 342, 345, 348, 351, 354, 357, 360, 363, 366, 369, 372, 375, 378, 381, 384, 387, 390, 393, 396, 399]\n"
     ]
    }
   ],
   "source": [
    "#using while loop\n",
    "l1=[]\n",
    "n=40\n",
    "while n<=400:\n",
    "    if n%3==0:\n",
    "        l1.append(n)\n",
    "    n=n+1\n",
    "print(l1)"
   ]
  },
  {
   "cell_type": "code",
   "execution_count": 2,
   "id": "ad475138",
   "metadata": {},
   "outputs": [],
   "source": [
    "#q4 : Try to filter out all the vowels form below text by using while loop : \n",
    "text=\"\"\"Python is a high-level, interpreted, general-purpose programming language. Its design philosophy emphasizes code readability with the use of significant indentation.[32]\n",
    "Python is dynamically-typed and garbage-collected. It supports multiple programming paradigms, including structured (particularly procedural), object-oriented and functional programming. \n",
    "It is often described as a \"batteries included\" language due to its comprehensive standard library.[33][34] Guido van Rossum began working on Python in the late 1980s as a successor to \n",
    "the ABC programming language and first released it in 1991 as Python 0.9.0.[35] Python 2.0 was released in 2000 and introduced new features such as list comprehensions, cycle-detecting \n",
    "garbage collection, reference counting, and Unicode support. Python 3.0, released in 2008, was a major revision that is not completely backward-compatible with earlier versions. \n",
    "Python 2 was discontinued with version 2.7.18 in 2020.[36] Python consistently ranks as one of the most popular programming languagesc\"\"\" "
   ]
  },
  {
   "cell_type": "code",
   "execution_count": 14,
   "id": "54d13097",
   "metadata": {},
   "outputs": [],
   "source": [
    "def vowel(text):\n",
    "    i = 0 \n",
    "    v = 'aeiou'\n",
    "    text = text.lower()\n",
    "    while i < len(text):\n",
    "        if text[i] in v :\n",
    "            print(text[i])\n",
    "        i = i+1"
   ]
  },
  {
   "cell_type": "code",
   "execution_count": 16,
   "id": "bc67f2d8",
   "metadata": {},
   "outputs": [
    {
     "name": "stdout",
     "output_type": "stream",
     "text": [
      "o\n",
      "i\n",
      "a\n",
      "i\n",
      "e\n",
      "e\n",
      "i\n",
      "e\n",
      "e\n",
      "e\n",
      "e\n",
      "e\n",
      "a\n",
      "u\n",
      "o\n",
      "e\n",
      "o\n",
      "a\n",
      "i\n",
      "a\n",
      "u\n",
      "a\n",
      "e\n",
      "i\n",
      "e\n",
      "i\n",
      "i\n",
      "o\n",
      "o\n",
      "e\n",
      "a\n",
      "i\n",
      "e\n",
      "o\n",
      "e\n",
      "e\n",
      "a\n",
      "a\n",
      "i\n",
      "i\n",
      "i\n",
      "e\n",
      "u\n",
      "e\n",
      "o\n",
      "i\n",
      "i\n",
      "i\n",
      "a\n",
      "i\n",
      "e\n",
      "a\n",
      "i\n",
      "o\n",
      "o\n",
      "i\n",
      "a\n",
      "i\n",
      "a\n",
      "e\n",
      "a\n",
      "a\n",
      "a\n",
      "e\n",
      "o\n",
      "e\n",
      "e\n",
      "i\n",
      "u\n",
      "o\n",
      "u\n",
      "i\n",
      "e\n",
      "o\n",
      "a\n",
      "i\n",
      "a\n",
      "a\n",
      "i\n",
      "i\n",
      "u\n",
      "i\n",
      "u\n",
      "u\n",
      "e\n",
      "a\n",
      "i\n",
      "u\n",
      "a\n",
      "o\n",
      "e\n",
      "u\n",
      "a\n",
      "o\n",
      "e\n",
      "o\n",
      "i\n",
      "e\n",
      "e\n",
      "a\n",
      "u\n",
      "i\n",
      "o\n",
      "a\n",
      "o\n",
      "a\n",
      "i\n",
      "i\n",
      "i\n",
      "o\n",
      "e\n",
      "e\n",
      "i\n",
      "e\n",
      "a\n",
      "a\n",
      "a\n",
      "e\n",
      "i\n",
      "e\n",
      "i\n",
      "u\n",
      "e\n",
      "a\n",
      "u\n",
      "a\n",
      "e\n",
      "u\n",
      "e\n",
      "o\n",
      "i\n",
      "o\n",
      "e\n",
      "e\n",
      "i\n",
      "e\n",
      "a\n",
      "a\n",
      "i\n",
      "a\n",
      "u\n",
      "i\n",
      "o\n",
      "a\n",
      "o\n",
      "u\n",
      "e\n",
      "a\n",
      "o\n",
      "i\n",
      "o\n",
      "o\n",
      "i\n",
      "e\n",
      "a\n",
      "e\n",
      "a\n",
      "a\n",
      "u\n",
      "e\n",
      "o\n",
      "o\n",
      "e\n",
      "a\n",
      "o\n",
      "a\n",
      "i\n",
      "a\n",
      "u\n",
      "a\n",
      "e\n",
      "a\n",
      "i\n",
      "e\n",
      "e\n",
      "a\n",
      "e\n",
      "i\n",
      "i\n",
      "a\n",
      "o\n",
      "o\n",
      "a\n",
      "e\n",
      "e\n",
      "a\n",
      "e\n",
      "i\n",
      "a\n",
      "i\n",
      "o\n",
      "u\n",
      "e\n",
      "e\n",
      "e\n",
      "a\n",
      "u\n",
      "e\n",
      "u\n",
      "a\n",
      "i\n",
      "o\n",
      "e\n",
      "e\n",
      "i\n",
      "o\n",
      "e\n",
      "e\n",
      "e\n",
      "i\n",
      "a\n",
      "a\n",
      "e\n",
      "o\n",
      "e\n",
      "i\n",
      "o\n",
      "e\n",
      "e\n",
      "e\n",
      "e\n",
      "o\n",
      "u\n",
      "i\n",
      "a\n",
      "u\n",
      "i\n",
      "o\n",
      "e\n",
      "u\n",
      "o\n",
      "o\n",
      "e\n",
      "e\n",
      "a\n",
      "e\n",
      "i\n",
      "a\n",
      "a\n",
      "a\n",
      "o\n",
      "e\n",
      "i\n",
      "i\n",
      "o\n",
      "a\n",
      "i\n",
      "o\n",
      "o\n",
      "e\n",
      "e\n",
      "a\n",
      "a\n",
      "o\n",
      "a\n",
      "i\n",
      "e\n",
      "i\n",
      "e\n",
      "a\n",
      "i\n",
      "e\n",
      "e\n",
      "i\n",
      "o\n",
      "o\n",
      "a\n",
      "i\n",
      "o\n",
      "i\n",
      "u\n",
      "e\n",
      "i\n",
      "e\n",
      "i\n",
      "o\n",
      "i\n",
      "o\n",
      "o\n",
      "i\n",
      "e\n",
      "a\n",
      "a\n",
      "o\n",
      "e\n",
      "o\n",
      "e\n",
      "o\n",
      "o\n",
      "u\n",
      "a\n",
      "o\n",
      "a\n",
      "i\n",
      "a\n",
      "u\n",
      "a\n",
      "e\n"
     ]
    }
   ],
   "source": [
    "vowel(text)"
   ]
  },
  {
   "cell_type": "code",
   "execution_count": 17,
   "id": "ae2a14ba",
   "metadata": {},
   "outputs": [
    {
     "name": "stdout",
     "output_type": "stream",
     "text": [
      "['o', 'i', 'a', 'i', 'e', 'e', 'i', 'e', 'e', 'e', 'e', 'e', 'a', 'u', 'o', 'e', 'o', 'a', 'i', 'a', 'u', 'a', 'e', 'i', 'e', 'i', 'i', 'o', 'o', 'e', 'a', 'i', 'e', 'o', 'e', 'e', 'a', 'a', 'i', 'i', 'i', 'e', 'u', 'e', 'o', 'i', 'i', 'i', 'a', 'i', 'e', 'a', 'i', 'o', 'o', 'i', 'a', 'i', 'a', 'e', 'a', 'a', 'a', 'e', 'o', 'e', 'e', 'i', 'u', 'o', 'u', 'i', 'e', 'o', 'a', 'i', 'a', 'a', 'i', 'i', 'u', 'i', 'u', 'u', 'e', 'a', 'i', 'u', 'a', 'o', 'e', 'u', 'a', 'o', 'e', 'o', 'i', 'e', 'e', 'a', 'u', 'i', 'o', 'a', 'o', 'a', 'i', 'i', 'i', 'o', 'e', 'e', 'i', 'e', 'a', 'a', 'a', 'e', 'i', 'e', 'i', 'u', 'e', 'a', 'u', 'a', 'e', 'u', 'e', 'o', 'i', 'o', 'e', 'e', 'i', 'e', 'a', 'a', 'i', 'a', 'u', 'i', 'o', 'a', 'o', 'u', 'e', 'a', 'o', 'i', 'o', 'o', 'i', 'e', 'a', 'e', 'a', 'a', 'u', 'e', 'o', 'o', 'e', 'a', 'o', 'a', 'i', 'a', 'u', 'a', 'e', 'a', 'i', 'e', 'e', 'a', 'e', 'i', 'i', 'a', 'o', 'o', 'a', 'e', 'e', 'a', 'e', 'i', 'a', 'i', 'o', 'u', 'e', 'e', 'e', 'a', 'u', 'e', 'u', 'a', 'i', 'o', 'e', 'e', 'i', 'o', 'e', 'e', 'e', 'i', 'a', 'a', 'e', 'o', 'e', 'i', 'o', 'e', 'e', 'e', 'e', 'o', 'u', 'i', 'a', 'u', 'i', 'o', 'e', 'u', 'o', 'o', 'e', 'e', 'a', 'e', 'i', 'a', 'a', 'a', 'o', 'e', 'i', 'i', 'o', 'a', 'i', 'o', 'o', 'e', 'e', 'a', 'a', 'o', 'a', 'i', 'e', 'i', 'e', 'a', 'i', 'e', 'e', 'i', 'o', 'o', 'a', 'i', 'o', 'i', 'u', 'e', 'i', 'e', 'i', 'o', 'i', 'o', 'o', 'i', 'e', 'a', 'a', 'o', 'e', 'o', 'e', 'o', 'o', 'u', 'a', 'o', 'a', 'i', 'a', 'u', 'a', 'e']\n"
     ]
    }
   ],
   "source": [
    "l=[]\n",
    "text = text.lower()\n",
    "for n in text:\n",
    "    if n=='a' or n=='e' or n=='i' or n=='o' or n=='u':\n",
    "        l.append(n)\n",
    "print(l)"
   ]
  },
  {
   "cell_type": "code",
   "execution_count": 1,
   "id": "42ad21af",
   "metadata": {},
   "outputs": [
    {
     "name": "stdout",
     "output_type": "stream",
     "text": [
      "[2, 4, 6, 8, 10, 12, 14, 16, 18, 20, 22, 24, 26, 28, 30, 32, 34, 36, 38, 40, 42, 44, 46, 48, 50, 52, 54, 56, 58, 60, 62, 64, 66, 68, 70, 72, 74, 76, 78, 80, 82, 84, 86, 88, 90, 92, 94, 96, 98, 100, 102, 104, 106, 108, 110, 112, 114, 116, 118, 120, 122, 124, 126, 128, 130, 132, 134, 136, 138, 140, 142, 144, 146, 148, 150, 152, 154, 156, 158, 160, 162, 164, 166, 168, 170, 172, 174, 176, 178, 180, 182, 184, 186, 188, 190, 192, 194, 196, 198, 200, 202, 204, 206, 208, 210, 212, 214, 216, 218, 220, 222, 224, 226, 228, 230, 232, 234, 236, 238, 240, 242, 244, 246, 248, 250, 252, 254, 256, 258, 260, 262, 264, 266, 268, 270, 272, 274, 276, 278, 280, 282, 284, 286, 288, 290, 292, 294, 296, 298, 300, 302, 304, 306, 308, 310, 312, 314, 316, 318, 320, 322, 324, 326, 328, 330, 332, 334, 336, 338, 340, 342, 344, 346, 348, 350, 352, 354, 356, 358, 360, 362, 364, 366, 368, 370, 372, 374, 376, 378, 380, 382, 384, 386, 388, 390, 392, 394, 396, 398, 400, 402, 404, 406, 408, 410, 412, 414, 416, 418, 420, 422, 424, 426, 428, 430, 432, 434, 436, 438, 440, 442, 444, 446, 448, 450, 452, 454, 456, 458, 460, 462, 464, 466, 468, 470, 472, 474, 476, 478, 480, 482, 484, 486, 488, 490, 492, 494, 496, 498, 500, 502, 504, 506, 508, 510, 512, 514, 516, 518, 520, 522, 524, 526, 528, 530, 532, 534, 536, 538, 540, 542, 544, 546, 548, 550, 552, 554, 556, 558, 560, 562, 564, 566, 568, 570, 572, 574, 576, 578, 580, 582, 584, 586, 588, 590, 592, 594, 596, 598, 600, 602, 604, 606, 608, 610, 612, 614, 616, 618, 620, 622, 624, 626, 628, 630, 632, 634, 636, 638, 640, 642, 644, 646, 648, 650, 652, 654, 656, 658, 660, 662, 664, 666, 668, 670, 672, 674, 676, 678, 680, 682, 684, 686, 688, 690, 692, 694, 696, 698, 700, 702, 704, 706, 708, 710, 712, 714, 716, 718, 720, 722, 724, 726, 728, 730, 732, 734, 736, 738, 740, 742, 744, 746, 748, 750, 752, 754, 756, 758, 760, 762, 764, 766, 768, 770, 772, 774, 776, 778, 780, 782, 784, 786, 788, 790, 792, 794, 796, 798, 800, 802, 804, 806, 808, 810, 812, 814, 816, 818, 820, 822, 824, 826, 828, 830, 832, 834, 836, 838, 840, 842, 844, 846, 848, 850, 852, 854, 856, 858, 860, 862, 864, 866, 868, 870, 872, 874, 876, 878, 880, 882, 884, 886, 888, 890, 892, 894, 896, 898, 900, 902, 904, 906, 908, 910, 912, 914, 916, 918, 920, 922, 924, 926, 928, 930, 932, 934, 936, 938, 940, 942, 944, 946, 948, 950, 952, 954, 956, 958, 960, 962, 964, 966, 968, 970, 972, 974, 976, 978, 980, 982, 984, 986, 988, 990, 992, 994, 996, 998, 1000]\n"
     ]
    }
   ],
   "source": [
    "#q5 : Try to generate all the even number between 1- 1000\n",
    "#using for loop\n",
    "l1=[]\n",
    "for i in range(1,1001):\n",
    "    if i %2==0:\n",
    "        l1.append(i)\n",
    "print(l1)"
   ]
  },
  {
   "cell_type": "code",
   "execution_count": 1,
   "id": "493b5629",
   "metadata": {},
   "outputs": [
    {
     "name": "stdout",
     "output_type": "stream",
     "text": [
      "2\n",
      "4\n",
      "6\n",
      "8\n",
      "10\n",
      "12\n",
      "14\n",
      "16\n",
      "18\n",
      "20\n",
      "22\n",
      "24\n",
      "26\n",
      "28\n",
      "30\n",
      "32\n",
      "34\n",
      "36\n",
      "38\n",
      "40\n",
      "42\n",
      "44\n",
      "46\n",
      "48\n",
      "50\n",
      "52\n",
      "54\n",
      "56\n",
      "58\n",
      "60\n",
      "62\n",
      "64\n",
      "66\n",
      "68\n",
      "70\n",
      "72\n",
      "74\n",
      "76\n",
      "78\n",
      "80\n",
      "82\n",
      "84\n",
      "86\n",
      "88\n",
      "90\n",
      "92\n",
      "94\n",
      "96\n",
      "98\n",
      "100\n",
      "102\n",
      "104\n",
      "106\n",
      "108\n",
      "110\n",
      "112\n",
      "114\n",
      "116\n",
      "118\n",
      "120\n",
      "122\n",
      "124\n",
      "126\n",
      "128\n",
      "130\n",
      "132\n",
      "134\n",
      "136\n",
      "138\n",
      "140\n",
      "142\n",
      "144\n",
      "146\n",
      "148\n",
      "150\n",
      "152\n",
      "154\n",
      "156\n",
      "158\n",
      "160\n",
      "162\n",
      "164\n",
      "166\n",
      "168\n",
      "170\n",
      "172\n",
      "174\n",
      "176\n",
      "178\n",
      "180\n",
      "182\n",
      "184\n",
      "186\n",
      "188\n",
      "190\n",
      "192\n",
      "194\n",
      "196\n",
      "198\n",
      "200\n",
      "202\n",
      "204\n",
      "206\n",
      "208\n",
      "210\n",
      "212\n",
      "214\n",
      "216\n",
      "218\n",
      "220\n",
      "222\n",
      "224\n",
      "226\n",
      "228\n",
      "230\n",
      "232\n",
      "234\n",
      "236\n",
      "238\n",
      "240\n",
      "242\n",
      "244\n",
      "246\n",
      "248\n",
      "250\n",
      "252\n",
      "254\n",
      "256\n",
      "258\n",
      "260\n",
      "262\n",
      "264\n",
      "266\n",
      "268\n",
      "270\n",
      "272\n",
      "274\n",
      "276\n",
      "278\n",
      "280\n",
      "282\n",
      "284\n",
      "286\n",
      "288\n",
      "290\n",
      "292\n",
      "294\n",
      "296\n",
      "298\n",
      "300\n",
      "302\n",
      "304\n",
      "306\n",
      "308\n",
      "310\n",
      "312\n",
      "314\n",
      "316\n",
      "318\n",
      "320\n",
      "322\n",
      "324\n",
      "326\n",
      "328\n",
      "330\n",
      "332\n",
      "334\n",
      "336\n",
      "338\n",
      "340\n",
      "342\n",
      "344\n",
      "346\n",
      "348\n",
      "350\n",
      "352\n",
      "354\n",
      "356\n",
      "358\n",
      "360\n",
      "362\n",
      "364\n",
      "366\n",
      "368\n",
      "370\n",
      "372\n",
      "374\n",
      "376\n",
      "378\n",
      "380\n",
      "382\n",
      "384\n",
      "386\n",
      "388\n",
      "390\n",
      "392\n",
      "394\n",
      "396\n",
      "398\n",
      "400\n",
      "402\n",
      "404\n",
      "406\n",
      "408\n",
      "410\n",
      "412\n",
      "414\n",
      "416\n",
      "418\n",
      "420\n",
      "422\n",
      "424\n",
      "426\n",
      "428\n",
      "430\n",
      "432\n",
      "434\n",
      "436\n",
      "438\n",
      "440\n",
      "442\n",
      "444\n",
      "446\n",
      "448\n",
      "450\n",
      "452\n",
      "454\n",
      "456\n",
      "458\n",
      "460\n",
      "462\n",
      "464\n",
      "466\n",
      "468\n",
      "470\n",
      "472\n",
      "474\n",
      "476\n",
      "478\n",
      "480\n",
      "482\n",
      "484\n",
      "486\n",
      "488\n",
      "490\n",
      "492\n",
      "494\n",
      "496\n",
      "498\n",
      "500\n",
      "502\n",
      "504\n",
      "506\n",
      "508\n",
      "510\n",
      "512\n",
      "514\n",
      "516\n",
      "518\n",
      "520\n",
      "522\n",
      "524\n",
      "526\n",
      "528\n",
      "530\n",
      "532\n",
      "534\n",
      "536\n",
      "538\n",
      "540\n",
      "542\n",
      "544\n",
      "546\n",
      "548\n",
      "550\n",
      "552\n",
      "554\n",
      "556\n",
      "558\n",
      "560\n",
      "562\n",
      "564\n",
      "566\n",
      "568\n",
      "570\n",
      "572\n",
      "574\n",
      "576\n",
      "578\n",
      "580\n",
      "582\n",
      "584\n",
      "586\n",
      "588\n",
      "590\n",
      "592\n",
      "594\n",
      "596\n",
      "598\n",
      "600\n",
      "602\n",
      "604\n",
      "606\n",
      "608\n",
      "610\n",
      "612\n",
      "614\n",
      "616\n",
      "618\n",
      "620\n",
      "622\n",
      "624\n",
      "626\n",
      "628\n",
      "630\n",
      "632\n",
      "634\n",
      "636\n",
      "638\n",
      "640\n",
      "642\n",
      "644\n",
      "646\n",
      "648\n",
      "650\n",
      "652\n",
      "654\n",
      "656\n",
      "658\n",
      "660\n",
      "662\n",
      "664\n",
      "666\n",
      "668\n",
      "670\n",
      "672\n",
      "674\n",
      "676\n",
      "678\n",
      "680\n",
      "682\n",
      "684\n",
      "686\n",
      "688\n",
      "690\n",
      "692\n",
      "694\n",
      "696\n",
      "698\n",
      "700\n",
      "702\n",
      "704\n",
      "706\n",
      "708\n",
      "710\n",
      "712\n",
      "714\n",
      "716\n",
      "718\n",
      "720\n",
      "722\n",
      "724\n",
      "726\n",
      "728\n",
      "730\n",
      "732\n",
      "734\n",
      "736\n",
      "738\n",
      "740\n",
      "742\n",
      "744\n",
      "746\n",
      "748\n",
      "750\n",
      "752\n",
      "754\n",
      "756\n",
      "758\n",
      "760\n",
      "762\n",
      "764\n",
      "766\n",
      "768\n",
      "770\n",
      "772\n",
      "774\n",
      "776\n",
      "778\n",
      "780\n",
      "782\n",
      "784\n",
      "786\n",
      "788\n",
      "790\n",
      "792\n",
      "794\n",
      "796\n",
      "798\n",
      "800\n",
      "802\n",
      "804\n",
      "806\n",
      "808\n",
      "810\n",
      "812\n",
      "814\n",
      "816\n",
      "818\n",
      "820\n",
      "822\n",
      "824\n",
      "826\n",
      "828\n",
      "830\n",
      "832\n",
      "834\n",
      "836\n",
      "838\n",
      "840\n",
      "842\n",
      "844\n",
      "846\n",
      "848\n",
      "850\n",
      "852\n",
      "854\n",
      "856\n",
      "858\n",
      "860\n",
      "862\n",
      "864\n",
      "866\n",
      "868\n",
      "870\n",
      "872\n",
      "874\n",
      "876\n",
      "878\n",
      "880\n",
      "882\n",
      "884\n",
      "886\n",
      "888\n",
      "890\n",
      "892\n",
      "894\n",
      "896\n",
      "898\n",
      "900\n",
      "902\n",
      "904\n",
      "906\n",
      "908\n",
      "910\n",
      "912\n",
      "914\n",
      "916\n",
      "918\n",
      "920\n",
      "922\n",
      "924\n",
      "926\n",
      "928\n",
      "930\n",
      "932\n",
      "934\n",
      "936\n",
      "938\n",
      "940\n",
      "942\n",
      "944\n",
      "946\n",
      "948\n",
      "950\n",
      "952\n",
      "954\n",
      "956\n",
      "958\n",
      "960\n",
      "962\n",
      "964\n",
      "966\n",
      "968\n",
      "970\n",
      "972\n",
      "974\n",
      "976\n",
      "978\n",
      "980\n",
      "982\n",
      "984\n",
      "986\n",
      "988\n",
      "990\n",
      "992\n",
      "994\n",
      "996\n",
      "998\n",
      "1000\n"
     ]
    }
   ],
   "source": [
    "#using while loop\n",
    "m=1\n",
    "n=1000\n",
    "while m<=n:\n",
    "    if m%2==0:\n",
    "        print(m)\n",
    "    m=m+1"
   ]
  },
  {
   "cell_type": "code",
   "execution_count": 2,
   "id": "b75a7caf",
   "metadata": {},
   "outputs": [],
   "source": [
    "#q6 : Define a function for all the above problem statememnt\n",
    "def even():\n",
    "    l1=[]\n",
    "    for i in range(1,1001):\n",
    "        if i %2==0:\n",
    "            l1.append(i)\n",
    "    print(l1)"
   ]
  },
  {
   "cell_type": "code",
   "execution_count": 3,
   "id": "5cd0bec1",
   "metadata": {},
   "outputs": [
    {
     "name": "stdout",
     "output_type": "stream",
     "text": [
      "[2, 4, 6, 8, 10, 12, 14, 16, 18, 20, 22, 24, 26, 28, 30, 32, 34, 36, 38, 40, 42, 44, 46, 48, 50, 52, 54, 56, 58, 60, 62, 64, 66, 68, 70, 72, 74, 76, 78, 80, 82, 84, 86, 88, 90, 92, 94, 96, 98, 100, 102, 104, 106, 108, 110, 112, 114, 116, 118, 120, 122, 124, 126, 128, 130, 132, 134, 136, 138, 140, 142, 144, 146, 148, 150, 152, 154, 156, 158, 160, 162, 164, 166, 168, 170, 172, 174, 176, 178, 180, 182, 184, 186, 188, 190, 192, 194, 196, 198, 200, 202, 204, 206, 208, 210, 212, 214, 216, 218, 220, 222, 224, 226, 228, 230, 232, 234, 236, 238, 240, 242, 244, 246, 248, 250, 252, 254, 256, 258, 260, 262, 264, 266, 268, 270, 272, 274, 276, 278, 280, 282, 284, 286, 288, 290, 292, 294, 296, 298, 300, 302, 304, 306, 308, 310, 312, 314, 316, 318, 320, 322, 324, 326, 328, 330, 332, 334, 336, 338, 340, 342, 344, 346, 348, 350, 352, 354, 356, 358, 360, 362, 364, 366, 368, 370, 372, 374, 376, 378, 380, 382, 384, 386, 388, 390, 392, 394, 396, 398, 400, 402, 404, 406, 408, 410, 412, 414, 416, 418, 420, 422, 424, 426, 428, 430, 432, 434, 436, 438, 440, 442, 444, 446, 448, 450, 452, 454, 456, 458, 460, 462, 464, 466, 468, 470, 472, 474, 476, 478, 480, 482, 484, 486, 488, 490, 492, 494, 496, 498, 500, 502, 504, 506, 508, 510, 512, 514, 516, 518, 520, 522, 524, 526, 528, 530, 532, 534, 536, 538, 540, 542, 544, 546, 548, 550, 552, 554, 556, 558, 560, 562, 564, 566, 568, 570, 572, 574, 576, 578, 580, 582, 584, 586, 588, 590, 592, 594, 596, 598, 600, 602, 604, 606, 608, 610, 612, 614, 616, 618, 620, 622, 624, 626, 628, 630, 632, 634, 636, 638, 640, 642, 644, 646, 648, 650, 652, 654, 656, 658, 660, 662, 664, 666, 668, 670, 672, 674, 676, 678, 680, 682, 684, 686, 688, 690, 692, 694, 696, 698, 700, 702, 704, 706, 708, 710, 712, 714, 716, 718, 720, 722, 724, 726, 728, 730, 732, 734, 736, 738, 740, 742, 744, 746, 748, 750, 752, 754, 756, 758, 760, 762, 764, 766, 768, 770, 772, 774, 776, 778, 780, 782, 784, 786, 788, 790, 792, 794, 796, 798, 800, 802, 804, 806, 808, 810, 812, 814, 816, 818, 820, 822, 824, 826, 828, 830, 832, 834, 836, 838, 840, 842, 844, 846, 848, 850, 852, 854, 856, 858, 860, 862, 864, 866, 868, 870, 872, 874, 876, 878, 880, 882, 884, 886, 888, 890, 892, 894, 896, 898, 900, 902, 904, 906, 908, 910, 912, 914, 916, 918, 920, 922, 924, 926, 928, 930, 932, 934, 936, 938, 940, 942, 944, 946, 948, 950, 952, 954, 956, 958, 960, 962, 964, 966, 968, 970, 972, 974, 976, 978, 980, 982, 984, 986, 988, 990, 992, 994, 996, 998, 1000]\n"
     ]
    }
   ],
   "source": [
    "even()"
   ]
  },
  {
   "cell_type": "code",
   "execution_count": 6,
   "id": "1745e54b",
   "metadata": {},
   "outputs": [],
   "source": [
    "def vowel(text):\n",
    "    l=[]\n",
    "    text = text.lower()\n",
    "    for n in text:\n",
    "        if n=='a' or n=='e' or n=='i' or n=='o' or n=='u':\n",
    "            l.append(n)\n",
    "    print(l)"
   ]
  },
  {
   "cell_type": "code",
   "execution_count": 7,
   "id": "4402c9d6",
   "metadata": {},
   "outputs": [
    {
     "name": "stdout",
     "output_type": "stream",
     "text": [
      "['o', 'i', 'a', 'i', 'e', 'e', 'i', 'e', 'e', 'e', 'e', 'e', 'a', 'u', 'o', 'e', 'o', 'a', 'i', 'a', 'u', 'a', 'e', 'i', 'e', 'i', 'i', 'o', 'o', 'e', 'a', 'i', 'e', 'o', 'e', 'e', 'a', 'a', 'i', 'i', 'i', 'e', 'u', 'e', 'o', 'i', 'i', 'i', 'a', 'i', 'e', 'a', 'i', 'o', 'o', 'i', 'a', 'i', 'a', 'e', 'a', 'a', 'a', 'e', 'o', 'e', 'e', 'i', 'u', 'o', 'u', 'i', 'e', 'o', 'a', 'i', 'a', 'a', 'i', 'i', 'u', 'i', 'u', 'u', 'e', 'a', 'i', 'u', 'a', 'o', 'e', 'u', 'a', 'o', 'e', 'o', 'i', 'e', 'e', 'a', 'u', 'i', 'o', 'a', 'o', 'a', 'i', 'i', 'i', 'o', 'e', 'e', 'i', 'e', 'a', 'a', 'a', 'e', 'i', 'e', 'i', 'u', 'e', 'a', 'u', 'a', 'e', 'u', 'e', 'o', 'i', 'o', 'e', 'e', 'i', 'e', 'a', 'a', 'i', 'a', 'u', 'i', 'o', 'a', 'o', 'u', 'e', 'a', 'o', 'i', 'o', 'o', 'i', 'e', 'a', 'e', 'a', 'a', 'u', 'e', 'o', 'o', 'e', 'a', 'o', 'a', 'i', 'a', 'u', 'a', 'e', 'a', 'i', 'e', 'e', 'a', 'e', 'i', 'i', 'a', 'o', 'o', 'a', 'e', 'e', 'a', 'e', 'i', 'a', 'i', 'o', 'u', 'e', 'e', 'e', 'a', 'u', 'e', 'u', 'a', 'i', 'o', 'e', 'e', 'i', 'o', 'e', 'e', 'e', 'i', 'a', 'a', 'e', 'o', 'e', 'i', 'o', 'e', 'e', 'e', 'e', 'o', 'u', 'i', 'a', 'u', 'i', 'o', 'e', 'u', 'o', 'o', 'e', 'e', 'a', 'e', 'i', 'a', 'a', 'a', 'o', 'e', 'i', 'i', 'o', 'a', 'i', 'o', 'o', 'e', 'e', 'a', 'a', 'o', 'a', 'i', 'e', 'i', 'e', 'a', 'i', 'e', 'e', 'i', 'o', 'o', 'a', 'i', 'o', 'i', 'u', 'e', 'i', 'e', 'i', 'o', 'i', 'o', 'o', 'i', 'e', 'a', 'a', 'o', 'e', 'o', 'e', 'o', 'o', 'u', 'a', 'o', 'a', 'i', 'a', 'u', 'a', 'e']\n"
     ]
    }
   ],
   "source": [
    "vowel(\"\"\"Python is a high-level, interpreted, general-purpose programming language. Its design philosophy emphasizes code readability with the use of significant indentation.[32]\n",
    "Python is dynamically-typed and garbage-collected. It supports multiple programming paradigms, including structured (particularly procedural), object-oriented and functional programming. \n",
    "It is often described as a \"batteries included\" language due to its comprehensive standard library.[33][34] Guido van Rossum began working on Python in the late 1980s as a successor to \n",
    "the ABC programming language and first released it in 1991 as Python 0.9.0.[35] Python 2.0 was released in 2000 and introduced new features such as list comprehensions, cycle-detecting \n",
    "garbage collection, reference counting, and Unicode support. Python 3.0, released in 2008, was a major revision that is not completely backward-compatible with earlier versions. \n",
    "Python 2 was discontinued with version 2.7.18 in 2020.[36] Python consistently ranks as one of the \n",
    "most popular programming languagesc\"\"\")"
   ]
  },
  {
   "cell_type": "code",
   "execution_count": 8,
   "id": "162c3ca9",
   "metadata": {},
   "outputs": [],
   "source": [
    "def div3():\n",
    "    l1=[]\n",
    "    n=40\n",
    "    while n<=400:\n",
    "        if n%3==0:\n",
    "            l1.append(n)\n",
    "        n=n+1\n",
    "    print(l1)"
   ]
  },
  {
   "cell_type": "code",
   "execution_count": 9,
   "id": "22137fd2",
   "metadata": {},
   "outputs": [
    {
     "name": "stdout",
     "output_type": "stream",
     "text": [
      "[42, 45, 48, 51, 54, 57, 60, 63, 66, 69, 72, 75, 78, 81, 84, 87, 90, 93, 96, 99, 102, 105, 108, 111, 114, 117, 120, 123, 126, 129, 132, 135, 138, 141, 144, 147, 150, 153, 156, 159, 162, 165, 168, 171, 174, 177, 180, 183, 186, 189, 192, 195, 198, 201, 204, 207, 210, 213, 216, 219, 222, 225, 228, 231, 234, 237, 240, 243, 246, 249, 252, 255, 258, 261, 264, 267, 270, 273, 276, 279, 282, 285, 288, 291, 294, 297, 300, 303, 306, 309, 312, 315, 318, 321, 324, 327, 330, 333, 336, 339, 342, 345, 348, 351, 354, 357, 360, 363, 366, 369, 372, 375, 378, 381, 384, 387, 390, 393, 396, 399]\n"
     ]
    }
   ],
   "source": [
    "div3()"
   ]
  },
  {
   "cell_type": "code",
   "execution_count": 10,
   "id": "6937cc9d",
   "metadata": {},
   "outputs": [],
   "source": [
    "def pattern():\n",
    "    x=0\n",
    "    while x<8:\n",
    "        content = \"\"\n",
    "        y=0\n",
    "        while y<x:\n",
    "            z=0\n",
    "            sum=0\n",
    "            while z<y:\n",
    "                sum+=6-z \n",
    "                z+=1\n",
    "            if (x + 64 + sum) <= (64 + 26):\n",
    "                content += \" \" + chr(x + 64 + sum)\n",
    "            y+=1\n",
    "        print(content)\n",
    "        x+=1"
   ]
  },
  {
   "cell_type": "code",
   "execution_count": 11,
   "id": "b2164d94",
   "metadata": {},
   "outputs": [
    {
     "name": "stdout",
     "output_type": "stream",
     "text": [
      "\n",
      " A\n",
      " B H\n",
      " C I N\n",
      " D J O S\n",
      " E K P T W\n",
      " F L Q U X Z\n",
      " G M R V Y\n"
     ]
    }
   ],
   "source": [
    "pattern()"
   ]
  },
  {
   "cell_type": "code",
   "execution_count": 13,
   "id": "62b51582",
   "metadata": {},
   "outputs": [
    {
     "name": "stdout",
     "output_type": "stream",
     "text": [
      "Time now at india is: 11:05:50.635875\n"
     ]
    }
   ],
   "source": [
    "#q7 : write a code to get a time of your system\n",
    "\n",
    "# importing datetime module for now()\n",
    "import datetime\n",
    " \n",
    "# using now() to get current time\n",
    "current_time = datetime.datetime.now().time()\n",
    " \n",
    "# Printing value of now.\n",
    "print(\"Time now at india is:\", current_time)"
   ]
  },
  {
   "cell_type": "code",
   "execution_count": 15,
   "id": "dde4fe4c",
   "metadata": {},
   "outputs": [
    {
     "name": "stdout",
     "output_type": "stream",
     "text": [
      "The date is: 2023-03-19\n"
     ]
    }
   ],
   "source": [
    "# q8 : Write a code to fetch date form your system \n",
    "# importing datetime module for now()\n",
    "import datetime\n",
    " \n",
    "# using now() to get todays date\n",
    "todays_date = datetime.datetime.now().date()\n",
    " \n",
    "# Printing value of now.\n",
    "print(\"The date is:\", todays_date)"
   ]
  },
  {
   "cell_type": "code",
   "execution_count": 16,
   "id": "7dba9364",
   "metadata": {},
   "outputs": [],
   "source": [
    "# q9 : Write a code to send a mail to your friend\n",
    "import smtplib\n",
    "server = smtplib.SMTP('smtp.gmail.com',587)\n",
    "\n",
    "server.starttls()\n",
    "\n",
    "server.login('***@gmail.com',\"****\")\n",
    "\n",
    "server.sendmail('**@gmail.com','**@gmail.com','TEST EMAIL from Python')\n",
    "\n",
    "print('Mail sent')"
   ]
  },
  {
   "cell_type": "code",
   "execution_count": 21,
   "id": "f0aa6645",
   "metadata": {},
   "outputs": [],
   "source": [
    "#q10 : write a code to trigger alarm for you at scheduled time \n",
    "import time\n",
    "import playsound\n",
    "\n",
    "alarm_time = '10:22'\n",
    "if time.asctime()[11:-8] == alarm_time :\n",
    "    absolute_path = os.path.abspath(\"texttovoice.mp3\")\n",
    "    print(absolute_path)\n",
    "    playsound.playsound(absolute_path)"
   ]
  },
  {
   "cell_type": "code",
   "execution_count": 20,
   "id": "85cf3bb9",
   "metadata": {},
   "outputs": [
    {
     "name": "stdout",
     "output_type": "stream",
     "text": [
      "Collecting playsound\n",
      "  Downloading playsound-1.3.0.tar.gz (7.7 kB)\n",
      "  Preparing metadata (setup.py): started\n",
      "  Preparing metadata (setup.py): finished with status 'done'\n",
      "Building wheels for collected packages: playsound\n",
      "  Building wheel for playsound (setup.py): started\n",
      "  Building wheel for playsound (setup.py): finished with status 'done'\n",
      "  Created wheel for playsound: filename=playsound-1.3.0-py3-none-any.whl size=7020 sha256=50bb47435a9cf2840011e9138bb5af8dc067bc824c1e446a2bddd77c55d2f100\n",
      "  Stored in directory: c:\\users\\somal\\appdata\\local\\pip\\cache\\wheels\\ba\\39\\54\\c8f7ff9a88a644d3c58b4dec802d90b79a2e0fb2a6b884bf82\n",
      "Successfully built playsound\n",
      "Installing collected packages: playsound\n",
      "Successfully installed playsound-1.3.0\n",
      "Note: you may need to restart the kernel to use updated packages.\n"
     ]
    }
   ],
   "source": [
    "pip install playsound"
   ]
  },
  {
   "cell_type": "code",
   "execution_count": 22,
   "id": "cf869739",
   "metadata": {},
   "outputs": [
    {
     "name": "stdout",
     "output_type": "stream",
     "text": [
      "your ip address is  192.168.0.169\n",
      "your computer name is  Somali_Mishra\n"
     ]
    }
   ],
   "source": [
    "#q11 : write a code to check ip address of your system \n",
    "import socket\n",
    "host= socket.gethostname()\n",
    "ip = socket.gethostbyname(host)\n",
    "print(\"your ip address is \", ip)\n",
    "print(\"your computer name is \", host)"
   ]
  },
  {
   "cell_type": "code",
   "execution_count": 25,
   "id": "d28ff454",
   "metadata": {},
   "outputs": [
    {
     "data": {
      "text/plain": [
       "[InstalledApplication(name='Duet Display', version='2.5.1.1', install_date=None, install_location=WindowsPath('C:/Program Files/Duet/Duet Display'), install_source=None, modify_path='msiexec.exe /i {F46EA1A8-B5BC-48A3-85B4-FC12E25C4E7C} AI_UNINSTALLER_CTP=1', publisher='Duet, Inc.', uninstall_string='msiexec.exe /x {F46EA1A8-B5BC-48A3-85B4-FC12E25C4E7C} AI_UNINSTALLER_CTP=1'),\n",
       " InstalledApplication(name='Microsoft Office Home and Student 2021 - en-us', version='16.0.16130.20306', install_date=None, install_location=WindowsPath('C:/Program Files/Microsoft Office'), install_source=None, modify_path='\"C:\\\\Program Files\\\\Common Files\\\\Microsoft Shared\\\\ClickToRun\\\\OfficeClickToRun.exe\" scenario=repair platform=x64 culture=en-us', publisher='Microsoft Corporation', uninstall_string='\"C:\\\\Program Files\\\\Common Files\\\\Microsoft Shared\\\\ClickToRun\\\\OfficeClickToRun.exe\" scenario=install scenariosubtype=ARP sourcetype=None productstoremove=HomeStudent2021Retail.16_en-us_x-none culture=en-us version.16=16.0'),\n",
       " InstalledApplication(name='HP Documentation', version='1.0.0.1', install_date=None, install_location=None, install_source=None, modify_path=None, publisher='HP Inc.', uninstall_string='CMD /C \"C:\\\\Program Files\\\\HP\\\\Documentation\\\\Doc_Uninstall.cmd\"'),\n",
       " InstalledApplication(name='Microsoft OneDrive', version='23.050.0307.0002', install_date=None, install_location=None, install_source=None, modify_path=None, publisher='Microsoft Corporation', uninstall_string='C:\\\\Program Files\\\\Microsoft OneDrive\\\\23.050.0307.0002\\\\OneDriveSetup.exe  /uninstall  /allusers '),\n",
       " InstalledApplication(name='Microsoft OneNote - en-us', version='16.0.16130.20306', install_date=None, install_location=WindowsPath('C:/Program Files/Microsoft Office'), install_source=None, modify_path='\"C:\\\\Program Files\\\\Common Files\\\\Microsoft Shared\\\\ClickToRun\\\\OfficeClickToRun.exe\" scenario=repair platform=x64 culture=en-us', publisher='Microsoft Corporation', uninstall_string='\"C:\\\\Program Files\\\\Common Files\\\\Microsoft Shared\\\\ClickToRun\\\\OfficeClickToRun.exe\" scenario=install scenariosubtype=ARP sourcetype=None productstoremove=OneNoteFreeRetail.16_en-us_x-none culture=en-us version.16=16.0'),\n",
       " InstalledApplication(name='Bonjour', version='2.0.2.0', install_date=datetime.date(2022, 10, 25), install_location=WindowsPath('C:/Program Files (x86)/Bonjour'), install_source=WindowsPath('C:/Users/Administrator/AppData/Roaming/Duet, Inc/Duet Display/prerequisites'), modify_path='MsiExec.exe /X{B91110FB-33B4-468B-90C2-4D5E8AE3FAE1}', publisher='Apple Inc.', uninstall_string='MsiExec.exe /X{B91110FB-33B4-468B-90C2-4D5E8AE3FAE1}'),\n",
       " InstalledApplication(name='Microsoft Update Health Tools', version='5.69.0.0', install_date=datetime.date(2023, 3, 14), install_location='', install_source=WindowsPath('C:/windows/TEMP/AC085EA8-120E-4281-8822-85F793A1A7FA'), modify_path='MsiExec.exe /X{EF9EBC42-6969-45CE-A8D2-B9249B00C838}', publisher='Microsoft Corporation', uninstall_string='MsiExec.exe /X{EF9EBC42-6969-45CE-A8D2-B9249B00C838}'),\n",
       " InstalledApplication(name='Google Chrome', version='111.0.5563.65', install_date=datetime.date(2023, 3, 14), install_location=WindowsPath('C:/Program Files/Google/Chrome/Application'), install_source=None, modify_path=None, publisher='Google LLC', uninstall_string='\"C:\\\\Program Files\\\\Google\\\\Chrome\\\\Application\\\\111.0.5563.65\\\\Installer\\\\setup.exe\" --uninstall --channel=stable --system-level --verbose-logging'),\n",
       " InstalledApplication(name='Microsoft Edge', version='111.0.1661.44', install_date=datetime.date(2023, 3, 19), install_location=WindowsPath('C:/Program Files (x86)/Microsoft/Edge/Application'), install_source=None, modify_path='\"C:\\\\Program Files (x86)\\\\Microsoft\\\\EdgeUpdate\\\\MicrosoftEdgeUpdate.exe\" /install appguid={56EB18F8-B008-4CBD-B6D2-8C97FE7E9062}&appname=Microsoft%20Edge&needsadmin=true&repairtype=windowsonlinerepair /installsource windows', publisher='Microsoft Corporation', uninstall_string='\"C:\\\\Program Files (x86)\\\\Microsoft\\\\Edge\\\\Application\\\\111.0.1661.44\\\\Installer\\\\setup.exe\" --uninstall --msedge --channel=stable --system-level --verbose-logging'),\n",
       " InstalledApplication(name='Microsoft Edge Update', version='1.3.173.51', install_date=None, install_location=None, install_source=None, modify_path=None, publisher=None, uninstall_string=None),\n",
       " InstalledApplication(name='Microsoft Edge WebView2 Runtime', version='111.0.1661.44', install_date=datetime.date(2023, 3, 19), install_location=WindowsPath('C:/Program Files (x86)/Microsoft/EdgeWebView/Application'), install_source=None, modify_path='\"C:\\\\Program Files (x86)\\\\Microsoft\\\\EdgeUpdate\\\\MicrosoftEdgeUpdate.exe\" /install appguid={F3017226-FE2A-4295-8BDF-00C3A9A7E4C5}&appname=Microsoft%20Edge%20WebView&needsadmin=true&repairtype=windowsonlinerepair /installsource windows', publisher='Microsoft Corporation', uninstall_string='\"C:\\\\Program Files (x86)\\\\Microsoft\\\\EdgeWebView\\\\Application\\\\111.0.1661.44\\\\Installer\\\\setup.exe\" --uninstall --msedgewebview --system-level --verbose-logging'),\n",
       " InstalledApplication(name='McAfee LiveSafe', version='16.0 R50', install_date=None, install_location=WindowsPath('C:/Program Files/McAfee'), install_source=None, modify_path=None, publisher='McAfee, LLC', uninstall_string='C:\\\\Program Files\\\\McAfee\\\\MSC\\\\mcuihost.exe /body:misp://MSCJsRes.dll::uninstall.html /id:uninstall'),\n",
       " InstalledApplication(name='PyCharm Community Edition 2022.3.3', version='223.8836.43', install_date=None, install_location=WindowsPath('C:/Program Files/JetBrains/PyCharm Community Edition 2022.3.3'), install_source=None, modify_path=None, publisher='JetBrains s.r.o.', uninstall_string='C:\\\\Program Files\\\\JetBrains\\\\PyCharm Community Edition 2022.3.3\\\\bin\\\\Uninstall.exe'),\n",
       " InstalledApplication(name='WildTangent Games', version='1.1.1.83', install_date=None, install_location=WindowsPath('C:/Program Files (x86)/WildGames'), install_source=None, modify_path=None, publisher='WildTangent', uninstall_string='\"C:\\\\Program Files (x86)\\\\WildGames\\\\Uninstall.exe\"'),\n",
       " InstalledApplication(name='Tableau 2022.4 (20224.23.0209.1653)', version='22.4.1419', install_date=None, install_location=None, install_source=None, modify_path=None, publisher='Tableau Software', uninstall_string='\"C:\\\\ProgramData\\\\Package Cache\\\\{12458975-f819-44ff-a595-04a1ac8943cc}\\\\tableau-setup-TableauTrialEmailRegistration-tableau-2022-4.23.0209.1653-x64.exe\" /modify'),\n",
       " InstalledApplication(name='Microsoft Visual C++ 2012 Redistributable (x86) - 11.0.61030', version='11.0.61030.0', install_date=None, install_location=None, install_source=None, modify_path='\"C:\\\\ProgramData\\\\Package Cache\\\\{33d1fd90-4274-48a1-9bc1-97e33d9c2d6f}\\\\vcredist_x86.exe\" /modify', publisher='Microsoft Corporation', uninstall_string='\"C:\\\\ProgramData\\\\Package Cache\\\\{33d1fd90-4274-48a1-9bc1-97e33d9c2d6f}\\\\vcredist_x86.exe\"  /uninstall'),\n",
       " InstalledApplication(name='WebAdvisor by McAfee', version='4.1.1.805', install_date=None, install_location=WindowsPath('C:/Program Files/McAfee/WebAdvisor'), install_source=None, modify_path=None, publisher='McAfee, LLC', uninstall_string='C:\\\\Program Files\\\\McAfee\\\\WebAdvisor\\\\Uninstaller.exe'),\n",
       " InstalledApplication(name='Microsoft Visual C++ 2015-2022 Redistributable (x64) - 14.32.31332', version='14.32.31332.0', install_date=None, install_location=None, install_source=None, modify_path='\"C:\\\\ProgramData\\\\Package Cache\\\\{3746f21b-c990-4045-bb33-1cf98cff7a68}\\\\VC_redist.x64.exe\" /modify', publisher='Microsoft Corporation', uninstall_string='\"C:\\\\ProgramData\\\\Package Cache\\\\{3746f21b-c990-4045-bb33-1cf98cff7a68}\\\\VC_redist.x64.exe\"  /uninstall'),\n",
       " InstalledApplication(name='Microsoft Visual C++ 2013 Redistributable (x64) - 12.0.40649', version='12.0.40649.5', install_date=None, install_location=None, install_source=None, modify_path='\"C:\\\\ProgramData\\\\Package Cache\\\\{5d0723d3-cff7-4e07-8d0b-ada737deb5e6}\\\\vcredist_x64.exe\" /modify', publisher='Microsoft Corporation', uninstall_string='\"C:\\\\ProgramData\\\\Package Cache\\\\{5d0723d3-cff7-4e07-8d0b-ada737deb5e6}\\\\vcredist_x64.exe\"  /uninstall'),\n",
       " InstalledApplication(name='Tableau Prep Builder 2022.4 (22.42.23.0213.1206)', version='22.4.26542', install_date=None, install_location=None, install_source=None, modify_path=None, publisher='Tableau Software, LLC', uninstall_string='\"C:\\\\ProgramData\\\\Package Cache\\\\{63037c7e-a10f-42ab-a64c-85ea5bfc1c11}\\\\tableau-setup-prep-tableau-2022-4.22.42.23.0213.1206-x64.exe\" /modify'),\n",
       " InstalledApplication(name='HP Connection Optimizer', version='2.0.19.0', install_date=datetime.date(2022, 7, 9), install_location=WindowsPath('C:/Program Files (x86)/HP/HP Connection Optimizer'), install_source=WindowsPath('C:/SWSETUP/APP/Applications/HP/HPConnect_RRRPB2/2.0.19.0/src'), modify_path='\"C:\\\\Program Files (x86)\\\\InstallShield Installation Information\\\\{6468C4A5-E47E-405F-B675-A70A70983EA6}\\\\setup.exe\" -runfromtemp -l0x0409 ', publisher='HP', uninstall_string='\"C:\\\\Program Files (x86)\\\\InstallShield Installation Information\\\\{6468C4A5-E47E-405F-B675-A70A70983EA6}\\\\setup.exe\" -runfromtemp -l0x0409  -removeonly'),\n",
       " InstalledApplication(name='ExpressVPN', version='10.9.0.20', install_date=None, install_location=None, install_source=None, modify_path='\"C:\\\\ProgramData\\\\Package Cache\\\\{91acec93-88d2-4afe-bbc3-e3e376c03732}\\\\ExpressVPN_10.9.0.20.exe\" /modify', publisher='ExpressVPN', uninstall_string='\"C:\\\\ProgramData\\\\Package Cache\\\\{91acec93-88d2-4afe-bbc3-e3e376c03732}\\\\ExpressVPN_10.9.0.20.exe\"  /uninstall'),\n",
       " InstalledApplication(name='Python Launcher', version='3.11.2150.0', install_date=datetime.date(2023, 3, 17), install_location='', install_source=WindowsPath('C:/ProgramData/Package Cache/{C28EE783-FA9C-4E09-910E-181A4A28C29C}v3.11.2150.0'), modify_path='MsiExec.exe /X{C28EE783-FA9C-4E09-910E-181A4A28C29C}', publisher='Python Software Foundation', uninstall_string='MsiExec.exe /X{C28EE783-FA9C-4E09-910E-181A4A28C29C}'),\n",
       " InstalledApplication(name='Microsoft Visual C++ 2015-2019 Redistributable (x86) - 14.28.29325', version='14.28.29325.2', install_date=None, install_location=None, install_source=None, modify_path='\"C:\\\\ProgramData\\\\Package Cache\\\\{d7a6435f-ac9a-4af6-8fdc-ca130d13fac9}\\\\VC_redist.x86.exe\" /modify', publisher='Microsoft Corporation', uninstall_string='\"C:\\\\ProgramData\\\\Package Cache\\\\{d7a6435f-ac9a-4af6-8fdc-ca130d13fac9}\\\\VC_redist.x86.exe\"  /uninstall')]"
      ]
     },
     "execution_count": 25,
     "metadata": {},
     "output_type": "execute_result"
    }
   ],
   "source": [
    "#q12 : Write a code to check a particular installation in your system\n",
    "import winapps\n",
    "\n",
    "list(winapps.list_installed())"
   ]
  },
  {
   "cell_type": "code",
   "execution_count": 24,
   "id": "1ae0d166",
   "metadata": {},
   "outputs": [
    {
     "name": "stdout",
     "output_type": "stream",
     "text": [
      "Collecting winapps\n",
      "  Downloading winapps-0.2.0-py3-none-any.whl (9.1 kB)\n",
      "Collecting plumbum<2.0,>=1.6\n",
      "  Downloading plumbum-1.8.1-py3-none-any.whl (126 kB)\n",
      "     -------------------------------------- 126.7/126.7 kB 1.3 MB/s eta 0:00:00\n",
      "Requirement already satisfied: pywin32 in c:\\users\\somal\\anaconda3\\lib\\site-packages (from plumbum<2.0,>=1.6->winapps) (302)\n",
      "Installing collected packages: plumbum, winapps\n",
      "Successfully installed plumbum-1.8.1 winapps-0.2.0\n",
      "Note: you may need to restart the kernel to use updated packages.\n"
     ]
    }
   ],
   "source": [
    "pip install winapps"
   ]
  },
  {
   "cell_type": "code",
   "execution_count": null,
   "id": "c51db0ad",
   "metadata": {},
   "outputs": [],
   "source": [
    "# q13 : Write a code to convert any text in to voice \n",
    "import gtts\n",
    "from playsound import playsound\n",
    "def txt_to_voice(str1):\n",
    "    tts=gtts.gTTS(str1)\n",
    "    tts.save(\"Hello.mp3\")\n",
    "    playsound(\"Hello.mp3\")\n",
    "            \n",
    "Text=input(\"Enter the text to convert to voice: \")\n",
    "txt_to_voice(Text)"
   ]
  },
  {
   "cell_type": "code",
   "execution_count": 27,
   "id": "d59acac7",
   "metadata": {},
   "outputs": [
    {
     "name": "stdout",
     "output_type": "stream",
     "text": [
      "Collecting gtts\n",
      "  Downloading gTTS-2.3.1-py3-none-any.whl (28 kB)\n",
      "Requirement already satisfied: click<8.2,>=7.1 in c:\\users\\somal\\anaconda3\\lib\\site-packages (from gtts) (8.0.4)\n",
      "Requirement already satisfied: requests<3,>=2.27 in c:\\users\\somal\\anaconda3\\lib\\site-packages (from gtts) (2.28.1)\n",
      "Requirement already satisfied: colorama in c:\\users\\somal\\anaconda3\\lib\\site-packages (from click<8.2,>=7.1->gtts) (0.4.5)\n",
      "Requirement already satisfied: idna<4,>=2.5 in c:\\users\\somal\\anaconda3\\lib\\site-packages (from requests<3,>=2.27->gtts) (3.3)\n",
      "Requirement already satisfied: certifi>=2017.4.17 in c:\\users\\somal\\anaconda3\\lib\\site-packages (from requests<3,>=2.27->gtts) (2022.9.14)\n",
      "Requirement already satisfied: charset-normalizer<3,>=2 in c:\\users\\somal\\anaconda3\\lib\\site-packages (from requests<3,>=2.27->gtts) (2.0.4)\n",
      "Requirement already satisfied: urllib3<1.27,>=1.21.1 in c:\\users\\somal\\anaconda3\\lib\\site-packages (from requests<3,>=2.27->gtts) (1.26.11)\n",
      "Installing collected packages: gtts\n",
      "Successfully installed gtts-2.3.1\n",
      "Note: you may need to restart the kernel to use updated packages.\n"
     ]
    }
   ],
   "source": [
    "pip install gtts"
   ]
  },
  {
   "cell_type": "code",
   "execution_count": 32,
   "id": "b165cc77",
   "metadata": {},
   "outputs": [],
   "source": [
    "# q14 : you have to write a function which will take string and return a len of it without using a inbuilt fun len\n",
    "\n",
    "def str_len(s):\n",
    "    count=0\n",
    "    for i in s:\n",
    "        count=count+1\n",
    "    return count\n",
    "        "
   ]
  },
  {
   "cell_type": "code",
   "execution_count": 33,
   "id": "04f1fc02",
   "metadata": {},
   "outputs": [
    {
     "data": {
      "text/plain": [
       "6"
      ]
     },
     "execution_count": 33,
     "metadata": {},
     "output_type": "execute_result"
    }
   ],
   "source": [
    "str_len('somali')"
   ]
  },
  {
   "cell_type": "code",
   "execution_count": null,
   "id": "e90d483b",
   "metadata": {},
   "outputs": [],
   "source": [
    "# q15 :write a function which will be able to print an index of all premitive element which you will pass"
   ]
  },
  {
   "cell_type": "code",
   "execution_count": 34,
   "id": "ff8d5b9a",
   "metadata": {},
   "outputs": [],
   "source": [
    "def print_prim(l) : \n",
    "    for i in range(len(l)):\n",
    "        print(i)"
   ]
  },
  {
   "cell_type": "code",
   "execution_count": 35,
   "id": "3011fe21",
   "metadata": {},
   "outputs": [
    {
     "name": "stdout",
     "output_type": "stream",
     "text": [
      "0\n",
      "1\n",
      "2\n",
      "3\n",
      "4\n",
      "5\n",
      "6\n"
     ]
    }
   ],
   "source": [
    "print_prim([4,5,6,7,7, \"sdfs\" , [3,4,5,6]])"
   ]
  },
  {
   "cell_type": "code",
   "execution_count": 54,
   "id": "03edaca8",
   "metadata": {},
   "outputs": [],
   "source": [
    "#  q16 : Write a fun which will take input as a dict and give me out as a list of all the values \n",
    "#even in case of 2 level nesting it should work . \n",
    "def dic_to_list(d) : \n",
    "    l= []\n",
    "    for i in d.values() : \n",
    "        if type(i) != dict :\n",
    "            l.append(i)\n",
    "        if type(i) == dict :\n",
    "            for j in i.values():\n",
    "                l.append(j)\n",
    "    return l "
   ]
  },
  {
   "cell_type": "code",
   "execution_count": 55,
   "id": "ac9a02b9",
   "metadata": {},
   "outputs": [],
   "source": [
    "d = {'k1' :\"value\" , \"k2\" : \"values \" ,\"k3\" : { \"k12\" : \"sudh\" , \"k13\"  : \"gafasd\"}}"
   ]
  },
  {
   "cell_type": "code",
   "execution_count": 56,
   "id": "a225fa35",
   "metadata": {},
   "outputs": [
    {
     "data": {
      "text/plain": [
       "['value', 'values ', 'sudh', 'gafasd']"
      ]
     },
     "execution_count": 56,
     "metadata": {},
     "output_type": "execute_result"
    }
   ],
   "source": [
    "dic_to_list(d)"
   ]
  },
  {
   "cell_type": "code",
   "execution_count": 67,
   "id": "da9d30fc",
   "metadata": {},
   "outputs": [],
   "source": [
    "#other way\n",
    "def list_input(**dic):\n",
    "    l=[]\n",
    "    for k,v in dic.items():\n",
    "        if type(k)==str or type(k)==int:\n",
    "            l.append(k)\n",
    "        if type(k)==list or type(k)==tuple or type(k)==set:\n",
    "            for k1 in k:\n",
    "                l.append(k1)\n",
    "        if type(k)==dict:\n",
    "            for m,n in k.items():\n",
    "                l.append(m)\n",
    "                l.append(n)\n",
    "        if type(v)==str or type(v)==int:\n",
    "            l.append(v)\n",
    "        if type(v)==list or type(v)==tuple or type(v)==set:\n",
    "            for v1 in v:\n",
    "                l.append(v1)\n",
    "        if type(v)==dict:\n",
    "            for m,n in v.items():\n",
    "                l.append(m)\n",
    "                l.append(n)\n",
    "    print(l)"
   ]
  },
  {
   "cell_type": "code",
   "execution_count": 68,
   "id": "8c3018ee",
   "metadata": {},
   "outputs": [
    {
     "name": "stdout",
     "output_type": "stream",
     "text": [
      "['a', 7, 'b', 'som', 'c', 890, 'd', 'dff', 'e', 2, 3, 45, 'fgh', 'f', 'k12', 'sudh', 'k13', 'gafasd']\n"
     ]
    }
   ],
   "source": [
    "list_input(a=7,b='som',c=890,d='dff',e=[2,3,45,'fgh'],f={ \"k12\" : \"sudh\" , \"k13\"  : \"gafasd\"})"
   ]
  },
  {
   "cell_type": "code",
   "execution_count": 69,
   "id": "883ab13c",
   "metadata": {},
   "outputs": [],
   "source": [
    "# q17 : write a function which will take multiple list as a input and give me concatnation of all the element as an output"
   ]
  },
  {
   "cell_type": "code",
   "execution_count": 76,
   "id": "43c4af01",
   "metadata": {},
   "outputs": [],
   "source": [
    "def con_list(*con_l):\n",
    "    l=[]\n",
    "    for i in con_l:\n",
    "        for j in i:\n",
    "            l.append(j)\n",
    "    print(l)"
   ]
  },
  {
   "cell_type": "code",
   "execution_count": 77,
   "id": "1d925fff",
   "metadata": {},
   "outputs": [
    {
     "name": "stdout",
     "output_type": "stream",
     "text": [
      "[1, 2, 3, 89, 'fom', 'df']\n"
     ]
    }
   ],
   "source": [
    "con_list([1,2,3],[89,'fom','df'])"
   ]
  },
  {
   "cell_type": "code",
   "execution_count": 84,
   "id": "c9550949",
   "metadata": {},
   "outputs": [],
   "source": [
    "#q18 : Write a function which would return list of all the file name from a directory .\n",
    "def dic_file(folderaddress):\n",
    "    import os\n",
    "    l=[]\n",
    "    for path in os.listdir(folderaddress):\n",
    "        if os.path.isfile(os.path.join(folderaddress,path)):\n",
    "            l.append(path)\n",
    "    return l"
   ]
  },
  {
   "cell_type": "code",
   "execution_count": 86,
   "id": "10983ca1",
   "metadata": {},
   "outputs": [
    {
     "data": {
      "text/plain": [
       "['AppXManifest.xml', 'FileSystemMetadata.xml', 'ThinAppXManifest.xml']"
      ]
     },
     "execution_count": 86,
     "metadata": {},
     "output_type": "execute_result"
    }
   ],
   "source": [
    "dic_file(\"C:\\Program Files\\Microsoft Office\")"
   ]
  },
  {
   "cell_type": "code",
   "execution_count": 82,
   "id": "75e8a08d",
   "metadata": {},
   "outputs": [],
   "source": [
    "#another way\n",
    "def dir_file():\n",
    "    # import OS module\n",
    "    import os\n",
    "\n",
    "    # Get the list of all files and directories\n",
    "    path = \"C:\\Program Files\\Microsoft Office\"\n",
    "    dir_list = os.listdir(path)\n",
    "\n",
    "    print(\"Files and directories in '\", path, \"' :\")\n",
    "\n",
    "    # prints all files\n",
    "    print(dir_list)"
   ]
  },
  {
   "cell_type": "code",
   "execution_count": 83,
   "id": "655b584d",
   "metadata": {},
   "outputs": [
    {
     "name": "stdout",
     "output_type": "stream",
     "text": [
      "Files and directories in ' C:\\Program Files\\Microsoft Office ' :\n",
      "['AppXManifest.xml', 'FileSystemMetadata.xml', 'Office16', 'PackageManifests', 'root', 'ThinAppXManifest.xml', 'Updates']\n"
     ]
    }
   ],
   "source": [
    "dir_file()"
   ]
  },
  {
   "cell_type": "code",
   "execution_count": 3,
   "id": "97af3091",
   "metadata": {},
   "outputs": [],
   "source": [
    "# q19 : write a function which will be able to read an image file and show it to you .\n",
    "def read_image(p):\n",
    "    import cv2\n",
    "    import glob\n",
    "    path= glob.glob(p)\n",
    "\n",
    "    for file in path:\n",
    "        # Load an color image in grayscale\n",
    "        img = cv2.imread(file,1)\n",
    "        #Display the image\n",
    "        cv2.imshow(\"image\",img)\n",
    "        #key binding function\n",
    "        cv2.waitKey(1000)\n",
    "        #Destroyed all window we created earlier.\n",
    "        cv2.destroyAllWindows()"
   ]
  },
  {
   "cell_type": "code",
   "execution_count": null,
   "id": "2f469038",
   "metadata": {},
   "outputs": [],
   "source": [
    "read_image(\"C:\\Users\\somal\\OneDrive\\Pictures\\Screenshots\\image.png\")"
   ]
  },
  {
   "cell_type": "code",
   "execution_count": 7,
   "id": "bebc183b",
   "metadata": {},
   "outputs": [],
   "source": [
    "# q20 : write a function by which you will be able to append two PDF files .\n",
    "def aapnd_pdf(x,y):\n",
    "    from PyPDF2 import PdfMerger\n",
    "    listpdf=[x, y]\n",
    "    merge= PdfMerger()\n",
    "\n",
    "    for i in listpdf:\n",
    "        merge.append(i)\n",
    "    merge.write(\"c:/Users/somali/Downloads/test/MergedPDF.pdf\")\n",
    "    merge.close()"
   ]
  },
  {
   "cell_type": "code",
   "execution_count": null,
   "id": "c412082c",
   "metadata": {},
   "outputs": [],
   "source": [
    "aapnd_pdf(\"c:/Users/somali/Downloads/test/abc.pdf\",\"c:/Users/somali/Downloads/test/pqr.pdf\")"
   ]
  },
  {
   "cell_type": "code",
   "execution_count": 8,
   "id": "2e91c73a",
   "metadata": {},
   "outputs": [],
   "source": [
    "#q21 : write a function which can help you to filter only word file from a directory .\n",
    "def filter_word(w):\n",
    "    import glob\n",
    "    path = glob.glob(w)\n",
    "    l=[]\n",
    "\n",
    "    for i in path:\n",
    "        l.append(i)\n",
    "    return l"
   ]
  },
  {
   "cell_type": "code",
   "execution_count": null,
   "id": "f5c221ba",
   "metadata": {},
   "outputs": [],
   "source": [
    "filter_word(\"c:/Users/Shubham/Downloads/*docx\")"
   ]
  },
  {
   "cell_type": "code",
   "execution_count": 9,
   "id": "3cd43952",
   "metadata": {},
   "outputs": [],
   "source": [
    "# q22 : write a function which can read video file and play for you . \n",
    "def play_vido(p):\n",
    "    import cv2\n",
    "    print(\"press 'q' key on keyboard to quit the video\")\n",
    "    video= cv2.VideoCapture(p)\n",
    "    while video.isOpened():\n",
    "        a,b =video.read()\n",
    "        if a ==True:\n",
    "            cv2.imshow(\"Frame\", b)\n",
    "            key = cv2.waitKey(25)\n",
    "            if key == ord('q'):\n",
    "                break\n",
    "\n",
    "        else:\n",
    "            break\n",
    "    video.release()\n",
    "    cv2.destroyAllWindows()"
   ]
  },
  {
   "cell_type": "code",
   "execution_count": null,
   "id": "927bb81b",
   "metadata": {},
   "outputs": [],
   "source": [
    "play_vido(\"c:/Users/somali/Downloads/test/test.mp4\")"
   ]
  },
  {
   "cell_type": "code",
   "execution_count": null,
   "id": "4d63aaa8",
   "metadata": {},
   "outputs": [],
   "source": [
    "# q23 : write a function which will be able to shutdonw your system . "
   ]
  },
  {
   "cell_type": "code",
   "execution_count": 10,
   "id": "1dae505e",
   "metadata": {},
   "outputs": [],
   "source": [
    "def shut_pc(shutdown):\n",
    "    import os\n",
    "    shutdown = input(\"Press yes for shutdown:\",  )\n",
    "    if shutdown == 'no':\n",
    "        exit()\n",
    "    else:\n",
    "        os.system(\"shutdown /s /t 1\")"
   ]
  },
  {
   "cell_type": "code",
   "execution_count": null,
   "id": "64ef1a3f",
   "metadata": {},
   "outputs": [],
   "source": [
    "# shut_pc('yes')"
   ]
  },
  {
   "cell_type": "code",
   "execution_count": 11,
   "id": "de73f0eb",
   "metadata": {},
   "outputs": [
    {
     "data": {
      "text/plain": [
       "'same as question 18'"
      ]
     },
     "execution_count": 11,
     "metadata": {},
     "output_type": "execute_result"
    }
   ],
   "source": [
    "# q24 : Write a function which will whould return list of all the file name from a directory . \n",
    "'''same as question 18'''"
   ]
  },
  {
   "cell_type": "code",
   "execution_count": 12,
   "id": "8ca0fc9c",
   "metadata": {},
   "outputs": [],
   "source": [
    "# q25 : write a function whihc will be able to access your mail .\n",
    "def access_mail(user,password):\n",
    "    import imaplib\n",
    "    #user = 'cmchqwcl@gmail.com'\n",
    "    #password = 'Admin1234$'\n",
    "    imap_url = 'imap.gmail.com'\n",
    "    con = imaplib.IMAP4_SSL(imap_url)\n",
    "    con.login(user,password)\n",
    "    return \"Account: cmchqwcl@gmail.com authenticated,Successful Login\""
   ]
  },
  {
   "cell_type": "code",
   "execution_count": null,
   "id": "b756e26a",
   "metadata": {},
   "outputs": [],
   "source": [
    "access_mail(\"cmchqwcl@gmail.com\",\"Admin1234$\")"
   ]
  }
 ],
 "metadata": {
  "kernelspec": {
   "display_name": "Python 3 (ipykernel)",
   "language": "python",
   "name": "python3"
  },
  "language_info": {
   "codemirror_mode": {
    "name": "ipython",
    "version": 3
   },
   "file_extension": ".py",
   "mimetype": "text/x-python",
   "name": "python",
   "nbconvert_exporter": "python",
   "pygments_lexer": "ipython3",
   "version": "3.9.13"
  }
 },
 "nbformat": 4,
 "nbformat_minor": 5
}
