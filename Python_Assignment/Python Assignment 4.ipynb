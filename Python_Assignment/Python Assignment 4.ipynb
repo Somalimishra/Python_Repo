{
 "cells": [
  {
   "cell_type": "code",
   "execution_count": null,
   "id": "ee884638",
   "metadata": {},
   "outputs": [],
   "source": [
    "#1. What exactly is []?\n",
    "The empty list value, which is a list value that contains no items."
   ]
  },
  {
   "cell_type": "code",
   "execution_count": 2,
   "id": "139cd006",
   "metadata": {},
   "outputs": [
    {
     "name": "stdout",
     "output_type": "stream",
     "text": [
      "[]\n"
     ]
    }
   ],
   "source": [
    "#example of empty list\n",
    "l=[]\n",
    "print(l)"
   ]
  },
  {
   "cell_type": "code",
   "execution_count": 3,
   "id": "0dfdccb9",
   "metadata": {},
   "outputs": [],
   "source": [
    "#2. In a list of values stored in a variable called spam, how would you assign the value 'hello' as the third value? \n",
    "#(Assume [2, 4, 6, 8, 10] are in spam.)\n",
    "spam=[2, 4, 6, 8, 10]\n",
    "spam[2]='hello' #assign hello at 3rd position means at index 0"
   ]
  },
  {
   "cell_type": "code",
   "execution_count": 4,
   "id": "fb59fa25",
   "metadata": {},
   "outputs": [
    {
     "name": "stdout",
     "output_type": "stream",
     "text": [
      "[2, 4, 'hello', 8, 10]\n"
     ]
    }
   ],
   "source": [
    "print(spam)"
   ]
  },
  {
   "cell_type": "code",
   "execution_count": 64,
   "id": "ebc04f58",
   "metadata": {},
   "outputs": [],
   "source": [
    "#Let's pretend the spam includes the list ['a', 'b', 'c', 'd'] for the next three queries.\n",
    "spam=['a', 'b', 'c', 'd']"
   ]
  },
  {
   "cell_type": "code",
   "execution_count": 65,
   "id": "9e4a4c21",
   "metadata": {},
   "outputs": [
    {
     "data": {
      "text/plain": [
       "'d'"
      ]
     },
     "execution_count": 65,
     "metadata": {},
     "output_type": "execute_result"
    }
   ],
   "source": [
    "#3. What is the value of spam[int(int('3' * 2) / 11)]?\n",
    "->'3'*2=33 then 33/11=3 and int(int(3))=3, so at index 3 'd'is there.\n",
    "spam[int(int('3' * 2) / 11)]"
   ]
  },
  {
   "cell_type": "code",
   "execution_count": 66,
   "id": "1473cb9f",
   "metadata": {},
   "outputs": [
    {
     "data": {
      "text/plain": [
       "'d'"
      ]
     },
     "execution_count": 66,
     "metadata": {},
     "output_type": "execute_result"
    }
   ],
   "source": [
    "#4. What is the value of spam[-1]?\n",
    "->list support negative indexing. so spam[-1] is the last element of the list i.e 'd'\n",
    "spam[-1]"
   ]
  },
  {
   "cell_type": "code",
   "execution_count": 67,
   "id": "96cf4a44",
   "metadata": {},
   "outputs": [
    {
     "data": {
      "text/plain": [
       "['a', 'b']"
      ]
     },
     "execution_count": 67,
     "metadata": {},
     "output_type": "execute_result"
    }
   ],
   "source": [
    "#5. What is the value of spam[:2]?\n",
    "-spam[:2] means starting from index 0 to 2 and excluding index 2. so output would be ,what would be at 0th and 1st index.\n",
    "spam[:2]"
   ]
  },
  {
   "cell_type": "code",
   "execution_count": null,
   "id": "f8c53afd",
   "metadata": {},
   "outputs": [],
   "source": [
    "#Let's pretend bacon has the list [3.14, 'cat,' 11, 'cat,' True] for the next three questions."
   ]
  },
  {
   "cell_type": "code",
   "execution_count": 17,
   "id": "037e7da4",
   "metadata": {},
   "outputs": [
    {
     "data": {
      "text/plain": [
       "1"
      ]
     },
     "execution_count": 17,
     "metadata": {},
     "output_type": "execute_result"
    }
   ],
   "source": [
    "#6. What is the value of bacon.index('cat')?\n",
    "index()=this method is used to find the index of the particular element\n",
    "bacon=[3.14, 'cat', 11, 'cat', True]\n",
    "bacon.index('cat')"
   ]
  },
  {
   "cell_type": "code",
   "execution_count": 18,
   "id": "c059b4fa",
   "metadata": {},
   "outputs": [
    {
     "name": "stdout",
     "output_type": "stream",
     "text": [
      "[3.14, 'cat', 11, 'cat', True, 99]\n"
     ]
    }
   ],
   "source": [
    "#7. How does bacon.append(99) change the look of the list value in bacon?\n",
    "-append()=this function is used to add the element in list at the last index.\n",
    "so, here it added 99 at the last index of the list.\n",
    "bacon.append(99)\n",
    "print(bacon)"
   ]
  },
  {
   "cell_type": "code",
   "execution_count": 19,
   "id": "9ab6b47d",
   "metadata": {},
   "outputs": [
    {
     "name": "stdout",
     "output_type": "stream",
     "text": [
      "[3.14, 11, 'cat', True, 99]\n"
     ]
    }
   ],
   "source": [
    "#8. How does bacon.remove('cat') change the look of the list in bacon?\n",
    "-remove()-to remove the specified item.\n",
    "-Here as 'cat' is available at 1st and 3rd index,it would removes the very first element from the list i.e 'cat' at 1st index. \n",
    "bacon.remove('cat')\n",
    "print(bacon)"
   ]
  },
  {
   "cell_type": "code",
   "execution_count": null,
   "id": "5c220df4",
   "metadata": {},
   "outputs": [],
   "source": [
    "#9. What are the list concatenation and list replication operators?\n",
    "The operator for list concatenation is +,while the operator for replication is *."
   ]
  },
  {
   "cell_type": "code",
   "execution_count": 21,
   "id": "194e7ad6",
   "metadata": {},
   "outputs": [
    {
     "name": "stdout",
     "output_type": "stream",
     "text": [
      "[1, 2, 3, 'lim', 'kim', 'tim']\n"
     ]
    }
   ],
   "source": [
    "#list concatenation\n",
    "l1=[1,2,3]\n",
    "l2=['lim','kim','tim']\n",
    "l=l1+l2\n",
    "print(l)"
   ]
  },
  {
   "cell_type": "code",
   "execution_count": 22,
   "id": "b82e60aa",
   "metadata": {},
   "outputs": [
    {
     "data": {
      "text/plain": [
       "[1, 1, 1, 2, 2, 2]"
      ]
     },
     "execution_count": 22,
     "metadata": {},
     "output_type": "execute_result"
    }
   ],
   "source": [
    "#list replication\n",
    "b = 3    \n",
    "l = [1, 2]\n",
    "sorted(l * b)"
   ]
  },
  {
   "cell_type": "code",
   "execution_count": null,
   "id": "a10c8957",
   "metadata": {},
   "outputs": [],
   "source": [
    "#10. What is difference between the list methods append() and insert()?\n",
    "append()-we can add the element only at end of the list.\n",
    "insert()-insert function allows us to add a specific element at a specified index of the list"
   ]
  },
  {
   "cell_type": "code",
   "execution_count": 32,
   "id": "b712c190",
   "metadata": {},
   "outputs": [
    {
     "name": "stdout",
     "output_type": "stream",
     "text": [
      "[1, 2, 3, 4, 5, 6, 7]\n"
     ]
    }
   ],
   "source": [
    "l=[1,2,3,4,5,6,7]\n",
    "print(l)"
   ]
  },
  {
   "cell_type": "code",
   "execution_count": 33,
   "id": "3679dd68",
   "metadata": {},
   "outputs": [
    {
     "name": "stdout",
     "output_type": "stream",
     "text": [
      "[1, 2, 3, 4, 5, 6, 7, 99]\n"
     ]
    }
   ],
   "source": [
    "#using append function, 99 has been added as a last element in the list\n",
    "l.append(99)\n",
    "print(l)"
   ]
  },
  {
   "cell_type": "code",
   "execution_count": 34,
   "id": "71139e69",
   "metadata": {},
   "outputs": [
    {
     "name": "stdout",
     "output_type": "stream",
     "text": [
      "[1, 2, 999, 3, 4, 5, 6, 7, 99]\n"
     ]
    }
   ],
   "source": [
    "#using insert function, we can able to add 999 at 2nd index.\n",
    "l.insert(2,999)\n",
    "print(l)"
   ]
  },
  {
   "cell_type": "code",
   "execution_count": null,
   "id": "6d669275",
   "metadata": {},
   "outputs": [],
   "source": [
    "#11. What are the two methods for removing items from a list?\n",
    "The methods are remove(), pop() and clear(). \n",
    "remove()-it is used to remove the specified items from the list\n",
    "pop(n)-This method removes an element from the list based on the index given.\n",
    "pop()-This methods removes the last item from the list\n",
    "clear()-This method will remove all the elements present in the list."
   ]
  },
  {
   "cell_type": "code",
   "execution_count": 44,
   "id": "6711d371",
   "metadata": {},
   "outputs": [
    {
     "name": "stdout",
     "output_type": "stream",
     "text": [
      "[11, 22, 33, 44, 55, 66, 77, 88, 99]\n"
     ]
    }
   ],
   "source": [
    "l=[11,22,33,44,55,66,77,88,99]\n",
    "print(l)"
   ]
  },
  {
   "cell_type": "code",
   "execution_count": 45,
   "id": "e9c0b4d3",
   "metadata": {},
   "outputs": [
    {
     "name": "stdout",
     "output_type": "stream",
     "text": [
      "[11, 22, 33, 44, 66, 77, 88, 99]\n"
     ]
    }
   ],
   "source": [
    "#using remove function we removed 55 from list l\n",
    "l.remove(55)\n",
    "print(l)"
   ]
  },
  {
   "cell_type": "code",
   "execution_count": 46,
   "id": "8da41654",
   "metadata": {},
   "outputs": [
    {
     "name": "stdout",
     "output_type": "stream",
     "text": [
      "[11, 22, 33, 44, 66, 88, 99]\n"
     ]
    }
   ],
   "source": [
    "#using pop(n) we removed the element at 5th index i.e 77 from the list\n",
    "l.pop(5)\n",
    "print(l)"
   ]
  },
  {
   "cell_type": "code",
   "execution_count": 47,
   "id": "fb9958fd",
   "metadata": {},
   "outputs": [
    {
     "name": "stdout",
     "output_type": "stream",
     "text": [
      "[11, 22, 33, 44, 66, 88]\n"
     ]
    }
   ],
   "source": [
    "#using pop() we removed the last element 99\n",
    "l.pop()\n",
    "print(l)"
   ]
  },
  {
   "cell_type": "code",
   "execution_count": 43,
   "id": "8f02c500",
   "metadata": {},
   "outputs": [
    {
     "name": "stdout",
     "output_type": "stream",
     "text": [
      "[]\n"
     ]
    }
   ],
   "source": [
    "#using clear() we removed all the element from the list\n",
    "l.clear()\n",
    "print(l)"
   ]
  },
  {
   "cell_type": "code",
   "execution_count": null,
   "id": "98925981",
   "metadata": {},
   "outputs": [],
   "source": [
    "#12. Describe how list values and string values are identical.\n",
    "-The similarity between Lists and Strings in Python is that both are sequences\n",
    "-we can use len() function for both list and string\n",
    "-indexing and slicing can be used in both list and string data types\n",
    "-concatenation and replication is also possible for both"
   ]
  },
  {
   "cell_type": "code",
   "execution_count": null,
   "id": "2afac3ec",
   "metadata": {},
   "outputs": [],
   "source": [
    "#13. What's the difference between tuples and lists?\n",
    "Tuple: A tuple is an ordered, indexed and immutable data types. \n",
    "       It can store both string, number and Boolean value. \n",
    "       It allows duplicate members and Parenthesis () are used to create a tuple. \n",
    "             E.g- T=(1,2,3,3,4,4,’any’,True)\n",
    "List: A list is an ordered, indexed and mutable data types. \n",
    "      It can store string, number as well as Boolean value. \n",
    "      It allows duplicate members and square brackets [] are used to create a list. \n",
    "             E.g- L=[1,2,3,3,5,5,’any’,True]"
   ]
  },
  {
   "cell_type": "code",
   "execution_count": 50,
   "id": "fa4ec37a",
   "metadata": {},
   "outputs": [],
   "source": [
    "#14. How do you type a tuple value that only contains the integer 42?\n",
    "The trailing comma is mandatory,otherwise we cant not create a tuple with a single element\n",
    "t=(42,)"
   ]
  },
  {
   "cell_type": "code",
   "execution_count": 51,
   "id": "9a47bda9",
   "metadata": {},
   "outputs": [
    {
     "data": {
      "text/plain": [
       "tuple"
      ]
     },
     "execution_count": 51,
     "metadata": {},
     "output_type": "execute_result"
    }
   ],
   "source": [
    "#To check the datatypes\n",
    "type(t)"
   ]
  },
  {
   "cell_type": "code",
   "execution_count": 56,
   "id": "deab1d91",
   "metadata": {},
   "outputs": [
    {
     "data": {
      "text/plain": [
       "(52, 7, 'som')"
      ]
     },
     "execution_count": 56,
     "metadata": {},
     "output_type": "execute_result"
    }
   ],
   "source": [
    "#15. How do you get a list value's tuple form? How do you get a tuple value's list form?\n",
    "we can use tuple() and list() to convert from list to tuple and tuple to list\n",
    "#converted from list to tuple\n",
    "l = [52,7,'som']\n",
    "l1 = tuple(l1)\n",
    "l1"
   ]
  },
  {
   "cell_type": "code",
   "execution_count": 57,
   "id": "e51f3caf",
   "metadata": {},
   "outputs": [
    {
     "data": {
      "text/plain": [
       "tuple"
      ]
     },
     "execution_count": 57,
     "metadata": {},
     "output_type": "execute_result"
    }
   ],
   "source": [
    "#To check the datatypes\n",
    "type(l1)"
   ]
  },
  {
   "cell_type": "code",
   "execution_count": 62,
   "id": "c50010c9",
   "metadata": {},
   "outputs": [
    {
     "data": {
      "text/plain": [
       "[34, 67, 'som']"
      ]
     },
     "execution_count": 62,
     "metadata": {},
     "output_type": "execute_result"
    }
   ],
   "source": [
    "#converted from tuple to list\n",
    "t=(34,67,'som')\n",
    "t1 = list(t)\n",
    "t1"
   ]
  },
  {
   "cell_type": "code",
   "execution_count": 63,
   "id": "3d9b6506",
   "metadata": {},
   "outputs": [
    {
     "data": {
      "text/plain": [
       "list"
      ]
     },
     "execution_count": 63,
     "metadata": {},
     "output_type": "execute_result"
    }
   ],
   "source": [
    "#To check the datatypes\n",
    "type(t1)"
   ]
  },
  {
   "cell_type": "code",
   "execution_count": null,
   "id": "e82585b2",
   "metadata": {},
   "outputs": [],
   "source": [
    "#16. Variables that \"contain\" list values are not necessarily lists themselves. Instead, what do they contain?\n",
    "They contain references to list values."
   ]
  },
  {
   "cell_type": "code",
   "execution_count": null,
   "id": "051a74ed",
   "metadata": {},
   "outputs": [],
   "source": [
    "#17. How do you distinguish between copy.copy() and copy.deepcopy()?\n",
    "-A shallow copy constructs a new compound object and then inserts references into it to the objects \n",
    "found in the original.\n",
    "       copy.copy(x)\n",
    "       Return a shallow copy of x.\n",
    "\n",
    "\n",
    "-A deep copy constructs a new compound object and then, recursively, inserts copies into it of the objects \n",
    "found in the original.\n",
    "      copy.deepcopy(x[, memo])\n",
    "      Return a deep copy of x."
   ]
  },
  {
   "cell_type": "code",
   "execution_count": null,
   "id": "1b5089dc",
   "metadata": {},
   "outputs": [],
   "source": []
  }
 ],
 "metadata": {
  "kernelspec": {
   "display_name": "Python 3 (ipykernel)",
   "language": "python",
   "name": "python3"
  },
  "language_info": {
   "codemirror_mode": {
    "name": "ipython",
    "version": 3
   },
   "file_extension": ".py",
   "mimetype": "text/x-python",
   "name": "python",
   "nbconvert_exporter": "python",
   "pygments_lexer": "ipython3",
   "version": "3.9.7"
  }
 },
 "nbformat": 4,
 "nbformat_minor": 5
}
