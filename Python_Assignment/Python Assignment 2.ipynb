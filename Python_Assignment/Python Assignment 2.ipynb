{
 "cells": [
  {
   "cell_type": "code",
   "execution_count": 2,
   "id": "9fcc0871",
   "metadata": {},
   "outputs": [
    {
     "name": "stdout",
     "output_type": "stream",
     "text": [
      "True\n",
      "False\n",
      "False\n"
     ]
    }
   ],
   "source": [
    "#1.What are the two values of the Boolean data type? How do you write them?\n",
    "-It has two values: True and False , which are special versions of 1 and 0 respectively\n",
    "-When we compare two values, the expression is evaluated and Python returns the Boolean answer:\n",
    "    if going to write this in IDE :\n",
    "print(10 > 9)\n",
    "print(10 == 9)\n",
    "print(10 < 9)"
   ]
  },
  {
   "cell_type": "code",
   "execution_count": null,
   "id": "21f8c3fd",
   "metadata": {},
   "outputs": [],
   "source": [
    "#2. What are the three different types of Boolean operators?\n",
    "There are three basic Boolean operators are: AND, OR and NOT\n",
    "    -AND searches find all of the search terms\n",
    "    -OR searches find one term or the other\n",
    "    -NOT eliminates items that contain the specified term"
   ]
  },
  {
   "cell_type": "code",
   "execution_count": null,
   "id": "3041b44d",
   "metadata": {},
   "outputs": [],
   "source": [
    "#3. Make a list of each Boolean operator's truth tables \n",
    "#(i.e. every possible combination of Boolean values for the operator and what it evaluate ).\n",
    "AND Truth Table\n",
    "A------> B-----> A and B\n",
    "True---->True---->True\n",
    "False--->True---->False\n",
    "True---->False--->False\n",
    "False--->False--->False\n",
    "OR Truth Table\n",
    "A------> B-----> A or B\n",
    "True---->True---->True\n",
    "False--->True---->True\n",
    "True---->False--->True\n",
    "False--->False--->False\n",
    "NOT Truth Table\n",
    "not--->x------>Returns\n",
    "not--->True--->False\n",
    "not--->False-->True\n",
    "== Truth Table\n",
    "x------>==-->y----->Returns\n",
    "True--->==-->True--->True\n",
    "True--->==-->False-->False\n",
    "False-->==-->True--->False\n",
    "False-->==-->False-->True"
   ]
  },
  {
   "cell_type": "code",
   "execution_count": 10,
   "id": "4da1923f",
   "metadata": {},
   "outputs": [
    {
     "name": "stdout",
     "output_type": "stream",
     "text": [
      "False\n",
      "False\n",
      "True\n",
      "False\n",
      "False\n",
      "True\n"
     ]
    }
   ],
   "source": [
    "#4. What are the values of the following expressions?\n",
    "print((5>4) and (3==5))\n",
    "print(not(5>4))\n",
    "print((5>4) or (3==5))\n",
    "print(not(5>4) or (3==5))\n",
    "print((True and True) and (True==False))\n",
    "print((not(False))or(not(True)))"
   ]
  },
  {
   "cell_type": "code",
   "execution_count": null,
   "id": "694e6950",
   "metadata": {},
   "outputs": [],
   "source": [
    "#5. What are the six comparison operators?\n",
    "Python has six comparison operators, which are as follows:\n",
    "-Less than ( < )\n",
    "--Less than or equal to ( <= )\n",
    "-Greater than ( > )\n",
    "-Greater than or equal to ( >= )\n",
    "-Equal to ( == )\n",
    "-Not equal to ( != )"
   ]
  },
  {
   "cell_type": "code",
   "execution_count": null,
   "id": "8e9f6398",
   "metadata": {},
   "outputs": [],
   "source": [
    "#6. How do you tell the difference between the equal to and assignment operators?\n",
    "#Describe a condition and when you would use one.\n",
    "The '=' is an assignment operator is used to assign the value on the right to the variable on the left.\n",
    "The '==' operator checks whether the two given operands are equal or not. If so, it returns true. Otherwise it returns false."
   ]
  },
  {
   "cell_type": "code",
   "execution_count": 12,
   "id": "e988b2ca",
   "metadata": {},
   "outputs": [
    {
     "name": "stdout",
     "output_type": "stream",
     "text": [
      "10\n"
     ]
    }
   ],
   "source": [
    "#= operator\n",
    "x=10\n",
    "print(x)"
   ]
  },
  {
   "cell_type": "code",
   "execution_count": 13,
   "id": "1c6079ae",
   "metadata": {},
   "outputs": [
    {
     "data": {
      "text/plain": [
       "False"
      ]
     },
     "execution_count": 13,
     "metadata": {},
     "output_type": "execute_result"
    }
   ],
   "source": [
    "#== operator\n",
    "5==10"
   ]
  },
  {
   "cell_type": "code",
   "execution_count": 25,
   "id": "e5ce52c7",
   "metadata": {},
   "outputs": [
    {
     "name": "stdout",
     "output_type": "stream",
     "text": [
      "ham\n",
      "spam\n",
      "spam\n"
     ]
    }
   ],
   "source": [
    "#7. Identify the three blocks in this code:\n",
    "spam = 0\n",
    "if spam == 10:\n",
    "    print('eggs') #block 1\n",
    "if spam > 5:\n",
    "    print('bacon') #block 2\n",
    "else:\n",
    "    print('ham') #block 3\n",
    "    print('spam')\n",
    "    print('spam')\n"
   ]
  },
  {
   "cell_type": "code",
   "execution_count": 27,
   "id": "7aabb545",
   "metadata": {},
   "outputs": [
    {
     "name": "stdout",
     "output_type": "stream",
     "text": [
      "enter int or string:6\n",
      "Greetings!\n"
     ]
    }
   ],
   "source": [
    "#8. Write code that prints Hello if 1 is stored in spam, prints Howdy if 2 is stored in spam, \n",
    "#and prints Greetings! if anything else is stored in spam.\n",
    "spam=int(input('enter int or string:'))\n",
    "if spam == 1:\n",
    "    print('Hello')\n",
    "elif spam==2:\n",
    "    print('Howdy')\n",
    "else:\n",
    "    print('Greetings!')"
   ]
  },
  {
   "cell_type": "code",
   "execution_count": null,
   "id": "6b4ea7f9",
   "metadata": {},
   "outputs": [],
   "source": [
    "#9.If your programme is stuck in an endless loop, what keys you’ll press?\n",
    "when our programme is stuck in an endless loop,to exit out of infinite loops, press CTRL + C"
   ]
  },
  {
   "cell_type": "code",
   "execution_count": null,
   "id": "1333cc76",
   "metadata": {},
   "outputs": [],
   "source": [
    "#10. How can you tell the difference between break and continue?\n",
    "The main difference between both the statements is that when break keyword comes, it terminates the execution of the current \n",
    "loop and passes the control over the next loop or main body, whereas when continue keyword is encountered, it skips the current \n",
    "iteration and executes the very next iteration in the loop"
   ]
  },
  {
   "cell_type": "code",
   "execution_count": 30,
   "id": "2fe20d1f",
   "metadata": {},
   "outputs": [
    {
     "name": "stdout",
     "output_type": "stream",
     "text": [
      "IT\n",
      "HR\n",
      "OPS\n",
      "SALES\n",
      "MARKETING\n",
      "LEGAL\n"
     ]
    }
   ],
   "source": [
    "#example of break(to exit the loop once the condition is satisfied)\n",
    "dept=['IT','HR','OPS','SALES','MARKETING','LEGAL','FINANCE','SUPPLY CHAIN']\n",
    "for i in dept:\n",
    "    print(i)\n",
    "    if i=='LEGAL':\n",
    "        break"
   ]
  },
  {
   "cell_type": "code",
   "execution_count": 32,
   "id": "b16ce590",
   "metadata": {},
   "outputs": [
    {
     "name": "stdout",
     "output_type": "stream",
     "text": [
      "IT\n",
      "HR\n",
      "OPS\n",
      "SALES\n",
      "MARKETING\n",
      "LEGAL\n",
      "FINANCE\n",
      "SUPPLY CHAIN\n"
     ]
    }
   ],
   "source": [
    "#example of continue(to skip the counter)\n",
    "dept=['IT','HR','OPS','SALES','MARKETING','LEGAL','FINANCE','SUPPLY CHAIN']\n",
    "for i in dept:\n",
    "    print(i)\n",
    "    if i=='LEGAL':\n",
    "        continue"
   ]
  },
  {
   "cell_type": "code",
   "execution_count": null,
   "id": "94eefb5e",
   "metadata": {},
   "outputs": [],
   "source": [
    "#11. In a for loop, what is the difference between range(10), range(0, 10), and range(0, 10, 1)?\n",
    "In a for loop the range(10), range(0, 10), and range(0, 10, 1) the output would be same as the simple meaning of \n",
    "all the 3 statement is starting from 0 to 9 excluding 10 with a step size of 1. In range(0,10,1) the step size is \n",
    "mentioned as 1, but in rest two if nothing mentioned then the default step size is 1."
   ]
  },
  {
   "cell_type": "code",
   "execution_count": 50,
   "id": "d981e309",
   "metadata": {},
   "outputs": [
    {
     "name": "stdout",
     "output_type": "stream",
     "text": [
      "0\n",
      "1\n",
      "2\n",
      "3\n",
      "4\n",
      "5\n",
      "6\n",
      "7\n",
      "8\n",
      "9\n",
      "1st range done\n",
      "0\n",
      "1\n",
      "2\n",
      "3\n",
      "4\n",
      "5\n",
      "6\n",
      "7\n",
      "8\n",
      "9\n",
      "2nd range done\n",
      "0\n",
      "1\n",
      "2\n",
      "3\n",
      "4\n",
      "5\n",
      "6\n",
      "7\n",
      "8\n",
      "9\n",
      "3rd range done\n"
     ]
    }
   ],
   "source": [
    "for i in range(10):\n",
    "    print(i)\n",
    "print('1st range done')\n",
    "for i in range(0,10):\n",
    "    print(i)\n",
    "print('2nd range done')\n",
    "for i in range(0,10):\n",
    "    print(i)\n",
    "print('3rd range done')"
   ]
  },
  {
   "cell_type": "code",
   "execution_count": null,
   "id": "bc9079bb",
   "metadata": {},
   "outputs": [],
   "source": [
    "#12. Write a short program that prints the numbers 1 to 10 using a for loop. Then write an equivalent program that prints \n",
    "#the numbers 1 to 10 using a while loop."
   ]
  },
  {
   "cell_type": "code",
   "execution_count": 51,
   "id": "a172ebb3",
   "metadata": {},
   "outputs": [
    {
     "name": "stdout",
     "output_type": "stream",
     "text": [
      "0\n",
      "1\n",
      "2\n",
      "3\n",
      "4\n",
      "5\n",
      "6\n",
      "7\n",
      "8\n",
      "9\n",
      "10\n"
     ]
    }
   ],
   "source": [
    "#using for\n",
    "for i in range(11):\n",
    "    print(i)"
   ]
  },
  {
   "cell_type": "code",
   "execution_count": 52,
   "id": "658b6634",
   "metadata": {},
   "outputs": [
    {
     "name": "stdout",
     "output_type": "stream",
     "text": [
      "0\n",
      "1\n",
      "2\n",
      "3\n",
      "4\n",
      "5\n",
      "6\n",
      "7\n",
      "8\n",
      "9\n",
      "10\n"
     ]
    }
   ],
   "source": [
    "#using while\n",
    "i=0\n",
    "while i<=10:\n",
    "    print(i)\n",
    "    i+=1"
   ]
  },
  {
   "cell_type": "code",
   "execution_count": null,
   "id": "5fc622a5",
   "metadata": {},
   "outputs": [],
   "source": [
    "#13. If you had a function named bacon() inside a module named spam, how would you call it after importing spam?\n",
    "his function can be called with spam. bacon()"
   ]
  }
 ],
 "metadata": {
  "kernelspec": {
   "display_name": "Python 3 (ipykernel)",
   "language": "python",
   "name": "python3"
  },
  "language_info": {
   "codemirror_mode": {
    "name": "ipython",
    "version": 3
   },
   "file_extension": ".py",
   "mimetype": "text/x-python",
   "name": "python",
   "nbconvert_exporter": "python",
   "pygments_lexer": "ipython3",
   "version": "3.9.7"
  }
 },
 "nbformat": 4,
 "nbformat_minor": 5
}
