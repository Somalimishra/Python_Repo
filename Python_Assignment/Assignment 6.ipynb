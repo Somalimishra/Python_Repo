{
 "cells": [
  {
   "cell_type": "code",
   "execution_count": 1,
   "id": "52ca5d89",
   "metadata": {},
   "outputs": [],
   "source": [
    "#1. What are escape characters, and how do you use them?\n",
    "Escape characters are special character that has special purpose in regards of a string.\n",
    "\\ (Custom backslash) : It is used to insert any illegal character inside a string.\n",
    "\\'(Single quotes) : It is used to insert single quotes inside a string enclosed with single quotes.\n",
    "\\\\ (backslash) : It is used to insert a backslash inside a string.\n",
    "\\n (New Line) : It shifts character after \\n in a string to new line.\n",
    "\\r (Carriage Return : It moves character after \\r to the front of a string while deleting existing characters.\n",
    "\\t (tab) : It places a tab between characters before and after \\t in a string.\n",
    "\\b (backspace) :It inserts deletes a character before \\b in a string."
   ]
  },
  {
   "cell_type": "code",
   "execution_count": 2,
   "id": "a931e820",
   "metadata": {},
   "outputs": [
    {
     "name": "stdout",
     "output_type": "stream",
     "text": [
      "this is \"MY\" Pen\n"
     ]
    }
   ],
   "source": [
    "msg=\"this is \\\"MY\\\" Pen\"\n",
    "print(msg)"
   ]
  },
  {
   "cell_type": "code",
   "execution_count": 3,
   "id": "9b5adf50",
   "metadata": {},
   "outputs": [
    {
     "name": "stdout",
     "output_type": "stream",
     "text": [
      "this is \n",
      " my Pen\n"
     ]
    }
   ],
   "source": [
    "msg=\"this is \\n my Pen\"\n",
    "print(msg)"
   ]
  },
  {
   "cell_type": "code",
   "execution_count": 4,
   "id": "c5f3572e",
   "metadata": {},
   "outputs": [
    {
     "name": "stdout",
     "output_type": "stream",
     "text": [
      "this is \t my Pen\n"
     ]
    }
   ],
   "source": [
    "msg=\"this is \\t my Pen\"\n",
    "print(msg)"
   ]
  },
  {
   "cell_type": "code",
   "execution_count": 13,
   "id": "08b0ce76",
   "metadata": {},
   "outputs": [
    {
     "name": "stdout",
     "output_type": "stream",
     "text": [
      "this is \\my\\ Pen\n"
     ]
    }
   ],
   "source": [
    "msg=\"this is \\\\my\\\\ Pen\"\n",
    "print(msg)"
   ]
  },
  {
   "cell_type": "code",
   "execution_count": 9,
   "id": "64ae300b",
   "metadata": {},
   "outputs": [
    {
     "name": "stdout",
     "output_type": "stream",
     "text": [
      "this is 'my' Pen\n"
     ]
    }
   ],
   "source": [
    "msg=\"this is \\'my\\' Pen\"\n",
    "print(msg)"
   ]
  },
  {
   "cell_type": "code",
   "execution_count": 14,
   "id": "1506921b",
   "metadata": {},
   "outputs": [
    {
     "name": "stdout",
     "output_type": "stream",
     "text": [
      "this is \\my\\ Pen\n"
     ]
    }
   ],
   "source": [
    "msg=\"this is \\my\\ Pen\"\n",
    "print(msg)"
   ]
  },
  {
   "cell_type": "code",
   "execution_count": 11,
   "id": "1023573e",
   "metadata": {},
   "outputs": [
    {
     "name": "stdout",
     "output_type": "stream",
     "text": [
      " my Pen\n"
     ]
    }
   ],
   "source": [
    "msg=\"this is \\r my Pen\"\n",
    "print(msg)"
   ]
  },
  {
   "cell_type": "code",
   "execution_count": 12,
   "id": "21706b3d",
   "metadata": {},
   "outputs": [],
   "source": [
    "# 2. What do the escape characters n and t stand for?\n",
    "Escape characters 'n' and 't' stand for 'newline' and 'tab' respectively."
   ]
  },
  {
   "cell_type": "code",
   "execution_count": 15,
   "id": "b2f17abc",
   "metadata": {},
   "outputs": [],
   "source": [
    "# 3. What is the way to include backslash characters in a string?\n",
    "he \\\\ escape character will represent the backslash character in a string"
   ]
  },
  {
   "cell_type": "code",
   "execution_count": 16,
   "id": "ac519471",
   "metadata": {},
   "outputs": [],
   "source": [
    "# 4. The string \"Howl's Moving Castle\" is a correct value. Why isn't the single quote character in the word Howl's not escaped a problem?"
   ]
  },
  {
   "cell_type": "code",
   "execution_count": null,
   "id": "d049245c",
   "metadata": {},
   "outputs": [],
   "source": [
    "The string \"Howl's Moving Castle\" escaped the problem because it is wrapped inside double quotes. if its wrapped inside single quotes then we have to use escape character \\' to show single quote in the final output\n",
    "'Howl\\'s Moving Castle' -> 'Howl's Moving Castle'"
   ]
  },
  {
   "cell_type": "code",
   "execution_count": 18,
   "id": "5dd26c87",
   "metadata": {},
   "outputs": [
    {
     "name": "stdout",
     "output_type": "stream",
     "text": [
      "Howl's Moving Castle\n"
     ]
    }
   ],
   "source": [
    "s=\"Howl's Moving Castle\"\n",
    "print(s)"
   ]
  },
  {
   "cell_type": "code",
   "execution_count": 19,
   "id": "d32d5359",
   "metadata": {},
   "outputs": [
    {
     "ename": "SyntaxError",
     "evalue": "invalid syntax (3296013669.py, line 1)",
     "output_type": "error",
     "traceback": [
      "\u001b[1;36m  File \u001b[1;32m\"C:\\Users\\somal\\AppData\\Local\\Temp\\ipykernel_17516\\3296013669.py\"\u001b[1;36m, line \u001b[1;32m1\u001b[0m\n\u001b[1;33m    s = 'Howl's Moving Castle'\u001b[0m\n\u001b[1;37m              ^\u001b[0m\n\u001b[1;31mSyntaxError\u001b[0m\u001b[1;31m:\u001b[0m invalid syntax\n"
     ]
    }
   ],
   "source": [
    "s = 'Howl's Moving Castle'\n",
    "print(s)"
   ]
  },
  {
   "cell_type": "code",
   "execution_count": 22,
   "id": "76fe07e6",
   "metadata": {},
   "outputs": [],
   "source": [
    "# 5. How do you write a string of newlines if you don't want to use the n character?\n",
    "Ans: By enclosing string inside triple quotes and using multiple lines inside triple quotes. For example"
   ]
  },
  {
   "cell_type": "code",
   "execution_count": 21,
   "id": "cc002153",
   "metadata": {},
   "outputs": [
    {
     "name": "stdout",
     "output_type": "stream",
     "text": [
      "I want to become\n",
      "a data scientist with \n",
      "good knowledge of \n",
      "Python, SQL, ML, DL, etc.\n",
      "\n"
     ]
    }
   ],
   "source": [
    "s = \"\"\"I want to become\n",
    "a data scientist with \n",
    "good knowledge of \n",
    "Python, SQL, ML, DL, etc.\n",
    "\"\"\"\n",
    "print(s)"
   ]
  },
  {
   "cell_type": "code",
   "execution_count": 23,
   "id": "e6603047",
   "metadata": {},
   "outputs": [],
   "source": [
    "# 6. What are the values of the given expressions?\n",
    "# 'Hello, world!'[1]\n",
    "# 'Hello, world!'[0:5]\n",
    "# 'Hello, world!'[:5]\n",
    "# 'Hello, world!'[3:]\n"
   ]
  },
  {
   "cell_type": "markdown",
   "id": "8f61bb47",
   "metadata": {},
   "source": [
    "'Hello, world!'[1] :: Value will be 'e'\n",
    "\n",
    "'Hello, world!'[0:5] :: Value will be 'Hello'\n",
    "\n",
    "'Hello, world!'[:5] :: Value will be 'Hello'\n",
    "\n",
    "'Hello, world!'[3:] :: Value will be 'lo, world!'"
   ]
  },
  {
   "cell_type": "code",
   "execution_count": 24,
   "id": "dbd06933",
   "metadata": {},
   "outputs": [],
   "source": [
    "# 7. What are the values of the following expressions?\n",
    "# 'Hello'.upper()\n",
    "# 'Hello'.upper().isupper()\n",
    "# 'Hello'.upper().lower()\n"
   ]
  },
  {
   "cell_type": "markdown",
   "id": "56be3335",
   "metadata": {},
   "source": [
    "The values for the given expressions are:\n",
    "    \n",
    "'Hello'.upper() -> 'HELLO'\n",
    "\n",
    "'Hello'.upper().isupper() -> True\n",
    "\n",
    "'Hello'.upper().lower() -> 'hello'"
   ]
  },
  {
   "cell_type": "code",
   "execution_count": 25,
   "id": "8838e2b5",
   "metadata": {},
   "outputs": [],
   "source": [
    "# 8. What are the values of the following expressions?\n",
    "# 'Remember, remember, the fifth of July.'.split()\n",
    "# '-'.join('There can only one.'.split())\n"
   ]
  },
  {
   "cell_type": "markdown",
   "id": "a22eafc4",
   "metadata": {},
   "source": [
    "The values for the given expressions are:\n",
    "    \n",
    "'Remember, remember, the fifith of July.'.split() -> ['Remember,', 'remember,', 'the', 'fifith', 'of', 'July.']\n",
    "\n",
    "'-'.join('There can only one'.split()) -> 'There-can-only-one'"
   ]
  },
  {
   "cell_type": "code",
   "execution_count": 28,
   "id": "3f45139b",
   "metadata": {},
   "outputs": [
    {
     "data": {
      "text/plain": [
       "['Remember,', 'remember,', 'the', 'fifth', 'of', 'July.']"
      ]
     },
     "execution_count": 28,
     "metadata": {},
     "output_type": "execute_result"
    }
   ],
   "source": [
    "'Remember, remember, the fifth of July.'.split()"
   ]
  },
  {
   "cell_type": "code",
   "execution_count": 29,
   "id": "4da692e1",
   "metadata": {},
   "outputs": [
    {
     "data": {
      "text/plain": [
       "'There-can-only-one.'"
      ]
     },
     "execution_count": 29,
     "metadata": {},
     "output_type": "execute_result"
    }
   ],
   "source": [
    "'-'.join('There can only one.'.split())"
   ]
  },
  {
   "cell_type": "code",
   "execution_count": 27,
   "id": "14e8a9c2",
   "metadata": {},
   "outputs": [],
   "source": [
    "# 9. What are the methods for right-justifying, left-justifying, and centering a string?"
   ]
  },
  {
   "cell_type": "markdown",
   "id": "70a35987",
   "metadata": {},
   "source": [
    "rjust()\n",
    "\n",
    "ljust()\n",
    "\n",
    "center()"
   ]
  },
  {
   "cell_type": "code",
   "execution_count": 30,
   "id": "fa3f107f",
   "metadata": {},
   "outputs": [
    {
     "data": {
      "text/plain": [
       "'******hi this is somali mishra'"
      ]
     },
     "execution_count": 30,
     "metadata": {},
     "output_type": "execute_result"
    }
   ],
   "source": [
    "# rjust here fillchar * is optional\n",
    "s = \"hi this is somali mishra\"\n",
    "s.rjust(30, '*')"
   ]
  },
  {
   "cell_type": "code",
   "execution_count": 31,
   "id": "9dc78360",
   "metadata": {},
   "outputs": [
    {
     "data": {
      "text/plain": [
       "'hi this is somali mishra******'"
      ]
     },
     "execution_count": 31,
     "metadata": {},
     "output_type": "execute_result"
    }
   ],
   "source": [
    "# ljust here fillchar * is optional\n",
    "s = \"hi this is somali mishra\"\n",
    "s.ljust(30, '*')"
   ]
  },
  {
   "cell_type": "code",
   "execution_count": 32,
   "id": "dff8c36c",
   "metadata": {},
   "outputs": [
    {
     "data": {
      "text/plain": [
       "'***hi this is somali mishra***'"
      ]
     },
     "execution_count": 32,
     "metadata": {},
     "output_type": "execute_result"
    }
   ],
   "source": [
    "# center here fillchar * is optional\n",
    "s = \"hi this is somali mishra\"\n",
    "s.center(30, '*')"
   ]
  },
  {
   "cell_type": "code",
   "execution_count": 33,
   "id": "b0438eaf",
   "metadata": {},
   "outputs": [],
   "source": [
    "# 10. What is the best way to remove whitespace characters from the start or end?"
   ]
  },
  {
   "cell_type": "markdown",
   "id": "d8b3efe1",
   "metadata": {},
   "source": [
    "Best way to remove whitespace characters from the start or end of string is lstrip() and rstrip() respectively. Also one more function is there called strip() which removes whitespaces from start and beginning of string."
   ]
  },
  {
   "cell_type": "code",
   "execution_count": 37,
   "id": "da9beb47",
   "metadata": {},
   "outputs": [
    {
     "data": {
      "text/plain": [
       "'My name is somali     '"
      ]
     },
     "execution_count": 37,
     "metadata": {},
     "output_type": "execute_result"
    }
   ],
   "source": [
    "# lstrip() is used to remove whitespace from start of string\n",
    "s = \"    My name is somali     \"\n",
    "s.lstrip()"
   ]
  },
  {
   "cell_type": "code",
   "execution_count": 38,
   "id": "3a06819b",
   "metadata": {},
   "outputs": [
    {
     "data": {
      "text/plain": [
       "'    My name is somali'"
      ]
     },
     "execution_count": 38,
     "metadata": {},
     "output_type": "execute_result"
    }
   ],
   "source": [
    "# rstrip() is used to remove whitespace from end of string\n",
    "s = \"    My name is somali     \"\n",
    "s.rstrip()"
   ]
  },
  {
   "cell_type": "code",
   "execution_count": 39,
   "id": "63f6c9b5",
   "metadata": {},
   "outputs": [
    {
     "data": {
      "text/plain": [
       "'My name is somali'"
      ]
     },
     "execution_count": 39,
     "metadata": {},
     "output_type": "execute_result"
    }
   ],
   "source": [
    "# strip() is used to remove whitespace from start and end of string\n",
    "s = \"    My name is somali     \"\n",
    "s.strip()"
   ]
  },
  {
   "cell_type": "code",
   "execution_count": null,
   "id": "01b1cfc0",
   "metadata": {},
   "outputs": [],
   "source": []
  }
 ],
 "metadata": {
  "kernelspec": {
   "display_name": "Python 3 (ipykernel)",
   "language": "python",
   "name": "python3"
  },
  "language_info": {
   "codemirror_mode": {
    "name": "ipython",
    "version": 3
   },
   "file_extension": ".py",
   "mimetype": "text/x-python",
   "name": "python",
   "nbconvert_exporter": "python",
   "pygments_lexer": "ipython3",
   "version": "3.9.13"
  }
 },
 "nbformat": 4,
 "nbformat_minor": 5
}
