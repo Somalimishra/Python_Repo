{
 "cells": [
  {
   "cell_type": "markdown",
   "id": "ae0667c7",
   "metadata": {},
   "source": [
    "# 1.\tWrite a Python program to find sum of elements in list?"
   ]
  },
  {
   "cell_type": "code",
   "execution_count": 17,
   "id": "451451a9",
   "metadata": {},
   "outputs": [],
   "source": [
    "l=[1,2,3,4,5,True,4.5]\n",
    "def sum_elements(l):\n",
    "    s=0\n",
    "    for i in l:\n",
    "        if type(i) == int or type(i) == float:\n",
    "            s=s+i\n",
    "    return \"Sum of all the numbers in given List is {}\".format(s)  "
   ]
  },
  {
   "cell_type": "code",
   "execution_count": 18,
   "id": "70d00991",
   "metadata": {},
   "outputs": [
    {
     "data": {
      "text/plain": [
       "'Sum of all the numbers in given List is 19.5'"
      ]
     },
     "execution_count": 18,
     "metadata": {},
     "output_type": "execute_result"
    }
   ],
   "source": [
    "sum_elements(l)"
   ]
  },
  {
   "cell_type": "code",
   "execution_count": 19,
   "id": "e6b96090",
   "metadata": {},
   "outputs": [
    {
     "name": "stdout",
     "output_type": "stream",
     "text": [
      "15\n"
     ]
    }
   ],
   "source": [
    "def sum_elements(l):\n",
    "    print(sum(l))\n",
    "\n",
    "#calling function    \n",
    "l=[1,2,3,4,5]\n",
    "sum_elements(l)"
   ]
  },
  {
   "cell_type": "markdown",
   "id": "562bcbe3",
   "metadata": {},
   "source": [
    "# 2.\tWrite a Python program to  Multiply all numbers in the list?"
   ]
  },
  {
   "cell_type": "code",
   "execution_count": 22,
   "id": "032d6f22",
   "metadata": {},
   "outputs": [],
   "source": [
    "l=[1,2,3,5.3,\"Hi\",4,5,True,4.5]\n",
    "def mul_elements(l):\n",
    "    s=1\n",
    "    for i in l:\n",
    "        if type(i) == int or type(i) == float:\n",
    "            s=s*i\n",
    "    return \"multiply of all the numbers in given List is {}\".format(s)  "
   ]
  },
  {
   "cell_type": "code",
   "execution_count": 23,
   "id": "f518e59a",
   "metadata": {},
   "outputs": [
    {
     "data": {
      "text/plain": [
       "'multiply of all the numbers in given List is 2862.0'"
      ]
     },
     "execution_count": 23,
     "metadata": {},
     "output_type": "execute_result"
    }
   ],
   "source": [
    "mul_elements(l)"
   ]
  },
  {
   "cell_type": "markdown",
   "id": "3406ab46",
   "metadata": {},
   "source": [
    "# 3.\tWrite a Python program to find smallest number in a list?"
   ]
  },
  {
   "cell_type": "code",
   "execution_count": 26,
   "id": "48dca32e",
   "metadata": {},
   "outputs": [],
   "source": [
    "def find_smallest_number(lst):\n",
    "    smallest = lst[0]\n",
    "    \n",
    "    # iterate through the list and update the smallest variable\n",
    "    for num in lst:\n",
    "        if type(num)==int or type(num)==float:\n",
    "            if num < smallest:\n",
    "                smallest = num          \n",
    "    return smallest"
   ]
  },
  {
   "cell_type": "code",
   "execution_count": 27,
   "id": "0179bfab",
   "metadata": {},
   "outputs": [
    {
     "name": "stdout",
     "output_type": "stream",
     "text": [
      "1\n"
     ]
    }
   ],
   "source": [
    "lst = [4, 7, 1, 9, 3, 6, 5,'hi',6.7]\n",
    "\n",
    "print(find_smallest_number(lst))"
   ]
  },
  {
   "cell_type": "markdown",
   "id": "b970d08a",
   "metadata": {},
   "source": [
    "# 4.\tWrite a Python program to find largest number in a list?"
   ]
  },
  {
   "cell_type": "code",
   "execution_count": 28,
   "id": "488548a1",
   "metadata": {},
   "outputs": [],
   "source": [
    "def find_largest_number(lst):\n",
    "    largest = lst[0]\n",
    "    \n",
    "    # iterate through the list and update the smallest variable\n",
    "    for num in lst:\n",
    "        if type(num)==int or type(num)==float:\n",
    "            if num > largest:\n",
    "                largest = num          \n",
    "    return largest"
   ]
  },
  {
   "cell_type": "code",
   "execution_count": 29,
   "id": "197bb0c8",
   "metadata": {},
   "outputs": [
    {
     "name": "stdout",
     "output_type": "stream",
     "text": [
      "9\n"
     ]
    }
   ],
   "source": [
    "lst = [4, 7, 1, 9, 3, 6, 5,'hi',6.7]\n",
    "\n",
    "print(find_largest_number(lst))"
   ]
  },
  {
   "cell_type": "markdown",
   "id": "e0bed29d",
   "metadata": {},
   "source": [
    "# 5.\tWrite a Python program to find second largest number in a list?"
   ]
  },
  {
   "cell_type": "code",
   "execution_count": 47,
   "id": "22f1a92b",
   "metadata": {},
   "outputs": [],
   "source": [
    "def find_second_number(lst):\n",
    "    l=[]\n",
    "    for i in lst:\n",
    "        if type(i)==int or type(i)==float:\n",
    "            l.append(i)\n",
    "            sorted_list=sorted(l,reverse=True)\n",
    "    return sorted_list[1]"
   ]
  },
  {
   "cell_type": "code",
   "execution_count": 48,
   "id": "794eec1c",
   "metadata": {},
   "outputs": [
    {
     "data": {
      "text/plain": [
       "7"
      ]
     },
     "execution_count": 48,
     "metadata": {},
     "output_type": "execute_result"
    }
   ],
   "source": [
    "lst = [4, 7, 1, 9, 3, 6, 5,6.7]\n",
    "find_second_number(lst)"
   ]
  },
  {
   "cell_type": "code",
   "execution_count": 51,
   "id": "f2bb9938",
   "metadata": {},
   "outputs": [
    {
     "data": {
      "text/plain": [
       "28.6"
      ]
     },
     "execution_count": 51,
     "metadata": {},
     "output_type": "execute_result"
    }
   ],
   "source": [
    "lst = [4, 7, 1, 9, 3, 6, 5,6.7,\"sum\",'hwy',28.6,80.9,6.00]\n",
    "find_second_number(lst)"
   ]
  },
  {
   "cell_type": "markdown",
   "id": "61f6881f",
   "metadata": {},
   "source": [
    "# 6.\tWrite a Python program to find N largest elements from a list?"
   ]
  },
  {
   "cell_type": "code",
   "execution_count": 52,
   "id": "8ab9e97d",
   "metadata": {},
   "outputs": [],
   "source": [
    "def find_n_largest_numbers(lst, n):\n",
    "    largest_numbers = []\n",
    "    \n",
    "    # iterate through the list and add the largest n numbers to the largest_numbers list\n",
    "    for i in range(n):\n",
    "        largest = max(lst)\n",
    "        largest_numbers.append(largest)\n",
    "        lst.remove(largest)\n",
    "        \n",
    "    return largest_numbers"
   ]
  },
  {
   "cell_type": "code",
   "execution_count": 53,
   "id": "3edb9256",
   "metadata": {},
   "outputs": [
    {
     "name": "stdout",
     "output_type": "stream",
     "text": [
      "[9, 7, 6]\n"
     ]
    }
   ],
   "source": [
    "lst = [4, 7, 1, 9, 3, 6, 5]\n",
    "\n",
    "print(find_n_largest_numbers(lst, 3))"
   ]
  },
  {
   "cell_type": "markdown",
   "id": "698aed01",
   "metadata": {},
   "source": [
    "# 7.\tWrite a Python program to print even numbers in a list?"
   ]
  },
  {
   "cell_type": "code",
   "execution_count": 82,
   "id": "d0565f49",
   "metadata": {},
   "outputs": [],
   "source": [
    "l1 = [1,2,3,4,5,6,7,8,9,10]\n",
    "\n",
    "def even_no_list(l):\n",
    "    \"\"\"This function takes list as arg and returns even numbers in the list\"\"\"\n",
    "    print(\"even numbers in the given list are as follows: \")\n",
    "    for i in l:\n",
    "        if i % 2 == 0:   \n",
    "            print( i, end = \" \")   "
   ]
  },
  {
   "cell_type": "code",
   "execution_count": 83,
   "id": "dd81c3fa",
   "metadata": {},
   "outputs": [
    {
     "name": "stdout",
     "output_type": "stream",
     "text": [
      "even numbers in the given list are as follows: \n",
      "2 4 6 8 10 "
     ]
    }
   ],
   "source": [
    "even_no_list(l1)"
   ]
  },
  {
   "cell_type": "markdown",
   "id": "7b599505",
   "metadata": {},
   "source": [
    "# 8.\tWrite a Python program to print odd numbers in a List?"
   ]
  },
  {
   "cell_type": "code",
   "execution_count": 84,
   "id": "e852cc4a",
   "metadata": {},
   "outputs": [],
   "source": [
    "l1 = [1,2,3,4,5,6,7,8,9,10]\n",
    "\n",
    "def odd_no_list(l):\n",
    "    \"\"\"This function takes list as arg and returns odd numbers in the list\"\"\"\n",
    "    print(\"odd numbers in the given list are as follows: \")\n",
    "    for i in l:\n",
    "        if i % 2 != 0:   \n",
    "            print( i, end = \" \")   "
   ]
  },
  {
   "cell_type": "code",
   "execution_count": 85,
   "id": "324116ad",
   "metadata": {},
   "outputs": [
    {
     "name": "stdout",
     "output_type": "stream",
     "text": [
      "odd numbers in the given list are as follows: \n",
      "1 3 5 7 9 "
     ]
    }
   ],
   "source": [
    "odd_no_list(l1)"
   ]
  },
  {
   "cell_type": "markdown",
   "id": "e39268d8",
   "metadata": {},
   "source": [
    "# 9.\tWrite a Python program to Remove empty List from List?"
   ]
  },
  {
   "cell_type": "code",
   "execution_count": 88,
   "id": "ef54da99",
   "metadata": {},
   "outputs": [],
   "source": [
    "l1 = [1,2,3,4,5,6,7,8,[],9,10,[],11,[]]\n",
    "\n",
    "def emptyL_remover(l):\n",
    "    \"\"\"This func takes list as arg and returns list after removing empty list in it.\"\"\"\n",
    "    for i in l:\n",
    "        if type(i) == list:\n",
    "                if i == []:\n",
    "                    l.remove(i)\n",
    "    return f\"Given list without empty list in it is {l}\""
   ]
  },
  {
   "cell_type": "code",
   "execution_count": 89,
   "id": "7b02d65c",
   "metadata": {},
   "outputs": [
    {
     "data": {
      "text/plain": [
       "'Given list without empty list in it is [1, 2, 3, 4, 5, 6, 7, 8, 9, 10, 11]'"
      ]
     },
     "execution_count": 89,
     "metadata": {},
     "output_type": "execute_result"
    }
   ],
   "source": [
    "emptyL_remover(l1)"
   ]
  },
  {
   "cell_type": "markdown",
   "id": "df330632",
   "metadata": {},
   "source": [
    "# 10.\tWrite a Python program to Cloning or Copying a list?"
   ]
  },
  {
   "cell_type": "code",
   "execution_count": 90,
   "id": "656d294d",
   "metadata": {},
   "outputs": [],
   "source": [
    "l1 = [1,2,3,4,5,6,7,8,9,10]\n",
    "\n",
    "def clone_list(l):\n",
    "    \"\"\"This func takes list as arg and returns copy of the original list\"\"\"\n",
    "    l1 = []\n",
    "    for i in l:\n",
    "        l1.append(i)\n",
    "    return f\"Cloning or Copying of original list is {l1}\""
   ]
  },
  {
   "cell_type": "code",
   "execution_count": 91,
   "id": "0b1bc85e",
   "metadata": {},
   "outputs": [
    {
     "data": {
      "text/plain": [
       "'Cloning or Copying of original list is [1, 2, 3, 4, 5, 6, 7, 8, 9, 10]'"
      ]
     },
     "execution_count": 91,
     "metadata": {},
     "output_type": "execute_result"
    }
   ],
   "source": [
    "clone_list(l1)"
   ]
  },
  {
   "cell_type": "markdown",
   "id": "497440b4",
   "metadata": {},
   "source": [
    "# 11.\tWrite a Python program to Count occurrences of an element in a list?"
   ]
  },
  {
   "cell_type": "code",
   "execution_count": 99,
   "id": "b8acbbee",
   "metadata": {},
   "outputs": [],
   "source": [
    "l1 = [1,1,2,3,3,4,4,4,4,4,3,3,2,2,6,6,7,7,\"sudh\"]\n",
    "\n",
    "def count_occur(l):\n",
    "    \"\"\"This func takes list as arg and returns count of occurance of elements in it\"\"\"\n",
    "    for i in set(l1):\n",
    "        p = l1.count(i)\n",
    "        print(\"{} occured {} times in the list\".format(i,p)) "
   ]
  },
  {
   "cell_type": "code",
   "execution_count": 100,
   "id": "9b0d78d2",
   "metadata": {},
   "outputs": [
    {
     "name": "stdout",
     "output_type": "stream",
     "text": [
      "1 occured 2 times in the list\n",
      "2 occured 3 times in the list\n",
      "3 occured 4 times in the list\n",
      "4 occured 5 times in the list\n",
      "6 occured 2 times in the list\n",
      "7 occured 2 times in the list\n",
      "sudh occured 1 times in the list\n"
     ]
    }
   ],
   "source": [
    "count_occur(l1)"
   ]
  },
  {
   "cell_type": "code",
   "execution_count": null,
   "id": "775ff2e8",
   "metadata": {},
   "outputs": [],
   "source": []
  }
 ],
 "metadata": {
  "kernelspec": {
   "display_name": "Python 3 (ipykernel)",
   "language": "python",
   "name": "python3"
  },
  "language_info": {
   "codemirror_mode": {
    "name": "ipython",
    "version": 3
   },
   "file_extension": ".py",
   "mimetype": "text/x-python",
   "name": "python",
   "nbconvert_exporter": "python",
   "pygments_lexer": "ipython3",
   "version": "3.9.13"
  }
 },
 "nbformat": 4,
 "nbformat_minor": 5
}
