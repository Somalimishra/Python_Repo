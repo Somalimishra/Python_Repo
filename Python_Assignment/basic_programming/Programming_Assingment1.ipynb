{
 "cells": [
  {
   "cell_type": "markdown",
   "id": "f78a8f3d",
   "metadata": {},
   "source": [
    "# 1.Write a Python program to print \"Hello Python\"?"
   ]
  },
  {
   "cell_type": "code",
   "execution_count": 2,
   "id": "23a3c434",
   "metadata": {},
   "outputs": [
    {
     "name": "stdout",
     "output_type": "stream",
     "text": [
      "Hello Python\n"
     ]
    }
   ],
   "source": [
    "print(\"Hello Python\")"
   ]
  },
  {
   "cell_type": "markdown",
   "id": "3fcbdaf0",
   "metadata": {},
   "source": [
    "# 2.\tWrite a Python program to do arithmetical operations addition and division.?"
   ]
  },
  {
   "cell_type": "code",
   "execution_count": 4,
   "id": "dacf2a3a",
   "metadata": {},
   "outputs": [],
   "source": [
    "def arith_oprtn(a,b):\n",
    "    addition=a+b\n",
    "    division=a/b\n",
    "    print(addition)\n",
    "    print(division)"
   ]
  },
  {
   "cell_type": "code",
   "execution_count": 5,
   "id": "dcbb0ad1",
   "metadata": {},
   "outputs": [
    {
     "name": "stdout",
     "output_type": "stream",
     "text": [
      "15\n",
      "2.0\n"
     ]
    }
   ],
   "source": [
    "arith_oprtn(10,5)"
   ]
  },
  {
   "cell_type": "markdown",
   "id": "9119f1e0",
   "metadata": {},
   "source": [
    "# 3.\tWrite a Python program to find the area of a triangle?"
   ]
  },
  {
   "cell_type": "code",
   "execution_count": 17,
   "id": "22577f5c",
   "metadata": {},
   "outputs": [],
   "source": [
    "def area_right_triangle(base,height):\n",
    "    area_of_triangle=0.5*base*height\n",
    "    print(area_of_triangle)"
   ]
  },
  {
   "cell_type": "code",
   "execution_count": 18,
   "id": "a6f1eff6",
   "metadata": {},
   "outputs": [
    {
     "name": "stdout",
     "output_type": "stream",
     "text": [
      "25.0\n"
     ]
    }
   ],
   "source": [
    "area_right_triangle(10,5)"
   ]
  },
  {
   "cell_type": "code",
   "execution_count": 19,
   "id": "4e682ca5",
   "metadata": {},
   "outputs": [],
   "source": [
    "def area_scalene_triangle(a,b,c):\n",
    "    s = (a+b+c)/2\n",
    "    area = (s*(s-a)*(s-b)*(s-c))** 0.5\n",
    "    print(area)"
   ]
  },
  {
   "cell_type": "code",
   "execution_count": 22,
   "id": "4a5bb4ee",
   "metadata": {},
   "outputs": [
    {
     "name": "stdout",
     "output_type": "stream",
     "text": [
      "19.8997487421324\n"
     ]
    }
   ],
   "source": [
    "area_scalene_triangle(5,8,9)"
   ]
  },
  {
   "cell_type": "markdown",
   "id": "1a921dc6",
   "metadata": {},
   "source": [
    "# 4.\tWrite a Python program to swap two variables?"
   ]
  },
  {
   "cell_type": "code",
   "execution_count": 11,
   "id": "607be027",
   "metadata": {},
   "outputs": [
    {
     "name": "stdout",
     "output_type": "stream",
     "text": [
      "1st variable :5\n",
      "2nd variable :6\n",
      "1st variable after swapping: 6\n",
      "2nd variable after swapping: 5\n"
     ]
    }
   ],
   "source": [
    "a=input(\"1st variable :\")\n",
    "b=input(\"2nd variable :\")\n",
    "temp=b\n",
    "b=a\n",
    "a=temp\n",
    "print(\"1st variable after swapping:\",a)\n",
    "print(\"2nd variable after swapping:\",b)"
   ]
  },
  {
   "cell_type": "markdown",
   "id": "5e36c206",
   "metadata": {},
   "source": [
    "# 5.\tWrite a Python program to generate a random number?"
   ]
  },
  {
   "cell_type": "code",
   "execution_count": 12,
   "id": "d57a8ef0",
   "metadata": {},
   "outputs": [
    {
     "name": "stdout",
     "output_type": "stream",
     "text": [
      "Random number between 1 and 10:  5\n"
     ]
    }
   ],
   "source": [
    "import random\n",
    "\n",
    "random_number = random.randint(1, 10)\n",
    "print(\"Random number between 1 and 10: \", random_number)\n"
   ]
  },
  {
   "cell_type": "code",
   "execution_count": null,
   "id": "a5c65af6",
   "metadata": {},
   "outputs": [],
   "source": []
  }
 ],
 "metadata": {
  "kernelspec": {
   "display_name": "Python 3 (ipykernel)",
   "language": "python",
   "name": "python3"
  },
  "language_info": {
   "codemirror_mode": {
    "name": "ipython",
    "version": 3
   },
   "file_extension": ".py",
   "mimetype": "text/x-python",
   "name": "python",
   "nbconvert_exporter": "python",
   "pygments_lexer": "ipython3",
   "version": "3.9.13"
  }
 },
 "nbformat": 4,
 "nbformat_minor": 5
}
