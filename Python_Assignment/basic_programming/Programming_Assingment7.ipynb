{
 "cells": [
  {
   "cell_type": "markdown",
   "id": "5399974e",
   "metadata": {},
   "source": [
    "# 1.\tWrite a Python Program to find sum of array?"
   ]
  },
  {
   "cell_type": "code",
   "execution_count": 79,
   "id": "4eeddbe9",
   "metadata": {},
   "outputs": [],
   "source": [
    "def array_sum(arr):\n",
    "    \"\"\"\n",
    "    This function takes an array as input and returns its sum.\n",
    "    \"\"\"\n",
    "    sum = 0\n",
    "    for i in range(len(arr)):\n",
    "        sum = sum+ arr[i]\n",
    "    return sum"
   ]
  },
  {
   "cell_type": "code",
   "execution_count": 80,
   "id": "a2279057",
   "metadata": {},
   "outputs": [
    {
     "name": "stdout",
     "output_type": "stream",
     "text": [
      "20\n"
     ]
    }
   ],
   "source": [
    "arr = [1, 2, 13, 4]\n",
    "print(array_sum(arr))"
   ]
  },
  {
   "cell_type": "code",
   "execution_count": 81,
   "id": "cfe85327",
   "metadata": {},
   "outputs": [
    {
     "name": "stdout",
     "output_type": "stream",
     "text": [
      "Enter the Array: 1,2,3,4,58,6\n",
      "The sum of (1, 2, 3, 4, 58, 6) is 74\n"
     ]
    }
   ],
   "source": [
    "#using inbuilt function\n",
    "def array_sum():\n",
    "    in_arr = eval(input(\"Enter the Array: \"))\n",
    "    print(f'The sum of {in_arr} is {sum(in_arr)}')\n",
    "array_sum()"
   ]
  },
  {
   "cell_type": "markdown",
   "id": "1e9c098f",
   "metadata": {},
   "source": [
    "# 2.\tWrite a Python Program to find largest element in an array?"
   ]
  },
  {
   "cell_type": "code",
   "execution_count": 56,
   "id": "f0ca3050",
   "metadata": {},
   "outputs": [],
   "source": [
    "def find_largest(arr):\n",
    "    \"\"\"\n",
    "    This function takes an array as input and returns its largest element.\n",
    "    \"\"\"\n",
    "    largest = arr[0]\n",
    "    for i in range(1, len(arr)):\n",
    "        if arr[i] > largest:\n",
    "            largest = arr[i]\n",
    "    return largest"
   ]
  },
  {
   "cell_type": "code",
   "execution_count": 57,
   "id": "c3720ca5",
   "metadata": {},
   "outputs": [
    {
     "name": "stdout",
     "output_type": "stream",
     "text": [
      "9\n"
     ]
    }
   ],
   "source": [
    "arr = [3, 5, 1, 9, 8, 2]\n",
    "print(find_largest(arr))"
   ]
  },
  {
   "cell_type": "code",
   "execution_count": 82,
   "id": "9519024a",
   "metadata": {},
   "outputs": [
    {
     "name": "stdout",
     "output_type": "stream",
     "text": [
      "Enter the Array: 1,2,3,4,5\n",
      "The Largest Element in (1, 2, 3, 4, 5) is 5\n"
     ]
    }
   ],
   "source": [
    "def find_largest():\n",
    "    in_arr = eval(input(\"Enter the Array: \"))\n",
    "    print(f\"The Largest Element in {in_arr} is {sorted(in_arr, reverse=True)[0]}\")\n",
    "    \n",
    "find_largest()"
   ]
  },
  {
   "cell_type": "markdown",
   "id": "8bc493c5",
   "metadata": {},
   "source": [
    "# 3.\tWrite a Python Program for array rotation?"
   ]
  },
  {
   "cell_type": "code",
   "execution_count": 75,
   "id": "aaabd7c0",
   "metadata": {},
   "outputs": [],
   "source": [
    "def rotate_array(arr):\n",
    "    \"\"\"\n",
    "    This function takes an array and a rotation count as input, and returns the rotated array.\n",
    "    \"\"\"\n",
    "    arr1=[]\n",
    "    for i in arr:\n",
    "        arr1=[i]+arr1\n",
    "    print(arr1)"
   ]
  },
  {
   "cell_type": "code",
   "execution_count": 77,
   "id": "e07091c8",
   "metadata": {},
   "outputs": [
    {
     "name": "stdout",
     "output_type": "stream",
     "text": [
      "[2, 8, 9, 1, 5, 3]\n"
     ]
    }
   ],
   "source": [
    "arr = [3, 5, 1, 9, 8, 2]\n",
    "rotate_array(arr)"
   ]
  },
  {
   "cell_type": "code",
   "execution_count": 83,
   "id": "3b7bef1f",
   "metadata": {},
   "outputs": [
    {
     "name": "stdout",
     "output_type": "stream",
     "text": [
      "Enter the Array: 5,6,8,3,2,45\n",
      "The Reverse of Array (5, 6, 8, 3, 2, 45) is (45, 2, 3, 8, 6, 5)\n"
     ]
    }
   ],
   "source": [
    "def rotate_array():\n",
    "    in_arr = eval(input(\"Enter the Array: \"))\n",
    "    print(f\"The Reverse of Array {in_arr} is {in_arr[::-1]}\")\n",
    "    \n",
    "rotate_array()"
   ]
  },
  {
   "cell_type": "markdown",
   "id": "88395b70",
   "metadata": {},
   "source": [
    "# 4.\tWrite a Python Program to Split the array and add the first part to the end?"
   ]
  },
  {
   "cell_type": "code",
   "execution_count": 1,
   "id": "21c8bcc1",
   "metadata": {},
   "outputs": [],
   "source": [
    "def split_and_add(arr, n):\n",
    "    # split the array at index n\n",
    "    left_part = arr[:n]\n",
    "    right_part = arr[n:]\n",
    "    \n",
    "    # add the left part to the end of the right part\n",
    "    result = right_part + left_part\n",
    "    \n",
    "    return result"
   ]
  },
  {
   "cell_type": "code",
   "execution_count": 2,
   "id": "5f3172b5",
   "metadata": {},
   "outputs": [
    {
     "data": {
      "text/plain": [
       "[3, 4, 5, 6, 1, 2]"
      ]
     },
     "execution_count": 2,
     "metadata": {},
     "output_type": "execute_result"
    }
   ],
   "source": [
    "arr=[1,2,3,4,5,6]\n",
    "split_and_add(arr, 2)"
   ]
  },
  {
   "cell_type": "code",
   "execution_count": 3,
   "id": "73a459e1",
   "metadata": {},
   "outputs": [
    {
     "data": {
      "text/plain": [
       "[4, 5, 6, 1, 2, 3]"
      ]
     },
     "execution_count": 3,
     "metadata": {},
     "output_type": "execute_result"
    }
   ],
   "source": [
    "arr=[1,2,3,4,5,6]\n",
    "split_and_add(arr, 3)"
   ]
  },
  {
   "cell_type": "markdown",
   "id": "eaba178a",
   "metadata": {},
   "source": [
    "# 5.\tWrite a Python Program to check if given array is Monotonic?"
   ]
  },
  {
   "cell_type": "code",
   "execution_count": 4,
   "id": "4a48e0f1",
   "metadata": {},
   "outputs": [],
   "source": [
    "def is_monotonic(arr):\n",
    "    increasing = True\n",
    "    decreasing = True\n",
    "    \n",
    "    # check if the array is increasing\n",
    "    for i in range(len(arr) - 1):\n",
    "        if arr[i] > arr[i+1]:\n",
    "            increasing = False\n",
    "            break\n",
    "    \n",
    "    # check if the array is decreasing\n",
    "    for i in range(len(arr) - 1):\n",
    "        if arr[i] < arr[i+1]:\n",
    "            decreasing = False\n",
    "            break\n",
    "    \n",
    "    # if the array is either increasing or decreasing, it is monotonic\n",
    "    if increasing or decreasing:\n",
    "        return True\n",
    "    else:\n",
    "        return False"
   ]
  },
  {
   "cell_type": "code",
   "execution_count": 5,
   "id": "7cea25fd",
   "metadata": {},
   "outputs": [
    {
     "name": "stdout",
     "output_type": "stream",
     "text": [
      "True\n",
      "True\n",
      "False\n"
     ]
    }
   ],
   "source": [
    "arr1 = [1, 2, 3, 4, 5]\n",
    "arr2 = [5, 4, 3, 2, 1]\n",
    "arr3 = [1, 2, 3, 2, 1]\n",
    "\n",
    "print(is_monotonic(arr1)) \n",
    "print(is_monotonic(arr2)) \n",
    "print(is_monotonic(arr3)) "
   ]
  },
  {
   "cell_type": "code",
   "execution_count": null,
   "id": "3530805b",
   "metadata": {},
   "outputs": [],
   "source": []
  }
 ],
 "metadata": {
  "kernelspec": {
   "display_name": "Python 3 (ipykernel)",
   "language": "python",
   "name": "python3"
  },
  "language_info": {
   "codemirror_mode": {
    "name": "ipython",
    "version": 3
   },
   "file_extension": ".py",
   "mimetype": "text/x-python",
   "name": "python",
   "nbconvert_exporter": "python",
   "pygments_lexer": "ipython3",
   "version": "3.9.13"
  }
 },
 "nbformat": 4,
 "nbformat_minor": 5
}
