{
 "cells": [
  {
   "cell_type": "markdown",
   "id": "12d26868",
   "metadata": {},
   "source": [
    "# 1.\tWrite a Python Program to Find the Factorial of a Number?"
   ]
  },
  {
   "cell_type": "code",
   "execution_count": 18,
   "id": "d96e9b3d",
   "metadata": {},
   "outputs": [
    {
     "name": "stdout",
     "output_type": "stream",
     "text": [
      "Enter a number: 5\n",
      "The factorial of 5 is 120\n"
     ]
    }
   ],
   "source": [
    "num = int(input(\"Enter a number: \"))\n",
    "fact=1\n",
    "for i in range(1,num+1):\n",
    "    fact=fact*i\n",
    "print(\"The factorial of\", num, \"is\", factorial)"
   ]
  },
  {
   "cell_type": "markdown",
   "id": "056ae00f",
   "metadata": {},
   "source": [
    "# 2.\tWrite a Python Program to Display the multiplication Table?"
   ]
  },
  {
   "cell_type": "code",
   "execution_count": 24,
   "id": "eb847cb8",
   "metadata": {},
   "outputs": [
    {
     "name": "stdout",
     "output_type": "stream",
     "text": [
      "Enter a number: 5\n",
      "5 = 5*1\n",
      "10 = 5*2\n",
      "15 = 5*3\n",
      "20 = 5*4\n",
      "25 = 5*5\n",
      "30 = 5*6\n",
      "35 = 5*7\n",
      "40 = 5*8\n",
      "45 = 5*9\n",
      "50 = 5*10\n"
     ]
    }
   ],
   "source": [
    "num = int(input(\"Enter a number: \"))\n",
    "for i in range(1,11):\n",
    "    mul=num*i\n",
    "    print(f\"{mul} = {num} * {i}\")"
   ]
  },
  {
   "cell_type": "markdown",
   "id": "6daad072",
   "metadata": {},
   "source": [
    "# 3.\tWrite a Python Program to Print the Fibonacci sequence?"
   ]
  },
  {
   "cell_type": "markdown",
   "id": "f55c274f",
   "metadata": {},
   "source": [
    "A series of numbers in which each number ( Fibonacci number ) is the sum of the two preceding numbers. The simplest is the series 0,1, 1, 2, 3, 5, 8, etc."
   ]
  },
  {
   "cell_type": "code",
   "execution_count": 28,
   "id": "7c491001",
   "metadata": {},
   "outputs": [
    {
     "name": "stdout",
     "output_type": "stream",
     "text": [
      "Enter the number of terms: 7\n",
      "0\n",
      "1\n",
      "1\n",
      "2\n",
      "3\n",
      "5\n",
      "8\n"
     ]
    }
   ],
   "source": [
    "n = int(input(\"Enter the number of terms: \"))\n",
    "\n",
    "# initialization of the 1st two terms\n",
    "a, b = 0, 1\n",
    "\n",
    "# check if the number of terms is valid\n",
    "if n <= 0:\n",
    "    print(\"Invalid input!\")\n",
    "elif n == 1:\n",
    "    print(a)\n",
    "else:\n",
    "    print(a)\n",
    "    print(b)\n",
    "    for i in range(2, n):\n",
    "        c = a + b\n",
    "        print(c)\n",
    "        a = b\n",
    "        b = c"
   ]
  },
  {
   "cell_type": "code",
   "execution_count": 29,
   "id": "a8c77f15",
   "metadata": {},
   "outputs": [
    {
     "data": {
      "text/plain": [
       "[2, 3, 4, 5, 6]"
      ]
     },
     "execution_count": 29,
     "metadata": {},
     "output_type": "execute_result"
    }
   ],
   "source": [
    "list(range(2,7))"
   ]
  },
  {
   "cell_type": "markdown",
   "id": "734c301d",
   "metadata": {},
   "source": [
    "# 4.\tWrite a Python Program to Check Armstrong Number?"
   ]
  },
  {
   "cell_type": "markdown",
   "id": "3997fb20",
   "metadata": {},
   "source": [
    "An Armstrong number is a number that is equal to the sum of its own digits raised to the power of the number of digits. For example, 153 is an Armstrong number because 1^3 + 5^3 + 3^3 = 153"
   ]
  },
  {
   "cell_type": "code",
   "execution_count": 38,
   "id": "3d333d9f",
   "metadata": {},
   "outputs": [
    {
     "name": "stdout",
     "output_type": "stream",
     "text": [
      "Enter a number: 153\n",
      "153 is an Armstrong number.\n"
     ]
    }
   ],
   "source": [
    "num = int(input(\"Enter a number: \"))\n",
    "order = len(str(num))\n",
    "sum = 0\n",
    "\n",
    "temp = num\n",
    "while temp > 0:\n",
    "    digit = temp % 10\n",
    "    sum += digit ** order\n",
    "    temp //= 10\n",
    "\n",
    "if num == sum:\n",
    "    print(num, \"is an Armstrong number.\")\n",
    "else:\n",
    "    print(num, \"is not an Armstrong number.\")\n"
   ]
  },
  {
   "cell_type": "markdown",
   "id": "48c2ec74",
   "metadata": {},
   "source": [
    "# 5.\tWrite a Python Program to Find Armstrong Number in an Interval?"
   ]
  },
  {
   "cell_type": "code",
   "execution_count": 42,
   "id": "dae8b633",
   "metadata": {},
   "outputs": [
    {
     "name": "stdout",
     "output_type": "stream",
     "text": [
      "Enter lower range: 1\n",
      "Enter upper range: 400\n",
      "1\n",
      "2\n",
      "3\n",
      "4\n",
      "5\n",
      "6\n",
      "7\n",
      "8\n",
      "9\n",
      "153\n",
      "370\n",
      "371\n"
     ]
    }
   ],
   "source": [
    "lower = int(input(\"Enter lower range: \"))\n",
    "upper = int(input(\"Enter upper range: \"))\n",
    "\n",
    "for num in range(lower, upper + 1):\n",
    "    order = len(str(num))\n",
    "    sum = 0\n",
    "    # find the sum of the cube of each digit\n",
    "    temp = num\n",
    "    while temp > 0:\n",
    "        digit = temp % 10\n",
    "        sum += digit ** order\n",
    "        temp //= 10\n",
    "    # check if the number is an Armstrong number\n",
    "    if num == sum:\n",
    "        print(num)"
   ]
  },
  {
   "cell_type": "markdown",
   "id": "7baea8d4",
   "metadata": {},
   "source": [
    "# 6.\tWrite a Python Program to Find the Sum of Natural Numbers?"
   ]
  },
  {
   "cell_type": "code",
   "execution_count": 49,
   "id": "28eb244e",
   "metadata": {},
   "outputs": [],
   "source": [
    "# Define a function to find the sum of natural numbers\n",
    "def find_sum_of_natural_numbers(n):\n",
    "    # Check if the input is a positive integer\n",
    "    if n <= 0:\n",
    "        print(\"Invalid input. Please enter a positive integer.\")\n",
    "        return\n",
    "    \n",
    "    # Initialize the sum to zero\n",
    "    sum = 0\n",
    "    \n",
    "    # Loop through the range of natural numbers\n",
    "    for i in range(1, n+1):\n",
    "        sum += i\n",
    "        \n",
    "    # Print the sum of the natural numbers\n",
    "    print(\"The sum of the first\", n, \"natural numbers is:\", sum)"
   ]
  },
  {
   "cell_type": "code",
   "execution_count": 50,
   "id": "bf41a7b0",
   "metadata": {},
   "outputs": [
    {
     "name": "stdout",
     "output_type": "stream",
     "text": [
      "The sum of the first 10 natural numbers is: 55\n"
     ]
    }
   ],
   "source": [
    "# Call the function with the desired input\n",
    "find_sum_of_natural_numbers(10)"
   ]
  },
  {
   "cell_type": "code",
   "execution_count": null,
   "id": "231c42de",
   "metadata": {},
   "outputs": [],
   "source": []
  }
 ],
 "metadata": {
  "kernelspec": {
   "display_name": "Python 3 (ipykernel)",
   "language": "python",
   "name": "python3"
  },
  "language_info": {
   "codemirror_mode": {
    "name": "ipython",
    "version": 3
   },
   "file_extension": ".py",
   "mimetype": "text/x-python",
   "name": "python",
   "nbconvert_exporter": "python",
   "pygments_lexer": "ipython3",
   "version": "3.9.13"
  }
 },
 "nbformat": 4,
 "nbformat_minor": 5
}
