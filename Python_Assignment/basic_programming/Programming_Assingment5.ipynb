{
 "cells": [
  {
   "cell_type": "markdown",
   "id": "ec7468dc",
   "metadata": {},
   "source": [
    "# 1.\tWrite a Python Program to Find LCM?"
   ]
  },
  {
   "cell_type": "code",
   "execution_count": 7,
   "id": "fee368e5",
   "metadata": {},
   "outputs": [],
   "source": [
    "def lcm(a,b):\n",
    "    if a > b:\n",
    "        temp = a\n",
    "    else:\n",
    "        temp = b\n",
    "    while True: \n",
    "        if (temp % a == 0) and (temp % b == 0):\n",
    "            lcm = temp\n",
    "            break\n",
    "        temp += 1\n",
    "    return \"LCM of '{}' and '{}' is '{}'\".format(a,b,lcm)"
   ]
  },
  {
   "cell_type": "code",
   "execution_count": 8,
   "id": "57a8d74a",
   "metadata": {},
   "outputs": [
    {
     "data": {
      "text/plain": [
       "\"LCM of '20' and '10' is '20'\""
      ]
     },
     "execution_count": 8,
     "metadata": {},
     "output_type": "execute_result"
    }
   ],
   "source": [
    "lcm(20,10)"
   ]
  },
  {
   "cell_type": "code",
   "execution_count": 9,
   "id": "07d82993",
   "metadata": {},
   "outputs": [
    {
     "data": {
      "text/plain": [
       "\"LCM of '10' and '20' is '20'\""
      ]
     },
     "execution_count": 9,
     "metadata": {},
     "output_type": "execute_result"
    }
   ],
   "source": [
    "lcm(10,20)"
   ]
  },
  {
   "cell_type": "code",
   "execution_count": 10,
   "id": "98f5a511",
   "metadata": {},
   "outputs": [
    {
     "data": {
      "text/plain": [
       "\"LCM of '15' and '13' is '195'\""
      ]
     },
     "execution_count": 10,
     "metadata": {},
     "output_type": "execute_result"
    }
   ],
   "source": [
    "lcm(15,13)"
   ]
  },
  {
   "cell_type": "markdown",
   "id": "577caf6a",
   "metadata": {},
   "source": [
    "# 2.\tWrite a Python Program to Find HCF?"
   ]
  },
  {
   "cell_type": "code",
   "execution_count": 11,
   "id": "2abf6666",
   "metadata": {},
   "outputs": [],
   "source": [
    "def hcf(a,b):\n",
    "    if a < b:\n",
    "        temp = a\n",
    "    else:\n",
    "        temp = b\n",
    "    while True: \n",
    "        if (a % temp == 0) and (b % temp == 0):\n",
    "            hcf = temp\n",
    "            break\n",
    "        temp -= 1\n",
    "    return \"HCF of '{}' and '{}' is '{}'\".format(a,b,hcf)"
   ]
  },
  {
   "cell_type": "code",
   "execution_count": 12,
   "id": "ab370e58",
   "metadata": {},
   "outputs": [
    {
     "data": {
      "text/plain": [
       "\"HCF of '20' and '10' is '10'\""
      ]
     },
     "execution_count": 12,
     "metadata": {},
     "output_type": "execute_result"
    }
   ],
   "source": [
    "hcf(20,10)"
   ]
  },
  {
   "cell_type": "code",
   "execution_count": 13,
   "id": "a4e694be",
   "metadata": {},
   "outputs": [
    {
     "data": {
      "text/plain": [
       "\"HCF of '10' and '20' is '10'\""
      ]
     },
     "execution_count": 13,
     "metadata": {},
     "output_type": "execute_result"
    }
   ],
   "source": [
    "hcf(10,20)"
   ]
  },
  {
   "cell_type": "code",
   "execution_count": 14,
   "id": "62c50c13",
   "metadata": {},
   "outputs": [
    {
     "data": {
      "text/plain": [
       "\"HCF of '15' and '13' is '1'\""
      ]
     },
     "execution_count": 14,
     "metadata": {},
     "output_type": "execute_result"
    }
   ],
   "source": [
    "hcf(15,13)"
   ]
  },
  {
   "cell_type": "code",
   "execution_count": 16,
   "id": "b8d5b7ee",
   "metadata": {},
   "outputs": [
    {
     "data": {
      "text/plain": [
       "\"HCF of '5' and '25' is '5'\""
      ]
     },
     "execution_count": 16,
     "metadata": {},
     "output_type": "execute_result"
    }
   ],
   "source": [
    "hcf(5,25)"
   ]
  },
  {
   "cell_type": "markdown",
   "id": "6594575d",
   "metadata": {},
   "source": [
    "# 3.\tWrite a Python Program to Convert Decimal to Binary, Octal and Hexadecimal?"
   ]
  },
  {
   "cell_type": "code",
   "execution_count": 17,
   "id": "34567983",
   "metadata": {},
   "outputs": [],
   "source": [
    "def converter():\n",
    "    num = int(input('Enter a Number: '))\n",
    "    print(f'Binary Number -> {bin(num)}')\n",
    "    print(f'Octal Number -> {oct(num)}')    \n",
    "    print(f'Hexadecimal Number -> {hex(num)}')    "
   ]
  },
  {
   "cell_type": "code",
   "execution_count": 19,
   "id": "23c3fe95",
   "metadata": {},
   "outputs": [
    {
     "name": "stdout",
     "output_type": "stream",
     "text": [
      "Enter a Number: 1024\n",
      "Binary Number -> 0b10000000000\n",
      "Octal Number -> 0o2000\n",
      "Hexadecimal Number -> 0x400\n"
     ]
    }
   ],
   "source": [
    "converter()"
   ]
  },
  {
   "cell_type": "code",
   "execution_count": 23,
   "id": "3d4d30f7",
   "metadata": {},
   "outputs": [],
   "source": [
    "#without using any inbuilt function\n",
    "def decimal_to_binary(num):\n",
    "    binary = \"\"\n",
    "    while num > 0:\n",
    "        binary = str(num % 2) + binary\n",
    "        num //= 2\n",
    "    return binary\n",
    "\n",
    "def decimal_to_octal(num):\n",
    "    octal = \"\"\n",
    "    while num > 0:\n",
    "        octal = str(num % 8) + octal\n",
    "        num //= 8\n",
    "    return octal\n",
    "\n",
    "def decimal_to_hexadecimal(num):\n",
    "    hexadecimal = \"\"\n",
    "    hex_values = {10: \"A\", 11: \"B\", 12: \"C\", 13: \"D\", 14: \"E\", 15: \"F\"}\n",
    "    while num > 0:\n",
    "        remainder = num % 16\n",
    "        if remainder in hex_values:\n",
    "            hexadecimal = hex_values[remainder] + hexadecimal\n",
    "        else:\n",
    "            hexadecimal = str(remainder) + hexadecimal\n",
    "        num //= 16\n",
    "    return hexadecimal"
   ]
  },
  {
   "cell_type": "code",
   "execution_count": 24,
   "id": "2d0d2c50",
   "metadata": {},
   "outputs": [
    {
     "name": "stdout",
     "output_type": "stream",
     "text": [
      "Binary:  10011010010\n",
      "Octal:  2322\n",
      "Hexadecimal:  4D2\n"
     ]
    }
   ],
   "source": [
    "# example usage\n",
    "num = 1234\n",
    "print(\"Binary: \", decimal_to_binary(num))\n",
    "print(\"Octal: \", decimal_to_octal(num))\n",
    "print(\"Hexadecimal: \", decimal_to_hexadecimal(num))"
   ]
  },
  {
   "cell_type": "markdown",
   "id": "042f4d33",
   "metadata": {},
   "source": [
    "# 4.\tWrite a Python Program To Find ASCII value of a character?"
   ]
  },
  {
   "cell_type": "code",
   "execution_count": 29,
   "id": "509032e5",
   "metadata": {},
   "outputs": [
    {
     "name": "stdout",
     "output_type": "stream",
     "text": [
      "Enter a character: y\n",
      "The ASCII value of y is 121\n"
     ]
    }
   ],
   "source": [
    "char = input(\"Enter a character: \")\n",
    "\n",
    "# Using the ord() function we can find ASCII value of character\n",
    "ascii_val = ord(char)\n",
    "\n",
    "print(f\"The ASCII value of {char} is {ascii_val}\")\n"
   ]
  },
  {
   "cell_type": "markdown",
   "id": "4b960962",
   "metadata": {},
   "source": [
    "# 5.\tWrite a Python Program to Make a Simple Calculator with 4 basic mathematical operations?"
   ]
  },
  {
   "cell_type": "code",
   "execution_count": 31,
   "id": "f35f57a6",
   "metadata": {},
   "outputs": [
    {
     "name": "stdout",
     "output_type": "stream",
     "text": [
      "Enter first number: 67\n",
      "Enter second number: 7.8\n",
      "Enter operator (+, -, *, /): /\n",
      "67.0 / 7.8 = 8.58974358974359\n"
     ]
    }
   ],
   "source": [
    "# Defining a function to perform the calculator operations\n",
    "def calculator(num1, num2, operator):\n",
    "    if operator == '+':\n",
    "        return num1 + num2\n",
    "    elif operator == '-':\n",
    "        return num1 - num2\n",
    "    elif operator == '*':\n",
    "        return num1 * num2\n",
    "    elif operator == '/':\n",
    "        return num1 / num2\n",
    "    else:\n",
    "        return \"Invalid operator!\"\n",
    "\n",
    "# Taking user inputs for operands and operator\n",
    "num1 = float(input(\"Enter first number: \"))\n",
    "num2 = float(input(\"Enter second number: \"))\n",
    "operator = input(\"Enter operator (+, -, *, /): \")\n",
    "\n",
    "# Calling the calculator function and printing the result\n",
    "result = calculator(num1, num2, operator)\n",
    "print(f\"{num1} {operator} {num2} = {result}\")\n",
    "    "
   ]
  },
  {
   "cell_type": "code",
   "execution_count": null,
   "id": "c351e736",
   "metadata": {},
   "outputs": [],
   "source": []
  }
 ],
 "metadata": {
  "kernelspec": {
   "display_name": "Python 3 (ipykernel)",
   "language": "python",
   "name": "python3"
  },
  "language_info": {
   "codemirror_mode": {
    "name": "ipython",
    "version": 3
   },
   "file_extension": ".py",
   "mimetype": "text/x-python",
   "name": "python",
   "nbconvert_exporter": "python",
   "pygments_lexer": "ipython3",
   "version": "3.9.13"
  }
 },
 "nbformat": 4,
 "nbformat_minor": 5
}
