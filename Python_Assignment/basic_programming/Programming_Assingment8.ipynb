{
 "cells": [
  {
   "cell_type": "markdown",
   "id": "88829378",
   "metadata": {},
   "source": [
    "# 1.\tWrite a Python Program to Add Two Matrices?"
   ]
  },
  {
   "cell_type": "code",
   "execution_count": 1,
   "id": "e1b17717",
   "metadata": {},
   "outputs": [
    {
     "name": "stdout",
     "output_type": "stream",
     "text": [
      "The sum of the two matrices is:\n",
      "[11, 13, 15]\n",
      "[17, 19, 21]\n",
      "[23, 25, 27]\n"
     ]
    }
   ],
   "source": [
    "# Define two matrices\n",
    "matrix1 = [[1, 2, 3],\n",
    "           [4, 5, 6],\n",
    "           [7, 8, 9]]\n",
    "\n",
    "matrix2 = [[10, 11, 12],\n",
    "           [13, 14, 15],\n",
    "           [16, 17, 18]]\n",
    "\n",
    "# Define a result matrix with the same dimensions as the input matrices\n",
    "result = [[0, 0, 0],\n",
    "          [0, 0, 0],\n",
    "          [0, 0, 0]]\n",
    "\n",
    "# Iterate through each element of the matrices and add them together\n",
    "for i in range(len(matrix1)):\n",
    "    for j in range(len(matrix1[0])):\n",
    "        result[i][j] = matrix1[i][j] + matrix2[i][j]\n",
    "\n",
    "# Print the result matrix\n",
    "print(\"The sum of the two matrices is:\")\n",
    "for row in result:\n",
    "    print(row)\n"
   ]
  },
  {
   "cell_type": "markdown",
   "id": "5a70a5cd",
   "metadata": {},
   "source": [
    "# 2.\tWrite a Python Program to Multiply Two Matrices?"
   ]
  },
  {
   "cell_type": "code",
   "execution_count": 27,
   "id": "2cd73d5c",
   "metadata": {},
   "outputs": [
    {
     "name": "stdout",
     "output_type": "stream",
     "text": [
      "The product of the two matrices is:\n",
      "[25, 28]\n",
      "[57, 64]\n",
      "[89, 100]\n"
     ]
    }
   ],
   "source": [
    "#if no. of col. in 1st matrix same with no. of rows in 2nd matrix then matrix multiplication is possible\n",
    "#(In this example, we have a 3x2 matrix multiplied by a 2x2 matrix, which results in a 3x2 matrix as the product.)\n",
    "\n",
    "# Define two matrices\n",
    "matrix1 = [[1, 2],\n",
    "           [3, 4],\n",
    "           [5, 6]]\n",
    "\n",
    "matrix2 = [[7, 8],\n",
    "           [9, 10]]\n",
    "\n",
    "# Define a result matrix with the appropriate dimensions\n",
    "result = [[0, 0],\n",
    "          [0, 0],\n",
    "          [0, 0]]\n",
    "\n",
    "# Iterate through each element of the result matrix and compute its value\n",
    "for i in range(len(matrix1)):\n",
    "    for j in range(len(matrix2[0])):\n",
    "        for k in range(len(matrix2)):\n",
    "            result[i][j] += matrix1[i][k] * matrix2[k][j]\n",
    "\n",
    "# Print the result matrix\n",
    "print(\"The product of the two matrices is:\")\n",
    "for row in result:\n",
    "    print(row)\n"
   ]
  },
  {
   "cell_type": "markdown",
   "id": "0a828763",
   "metadata": {},
   "source": [
    "# 3.\tWrite a Python Program to Transpose a Matrix?"
   ]
  },
  {
   "cell_type": "code",
   "execution_count": 29,
   "id": "57e4a57e",
   "metadata": {},
   "outputs": [
    {
     "name": "stdout",
     "output_type": "stream",
     "text": [
      "The transposed matrix is:\n",
      "[1, 4, 7]\n",
      "[2, 5, 8]\n",
      "[3, 6, 9]\n"
     ]
    }
   ],
   "source": [
    "# Define a matrix\n",
    "matrix = [[1, 2, 3],\n",
    "          [4, 5, 6],\n",
    "          [7, 8, 9]]\n",
    "\n",
    "# Define a result matrix with the dimensions swapped\n",
    "result = [[0, 0, 0],\n",
    "          [0, 0, 0],\n",
    "          [0, 0, 0]]\n",
    "\n",
    "# Iterate through each element of the matrix and transpose it to the result matrix\n",
    "for i in range(len(matrix)):\n",
    "    for j in range(len(matrix[0])):\n",
    "        result[j][i] = matrix[i][j]\n",
    "\n",
    "# Print the result matrix\n",
    "print(\"The transposed matrix is:\")\n",
    "for row in result:\n",
    "    print(row)\n"
   ]
  },
  {
   "cell_type": "markdown",
   "id": "55a01bb5",
   "metadata": {},
   "source": [
    "# 4.\tWrite a Python Program to Sort Words in Alphabetic Order?"
   ]
  },
  {
   "cell_type": "code",
   "execution_count": 30,
   "id": "332f2d15",
   "metadata": {},
   "outputs": [
    {
     "name": "stdout",
     "output_type": "stream",
     "text": [
      "Enter a string: this is somali\n",
      "The sorted string is: is somali this\n"
     ]
    }
   ],
   "source": [
    "# Take input from user\n",
    "input_str = input(\"Enter a string: \")\n",
    "\n",
    "# Split the input string into a list of words\n",
    "words = input_str.split()\n",
    "\n",
    "# Sort the words in alphabetical order\n",
    "words.sort()\n",
    "\n",
    "# Join the sorted words into a new string\n",
    "sorted_str = \" \".join(words)\n",
    "\n",
    "# Print the sorted string\n",
    "print(\"The sorted string is:\", sorted_str)"
   ]
  },
  {
   "cell_type": "markdown",
   "id": "0e888575",
   "metadata": {},
   "source": [
    "# 5.\tWrite a Python Program to Remove Punctuation From a String?"
   ]
  },
  {
   "cell_type": "code",
   "execution_count": 33,
   "id": "39e490fe",
   "metadata": {},
   "outputs": [
    {
     "data": {
      "text/plain": [
       "'My name is Somali'"
      ]
     },
     "execution_count": 33,
     "metadata": {},
     "output_type": "execute_result"
    }
   ],
   "source": [
    "def punc_remover(s):\n",
    "    \"\"\"\n",
    "    This function takes string as an argument and returns \n",
    "    a string after removing all punctuation marks.\n",
    "    \"\"\"\n",
    "    punctuation_marks = ['.', '?', '!', ',', ':', ';', '-', '_', '(', ')', '[', ']', '{', '}', \"'\", '\"', '...']\n",
    "    s1 = \"\"\n",
    "    for i in s:\n",
    "        if i not in punctuation_marks:\n",
    "            s1 += i\n",
    "    return s1\n",
    "\n",
    "s = \"{.My?!,:\"\";- _name(] is{' Somali...\"\n",
    "\n",
    "punc_remover(s)"
   ]
  },
  {
   "cell_type": "code",
   "execution_count": null,
   "id": "4fca9689",
   "metadata": {},
   "outputs": [],
   "source": []
  }
 ],
 "metadata": {
  "kernelspec": {
   "display_name": "Python 3 (ipykernel)",
   "language": "python",
   "name": "python3"
  },
  "language_info": {
   "codemirror_mode": {
    "name": "ipython",
    "version": 3
   },
   "file_extension": ".py",
   "mimetype": "text/x-python",
   "name": "python",
   "nbconvert_exporter": "python",
   "pygments_lexer": "ipython3",
   "version": "3.9.13"
  }
 },
 "nbformat": 4,
 "nbformat_minor": 5
}
