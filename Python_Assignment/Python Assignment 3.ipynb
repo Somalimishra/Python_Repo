{
 "cells": [
  {
   "cell_type": "code",
   "execution_count": null,
   "id": "d5537553",
   "metadata": {},
   "outputs": [],
   "source": [
    "#1. Why are functions advantageous to have in your programs?\n",
    "-A function is simply a code that we can use over and over again, rather than writing it out multiple times. \n",
    "-Functions enable programmers to break down the problem into smaller chunks, each of which performs a particular task.\n",
    "-This makes programs shorter, easier to read, and easier to update."
   ]
  },
  {
   "cell_type": "code",
   "execution_count": null,
   "id": "289863ac",
   "metadata": {},
   "outputs": [],
   "source": [
    "#2. When does the code in a function run: when it's specified or when it's called?\n",
    "-The code in a function run,when it's called\n",
    "-The function call evaluates to the function's return value."
   ]
  },
  {
   "cell_type": "code",
   "execution_count": 4,
   "id": "11c9f3c5",
   "metadata": {},
   "outputs": [],
   "source": [
    "#3. What statement creates a function?\n",
    "-Function blocks begins with the keyword def followed by the function name and parentheses ()\n",
    "\n",
    "def func():\n",
    "    print('this is how function created')"
   ]
  },
  {
   "cell_type": "code",
   "execution_count": null,
   "id": "3c8680ea",
   "metadata": {},
   "outputs": [],
   "source": [
    "#4. What is the difference between a function and a function call?\n",
    "-A function is a piece of code which enhanced the reusability and modularity of the program.\n",
    "-A function call means invoking or calling that function to see the result or output of the program. \n",
    " we call the function with the name that is declared during the function creation with the def keyword.  "
   ]
  },
  {
   "cell_type": "code",
   "execution_count": 1,
   "id": "e746346e",
   "metadata": {},
   "outputs": [],
   "source": [
    "#function\n",
    "def summ(a,b):\n",
    "    c=a+b\n",
    "    return c"
   ]
  },
  {
   "cell_type": "code",
   "execution_count": 2,
   "id": "70aeec15",
   "metadata": {},
   "outputs": [
    {
     "data": {
      "text/plain": [
       "11"
      ]
     },
     "execution_count": 2,
     "metadata": {},
     "output_type": "execute_result"
    }
   ],
   "source": [
    "#function call\n",
    "summ(5,6)"
   ]
  },
  {
   "cell_type": "code",
   "execution_count": null,
   "id": "560d00fc",
   "metadata": {},
   "outputs": [],
   "source": [
    "#5. How many global scopes are there in a Python program? How many local scopes?\n",
    "-There is only one global Python scope per program execution. This scope remains in existence until the program terminates and \n",
    " all its names are forgotten.\n",
    "-A local scope is created when a function is called."
   ]
  },
  {
   "cell_type": "code",
   "execution_count": null,
   "id": "834ef852",
   "metadata": {},
   "outputs": [],
   "source": [
    "#6. What happens to variables in a local scope when the function call returns?\n",
    "-When the execution of the function terminates (returns), the local variables are destroyed."
   ]
  },
  {
   "cell_type": "code",
   "execution_count": null,
   "id": "83fd6cef",
   "metadata": {},
   "outputs": [],
   "source": [
    "#7. What is the concept of a return value? Is it possible to have a return value in an expression?\n",
    "-The Python return statement is a special statement that you can use inside a function or method to send the function's \n",
    " result back to the caller.A return statement consists of the return keyword followed by an optional return value.\n",
    "-Like any value, a return value can be used as part of an expression."
   ]
  },
  {
   "cell_type": "code",
   "execution_count": null,
   "id": "aadc1ba7",
   "metadata": {},
   "outputs": [],
   "source": [
    "#8. If a function does not have a return statement, what is the return value of a call to that function?\n",
    "If a function doesn't specify a return value, it returns None. A function without an explicit return statement returns None "
   ]
  },
  {
   "cell_type": "code",
   "execution_count": null,
   "id": "9d3defd8",
   "metadata": {},
   "outputs": [],
   "source": [
    "#9. How do you make a function variable refer to the global variable?\n",
    "If we want to refer to a global variable in a function, we can use the global keyword to declare which variables are global."
   ]
  },
  {
   "cell_type": "code",
   "execution_count": null,
   "id": "4a8dd255",
   "metadata": {},
   "outputs": [],
   "source": [
    "#10. What is the data type of None?\n",
    "-The data type of None is NoneType\n",
    "-The None keyword is used to define a null value, or no value at all. None is not the same as 0, False, or an empty string. "
   ]
  },
  {
   "cell_type": "code",
   "execution_count": null,
   "id": "8e16e76a",
   "metadata": {},
   "outputs": [],
   "source": [
    "#11. What does the sentence import areallyourpetsnamederic do?\n",
    "-That import statement imports a module named areallyourpetsnamederic.\n",
    "-But when we import this module it will through 'No module named 'areallyourpetsnamederic''"
   ]
  },
  {
   "cell_type": "code",
   "execution_count": null,
   "id": "44d982c5",
   "metadata": {},
   "outputs": [],
   "source": [
    "#12. If you had a bacon() feature in a spam module, what would you call it after importing spam?\n",
    "import spam\n",
    "spam.bacon()"
   ]
  },
  {
   "cell_type": "code",
   "execution_count": null,
   "id": "f3a86cde",
   "metadata": {},
   "outputs": [],
   "source": [
    "#13. What can you do to save a programme from crashing if it encounters an error?\n",
    "In Python we use the try and except statements to save a programme from crashing if it encounters an error."
   ]
  },
  {
   "cell_type": "code",
   "execution_count": null,
   "id": "df1d1e20",
   "metadata": {},
   "outputs": [],
   "source": [
    "#14. What is the purpose of the try clause? What is the purpose of the except clause?\n",
    "\n",
    "-The try block is used to check some code for errors i.e the code inside the try block will execute when there \n",
    " is no error in the program. \n",
    "-Whereas the code inside the except block will execute whenever the program encounters some error in the \n",
    " preceding try block."
   ]
  },
  {
   "cell_type": "code",
   "execution_count": 7,
   "id": "888263b1",
   "metadata": {},
   "outputs": [
    {
     "name": "stdout",
     "output_type": "stream",
     "text": [
      "An exception occurred\n"
     ]
    }
   ],
   "source": [
    "#The try block will generate an error, because x is not defined:\n",
    "\n",
    "try:\n",
    "  print(x)\n",
    "except:\n",
    "  print(\"An exception occurred\")"
   ]
  },
  {
   "cell_type": "code",
   "execution_count": null,
   "id": "0b8cbd5f",
   "metadata": {},
   "outputs": [],
   "source": []
  }
 ],
 "metadata": {
  "kernelspec": {
   "display_name": "Python 3 (ipykernel)",
   "language": "python",
   "name": "python3"
  },
  "language_info": {
   "codemirror_mode": {
    "name": "ipython",
    "version": 3
   },
   "file_extension": ".py",
   "mimetype": "text/x-python",
   "name": "python",
   "nbconvert_exporter": "python",
   "pygments_lexer": "ipython3",
   "version": "3.9.7"
  }
 },
 "nbformat": 4,
 "nbformat_minor": 5
}
