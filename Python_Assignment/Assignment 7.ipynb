{
 "cells": [
  {
   "cell_type": "markdown",
   "id": "181c1f5d",
   "metadata": {},
   "source": [
    "# 1. What is the name of the feature responsible for generating Regex objects?"
   ]
  },
  {
   "cell_type": "markdown",
   "id": "1349c088",
   "metadata": {},
   "source": [
    "re.compile() is the feature responsible for generation of Regex objects. In simple terms, We can compile a regular expression into a regex object to look for occurrences of the same pattern inside various target strings without rewriting it."
   ]
  },
  {
   "cell_type": "code",
   "execution_count": 4,
   "id": "c14746c3",
   "metadata": {},
   "outputs": [
    {
     "name": "stdout",
     "output_type": "stream",
     "text": [
      "re.compile('some_random_pattern')\n"
     ]
    }
   ],
   "source": [
    "import re\n",
    "x = re.compile(\"some_random_pattern\")\n",
    "type(x)\n",
    "print(x)"
   ]
  },
  {
   "cell_type": "markdown",
   "id": "1fc0353a",
   "metadata": {},
   "source": [
    "# 2. Why do raw strings often appear in Regex objects?"
   ]
  },
  {
   "cell_type": "markdown",
   "id": "a0f24e8b",
   "metadata": {},
   "source": [
    "RegEx use the backslash ('') for Metacharacters [. ^ $ * + ? { } \\ | ( )] or speical sequences [\\s, \\S, \\w, \\W, etc]. But in python ('') is also used to escape characters. so to avoid this we use raw strings."
   ]
  },
  {
   "cell_type": "code",
   "execution_count": 6,
   "id": "3ca6113a",
   "metadata": {},
   "outputs": [
    {
     "name": "stdout",
     "output_type": "stream",
     "text": [
      "\tsomali\n",
      "\\tsomali\n"
     ]
    }
   ],
   "source": [
    "s = \"\\tsomali\"\n",
    "print(s)\n",
    "s1 = r\"\\tsomali\"\n",
    "print(s1)"
   ]
  },
  {
   "cell_type": "markdown",
   "id": "5feb4e04",
   "metadata": {},
   "source": [
    "# 3. What is the return value of the search() method?"
   ]
  },
  {
   "cell_type": "markdown",
   "id": "3359fcbc",
   "metadata": {},
   "source": [
    "Return value of a search() method is a match object or None if no match found."
   ]
  },
  {
   "cell_type": "code",
   "execution_count": 9,
   "id": "499f6529",
   "metadata": {},
   "outputs": [
    {
     "name": "stdout",
     "output_type": "stream",
     "text": [
      "The first white-space character is located in position: <re.Match object; span=(3, 4), match=' '>\n"
     ]
    }
   ],
   "source": [
    "import re\n",
    "\n",
    "txt = \"The rain in Spain\"\n",
    "x = re.search(\"\\s\", txt)\n",
    "\n",
    "print(\"The first white-space character is located in position:\", x)"
   ]
  },
  {
   "cell_type": "code",
   "execution_count": 10,
   "id": "0585ab0c",
   "metadata": {},
   "outputs": [
    {
     "name": "stdout",
     "output_type": "stream",
     "text": [
      "None\n"
     ]
    }
   ],
   "source": [
    "import re\n",
    "\n",
    "txt = \"The rain in Spain\"\n",
    "x = re.search(\"Portugal\", txt)\n",
    "print(x)"
   ]
  },
  {
   "cell_type": "markdown",
   "id": "a3cb98d5",
   "metadata": {},
   "source": [
    "# 4. From a Match item, how do you get the actual strings that match the pattern?"
   ]
  },
  {
   "cell_type": "markdown",
   "id": "46112acd",
   "metadata": {},
   "source": [
    "A Match Object is an object containing information about the search and the result.\n",
    "\n",
    "Note: If there is no match, the value None will be returned, instead of the Match Object.\n",
    "\n",
    "For Matched items group() methods returns actual strings that match the pattern"
   ]
  },
  {
   "cell_type": "code",
   "execution_count": 12,
   "id": "e13f3434",
   "metadata": {},
   "outputs": [
    {
     "name": "stdout",
     "output_type": "stream",
     "text": [
      "Output: Awesome\n"
     ]
    }
   ],
   "source": [
    "import re\n",
    "match = re.search('Awesome','Awesome Ineuron Full Stack Data Science Program', flags=re.IGNORECASE)\n",
    "print('Output:',match.group())"
   ]
  },
  {
   "cell_type": "markdown",
   "id": "33a630e9",
   "metadata": {},
   "source": [
    "# 5. In the regex which created from the r'(\\d\\d\\d)-(\\d\\d\\d-\\d\\d\\d\\d)', what does group zero cover? Group 2? Group 1?"
   ]
  },
  {
   "cell_type": "markdown",
   "id": "8dd7ef50",
   "metadata": {},
   "source": [
    "group(0) covers entire pattern i.e (\\d\\d\\d)-(\\d\\d\\d-\\d\\d\\d\\d)\n",
    "\n",
    "group(1) covers first part i.e. (\\d\\d\\d)\n",
    "\n",
    "group(2) covers second part i.e. (\\d\\d\\d-\\d\\d\\d\\d)"
   ]
  },
  {
   "cell_type": "code",
   "execution_count": 14,
   "id": "fd8cbbec",
   "metadata": {},
   "outputs": [
    {
     "name": "stdout",
     "output_type": "stream",
     "text": [
      "group zero:\t 999-345-3456\n",
      "group one:\t 999\n",
      "group two:\t 345-3456\n"
     ]
    }
   ],
   "source": [
    "my_str = \"\"\"\n",
    "999-345-3456\n",
    "1234-123-345\n",
    "123-4565-456\n",
    "\"\"\"\n",
    "pattern = re.compile(r\"(\\d\\d\\d)-(\\d\\d\\d-\\d\\d\\d\\d)\")\n",
    "\n",
    "matches = pattern.finditer(my_str)\n",
    "\n",
    "for match in matches:\n",
    "    print(\"group zero:\\t\",match.group(0))\n",
    "    print(\"group one:\\t\",match.group(1))\n",
    "    print(\"group two:\\t\",match.group(2))"
   ]
  },
  {
   "cell_type": "markdown",
   "id": "7b50552a",
   "metadata": {},
   "source": [
    "# 6. In standard expression syntax, parentheses and intervals have distinct meanings. How can you tell a regex that you want it to fit real parentheses and periods?"
   ]
  },
  {
   "cell_type": "markdown",
   "id": "32fc0813",
   "metadata": {},
   "source": [
    " '\\' along with parenthesis and period will be used to fit real parentheses and periods in a RegEx pattern.\n",
    "\n",
    "For Example '\\(', '\\)' and '\\.'"
   ]
  },
  {
   "cell_type": "code",
   "execution_count": 2,
   "id": "c64c01ac",
   "metadata": {},
   "outputs": [
    {
     "name": "stdout",
     "output_type": "stream",
     "text": [
      "999-(345)-3456.\n"
     ]
    }
   ],
   "source": [
    "import re\n",
    "\n",
    "my_str = \"\"\"\n",
    "999-(345)-3456.\n",
    "1234-123-345\n",
    "123-4565-456\n",
    "\"\"\"\n",
    "pattern = re.compile(r\"(\\d\\d\\d)-(\\(\\d\\d\\d\\)-\\d\\d\\d\\d)\\.\")\n",
    "\n",
    "matches = pattern.finditer(my_str)\n",
    "\n",
    "for match in matches:\n",
    "    print(match.group(0))"
   ]
  },
  {
   "cell_type": "markdown",
   "id": "c09bb8b4",
   "metadata": {},
   "source": [
    "# 7. The findall() method returns a string list or a list of string tuples. What causes it to return one of the two options?"
   ]
  },
  {
   "cell_type": "markdown",
   "id": "6f666f9c",
   "metadata": {},
   "source": [
    "If RegEx object has no groups then a list containing matching strings is returned. whereas if group is present then a list containing tuple of strings is returned."
   ]
  },
  {
   "cell_type": "code",
   "execution_count": 3,
   "id": "4860dd12",
   "metadata": {},
   "outputs": [
    {
     "name": "stdout",
     "output_type": "stream",
     "text": [
      "[('999', '345-3456')]\n",
      "['999-345-3456']\n"
     ]
    }
   ],
   "source": [
    "my_str = \"\"\"\n",
    "999-345-3456\n",
    "\"\"\"\n",
    "pattern1 = re.compile(r\"(\\d\\d\\d)-(\\d\\d\\d-\\d\\d\\d\\d)\")\n",
    "match1 = pattern1.findall(my_str)\n",
    "print(match1)\n",
    "\n",
    "pattern2 = re.compile(r\"\\d\\d\\d-\\d\\d\\d-\\d\\d\\d\\d\")\n",
    "match2 = pattern2.findall(my_str)\n",
    "print(match2)"
   ]
  },
  {
   "cell_type": "markdown",
   "id": "4efa9f8b",
   "metadata": {},
   "source": [
    "# 8. In standard expressions, what does the | character mean?"
   ]
  },
  {
   "cell_type": "markdown",
   "id": "d11aa1c5",
   "metadata": {},
   "source": [
    " In Standard Expressions | means OR operator."
   ]
  },
  {
   "cell_type": "markdown",
   "id": "d88152b1",
   "metadata": {},
   "source": [
    "# 9. In regular expressions, what does the character stand for?"
   ]
  },
  {
   "cell_type": "markdown",
   "id": "407a93d2",
   "metadata": {},
   "source": [
    "? stands for \"zero or one occurances and is used when a character can be optional\" in regular expression.\n",
    "\n",
    "For Example In below example ? is used to make . optional"
   ]
  },
  {
   "cell_type": "code",
   "execution_count": 6,
   "id": "5cee7bbf",
   "metadata": {},
   "outputs": [
    {
     "name": "stdout",
     "output_type": "stream",
     "text": [
      "<re.Match object; span=(1, 10), match='Mr. Kumar'>\n",
      "<re.Match object; span=(11, 20), match='Mrs Kumar'>\n",
      "<re.Match object; span=(21, 32), match='Mr Abhishek'>\n",
      "<re.Match object; span=(33, 45), match='Ms. jeetisha'>\n"
     ]
    }
   ],
   "source": [
    "my_string = \"\"\"\n",
    "Mr. Kumar\n",
    "Mrs Kumar\n",
    "Mr Abhishek\n",
    "Ms. jeetisha\n",
    "\"\"\"\n",
    "\n",
    "pattern = re.compile(r\"(Mr|Ms|Mrs)\\.?\\s\\w+\")  \n",
    "matches = pattern.finditer(my_string)\n",
    "\n",
    "for match in matches:\n",
    "    print(match)"
   ]
  },
  {
   "cell_type": "markdown",
   "id": "f342448e",
   "metadata": {},
   "source": [
    "# 10. In regular expressions, what is the difference between the + and * characters?"
   ]
  },
  {
   "cell_type": "markdown",
   "id": "81d9cf12",
   "metadata": {},
   "source": [
    " ans: + and * are both quantifiers\n",
    "\n",
    "1)  + indicates one or more occurances of a preceding group.\n",
    "\n",
    "2) * indicates zero or more occurances of a preceding group."
   ]
  },
  {
   "cell_type": "code",
   "execution_count": 8,
   "id": "4b4a31c3",
   "metadata": {},
   "outputs": [
    {
     "name": "stdout",
     "output_type": "stream",
     "text": [
      "None\n",
      "<re.Match object; span=(0, 9), match='Wonderman'>\n"
     ]
    }
   ],
   "source": [
    "my_string = \"Wonderman\"\n",
    "\n",
    "patt1 = re.compile(r\"Wonder(wo)+man\")\n",
    "\n",
    "match1 = patt1.search(my_string)\n",
    "print(match1)\n",
    "\n",
    "patt2 = re.compile(r\"Wonder(wo)*man\")\n",
    "\n",
    "match2 = patt2.search(my_string)\n",
    "print(match2)"
   ]
  },
  {
   "cell_type": "markdown",
   "id": "949f88ad",
   "metadata": {},
   "source": [
    "# 11. What is the difference between {4} and {4,5} in regular expression?"
   ]
  },
  {
   "cell_type": "markdown",
   "id": "d89c27aa",
   "metadata": {},
   "source": [
    "{4} means that its preceeding group should repeat 4 times. where as {4,5} means that its preceeding group should repeat mininum 4 times and maximum 5 times inclusively"
   ]
  },
  {
   "cell_type": "code",
   "execution_count": 9,
   "id": "2f6336d8",
   "metadata": {},
   "outputs": [
    {
     "name": "stdout",
     "output_type": "stream",
     "text": [
      "['2022-08-26']\n"
     ]
    }
   ],
   "source": [
    "string1 = \"2022-08-26\"\n",
    "\n",
    "pattern1 = re.compile(r\"\\d{4}-\\d{1,3}-\\d{2}\")\n",
    "\n",
    "match = pattern1.findall(string1)\n",
    "print(match)"
   ]
  },
  {
   "cell_type": "code",
   "execution_count": 10,
   "id": "c8765341",
   "metadata": {},
   "outputs": [
    {
     "name": "stdout",
     "output_type": "stream",
     "text": [
      "iNeuroniNeuroniNeuron\n",
      "None\n"
     ]
    }
   ],
   "source": [
    "import re\n",
    "haRegex = re.compile(r'(iNeuron){3}')\n",
    "mo1 = haRegex.search('iNeuroniNeuroniNeuron')\n",
    "mo2 = haRegex.search('iNeuron')\n",
    "print(mo1.group())\n",
    "print(mo2)"
   ]
  },
  {
   "cell_type": "markdown",
   "id": "c058b0da",
   "metadata": {},
   "source": [
    "# 12. What do you mean by the \\d, \\w, and \\s shorthand character classes signify in regular expressions?"
   ]
  },
  {
   "cell_type": "markdown",
   "id": "66471267",
   "metadata": {},
   "source": [
    " \\d, \\w and \\s are special sequences in regular expresssions in python:\n",
    "\n",
    "\\w – Matches a word character equivalent to [a-zA-Z0-9_]\n",
    "\n",
    "\\d – Matches digit character equivalent to [0-9]\n",
    "\n",
    "\\s – Matches whitespace character (space, tab, newline, etc.)"
   ]
  },
  {
   "cell_type": "markdown",
   "id": "92184770",
   "metadata": {},
   "source": [
    "# 13. What do means by \\D, \\W, and \\S shorthand character classes signify in regular expressions?"
   ]
  },
  {
   "cell_type": "markdown",
   "id": "8dc18e7d",
   "metadata": {},
   "source": [
    "\\D, \\W and \\S are special sequences in regular expresssions in python:\n",
    "\n",
    "\\W – Matches any non-alphanumeric character equivalent to [^a-zA-Z0-9_]\n",
    "\n",
    "\\D – Matches any non-digit character, this is equivalent to the set class [^0-9]\n",
    "\n",
    "\\S – Matches any non-whitespace character"
   ]
  },
  {
   "cell_type": "markdown",
   "id": "90a75aea",
   "metadata": {},
   "source": [
    "# 14. What is the difference between .*? and .*?"
   ]
  },
  {
   "cell_type": "markdown",
   "id": "c90a33b5",
   "metadata": {},
   "source": [
    ".* is a Greedy mode, which returns the longest string that meets the condition. Whereas .*? is a non greedy mode which returns the shortest string that meets the condition."
   ]
  },
  {
   "cell_type": "markdown",
   "id": "a0bcb4eb",
   "metadata": {},
   "source": [
    "# 15. What is the syntax for matching both numbers and lowercase letters with a character class?"
   ]
  },
  {
   "cell_type": "markdown",
   "id": "3f5c05d4",
   "metadata": {},
   "source": [
    "The Synatax is Either [a-z0-9] or [0-9a-z]"
   ]
  },
  {
   "cell_type": "markdown",
   "id": "1c3c5568",
   "metadata": {},
   "source": [
    "# 16. What is the procedure for making a normal expression in regax case insensitive?"
   ]
  },
  {
   "cell_type": "markdown",
   "id": "8adc6c59",
   "metadata": {},
   "source": [
    "IGNORECASE (re.IGNORECASE or re.I) flag can be used to make normal expression in regax case insensitive."
   ]
  },
  {
   "cell_type": "code",
   "execution_count": 17,
   "id": "97c6b728",
   "metadata": {},
   "outputs": [
    {
     "name": "stdout",
     "output_type": "stream",
     "text": [
      "['SoMaLI']\n"
     ]
    }
   ],
   "source": [
    "string = \"SoMaLI\"\n",
    "\n",
    "pattern = re.compile(r\"somali\", re.I)\n",
    "\n",
    "match = pattern.findall(string)\n",
    "print(match)"
   ]
  },
  {
   "cell_type": "markdown",
   "id": "03895679",
   "metadata": {},
   "source": [
    "# 17. What does the . character normally match? What does it match if re.DOTALL is passed as 2nd argument in re.compile()?"
   ]
  },
  {
   "cell_type": "markdown",
   "id": "1ae13362",
   "metadata": {},
   "source": [
    ". character matches any character except newline character.\n",
    "\n",
    "re.DOTALL is a flag that is used to match any character including newline character."
   ]
  },
  {
   "cell_type": "markdown",
   "id": "b667adf7",
   "metadata": {},
   "source": [
    "# 18. If numReg = re.compile(r'\\d+'), what will numRegex.sub('X', '11 drummers, 10 pipers, five rings, 4 hen') return?"
   ]
  },
  {
   "cell_type": "markdown",
   "id": "b2f5a264",
   "metadata": {},
   "source": [
    " It will return 'X drummers, X pipers, X rings, X hen' Below is the execution of code"
   ]
  },
  {
   "cell_type": "code",
   "execution_count": 16,
   "id": "8e3d450c",
   "metadata": {},
   "outputs": [
    {
     "data": {
      "text/plain": [
       "'X drummers, X pipers, five rings, X hen'"
      ]
     },
     "execution_count": 16,
     "metadata": {},
     "output_type": "execute_result"
    }
   ],
   "source": [
    "numReg = re.compile(r'\\d+')\n",
    "numReg.sub('X', '11 drummers, 10 pipers, five rings, 4 hen') "
   ]
  },
  {
   "cell_type": "markdown",
   "id": "6965c1c9",
   "metadata": {},
   "source": [
    "# 19. What does passing re.VERBOSE as the 2nd argument to re.compile() allow to do?"
   ]
  },
  {
   "cell_type": "markdown",
   "id": "3f0ae9af",
   "metadata": {},
   "source": [
    "re.VERBOSE or re.X flag enables us to pass pattern as multiline comment and include whitespace."
   ]
  },
  {
   "cell_type": "code",
   "execution_count": 18,
   "id": "36b07364",
   "metadata": {},
   "outputs": [],
   "source": [
    "emails = \"\"\"\n",
    "pythonengineer@gmail.com\n",
    "Python-engineer@gmx.de\n",
    "python-engineer123@my-domain.org\n",
    "\"\"\"\n",
    "# return all emails"
   ]
  },
  {
   "cell_type": "code",
   "execution_count": 19,
   "id": "00c395aa",
   "metadata": {},
   "outputs": [
    {
     "name": "stdout",
     "output_type": "stream",
     "text": [
      "pythonengineer@gmail.com\n",
      "Python-engineer@gmx.de\n",
      "python-engineer123@my-domain.org\n"
     ]
    }
   ],
   "source": [
    "# without VERBOSE\n",
    "\n",
    "pattern = re.compile(r\"[a-zA-z0-9-]+@[a-zA-Z-]+\\.(com|de|org)\")  \n",
    "matches = pattern.finditer(emails)\n",
    "\n",
    "for match in matches:\n",
    "    print(match.group(0))"
   ]
  },
  {
   "cell_type": "code",
   "execution_count": 20,
   "id": "c0e6a9a9",
   "metadata": {},
   "outputs": [
    {
     "name": "stdout",
     "output_type": "stream",
     "text": [
      "pythonengineer@gmail.com\n",
      "Python-engineer@gmx.de\n",
      "python-engineer123@my-domain.org\n"
     ]
    }
   ],
   "source": [
    "# with VERBOSE\n",
    "\n",
    "pattern = re.compile(r\"\"\"[a-zA-z0-9-]+\n",
    "                         @\n",
    "                         [a-zA-Z-]+\n",
    "                         \\.\n",
    "                         (com|de|org)\n",
    "                         \"\"\", re.X)  \n",
    "matches = pattern.finditer(emails)\n",
    "\n",
    "for match in matches:\n",
    "    print(match.group(0))"
   ]
  },
  {
   "cell_type": "markdown",
   "id": "bbba608c",
   "metadata": {},
   "source": [
    "# 20. How would you write a regex that match a number with comma for every three digits? It must match the given following:"
   ]
  },
  {
   "cell_type": "markdown",
   "id": "8367df21",
   "metadata": {},
   "source": [
    "'42'\n",
    "\n",
    "'1,234'\n",
    "\n",
    "'6,368,745'\n",
    "\n",
    "but not the following:\n",
    "\n",
    "'12,34,567' (which has only two digits between the commas)\n",
    "\n",
    "'1234' (which lacks commas)"
   ]
  },
  {
   "cell_type": "code",
   "execution_count": 21,
   "id": "1bcf9299",
   "metadata": {},
   "outputs": [
    {
     "name": "stdout",
     "output_type": "stream",
     "text": [
      "<re.Match object; span=(0, 2), match='42'>\n",
      "<re.Match object; span=(0, 5), match='1,234'>\n",
      "<re.Match object; span=(0, 9), match='6,368,745'>\n",
      "None\n",
      "None\n"
     ]
    }
   ],
   "source": [
    "l =  ['42', '1,234', '6,368,745', '12,34,567', '1234']\n",
    "\n",
    "pattern = re.compile(r\"^\\d{1,2}(,\\d{3})*$\")\n",
    "for i in l: \n",
    "    match = pattern.search(i)\n",
    "    print(match)"
   ]
  },
  {
   "cell_type": "markdown",
   "id": "c79f350d",
   "metadata": {},
   "source": [
    "# 21. How would you write a regex that matches the full name of someone whose last name is Watanabe? You can assume that the first name that comes before it will always be one word that begins with a capital letter. The regex must match the following:"
   ]
  },
  {
   "cell_type": "markdown",
   "id": "7ff4f5d5",
   "metadata": {},
   "source": [
    "'Haruto Watanabe'\n",
    "\n",
    "'Alice Watanabe'\n",
    "\n",
    "'RoboCop Watanabe'\n",
    "\n",
    "but not the following:\n",
    "\n",
    "'haruto Watanabe' (where the first name is not capitalized)\n",
    "\n",
    "'Mr. Watanabe' (where the preceding word has a nonletter character)\n",
    "\n",
    "'Watanabe' (which has no first name)\n",
    "\n",
    "'Haruto watanabe' (where Watanabe is not capitalized)"
   ]
  },
  {
   "cell_type": "code",
   "execution_count": 22,
   "id": "83b5479a",
   "metadata": {},
   "outputs": [
    {
     "name": "stdout",
     "output_type": "stream",
     "text": [
      "<re.Match object; span=(0, 15), match='Haruto Watanabe'>\n",
      "<re.Match object; span=(0, 14), match='Alice Watanabe'>\n",
      "<re.Match object; span=(0, 16), match='RoboCop Watanabe'>\n",
      "None\n",
      "None\n",
      "None\n",
      "None\n"
     ]
    }
   ],
   "source": [
    "names = ['Haruto Watanabe', 'Alice Watanabe', 'RoboCop Watanabe','haruto Watanabe', 'Mr. Watanabe', \n",
    "         'Watanabe', 'Haruto watanabe']\n",
    "\n",
    "pattern = re.compile(r\"([A-Z]{1}[a-z]*|[A-Z]{1}[a-z]*[A-Z]{1}[a-z]*)\\sW{1}[a-z]*\")\n",
    "\n",
    "for name in names:\n",
    "    match = pattern.search(name)\n",
    "    print(match)"
   ]
  },
  {
   "cell_type": "markdown",
   "id": "9236f077",
   "metadata": {},
   "source": [
    "# 22. How would you write a regex that matches a sentence where the first word is either Alice, Bob, or Carol; the second word is either eats, pets, or throws; the third word is apples, cats, or baseballs; and the sentence ends with a period? This regex should be case-insensitive. It must match the following:"
   ]
  },
  {
   "cell_type": "markdown",
   "id": "0c8033ea",
   "metadata": {},
   "source": [
    "'Alice eats apples.'\n",
    "\n",
    "'Bob pets cats.'\n",
    "\n",
    "'Carol throws baseballs.'\n",
    "\n",
    "'Alice throws Apples.'\n",
    "\n",
    "'BOB EATS CATS.'\n",
    "\n",
    "but not the following:\n",
    "\n",
    "'RoboCop eats apples.'\n",
    "\n",
    "'ALICE THROWS FOOTBALLS.'\n",
    "\n",
    "'Carol eats 7 cats.'"
   ]
  },
  {
   "cell_type": "code",
   "execution_count": 23,
   "id": "1040ac87",
   "metadata": {},
   "outputs": [
    {
     "name": "stdout",
     "output_type": "stream",
     "text": [
      "<re.Match object; span=(0, 18), match='Alice eats apples.'>\n",
      "<re.Match object; span=(0, 14), match='Bob pets cats.'>\n",
      "<re.Match object; span=(0, 23), match='Carol throws baseballs.'>\n",
      "<re.Match object; span=(0, 20), match='Alice throws Apples.'>\n",
      "<re.Match object; span=(0, 14), match='BOB EATS CATS.'>\n",
      "None\n",
      "None\n",
      "None\n"
     ]
    }
   ],
   "source": [
    "sentences = ['Alice eats apples.','Bob pets cats.','Carol throws baseballs.','Alice throws Apples.',\n",
    "            'BOB EATS CATS.','RoboCop eats apples.','ALICE THROWS FOOTBALLS.','Carol eats 7 cats.']\n",
    "\n",
    "pattern = re.compile(r\"(Alice|Bob|Carol)\\s(eats|pets|throws)\\s(apples|cats|baseballs)\\.\", re.I)\n",
    "\n",
    "for i in sentences:\n",
    "    match = pattern.search(i)\n",
    "    print(match)"
   ]
  },
  {
   "cell_type": "code",
   "execution_count": null,
   "id": "665f5859",
   "metadata": {},
   "outputs": [],
   "source": []
  }
 ],
 "metadata": {
  "kernelspec": {
   "display_name": "Python 3 (ipykernel)",
   "language": "python",
   "name": "python3"
  },
  "language_info": {
   "codemirror_mode": {
    "name": "ipython",
    "version": 3
   },
   "file_extension": ".py",
   "mimetype": "text/x-python",
   "name": "python",
   "nbconvert_exporter": "python",
   "pygments_lexer": "ipython3",
   "version": "3.9.13"
  }
 },
 "nbformat": 4,
 "nbformat_minor": 5
}
