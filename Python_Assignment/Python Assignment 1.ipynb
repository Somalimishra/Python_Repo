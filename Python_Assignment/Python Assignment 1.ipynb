{
 "cells": [
  {
   "cell_type": "code",
   "execution_count": null,
   "id": "e521c0e3",
   "metadata": {},
   "outputs": [],
   "source": [
    "#1. In the below elements which of them are values or an expression? eg:- values can be integer or string and \n",
    "#expressions will be mathematical operators.\n",
    "Ans:\n",
    "*       ->Expression\n",
    "'hello' ->Value\n",
    "-87.8   ->Value\n",
    "-       ->Expression\n",
    "/       ->Expression\n",
    "+       ->Expression\n",
    "6       ->Value"
   ]
  },
  {
   "cell_type": "code",
   "execution_count": null,
   "id": "96ddac12",
   "metadata": {},
   "outputs": [],
   "source": [
    "#2. What is the difference between string and variable?\n",
    "Ans: \n",
    "->Variables are like containers for storing the data values and a variable is created the moment we first assign a value to it. \n",
    "e.g- x=10 While A string is the combination of character and number enclosed either in single or double quotes. e.g- a=’python’\n",
    "->A Variable is a store of information, and a String is a type of information we would store in a Variable. Here in the above \n",
    "example ‘x’ and ‘a’ both are variable and ‘python’ is the string stored in the variable a.\n"
   ]
  },
  {
   "cell_type": "code",
   "execution_count": null,
   "id": "6f37dc94",
   "metadata": {},
   "outputs": [],
   "source": [
    "#3. Describe three different data types.\n",
    "Ans:\n",
    "Tuple, List and Set are three different data types are available in python.\n",
    "->Tuple: A tuple is an ordered, indexed and immutable data types. It can store both string, number and Boolean value. \n",
    "        It allows duplicate members and Parenthesis () are used to create a tuple. E.g- T=(1,2,3,3,4,4,’som’,True)\n",
    "->List: A list is an ordered, indexed and mutable data types. It can store string, number as well as Boolean value. \n",
    "        It allows duplicate members and square brackets [] are used to create a list. E.g- L=[1,2,3,3,5,5,’som’,True]\n",
    "->Set: A set is an unordered, unindexed and mutable data types. It can store string, number as well as Boolean value. \n",
    "       It does not allow duplicate members and curly or flower brackets {} are used to create a set. S={1,2,3,’som’,True}\n"
   ]
  },
  {
   "cell_type": "code",
   "execution_count": null,
   "id": "5e808cf2",
   "metadata": {},
   "outputs": [],
   "source": [
    "#4. What is an expression made up of? What do all expressions do?\n",
    "Ans:\n",
    "->An expression is a combination of operators and operands that is interpreted to produce some other value. \n",
    "->In any programming language, an expression is evaluated as per the precedence of its operators. \n",
    "So that if there is more than one operator in an expression, their precedence decides which operation will be performed first. \n"
   ]
  },
  {
   "cell_type": "code",
   "execution_count": null,
   "id": "bfe0c6fb",
   "metadata": {},
   "outputs": [],
   "source": [
    "#5. This assignment statements, like spam = 10. What is the difference between an expression and a statement?\n",
    "Ans:\n",
    "->In programming language terminology, an “expression” is a combination of values and functions that are combined and \n",
    "  interpreted by the compiler to create a new value, as opposed to a “statement” which is just a standalone unit of execution \n",
    "  and doesn't return anything\n",
    "->A statement is a complete line of code that perform some action.\n",
    "->An expression is any section of the code that evaluates to a value.\n",
    "->If you can print it or assign it to a variable its an expression. If you can’t it’s a statement.\n"
   ]
  },
  {
   "cell_type": "code",
   "execution_count": 3,
   "id": "b99ae6e4",
   "metadata": {},
   "outputs": [
    {
     "name": "stdout",
     "output_type": "stream",
     "text": [
      "22\n"
     ]
    }
   ],
   "source": [
    "#6. After running the following code, what does the variable bacon contain?\n",
    "bacon = 22\n",
    "bacon + 1\n",
    "print(bacon)\n",
    "#Ans: The variable bacon contain 22"
   ]
  },
  {
   "cell_type": "code",
   "execution_count": 5,
   "id": "124855a4",
   "metadata": {},
   "outputs": [
    {
     "name": "stdout",
     "output_type": "stream",
     "text": [
      "spamspamspam\n",
      "spamspamspam\n"
     ]
    }
   ],
   "source": [
    "#7. What should the values of the following two terms be?\n",
    "print('spam' + 'spamspam')\n",
    "print('spam' * 3)\n",
    "#Ans: The values of the above two terms is same that is 'spamspamspam'\n"
   ]
  },
  {
   "cell_type": "code",
   "execution_count": null,
   "id": "b5e954a6",
   "metadata": {},
   "outputs": [],
   "source": [
    "#8. Why is eggs a valid variable name while 100 is invalid?\n",
    "Ans:\n",
    "In programming language to create a variable we have to follow certain rules, here in python also:\n",
    "->A variable name must start with a letter or the underscore character\n",
    "->A variable name cannot start with a number\n",
    "So, eggs is a valid variable name while 100 is invalid.\n"
   ]
  },
  {
   "cell_type": "code",
   "execution_count": null,
   "id": "600cfba5",
   "metadata": {},
   "outputs": [],
   "source": [
    "#9. What three functions can be used to get the integer, floating-point number, or string version of a value?\n",
    "Ans: \n",
    "The int(), float(), and str() functions will evaluate to the integer, floating-point number, and string versions of the value.\n"
   ]
  },
  {
   "cell_type": "code",
   "execution_count": 7,
   "id": "2effcc0e",
   "metadata": {},
   "outputs": [
    {
     "data": {
      "text/plain": [
       "'I have eaten 99 burritos.'"
      ]
     },
     "execution_count": 7,
     "metadata": {},
     "output_type": "execute_result"
    }
   ],
   "source": [
    "#10. Why does this expression cause an error? How can you fix it?\n",
    "#'I have eaten ' + 99 + ' burritos.'\n",
    "#Ans: \n",
    "#->Concatenation can’t be perform in between string and number. Here 1st and last statement is string and the middle one is number. So cant possible.\n",
    "#->To perform this concatenation operation we have to convert 99 in to string that \n",
    "#means inside the quote '99'. Now the output of the expression 'I have eaten ' + '99'+ ' burritos. is:\n",
    "'I have eaten ' + '99' + ' burritos.'"
   ]
  },
  {
   "cell_type": "code",
   "execution_count": null,
   "id": "fdb92226",
   "metadata": {},
   "outputs": [],
   "source": []
  }
 ],
 "metadata": {
  "kernelspec": {
   "display_name": "Python 3 (ipykernel)",
   "language": "python",
   "name": "python3"
  },
  "language_info": {
   "codemirror_mode": {
    "name": "ipython",
    "version": 3
   },
   "file_extension": ".py",
   "mimetype": "text/x-python",
   "name": "python",
   "nbconvert_exporter": "python",
   "pygments_lexer": "ipython3",
   "version": "3.9.7"
  }
 },
 "nbformat": 4,
 "nbformat_minor": 5
}
